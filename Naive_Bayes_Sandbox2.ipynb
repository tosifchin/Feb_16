{
 "cells": [
  {
   "cell_type": "code",
   "execution_count": 1,
   "metadata": {
    "collapsed": true
   },
   "outputs": [],
   "source": [
    "import numpy as np\n",
    "import pandas as pd\n",
    "from sklearn import naive_bayes"
   ]
  },
  {
   "cell_type": "code",
   "execution_count": 2,
   "metadata": {
    "collapsed": true
   },
   "outputs": [],
   "source": [
    "from collections import defaultdict"
   ]
  },
  {
   "cell_type": "code",
   "execution_count": 3,
   "metadata": {
    "collapsed": true
   },
   "outputs": [],
   "source": [
    "#can replace the first two with the third but keeping all for now\n",
    "from sklearn.feature_extraction.text import CountVectorizer\n",
    "from sklearn.feature_extraction.text import TfidfTransformer\n",
    "from sklearn.feature_extraction.text import TfidfVectorizer"
   ]
  },
  {
   "cell_type": "code",
   "execution_count": 4,
   "metadata": {
    "collapsed": false
   },
   "outputs": [],
   "source": [
    "from sklearn.naive_bayes import MultinomialNB\n",
    "from sklearn.metrics import classification_report, f1_score, accuracy_score, confusion_matrix\n",
    "from sklearn.cross_validation import StratifiedKFold, cross_val_score, train_test_split, StratifiedShuffleSplit "
   ]
  },
  {
   "cell_type": "code",
   "execution_count": 5,
   "metadata": {
    "collapsed": true
   },
   "outputs": [],
   "source": [
    "from sklearn.pipeline import Pipeline"
   ]
  },
  {
   "cell_type": "code",
   "execution_count": 6,
   "metadata": {
    "collapsed": true
   },
   "outputs": [],
   "source": [
    "from sklearn.grid_search import GridSearchCV"
   ]
  },
  {
   "cell_type": "code",
   "execution_count": 7,
   "metadata": {
    "collapsed": true
   },
   "outputs": [],
   "source": [
    "from sklearn.feature_selection import SelectKBest, chi2"
   ]
  },
  {
   "cell_type": "code",
   "execution_count": 8,
   "metadata": {
    "collapsed": false
   },
   "outputs": [],
   "source": [
    "pd.set_option('display.max_columns', 50)"
   ]
  },
  {
   "cell_type": "code",
   "execution_count": 9,
   "metadata": {
    "collapsed": false
   },
   "outputs": [
    {
     "data": {
      "text/html": [
       "<div>\n",
       "<table border=\"1\" class=\"dataframe\">\n",
       "  <thead>\n",
       "    <tr style=\"text-align: right;\">\n",
       "      <th></th>\n",
       "      <th>Defect ID</th>\n",
       "      <th>Vendor Defect ID</th>\n",
       "      <th>Summary</th>\n",
       "      <th>Description</th>\n",
       "      <th>Status</th>\n",
       "      <th>Severity</th>\n",
       "      <th>Detected on Date</th>\n",
       "      <th>Unnamed: 7</th>\n",
       "      <th>Defect Age(# of buisness days open)</th>\n",
       "      <th>Detected By</th>\n",
       "      <th>Assigned To</th>\n",
       "      <th>Actual Fix Time</th>\n",
       "      <th>Estimated Fix Date</th>\n",
       "      <th>Modified</th>\n",
       "      <th>Priority</th>\n",
       "      <th>Project</th>\n",
       "      <th>Reproducible</th>\n",
       "      <th>Comments_orig</th>\n",
       "      <th>Vendor Name</th>\n",
       "      <th>Root Cause</th>\n",
       "      <th>Comments</th>\n",
       "    </tr>\n",
       "  </thead>\n",
       "  <tbody>\n",
       "    <tr>\n",
       "      <th>0</th>\n",
       "      <td>132</td>\n",
       "      <td>0</td>\n",
       "      <td>Appl 50000446 Rates calculated incorrectly</td>\n",
       "      <td>Test Set: Credit_Pricing_And_Tiers\\rTest: CLOS...</td>\n",
       "      <td>Closed</td>\n",
       "      <td>3-High</td>\n",
       "      <td>9/9/13</td>\n",
       "      <td>NaN</td>\n",
       "      <td>NaN</td>\n",
       "      <td>15306</td>\n",
       "      <td>15306</td>\n",
       "      <td>2</td>\n",
       "      <td>NaN</td>\n",
       "      <td>9/13/13 8:39</td>\n",
       "      <td>1-Low</td>\n",
       "      <td>NaN</td>\n",
       "      <td>Y</td>\n",
       "      <td>Salvatore Mule &lt;015306&gt;, 9/9/2013: Spoke to Je...</td>\n",
       "      <td>NaN</td>\n",
       "      <td>Tester error</td>\n",
       "      <td>Salvatore Mule &lt;015306&gt;, 9/9/2013: Spoke to Je...</td>\n",
       "    </tr>\n",
       "    <tr>\n",
       "      <th>1</th>\n",
       "      <td>172</td>\n",
       "      <td>101</td>\n",
       "      <td>app 50000132 first app of the day locked from ...</td>\n",
       "      <td>app 50000132 first app of the day locked from ...</td>\n",
       "      <td>Closed</td>\n",
       "      <td>1-Low</td>\n",
       "      <td>8/5/13</td>\n",
       "      <td>NaN</td>\n",
       "      <td>NaN</td>\n",
       "      <td>15424</td>\n",
       "      <td>19931</td>\n",
       "      <td>60</td>\n",
       "      <td>12/25/13</td>\n",
       "      <td>10/3/13 15:03</td>\n",
       "      <td>2-Medium</td>\n",
       "      <td>NaN</td>\n",
       "      <td>N</td>\n",
       "      <td>Tom Sokolski &lt;015424&gt;, 10/3/2013: closed same ...</td>\n",
       "      <td>CMSI</td>\n",
       "      <td>Duplicate</td>\n",
       "      <td>Tom Sokolski &lt;015424&gt;, 10/3/2013: closed same ...</td>\n",
       "    </tr>\n",
       "    <tr>\n",
       "      <th>2</th>\n",
       "      <td>102</td>\n",
       "      <td>102 or 158 now 158</td>\n",
       "      <td>app 50000106 dealer reserve was showing $1000 ...</td>\n",
       "      <td>app 50000106 dealer reserve was showing $1000 ...</td>\n",
       "      <td>Closed</td>\n",
       "      <td>2-Medium</td>\n",
       "      <td>8/29/13</td>\n",
       "      <td>NaN</td>\n",
       "      <td>NaN</td>\n",
       "      <td>15424</td>\n",
       "      <td>15424</td>\n",
       "      <td>23</td>\n",
       "      <td>9/20/13</td>\n",
       "      <td>9/20/13 15:57</td>\n",
       "      <td>3-High</td>\n",
       "      <td>NaN</td>\n",
       "      <td>Y</td>\n",
       "      <td>Tamara Osifchin &lt;018494&gt;, 8/29/2013: assigning...</td>\n",
       "      <td>CMSI</td>\n",
       "      <td>Code defect</td>\n",
       "      <td>Tamara Osifchin &lt;018494&gt;, 8/29/2013: assigning...</td>\n",
       "    </tr>\n",
       "  </tbody>\n",
       "</table>\n",
       "</div>"
      ],
      "text/plain": [
       "   Defect ID    Vendor Defect ID  \\\n",
       "0        132                   0   \n",
       "1        172                 101   \n",
       "2        102  102 or 158 now 158   \n",
       "\n",
       "                                             Summary  \\\n",
       "0         Appl 50000446 Rates calculated incorrectly   \n",
       "1  app 50000132 first app of the day locked from ...   \n",
       "2  app 50000106 dealer reserve was showing $1000 ...   \n",
       "\n",
       "                                         Description  Status  Severity  \\\n",
       "0  Test Set: Credit_Pricing_And_Tiers\\rTest: CLOS...  Closed    3-High   \n",
       "1  app 50000132 first app of the day locked from ...  Closed     1-Low   \n",
       "2  app 50000106 dealer reserve was showing $1000 ...  Closed  2-Medium   \n",
       "\n",
       "  Detected on Date Unnamed: 7  Defect Age(# of buisness days open)  \\\n",
       "0           9/9/13        NaN                                  NaN   \n",
       "1           8/5/13        NaN                                  NaN   \n",
       "2          8/29/13        NaN                                  NaN   \n",
       "\n",
       "   Detected By  Assigned To  Actual Fix Time Estimated Fix Date  \\\n",
       "0        15306        15306                2                NaN   \n",
       "1        15424        19931               60           12/25/13   \n",
       "2        15424        15424               23            9/20/13   \n",
       "\n",
       "        Modified  Priority  Project Reproducible  \\\n",
       "0   9/13/13 8:39     1-Low      NaN            Y   \n",
       "1  10/3/13 15:03  2-Medium      NaN            N   \n",
       "2  9/20/13 15:57    3-High      NaN            Y   \n",
       "\n",
       "                                       Comments_orig Vendor Name  \\\n",
       "0  Salvatore Mule <015306>, 9/9/2013: Spoke to Je...         NaN   \n",
       "1  Tom Sokolski <015424>, 10/3/2013: closed same ...        CMSI   \n",
       "2  Tamara Osifchin <018494>, 8/29/2013: assigning...        CMSI   \n",
       "\n",
       "     Root Cause                                           Comments  \n",
       "0  Tester error  Salvatore Mule <015306>, 9/9/2013: Spoke to Je...  \n",
       "1     Duplicate  Tom Sokolski <015424>, 10/3/2013: closed same ...  \n",
       "2   Code defect  Tamara Osifchin <018494>, 8/29/2013: assigning...  "
      ]
     },
     "execution_count": 9,
     "metadata": {},
     "output_type": "execute_result"
    }
   ],
   "source": [
    "#first get the data in shape\n",
    "#raw_data = pd.read_csv(\"Execution-Defect_Report_csv.csv\", header=7)\n",
    "raw_data = pd.read_csv(\"Execution-Defect_Report_csv_fixed.csv\", header=7) #fixed has cleaned comments\n",
    "raw_data.head(3)"
   ]
  },
  {
   "cell_type": "code",
   "execution_count": 10,
   "metadata": {
    "collapsed": false
   },
   "outputs": [
    {
     "data": {
      "text/html": [
       "<div>\n",
       "<table border=\"1\" class=\"dataframe\">\n",
       "  <thead>\n",
       "    <tr style=\"text-align: right;\">\n",
       "      <th></th>\n",
       "      <th>Defect_ID</th>\n",
       "      <th>Vendor_Defect_ID</th>\n",
       "      <th>Summary</th>\n",
       "      <th>Description</th>\n",
       "      <th>Status</th>\n",
       "      <th>Severity</th>\n",
       "      <th>Detected_on_Date</th>\n",
       "      <th>Unnamed:_7</th>\n",
       "      <th>Defect_Age(#_of_buisness_days_open)</th>\n",
       "      <th>Detected_By</th>\n",
       "      <th>Assigned_To</th>\n",
       "      <th>Actual_Fix_Time</th>\n",
       "      <th>Estimated_Fix_Date</th>\n",
       "      <th>Modified</th>\n",
       "      <th>Priority</th>\n",
       "      <th>Project</th>\n",
       "      <th>Reproducible</th>\n",
       "      <th>Comments_orig</th>\n",
       "      <th>Vendor_Name</th>\n",
       "      <th>Root_Cause</th>\n",
       "      <th>Comments</th>\n",
       "    </tr>\n",
       "  </thead>\n",
       "  <tbody>\n",
       "    <tr>\n",
       "      <th>0</th>\n",
       "      <td>132</td>\n",
       "      <td>0</td>\n",
       "      <td>Appl 50000446 Rates calculated incorrectly</td>\n",
       "      <td>Test Set: Credit_Pricing_And_Tiers\\rTest: CLOS...</td>\n",
       "      <td>Closed</td>\n",
       "      <td>3-High</td>\n",
       "      <td>9/9/13</td>\n",
       "      <td>NaN</td>\n",
       "      <td>NaN</td>\n",
       "      <td>15306</td>\n",
       "      <td>15306</td>\n",
       "      <td>2</td>\n",
       "      <td>NaN</td>\n",
       "      <td>9/13/13 8:39</td>\n",
       "      <td>1-Low</td>\n",
       "      <td>NaN</td>\n",
       "      <td>Y</td>\n",
       "      <td>Salvatore Mule &lt;015306&gt;, 9/9/2013: Spoke to Je...</td>\n",
       "      <td>NaN</td>\n",
       "      <td>Tester error</td>\n",
       "      <td>Salvatore Mule &lt;015306&gt;, 9/9/2013: Spoke to Je...</td>\n",
       "    </tr>\n",
       "    <tr>\n",
       "      <th>1</th>\n",
       "      <td>172</td>\n",
       "      <td>101</td>\n",
       "      <td>app 50000132 first app of the day locked from ...</td>\n",
       "      <td>app 50000132 first app of the day locked from ...</td>\n",
       "      <td>Closed</td>\n",
       "      <td>1-Low</td>\n",
       "      <td>8/5/13</td>\n",
       "      <td>NaN</td>\n",
       "      <td>NaN</td>\n",
       "      <td>15424</td>\n",
       "      <td>19931</td>\n",
       "      <td>60</td>\n",
       "      <td>12/25/13</td>\n",
       "      <td>10/3/13 15:03</td>\n",
       "      <td>2-Medium</td>\n",
       "      <td>NaN</td>\n",
       "      <td>N</td>\n",
       "      <td>Tom Sokolski &lt;015424&gt;, 10/3/2013: closed same ...</td>\n",
       "      <td>CMSI</td>\n",
       "      <td>Duplicate</td>\n",
       "      <td>Tom Sokolski &lt;015424&gt;, 10/3/2013: closed same ...</td>\n",
       "    </tr>\n",
       "    <tr>\n",
       "      <th>2</th>\n",
       "      <td>102</td>\n",
       "      <td>102 or 158 now 158</td>\n",
       "      <td>app 50000106 dealer reserve was showing $1000 ...</td>\n",
       "      <td>app 50000106 dealer reserve was showing $1000 ...</td>\n",
       "      <td>Closed</td>\n",
       "      <td>2-Medium</td>\n",
       "      <td>8/29/13</td>\n",
       "      <td>NaN</td>\n",
       "      <td>NaN</td>\n",
       "      <td>15424</td>\n",
       "      <td>15424</td>\n",
       "      <td>23</td>\n",
       "      <td>9/20/13</td>\n",
       "      <td>9/20/13 15:57</td>\n",
       "      <td>3-High</td>\n",
       "      <td>NaN</td>\n",
       "      <td>Y</td>\n",
       "      <td>Tamara Osifchin &lt;018494&gt;, 8/29/2013: assigning...</td>\n",
       "      <td>CMSI</td>\n",
       "      <td>Code defect</td>\n",
       "      <td>Tamara Osifchin &lt;018494&gt;, 8/29/2013: assigning...</td>\n",
       "    </tr>\n",
       "  </tbody>\n",
       "</table>\n",
       "</div>"
      ],
      "text/plain": [
       "   Defect_ID    Vendor_Defect_ID  \\\n",
       "0        132                   0   \n",
       "1        172                 101   \n",
       "2        102  102 or 158 now 158   \n",
       "\n",
       "                                             Summary  \\\n",
       "0         Appl 50000446 Rates calculated incorrectly   \n",
       "1  app 50000132 first app of the day locked from ...   \n",
       "2  app 50000106 dealer reserve was showing $1000 ...   \n",
       "\n",
       "                                         Description  Status  Severity  \\\n",
       "0  Test Set: Credit_Pricing_And_Tiers\\rTest: CLOS...  Closed    3-High   \n",
       "1  app 50000132 first app of the day locked from ...  Closed     1-Low   \n",
       "2  app 50000106 dealer reserve was showing $1000 ...  Closed  2-Medium   \n",
       "\n",
       "  Detected_on_Date Unnamed:_7  Defect_Age(#_of_buisness_days_open)  \\\n",
       "0           9/9/13        NaN                                  NaN   \n",
       "1           8/5/13        NaN                                  NaN   \n",
       "2          8/29/13        NaN                                  NaN   \n",
       "\n",
       "   Detected_By  Assigned_To  Actual_Fix_Time Estimated_Fix_Date  \\\n",
       "0        15306        15306                2                NaN   \n",
       "1        15424        19931               60           12/25/13   \n",
       "2        15424        15424               23            9/20/13   \n",
       "\n",
       "        Modified  Priority  Project Reproducible  \\\n",
       "0   9/13/13 8:39     1-Low      NaN            Y   \n",
       "1  10/3/13 15:03  2-Medium      NaN            N   \n",
       "2  9/20/13 15:57    3-High      NaN            Y   \n",
       "\n",
       "                                       Comments_orig Vendor_Name  \\\n",
       "0  Salvatore Mule <015306>, 9/9/2013: Spoke to Je...         NaN   \n",
       "1  Tom Sokolski <015424>, 10/3/2013: closed same ...        CMSI   \n",
       "2  Tamara Osifchin <018494>, 8/29/2013: assigning...        CMSI   \n",
       "\n",
       "     Root_Cause                                           Comments  \n",
       "0  Tester error  Salvatore Mule <015306>, 9/9/2013: Spoke to Je...  \n",
       "1     Duplicate  Tom Sokolski <015424>, 10/3/2013: closed same ...  \n",
       "2   Code defect  Tamara Osifchin <018494>, 8/29/2013: assigning...  "
      ]
     },
     "execution_count": 10,
     "metadata": {},
     "output_type": "execute_result"
    }
   ],
   "source": [
    "raw_data.rename(columns=lambda x: x.replace(\" \",\"_\"), inplace=True)\n",
    "raw_data.head(3)"
   ]
  },
  {
   "cell_type": "code",
   "execution_count": 11,
   "metadata": {
    "collapsed": false
   },
   "outputs": [],
   "source": [
    "#but for now this seems to work:\n",
    "raw_data.Comments = raw_data.Comments.str.decode('utf-8','ignore') "
   ]
  },
  {
   "cell_type": "code",
   "execution_count": 12,
   "metadata": {
    "collapsed": false
   },
   "outputs": [
    {
     "data": {
      "text/html": [
       "<div>\n",
       "<table border=\"1\" class=\"dataframe\">\n",
       "  <thead>\n",
       "    <tr style=\"text-align: right;\">\n",
       "      <th></th>\n",
       "      <th>Defect_ID</th>\n",
       "      <th>Vendor_Defect_ID</th>\n",
       "      <th>Summary</th>\n",
       "      <th>Description</th>\n",
       "      <th>Status</th>\n",
       "      <th>Severity</th>\n",
       "      <th>Detected_on_Date</th>\n",
       "      <th>Unnamed:_7</th>\n",
       "      <th>Defect_Age(#_of_buisness_days_open)</th>\n",
       "      <th>Detected_By</th>\n",
       "      <th>Assigned_To</th>\n",
       "      <th>Actual_Fix_Time</th>\n",
       "      <th>Estimated_Fix_Date</th>\n",
       "      <th>Modified</th>\n",
       "      <th>Priority</th>\n",
       "      <th>Project</th>\n",
       "      <th>Reproducible</th>\n",
       "      <th>Comments_orig</th>\n",
       "      <th>Vendor_Name</th>\n",
       "      <th>Root_Cause</th>\n",
       "      <th>Comments</th>\n",
       "    </tr>\n",
       "  </thead>\n",
       "  <tbody>\n",
       "    <tr>\n",
       "      <th>293</th>\n",
       "      <td>454</td>\n",
       "      <td>NaN</td>\n",
       "      <td>No Longer have the ability to un-book loans</td>\n",
       "      <td>Under my profile, FNBISKRAJEWSKI I no longer h...</td>\n",
       "      <td>New</td>\n",
       "      <td>3-High</td>\n",
       "      <td>12/5/13</td>\n",
       "      <td>12/5/13</td>\n",
       "      <td>1</td>\n",
       "      <td>15425</td>\n",
       "      <td>NaN</td>\n",
       "      <td>NaN</td>\n",
       "      <td>NaN</td>\n",
       "      <td>12/5/13 9:40</td>\n",
       "      <td>NaN</td>\n",
       "      <td>NaN</td>\n",
       "      <td>Y</td>\n",
       "      <td>NaN</td>\n",
       "      <td>NaN</td>\n",
       "      <td>TBD</td>\n",
       "      <td>NaN</td>\n",
       "    </tr>\n",
       "  </tbody>\n",
       "</table>\n",
       "</div>"
      ],
      "text/plain": [
       "     Defect_ID Vendor_Defect_ID                                      Summary  \\\n",
       "293        454              NaN  No Longer have the ability to un-book loans   \n",
       "\n",
       "                                           Description Status Severity  \\\n",
       "293  Under my profile, FNBISKRAJEWSKI I no longer h...    New   3-High   \n",
       "\n",
       "    Detected_on_Date Unnamed:_7  Defect_Age(#_of_buisness_days_open)  \\\n",
       "293          12/5/13    12/5/13                                    1   \n",
       "\n",
       "     Detected_By  Assigned_To  Actual_Fix_Time Estimated_Fix_Date  \\\n",
       "293        15425          NaN              NaN                NaN   \n",
       "\n",
       "         Modified Priority  Project Reproducible Comments_orig Vendor_Name  \\\n",
       "293  12/5/13 9:40      NaN      NaN            Y           NaN         NaN   \n",
       "\n",
       "    Root_Cause Comments  \n",
       "293        TBD      NaN  "
      ]
     },
     "execution_count": 12,
     "metadata": {},
     "output_type": "execute_result"
    }
   ],
   "source": [
    "tmp = raw_data[raw_data.Comments.isnull()]\n",
    "tmp"
   ]
  },
  {
   "cell_type": "code",
   "execution_count": 13,
   "metadata": {
    "collapsed": false
   },
   "outputs": [
    {
     "data": {
      "text/html": [
       "<div>\n",
       "<table border=\"1\" class=\"dataframe\">\n",
       "  <thead>\n",
       "    <tr style=\"text-align: right;\">\n",
       "      <th></th>\n",
       "      <th>Defect_ID</th>\n",
       "      <th>Vendor_Defect_ID</th>\n",
       "      <th>Summary</th>\n",
       "      <th>Description</th>\n",
       "      <th>Status</th>\n",
       "      <th>Severity</th>\n",
       "      <th>Detected_on_Date</th>\n",
       "      <th>Unnamed:_7</th>\n",
       "      <th>Defect_Age(#_of_buisness_days_open)</th>\n",
       "      <th>Detected_By</th>\n",
       "      <th>Assigned_To</th>\n",
       "      <th>Actual_Fix_Time</th>\n",
       "      <th>Estimated_Fix_Date</th>\n",
       "      <th>Modified</th>\n",
       "      <th>Priority</th>\n",
       "      <th>Project</th>\n",
       "      <th>Reproducible</th>\n",
       "      <th>Comments_orig</th>\n",
       "      <th>Vendor_Name</th>\n",
       "      <th>Root_Cause</th>\n",
       "      <th>Comments</th>\n",
       "    </tr>\n",
       "  </thead>\n",
       "  <tbody>\n",
       "  </tbody>\n",
       "</table>\n",
       "</div>"
      ],
      "text/plain": [
       "Empty DataFrame\n",
       "Columns: [Defect_ID, Vendor_Defect_ID, Summary, Description, Status, Severity, Detected_on_Date, Unnamed:_7, Defect_Age(#_of_buisness_days_open), Detected_By, Assigned_To, Actual_Fix_Time, Estimated_Fix_Date, Modified, Priority, Project, Reproducible, Comments_orig, Vendor_Name, Root_Cause, Comments]\n",
       "Index: []"
      ]
     },
     "execution_count": 13,
     "metadata": {},
     "output_type": "execute_result"
    }
   ],
   "source": [
    "raw_data.Comments = raw_data.Comments.fillna(\"\")\n",
    "tmp = raw_data[raw_data.Comments.isnull()]\n",
    "tmp"
   ]
  },
  {
   "cell_type": "code",
   "execution_count": 13,
   "metadata": {
    "collapsed": false
   },
   "outputs": [
    {
     "data": {
      "text/plain": [
       "Defect_ID                                int64\n",
       "Vendor_Defect_ID                        object\n",
       "Summary                                 object\n",
       "Description                             object\n",
       "Status                                  object\n",
       "Severity                                object\n",
       "Detected_on_Date                        object\n",
       "Unnamed:_7                              object\n",
       "Defect_Age(#_of_buisness_days_open)    float64\n",
       "Detected_By                              int64\n",
       "Assigned_To                            float64\n",
       "Actual_Fix_Time                        float64\n",
       "Estimated_Fix_Date                      object\n",
       "Modified                                object\n",
       "Priority                                object\n",
       "Project                                float64\n",
       "Reproducible                            object\n",
       "Comments_orig                           object\n",
       "Vendor_Name                             object\n",
       "Root_Cause                              object\n",
       "Comments                                object\n",
       "dtype: object"
      ]
     },
     "execution_count": 13,
     "metadata": {},
     "output_type": "execute_result"
    }
   ],
   "source": [
    "raw_data.dtypes"
   ]
  },
  {
   "cell_type": "code",
   "execution_count": 14,
   "metadata": {
    "collapsed": false
   },
   "outputs": [
    {
     "data": {
      "text/html": [
       "<div>\n",
       "<table border=\"1\" class=\"dataframe\">\n",
       "  <thead>\n",
       "    <tr style=\"text-align: right;\">\n",
       "      <th></th>\n",
       "      <th>Defect_ID</th>\n",
       "      <th>Vendor_Defect_ID</th>\n",
       "      <th>Summary</th>\n",
       "      <th>Description</th>\n",
       "      <th>Status</th>\n",
       "      <th>Severity</th>\n",
       "      <th>Detected_on_Date</th>\n",
       "      <th>Unnamed:_7</th>\n",
       "      <th>Defect_Age(#_of_buisness_days_open)</th>\n",
       "      <th>Detected_By</th>\n",
       "      <th>Assigned_To</th>\n",
       "      <th>Actual_Fix_Time</th>\n",
       "      <th>Estimated_Fix_Date</th>\n",
       "      <th>Modified</th>\n",
       "      <th>Priority</th>\n",
       "      <th>Project</th>\n",
       "      <th>Reproducible</th>\n",
       "      <th>Comments_orig</th>\n",
       "      <th>Vendor_Name</th>\n",
       "      <th>Root_Cause</th>\n",
       "      <th>Comments</th>\n",
       "    </tr>\n",
       "  </thead>\n",
       "  <tbody>\n",
       "    <tr>\n",
       "      <th>309</th>\n",
       "      <td>349</td>\n",
       "      <td>395D1206</td>\n",
       "      <td>App# 50002011 Did not reflect proper payment a...</td>\n",
       "      <td>Test Set: Credit_Credit_Bureaus\\rTest: CLOS_ C...</td>\n",
       "      <td>Open</td>\n",
       "      <td>2-Medium</td>\n",
       "      <td>11/15/13</td>\n",
       "      <td>12/5/13</td>\n",
       "      <td>15</td>\n",
       "      <td>15306</td>\n",
       "      <td>19931</td>\n",
       "      <td>NaN</td>\n",
       "      <td>NaN</td>\n",
       "      <td>11/27/13 11:09</td>\n",
       "      <td>3-High</td>\n",
       "      <td>NaN</td>\n",
       "      <td>Y</td>\n",
       "      <td>Tamara Osifchin &lt;018494&gt;, 11/15/2013: Payment ...</td>\n",
       "      <td>NaN</td>\n",
       "      <td>NaN</td>\n",
       "      <td>Tamara Osifchin &lt;018494&gt;, 11/15/2013: Payment ...</td>\n",
       "    </tr>\n",
       "    <tr>\n",
       "      <th>310</th>\n",
       "      <td>362</td>\n",
       "      <td>407</td>\n",
       "      <td>App# 50002129 should only have 1 rule for max ...</td>\n",
       "      <td>App# 50002129 has 2 review rules for max mark-...</td>\n",
       "      <td>Open</td>\n",
       "      <td>2-Medium</td>\n",
       "      <td>11/20/13</td>\n",
       "      <td>12/5/13</td>\n",
       "      <td>12</td>\n",
       "      <td>15306</td>\n",
       "      <td>18000</td>\n",
       "      <td>NaN</td>\n",
       "      <td>NaN</td>\n",
       "      <td>12/3/13 12:12</td>\n",
       "      <td>2-Medium</td>\n",
       "      <td>NaN</td>\n",
       "      <td>Y</td>\n",
       "      <td>Tamara Osifchin &lt;018494&gt;, 11/20/2013: medium p...</td>\n",
       "      <td>NaN</td>\n",
       "      <td>NaN</td>\n",
       "      <td>Tamara Osifchin &lt;018494&gt;, 11/20/2013: medium p...</td>\n",
       "    </tr>\n",
       "    <tr>\n",
       "      <th>311</th>\n",
       "      <td>365</td>\n",
       "      <td>409Dnextbuild</td>\n",
       "      <td>Region Code on Originator Aging Statistics is ...</td>\n",
       "      <td>The Region Code on the screen labeled as Origi...</td>\n",
       "      <td>Open</td>\n",
       "      <td>2-Medium</td>\n",
       "      <td>11/21/13</td>\n",
       "      <td>12/5/13</td>\n",
       "      <td>11</td>\n",
       "      <td>11798</td>\n",
       "      <td>19931</td>\n",
       "      <td>NaN</td>\n",
       "      <td>NaN</td>\n",
       "      <td>12/2/13 16:29</td>\n",
       "      <td>1-Low</td>\n",
       "      <td>NaN</td>\n",
       "      <td>Y</td>\n",
       "      <td>Tamara Osifchin &lt;018494&gt;, 11/21/2013: low prio...</td>\n",
       "      <td>NaN</td>\n",
       "      <td>NaN</td>\n",
       "      <td>Tamara Osifchin &lt;018494&gt;, 11/21/2013: low prio...</td>\n",
       "    </tr>\n",
       "  </tbody>\n",
       "</table>\n",
       "</div>"
      ],
      "text/plain": [
       "     Defect_ID Vendor_Defect_ID  \\\n",
       "309        349         395D1206   \n",
       "310        362              407   \n",
       "311        365    409Dnextbuild   \n",
       "\n",
       "                                               Summary  \\\n",
       "309  App# 50002011 Did not reflect proper payment a...   \n",
       "310  App# 50002129 should only have 1 rule for max ...   \n",
       "311  Region Code on Originator Aging Statistics is ...   \n",
       "\n",
       "                                           Description Status  Severity  \\\n",
       "309  Test Set: Credit_Credit_Bureaus\\rTest: CLOS_ C...   Open  2-Medium   \n",
       "310  App# 50002129 has 2 review rules for max mark-...   Open  2-Medium   \n",
       "311  The Region Code on the screen labeled as Origi...   Open  2-Medium   \n",
       "\n",
       "    Detected_on_Date Unnamed:_7  Defect_Age(#_of_buisness_days_open)  \\\n",
       "309         11/15/13    12/5/13                                   15   \n",
       "310         11/20/13    12/5/13                                   12   \n",
       "311         11/21/13    12/5/13                                   11   \n",
       "\n",
       "     Detected_By  Assigned_To  Actual_Fix_Time Estimated_Fix_Date  \\\n",
       "309        15306        19931              NaN                NaN   \n",
       "310        15306        18000              NaN                NaN   \n",
       "311        11798        19931              NaN                NaN   \n",
       "\n",
       "           Modified  Priority  Project Reproducible  \\\n",
       "309  11/27/13 11:09    3-High      NaN            Y   \n",
       "310   12/3/13 12:12  2-Medium      NaN            Y   \n",
       "311   12/2/13 16:29     1-Low      NaN            Y   \n",
       "\n",
       "                                         Comments_orig Vendor_Name Root_Cause  \\\n",
       "309  Tamara Osifchin <018494>, 11/15/2013: Payment ...         NaN        NaN   \n",
       "310  Tamara Osifchin <018494>, 11/20/2013: medium p...         NaN        NaN   \n",
       "311  Tamara Osifchin <018494>, 11/21/2013: low prio...         NaN        NaN   \n",
       "\n",
       "                                              Comments  \n",
       "309  Tamara Osifchin <018494>, 11/15/2013: Payment ...  \n",
       "310  Tamara Osifchin <018494>, 11/20/2013: medium p...  \n",
       "311  Tamara Osifchin <018494>, 11/21/2013: low prio...  "
      ]
     },
     "execution_count": 14,
     "metadata": {},
     "output_type": "execute_result"
    }
   ],
   "source": [
    "raw_data[raw_data.Root_Cause.isnull()].head(3)"
   ]
  },
  {
   "cell_type": "code",
   "execution_count": 15,
   "metadata": {
    "collapsed": false
   },
   "outputs": [
    {
     "data": {
      "text/plain": [
       "Code defect          213\n",
       "Requirement issue     30\n",
       "Tester error          29\n",
       "Not reproducible      23\n",
       "Duplicate              8\n",
       "TBD                    6\n",
       "dtype: int64"
      ]
     },
     "execution_count": 15,
     "metadata": {},
     "output_type": "execute_result"
    }
   ],
   "source": [
    "raw_data.Root_Cause.value_counts()"
   ]
  },
  {
   "cell_type": "code",
   "execution_count": 16,
   "metadata": {
    "collapsed": false
   },
   "outputs": [
    {
     "data": {
      "text/html": [
       "<div>\n",
       "<table border=\"1\" class=\"dataframe\">\n",
       "  <thead>\n",
       "    <tr style=\"text-align: right;\">\n",
       "      <th></th>\n",
       "      <th>Defect_ID</th>\n",
       "      <th>Vendor_Defect_ID</th>\n",
       "      <th>Summary</th>\n",
       "      <th>Description</th>\n",
       "      <th>Status</th>\n",
       "      <th>Severity</th>\n",
       "      <th>Detected_on_Date</th>\n",
       "      <th>Unnamed:_7</th>\n",
       "      <th>Defect_Age(#_of_buisness_days_open)</th>\n",
       "      <th>Detected_By</th>\n",
       "      <th>Assigned_To</th>\n",
       "      <th>Actual_Fix_Time</th>\n",
       "      <th>Estimated_Fix_Date</th>\n",
       "      <th>Modified</th>\n",
       "      <th>Priority</th>\n",
       "      <th>Project</th>\n",
       "      <th>Reproducible</th>\n",
       "      <th>Comments_orig</th>\n",
       "      <th>Vendor_Name</th>\n",
       "      <th>Root_Cause</th>\n",
       "      <th>Comments</th>\n",
       "    </tr>\n",
       "  </thead>\n",
       "  <tbody>\n",
       "    <tr>\n",
       "      <th>67</th>\n",
       "      <td>281</td>\n",
       "      <td>328D</td>\n",
       "      <td>Collateral Section for funding needs to look a...</td>\n",
       "      <td>Collateral section under Contract Infoneeds to...</td>\n",
       "      <td>Reopen</td>\n",
       "      <td>4-Very High</td>\n",
       "      <td>10/23/13</td>\n",
       "      <td>12/5/13</td>\n",
       "      <td>32</td>\n",
       "      <td>15425</td>\n",
       "      <td>19931</td>\n",
       "      <td>8</td>\n",
       "      <td>NaN</td>\n",
       "      <td>12/2/13 16:17</td>\n",
       "      <td>4-Very High</td>\n",
       "      <td>NaN</td>\n",
       "      <td>Y</td>\n",
       "      <td>Tamara Osifchin &lt;018494&gt;, 10/23/2013: Jeddalyn...</td>\n",
       "      <td>NaN</td>\n",
       "      <td>TBD</td>\n",
       "      <td>Tamara Osifchin &lt;018494&gt;, 10/23/2013: Jeddalyn...</td>\n",
       "    </tr>\n",
       "    <tr>\n",
       "      <th>217</th>\n",
       "      <td>427</td>\n",
       "      <td>417</td>\n",
       "      <td>App# 50002195 Buy rate did not recalculate on ...</td>\n",
       "      <td>App# 50002195 has incorrect buy rate when amou...</td>\n",
       "      <td>Open</td>\n",
       "      <td>4-Very High</td>\n",
       "      <td>11/26/13</td>\n",
       "      <td>12/5/13</td>\n",
       "      <td>8</td>\n",
       "      <td>15306</td>\n",
       "      <td>18000</td>\n",
       "      <td>NaN</td>\n",
       "      <td>NaN</td>\n",
       "      <td>12/3/13 14:23</td>\n",
       "      <td>3-High</td>\n",
       "      <td>NaN</td>\n",
       "      <td>Y</td>\n",
       "      <td>Tamara Osifchin &lt;018494&gt;, 11/26/2013: Similar ...</td>\n",
       "      <td>NaN</td>\n",
       "      <td>TBD</td>\n",
       "      <td>Tamara Osifchin &lt;018494&gt;, 11/26/2013: Similar ...</td>\n",
       "    </tr>\n",
       "    <tr>\n",
       "      <th>250</th>\n",
       "      <td>357</td>\n",
       "      <td>401</td>\n",
       "      <td>VINTEK is not operational at this time, unable...</td>\n",
       "      <td>Test Set: Vintek\\rTest: CLOS_ADMIN__Vintek_Bat...</td>\n",
       "      <td>Open</td>\n",
       "      <td>3-High</td>\n",
       "      <td>11/19/13</td>\n",
       "      <td>12/5/13</td>\n",
       "      <td>13</td>\n",
       "      <td>5778</td>\n",
       "      <td>19530</td>\n",
       "      <td>NaN</td>\n",
       "      <td>NaN</td>\n",
       "      <td>12/2/13 16:23</td>\n",
       "      <td>3-High</td>\n",
       "      <td>NaN</td>\n",
       "      <td>Y</td>\n",
       "      <td>Failed this test since VINTEK is not functiona...</td>\n",
       "      <td>NaN</td>\n",
       "      <td>TBD</td>\n",
       "      <td>Failed this test since VINTEK is not functiona...</td>\n",
       "    </tr>\n",
       "    <tr>\n",
       "      <th>253</th>\n",
       "      <td>360</td>\n",
       "      <td>404</td>\n",
       "      <td>NACHA file is not operational at this time to ...</td>\n",
       "      <td>Test Set: ACH\\rTest: CLOS_ADMIN___ACH_001_NACH...</td>\n",
       "      <td>Open</td>\n",
       "      <td>3-High</td>\n",
       "      <td>11/19/13</td>\n",
       "      <td>12/5/13</td>\n",
       "      <td>13</td>\n",
       "      <td>5778</td>\n",
       "      <td>19530</td>\n",
       "      <td>NaN</td>\n",
       "      <td>NaN</td>\n",
       "      <td>12/2/13 16:23</td>\n",
       "      <td>3-High</td>\n",
       "      <td>NaN</td>\n",
       "      <td>Y</td>\n",
       "      <td>David Pepe &lt;005778&gt;, 11/19/2013: Failed this s...</td>\n",
       "      <td>NaN</td>\n",
       "      <td>TBD</td>\n",
       "      <td>David Pepe &lt;005778&gt;, 11/19/2013: Failed this s...</td>\n",
       "    </tr>\n",
       "    <tr>\n",
       "      <th>287</th>\n",
       "      <td>441</td>\n",
       "      <td>422</td>\n",
       "      <td>Dealer Reserve screen is not updating after ne...</td>\n",
       "      <td>app 50002213 completed contract info with 10,0...</td>\n",
       "      <td>Open</td>\n",
       "      <td>3-High</td>\n",
       "      <td>11/29/13</td>\n",
       "      <td>12/5/13</td>\n",
       "      <td>5</td>\n",
       "      <td>15424</td>\n",
       "      <td>19931</td>\n",
       "      <td>NaN</td>\n",
       "      <td>NaN</td>\n",
       "      <td>12/4/13 16:13</td>\n",
       "      <td>3-High</td>\n",
       "      <td>NaN</td>\n",
       "      <td>Y</td>\n",
       "      <td>Tamara Osifchin &lt;018494&gt;, 12/2/2013: Tom logge...</td>\n",
       "      <td>NaN</td>\n",
       "      <td>TBD</td>\n",
       "      <td>Tamara Osifchin &lt;018494&gt;, 12/2/2013: Tom logge...</td>\n",
       "    </tr>\n",
       "    <tr>\n",
       "      <th>293</th>\n",
       "      <td>454</td>\n",
       "      <td>NaN</td>\n",
       "      <td>No Longer have the ability to un-book loans</td>\n",
       "      <td>Under my profile, FNBISKRAJEWSKI I no longer h...</td>\n",
       "      <td>New</td>\n",
       "      <td>3-High</td>\n",
       "      <td>12/5/13</td>\n",
       "      <td>12/5/13</td>\n",
       "      <td>1</td>\n",
       "      <td>15425</td>\n",
       "      <td>NaN</td>\n",
       "      <td>NaN</td>\n",
       "      <td>NaN</td>\n",
       "      <td>12/5/13 9:40</td>\n",
       "      <td>NaN</td>\n",
       "      <td>NaN</td>\n",
       "      <td>Y</td>\n",
       "      <td>NaN</td>\n",
       "      <td>NaN</td>\n",
       "      <td>TBD</td>\n",
       "      <td></td>\n",
       "    </tr>\n",
       "  </tbody>\n",
       "</table>\n",
       "</div>"
      ],
      "text/plain": [
       "     Defect_ID Vendor_Defect_ID  \\\n",
       "67         281             328D   \n",
       "217        427              417   \n",
       "250        357              401   \n",
       "253        360              404   \n",
       "287        441              422   \n",
       "293        454              NaN   \n",
       "\n",
       "                                               Summary  \\\n",
       "67   Collateral Section for funding needs to look a...   \n",
       "217  App# 50002195 Buy rate did not recalculate on ...   \n",
       "250  VINTEK is not operational at this time, unable...   \n",
       "253  NACHA file is not operational at this time to ...   \n",
       "287  Dealer Reserve screen is not updating after ne...   \n",
       "293        No Longer have the ability to un-book loans   \n",
       "\n",
       "                                           Description  Status     Severity  \\\n",
       "67   Collateral section under Contract Infoneeds to...  Reopen  4-Very High   \n",
       "217  App# 50002195 has incorrect buy rate when amou...    Open  4-Very High   \n",
       "250  Test Set: Vintek\\rTest: CLOS_ADMIN__Vintek_Bat...    Open       3-High   \n",
       "253  Test Set: ACH\\rTest: CLOS_ADMIN___ACH_001_NACH...    Open       3-High   \n",
       "287  app 50002213 completed contract info with 10,0...    Open       3-High   \n",
       "293  Under my profile, FNBISKRAJEWSKI I no longer h...     New       3-High   \n",
       "\n",
       "    Detected_on_Date Unnamed:_7  Defect_Age(#_of_buisness_days_open)  \\\n",
       "67          10/23/13    12/5/13                                   32   \n",
       "217         11/26/13    12/5/13                                    8   \n",
       "250         11/19/13    12/5/13                                   13   \n",
       "253         11/19/13    12/5/13                                   13   \n",
       "287         11/29/13    12/5/13                                    5   \n",
       "293          12/5/13    12/5/13                                    1   \n",
       "\n",
       "     Detected_By  Assigned_To  Actual_Fix_Time Estimated_Fix_Date  \\\n",
       "67         15425        19931                8                NaN   \n",
       "217        15306        18000              NaN                NaN   \n",
       "250         5778        19530              NaN                NaN   \n",
       "253         5778        19530              NaN                NaN   \n",
       "287        15424        19931              NaN                NaN   \n",
       "293        15425          NaN              NaN                NaN   \n",
       "\n",
       "          Modified     Priority  Project Reproducible  \\\n",
       "67   12/2/13 16:17  4-Very High      NaN            Y   \n",
       "217  12/3/13 14:23       3-High      NaN            Y   \n",
       "250  12/2/13 16:23       3-High      NaN            Y   \n",
       "253  12/2/13 16:23       3-High      NaN            Y   \n",
       "287  12/4/13 16:13       3-High      NaN            Y   \n",
       "293   12/5/13 9:40          NaN      NaN            Y   \n",
       "\n",
       "                                         Comments_orig Vendor_Name Root_Cause  \\\n",
       "67   Tamara Osifchin <018494>, 10/23/2013: Jeddalyn...         NaN        TBD   \n",
       "217  Tamara Osifchin <018494>, 11/26/2013: Similar ...         NaN        TBD   \n",
       "250  Failed this test since VINTEK is not functiona...         NaN        TBD   \n",
       "253  David Pepe <005778>, 11/19/2013: Failed this s...         NaN        TBD   \n",
       "287  Tamara Osifchin <018494>, 12/2/2013: Tom logge...         NaN        TBD   \n",
       "293                                                NaN         NaN        TBD   \n",
       "\n",
       "                                              Comments  \n",
       "67   Tamara Osifchin <018494>, 10/23/2013: Jeddalyn...  \n",
       "217  Tamara Osifchin <018494>, 11/26/2013: Similar ...  \n",
       "250  Failed this test since VINTEK is not functiona...  \n",
       "253  David Pepe <005778>, 11/19/2013: Failed this s...  \n",
       "287  Tamara Osifchin <018494>, 12/2/2013: Tom logge...  \n",
       "293                                                     "
      ]
     },
     "execution_count": 16,
     "metadata": {},
     "output_type": "execute_result"
    }
   ],
   "source": [
    "raw_data[raw_data.Root_Cause == 'TBD']"
   ]
  },
  {
   "cell_type": "code",
   "execution_count": 17,
   "metadata": {
    "collapsed": false
   },
   "outputs": [
    {
     "name": "stdout",
     "output_type": "stream",
     "text": [
      "(373, 21)\n",
      "number of rows with root cause value:  303\n"
     ]
    }
   ],
   "source": [
    "raw_data = raw_data[raw_data.Root_Cause != 'TBD']\n",
    "print raw_data.shape\n",
    "print \"number of rows with root cause value: \", sum(raw_data.Root_Cause.value_counts())"
   ]
  },
  {
   "cell_type": "code",
   "execution_count": 18,
   "metadata": {
    "collapsed": false
   },
   "outputs": [
    {
     "name": "stdout",
     "output_type": "stream",
     "text": [
      "(373, 21)\n"
     ]
    },
    {
     "data": {
      "text/plain": [
       "(300, 21)"
      ]
     },
     "execution_count": 18,
     "metadata": {},
     "output_type": "execute_result"
    }
   ],
   "source": [
    "#need to create the vocabulary from all the data (i.e. both train and test splits) \n",
    "#but will keep it at 300 for now to make the math easier\n",
    "print raw_data.shape\n",
    "raw_data = raw_data[:300]\n",
    "raw_data.shape"
   ]
  },
  {
   "cell_type": "code",
   "execution_count": 19,
   "metadata": {
    "collapsed": false
   },
   "outputs": [
    {
     "data": {
      "text/html": [
       "<div>\n",
       "<table border=\"1\" class=\"dataframe\">\n",
       "  <thead>\n",
       "    <tr style=\"text-align: right;\">\n",
       "      <th></th>\n",
       "      <th>Defect_ID</th>\n",
       "      <th>Vendor_Defect_ID</th>\n",
       "      <th>Summary</th>\n",
       "      <th>Description</th>\n",
       "      <th>Status</th>\n",
       "      <th>Severity</th>\n",
       "      <th>Detected_on_Date</th>\n",
       "      <th>Unnamed:_7</th>\n",
       "      <th>Defect_Age(#_of_buisness_days_open)</th>\n",
       "      <th>Detected_By</th>\n",
       "      <th>Assigned_To</th>\n",
       "      <th>Actual_Fix_Time</th>\n",
       "      <th>Estimated_Fix_Date</th>\n",
       "      <th>Modified</th>\n",
       "      <th>Priority</th>\n",
       "      <th>Project</th>\n",
       "      <th>Reproducible</th>\n",
       "      <th>Comments_orig</th>\n",
       "      <th>Vendor_Name</th>\n",
       "      <th>Root_Cause</th>\n",
       "      <th>Comments</th>\n",
       "    </tr>\n",
       "  </thead>\n",
       "  <tbody>\n",
       "  </tbody>\n",
       "</table>\n",
       "</div>"
      ],
      "text/plain": [
       "Empty DataFrame\n",
       "Columns: [Defect_ID, Vendor_Defect_ID, Summary, Description, Status, Severity, Detected_on_Date, Unnamed:_7, Defect_Age(#_of_buisness_days_open), Detected_By, Assigned_To, Actual_Fix_Time, Estimated_Fix_Date, Modified, Priority, Project, Reproducible, Comments_orig, Vendor_Name, Root_Cause, Comments]\n",
       "Index: []"
      ]
     },
     "execution_count": 19,
     "metadata": {},
     "output_type": "execute_result"
    }
   ],
   "source": [
    "raw_data[raw_data.Root_Cause.isnull()].head(3)"
   ]
  },
  {
   "cell_type": "code",
   "execution_count": 20,
   "metadata": {
    "collapsed": false
   },
   "outputs": [
    {
     "data": {
      "text/html": [
       "<div>\n",
       "<table border=\"1\" class=\"dataframe\">\n",
       "  <thead>\n",
       "    <tr style=\"text-align: right;\">\n",
       "      <th></th>\n",
       "      <th>Defect_ID</th>\n",
       "      <th>Vendor_Defect_ID</th>\n",
       "      <th>Summary</th>\n",
       "      <th>Description</th>\n",
       "      <th>Status</th>\n",
       "    </tr>\n",
       "  </thead>\n",
       "  <tbody>\n",
       "    <tr>\n",
       "      <th>0</th>\n",
       "      <td>132</td>\n",
       "      <td>0</td>\n",
       "      <td>Appl 50000446 Rates calculated incorrectly</td>\n",
       "      <td>Test Set: Credit_Pricing_And_Tiers\\rTest: CLOS...</td>\n",
       "      <td>Closed</td>\n",
       "    </tr>\n",
       "    <tr>\n",
       "      <th>1</th>\n",
       "      <td>172</td>\n",
       "      <td>101</td>\n",
       "      <td>app 50000132 first app of the day locked from ...</td>\n",
       "      <td>app 50000132 first app of the day locked from ...</td>\n",
       "      <td>Closed</td>\n",
       "    </tr>\n",
       "    <tr>\n",
       "      <th>2</th>\n",
       "      <td>102</td>\n",
       "      <td>102 or 158 now 158</td>\n",
       "      <td>app 50000106 dealer reserve was showing $1000 ...</td>\n",
       "      <td>app 50000106 dealer reserve was showing $1000 ...</td>\n",
       "      <td>Closed</td>\n",
       "    </tr>\n",
       "  </tbody>\n",
       "</table>\n",
       "</div>"
      ],
      "text/plain": [
       "   Defect_ID    Vendor_Defect_ID  \\\n",
       "0        132                   0   \n",
       "1        172                 101   \n",
       "2        102  102 or 158 now 158   \n",
       "\n",
       "                                             Summary  \\\n",
       "0         Appl 50000446 Rates calculated incorrectly   \n",
       "1  app 50000132 first app of the day locked from ...   \n",
       "2  app 50000106 dealer reserve was showing $1000 ...   \n",
       "\n",
       "                                         Description  Status  \n",
       "0  Test Set: Credit_Pricing_And_Tiers\\rTest: CLOS...  Closed  \n",
       "1  app 50000132 first app of the day locked from ...  Closed  \n",
       "2  app 50000106 dealer reserve was showing $1000 ...  Closed  "
      ]
     },
     "execution_count": 20,
     "metadata": {},
     "output_type": "execute_result"
    }
   ],
   "source": [
    "raw_data.iloc[:3,:5]"
   ]
  },
  {
   "cell_type": "code",
   "execution_count": 21,
   "metadata": {
    "collapsed": false
   },
   "outputs": [
    {
     "data": {
      "text/html": [
       "<div>\n",
       "<table border=\"1\" class=\"dataframe\">\n",
       "  <thead>\n",
       "    <tr style=\"text-align: right;\">\n",
       "      <th></th>\n",
       "      <th>Defect_ID</th>\n",
       "      <th>Vendor_Defect_ID</th>\n",
       "      <th>Summary</th>\n",
       "      <th>Description</th>\n",
       "      <th>Status</th>\n",
       "      <th>Severity</th>\n",
       "      <th>Detected_on_Date</th>\n",
       "      <th>Unnamed:_7</th>\n",
       "      <th>Defect_Age(#_of_buisness_days_open)</th>\n",
       "      <th>Detected_By</th>\n",
       "      <th>Assigned_To</th>\n",
       "      <th>Actual_Fix_Time</th>\n",
       "      <th>Estimated_Fix_Date</th>\n",
       "      <th>Modified</th>\n",
       "      <th>Priority</th>\n",
       "      <th>Project</th>\n",
       "      <th>Reproducible</th>\n",
       "      <th>Comments_orig</th>\n",
       "      <th>Vendor_Name</th>\n",
       "      <th>Root_Cause</th>\n",
       "      <th>Comments</th>\n",
       "    </tr>\n",
       "  </thead>\n",
       "  <tbody>\n",
       "    <tr>\n",
       "      <th>155</th>\n",
       "      <td>2</td>\n",
       "      <td>27</td>\n",
       "      <td>auto decline does not populate decline reasons...</td>\n",
       "      <td>Application 9893 - no reasons printedon the ad...</td>\n",
       "      <td>Closed</td>\n",
       "      <td>2-Medium</td>\n",
       "      <td>5/31/13</td>\n",
       "      <td>NaN</td>\n",
       "      <td>NaN</td>\n",
       "      <td>18494</td>\n",
       "      <td>15306</td>\n",
       "      <td>27</td>\n",
       "      <td>NaN</td>\n",
       "      <td>9/13/13 17:04</td>\n",
       "      <td>3-High</td>\n",
       "      <td>NaN</td>\n",
       "      <td>Y</td>\n",
       "      <td>Tamara Osifchin &lt;018494&gt;, 6/27/2013: Per Laure...</td>\n",
       "      <td>CMSI</td>\n",
       "      <td>Requirement issue</td>\n",
       "      <td>Tamara Osifchin &lt;018494&gt;, 6/27/2013: Per Laure...</td>\n",
       "    </tr>\n",
       "    <tr>\n",
       "      <th>231</th>\n",
       "      <td>8</td>\n",
       "      <td>34</td>\n",
       "      <td>rates should be coded per model year</td>\n",
       "      <td>Rates should be coded per model yeareven thoug...</td>\n",
       "      <td>Closed</td>\n",
       "      <td>2-Medium</td>\n",
       "      <td>6/4/13</td>\n",
       "      <td>NaN</td>\n",
       "      <td>NaN</td>\n",
       "      <td>18494</td>\n",
       "      <td>5778</td>\n",
       "      <td>34</td>\n",
       "      <td>NaN</td>\n",
       "      <td>7/26/13 13:38</td>\n",
       "      <td>NaN</td>\n",
       "      <td>NaN</td>\n",
       "      <td>Y</td>\n",
       "      <td>Tamara Osifchin &lt;018494&gt;, 6/27/2013: Fix is in...</td>\n",
       "      <td>CMSI</td>\n",
       "      <td>Code defect</td>\n",
       "      <td>Tamara Osifchin &lt;018494&gt;, 6/27/2013: Fix is in...</td>\n",
       "    </tr>\n",
       "    <tr>\n",
       "      <th>291</th>\n",
       "      <td>11</td>\n",
       "      <td>40</td>\n",
       "      <td>Remove tolerance rules rows 13 and 14</td>\n",
       "      <td>Per discussion at 6/5 tolerance rulesmeeting, ...</td>\n",
       "      <td>Closed</td>\n",
       "      <td>2-Medium</td>\n",
       "      <td>6/5/13</td>\n",
       "      <td>NaN</td>\n",
       "      <td>NaN</td>\n",
       "      <td>18494</td>\n",
       "      <td>11798</td>\n",
       "      <td>40</td>\n",
       "      <td>NaN</td>\n",
       "      <td>8/8/13 9:41</td>\n",
       "      <td>3-High</td>\n",
       "      <td>NaN</td>\n",
       "      <td>Y</td>\n",
       "      <td>Tamara Osifchin &lt;018494&gt;, 6/27/2013: Per Laure...</td>\n",
       "      <td>CMSI</td>\n",
       "      <td>Code defect</td>\n",
       "      <td>Tamara Osifchin &lt;018494&gt;, 6/27/2013: Per Laure...</td>\n",
       "    </tr>\n",
       "  </tbody>\n",
       "</table>\n",
       "</div>"
      ],
      "text/plain": [
       "     Defect_ID Vendor_Defect_ID  \\\n",
       "155          2               27   \n",
       "231          8               34   \n",
       "291         11               40   \n",
       "\n",
       "                                               Summary  \\\n",
       "155  auto decline does not populate decline reasons...   \n",
       "231               rates should be coded per model year   \n",
       "291              Remove tolerance rules rows 13 and 14   \n",
       "\n",
       "                                           Description  Status  Severity  \\\n",
       "155  Application 9893 - no reasons printedon the ad...  Closed  2-Medium   \n",
       "231  Rates should be coded per model yeareven thoug...  Closed  2-Medium   \n",
       "291  Per discussion at 6/5 tolerance rulesmeeting, ...  Closed  2-Medium   \n",
       "\n",
       "    Detected_on_Date Unnamed:_7  Defect_Age(#_of_buisness_days_open)  \\\n",
       "155          5/31/13        NaN                                  NaN   \n",
       "231           6/4/13        NaN                                  NaN   \n",
       "291           6/5/13        NaN                                  NaN   \n",
       "\n",
       "     Detected_By  Assigned_To  Actual_Fix_Time Estimated_Fix_Date  \\\n",
       "155        18494        15306               27                NaN   \n",
       "231        18494         5778               34                NaN   \n",
       "291        18494        11798               40                NaN   \n",
       "\n",
       "          Modified Priority  Project Reproducible  \\\n",
       "155  9/13/13 17:04   3-High      NaN            Y   \n",
       "231  7/26/13 13:38      NaN      NaN            Y   \n",
       "291    8/8/13 9:41   3-High      NaN            Y   \n",
       "\n",
       "                                         Comments_orig Vendor_Name  \\\n",
       "155  Tamara Osifchin <018494>, 6/27/2013: Per Laure...        CMSI   \n",
       "231  Tamara Osifchin <018494>, 6/27/2013: Fix is in...        CMSI   \n",
       "291  Tamara Osifchin <018494>, 6/27/2013: Per Laure...        CMSI   \n",
       "\n",
       "            Root_Cause                                           Comments  \n",
       "155  Requirement issue  Tamara Osifchin <018494>, 6/27/2013: Per Laure...  \n",
       "231        Code defect  Tamara Osifchin <018494>, 6/27/2013: Fix is in...  \n",
       "291        Code defect  Tamara Osifchin <018494>, 6/27/2013: Per Laure...  "
      ]
     },
     "execution_count": 21,
     "metadata": {},
     "output_type": "execute_result"
    }
   ],
   "source": [
    "raw_data.sort('Defect_ID',inplace=True)\n",
    "raw_data.iloc[:,:6].head(3)\n",
    "raw_data.head(3)"
   ]
  },
  {
   "cell_type": "code",
   "execution_count": 22,
   "metadata": {
    "collapsed": false
   },
   "outputs": [
    {
     "data": {
      "text/html": [
       "<div>\n",
       "<table border=\"1\" class=\"dataframe\">\n",
       "  <thead>\n",
       "    <tr style=\"text-align: right;\">\n",
       "      <th></th>\n",
       "      <th>Defect_ID</th>\n",
       "      <th>Vendor_Defect_ID</th>\n",
       "      <th>Summary</th>\n",
       "      <th>Description</th>\n",
       "      <th>Status</th>\n",
       "    </tr>\n",
       "  </thead>\n",
       "  <tbody>\n",
       "    <tr>\n",
       "      <th>0</th>\n",
       "      <td>2</td>\n",
       "      <td>27</td>\n",
       "      <td>auto decline does not populate decline reasons...</td>\n",
       "      <td>Application 9893 - no reasons printedon the ad...</td>\n",
       "      <td>Closed</td>\n",
       "    </tr>\n",
       "    <tr>\n",
       "      <th>1</th>\n",
       "      <td>8</td>\n",
       "      <td>34</td>\n",
       "      <td>rates should be coded per model year</td>\n",
       "      <td>Rates should be coded per model yeareven thoug...</td>\n",
       "      <td>Closed</td>\n",
       "    </tr>\n",
       "    <tr>\n",
       "      <th>2</th>\n",
       "      <td>11</td>\n",
       "      <td>40</td>\n",
       "      <td>Remove tolerance rules rows 13 and 14</td>\n",
       "      <td>Per discussion at 6/5 tolerance rulesmeeting, ...</td>\n",
       "      <td>Closed</td>\n",
       "    </tr>\n",
       "  </tbody>\n",
       "</table>\n",
       "</div>"
      ],
      "text/plain": [
       "   Defect_ID Vendor_Defect_ID  \\\n",
       "0          2               27   \n",
       "1          8               34   \n",
       "2         11               40   \n",
       "\n",
       "                                             Summary  \\\n",
       "0  auto decline does not populate decline reasons...   \n",
       "1               rates should be coded per model year   \n",
       "2              Remove tolerance rules rows 13 and 14   \n",
       "\n",
       "                                         Description  Status  \n",
       "0  Application 9893 - no reasons printedon the ad...  Closed  \n",
       "1  Rates should be coded per model yeareven thoug...  Closed  \n",
       "2  Per discussion at 6/5 tolerance rulesmeeting, ...  Closed  "
      ]
     },
     "execution_count": 22,
     "metadata": {},
     "output_type": "execute_result"
    }
   ],
   "source": [
    "raw_data.reset_index(drop=True, inplace=True)\n",
    "raw_data.iloc[:3,:5]"
   ]
  },
  {
   "cell_type": "code",
   "execution_count": 23,
   "metadata": {
    "collapsed": false
   },
   "outputs": [
    {
     "data": {
      "text/plain": [
       "Code defect          211\n",
       "Requirement issue     29\n",
       "Tester error          29\n",
       "Not reproducible      23\n",
       "Duplicate              8\n",
       "dtype: int64"
      ]
     },
     "execution_count": 23,
     "metadata": {},
     "output_type": "execute_result"
    }
   ],
   "source": [
    "raw_data.Root_Cause.value_counts()"
   ]
  },
  {
   "cell_type": "code",
   "execution_count": 24,
   "metadata": {
    "collapsed": false
   },
   "outputs": [
    {
     "data": {
      "text/plain": [
       "0.7033333333333334"
      ]
     },
     "execution_count": 24,
     "metadata": {},
     "output_type": "execute_result"
    }
   ],
   "source": [
    "#null accuracy rate?  whatever this is called -- it is the rate to beat\n",
    "raw_data.Root_Cause.value_counts().max()/float(len(raw_data.Root_Cause))"
   ]
  },
  {
   "cell_type": "code",
   "execution_count": 25,
   "metadata": {
    "collapsed": true
   },
   "outputs": [],
   "source": [
    "defects = defaultdict(list)"
   ]
  },
  {
   "cell_type": "code",
   "execution_count": 99,
   "metadata": {
    "collapsed": false
   },
   "outputs": [
    {
     "data": {
      "text/plain": [
       "Index([u'Defect_ID', u'Vendor_Defect_ID', u'Summary', u'Description',\n",
       "       u'Status', u'Severity', u'Detected_on_Date', u'Unnamed:_7',\n",
       "       u'Defect_Age(#_of_buisness_days_open)', u'Detected_By', u'Assigned_To',\n",
       "       u'Actual_Fix_Time', u'Estimated_Fix_Date', u'Modified', u'Priority',\n",
       "       u'Project', u'Reproducible', u'Comments', u'Vendor_Name',\n",
       "       u'Root_Cause'],\n",
       "      dtype='object')"
      ]
     },
     "execution_count": 99,
     "metadata": {},
     "output_type": "execute_result"
    }
   ],
   "source": [
    "raw_data.columns"
   ]
  },
  {
   "cell_type": "code",
   "execution_count": 26,
   "metadata": {
    "collapsed": false
   },
   "outputs": [],
   "source": [
    "for i in range(len(raw_data.Comments)):\n",
    "    defects[raw_data.Defect_ID.iloc[i]].append(raw_data.Comments.iloc[i])"
   ]
  },
  {
   "cell_type": "code",
   "execution_count": 28,
   "metadata": {
    "collapsed": false
   },
   "outputs": [
    {
     "data": {
      "text/plain": [
       "str"
      ]
     },
     "execution_count": 28,
     "metadata": {},
     "output_type": "execute_result"
    }
   ],
   "source": [
    "type(raw_data.Root_Cause.iloc[1])"
   ]
  },
  {
   "cell_type": "code",
   "execution_count": 31,
   "metadata": {
    "collapsed": false
   },
   "outputs": [
    {
     "name": "stdout",
     "output_type": "stream",
     "text": [
      "def:  2 comment:  [u'Tamara Osifchin <018494>, 6/27/2013: Per Lauren FNFG needs to provide requirements.  Compliance needs to look at the mapping. Will probably want to populate a reason for auto declines.\\r\\r________________________________________\\rTamara Osifchin <018494>, 6/27/2013: assigned to Lisa K but Dave C is the real assignee\\r\\r________________________________________\\rTamara Osifchin <018494>, 7/18/2013: Lauren is waiting on FNFG approval of the decline reasons mapping\\r\\r________________________________________\\rTamara Osifchin <018494>, 9/12/2013: Assigning to Sam to verify that some decline reasons are displayed  on adverse action letter  on system decline now.  Will create a new question/change request for the decline reasons mapping.\\r\\r________________________________________\\rSalvatore Mule <015306>, 9/13/2013: Closed defect: application #50000530 and adverse action reasons appear on auto declines.'] \n",
      "\n",
      "def:  8 comment:  [u'Tamara Osifchin <018494>, 6/27/2013: Fix is in TB ready for test.\\r\\r________________________________________\\rTamara Osifchin <018494>, 6/27/2013: Assigning to Dave to verify.\\r\\r________________________________________\\rTamara Osifchin <018494>, 7/26/2013: Closing based on Dave P 7/22 comment: DP: Verified under Pricing >PriceCharts> PRBuyIAUTO_\"State Abbreviation\" also said that each state is broken out by year.'] \n",
      "\n",
      "def:  11 comment:  [u'Tamara Osifchin <018494>, 6/27/2013: Per Lauren still in testing on CMSI side.\\r\\r________________________________________\\rTamara Osifchin <018494>, 7/12/2013: Per Lauren this is fixed.\\r  \\r\\r________________________________________\\rMary Lichtenberger <011798>, 8/8/2013:  Have verified that these rules are no longer showing in Originate on APP 50000142 entered on8/7/2013.  Closing defect.'] \n",
      "\n",
      "def:  51 comment:  [u'Tamara Osifchin <018494>, 8/6/2013: assigning to Lauren to add rule #4 about collateral info needs to match app? into TB.  We need an issue number from Lauren. \\r\\r________________________________________\\rTamara Osifchin <018494>, 8/23/2013: this is fixed by CMSI assigning back to originator for retest\\r\\r________________________________________\\rTom Sokolski <015424>, 9/17/2013: Contract Collateral does not match Approved Collateral is showing on app 50000572   closing defect'] \n",
      "\n",
      "def:  52 comment:  [u\"Tamara Osifchin <018494>, 8/6/2013: CMSI issue 103, covers apps 134 and 135 too.  Both of those were locked too.  Per Lauren there has been one other app that was created today that is not currently locked. app 136\\r\\r________________________________________\\rTamara Osifchin <018494>, 9/24/2013: Changed est fix date to 12/25to indicate this is in the 'Monitoring' bucket.  Also assigned to CMSI, like the others in the Monitoring bucket.\\r\\r________________________________________\\rTamara Osifchin <018494>, 10/7/2013: Jeddalyn 10/4 follow up: Reprocessed application 50000132 without any issues. It looks like these apps are submitted early in the morning DealerTrack usually has downtime early in the morning and probably fell around that timeframe (downtime can be between M-Thur 5PM to 9AM next day)\\r  \\r\\r________________________________________\\rTom Sokolski <015424>, 10/15/2013: closed has not happened again.\"] \n",
      "\n",
      "def:  53 comment:  [u\"Tamara Osifchin <018494>, 8/6/2013: CMSI issue 104. Assigning to Lauren.  Fix is in QS.\\r\\r________________________________________\\rTamara Osifchin <018494>, 8/23/2013: this is fixed by CMSI assigning back to originator for retest\\r\\r________________________________________\\rTamara Osifchin <018494>, 8/27/2013: Mistakenly set to fixed. 104b is fixed, 104 is open as of 8/22 issue report. \\r\\r________________________________________\\rTamara Osifchin <018494>, 9/18/2013: CMSI will look into\\r\\r________________________________________\\rTamara Osifchin <018494>, 9/20/2013: assigned  back to CMSI\\r\\r________________________________________\\rTom Sokolski <015424>, 9/23/2013: i submitted another app 50000694.  The VSI and GAP are now both being taken from the proceeds but are not showing in the total deductions box.  I would think it would show there.\\r\\r________________________________________\\rTom Sokolski <015424>, 9/26/2013: per jeddalyn It looks like thatpart is not controlled by configuration. If you manually enter inDiscount/Assignment Fee/Misc Deductions then it will automatically update the Total Deductions field but it doesn't look like buydowns are a part of this calculation.     It is taking the fees off correctly so i am closing.\"] \n",
      "\n",
      "def:  55 comment:  [u'Tamara Osifchin <018494>, 8/13/2013: eta is for update not fix\\r\\r________________________________________\\rTamara Osifchin <018494>, 8/13/2013: Mary will attach the latest mail chain.\\r\\r________________________________________\\rTamara Osifchin <018494>, 8/13/2013: Rules are being run but user can not see them.\\r\\r\\r________________________________________\\rMary Lichtenberger <011798>, 8/13/2013:  I have attached the email from Tom.  \\r  \\r\\r________________________________________\\rMary Lichtenberger <011798>, 8/22/2013:   I have ran into this problem on a recent application. Please see the attached e-mail.  \\r\\r________________________________________\\rTamara Osifchin <018494>, 9/12/2013: moved sev to very high to indicate this is blocking testing\\r\\r________________________________________\\rMary Lichtenberger <011798>, 9/13/2013:  This has also happened on APP 50000517.  This application was submitted approved, logged and worked on 09/12/2013.  I have completed the screens for Contract Info, Dealer Reserve and Funding (as seen in the screen shot of the Contract Overview). Tolerance Rules show for Funding (no rules triggered but they show) and Dealer Reserve (triggered rules and they show)\\r\\r________________________________________\\rTamara Osifchin <018494>, 9/16/2013: Moved to fixed bcs this is RforCT in 9/16 issue list\\r\\r________________________________________\\rTamara Osifchin <018494>, 9/18/2013: Per Tom 9/18 mail: I did try yesterday and I could not get it to show only one but after talking to mary she thinks its only when you non trigger. I will test this today. \\rWill retest when no rules trigger and verify that all rules are displayed.\\r\\r________________________________________\\rTom Sokolski <015424>, 9/18/2013: from defect 22 I put through 3 loans all with different VINs, make and models and the tolerance rule collateral info on contract does not match the VIN decoding info triggered on every loan.  500000506,50000507,50000508.  Lauren had said this only triggers on .02% of applications.        \\r\\r________________________________________\\rTom Sokolski <015424>, 9/19/2013: app 50000615 had no rule failures and showed all rules.  closing the defect.'] \n",
      "\n",
      "def:  56 comment:  [u'Tamara Osifchin <018494>, 8/13/2013: Lauren to send issue number for this.\\r\\r________________________________________\\rBradley Goldowsky <015304>, 8/20/2013: Email response from Lauren regarding problem issue:   Tamara,\\r\\r\\rIm not certain whooriginally reported the \"When sortingdeals bygrade in \"My Deals\" queue, CMSI is placing \"A\" before \"A+\")\" issue(ALM #56 / UAT #131), so I am sending the response to you. \\r\\r\\rThis is the way that Origenate coding is interpreting the grades,possibly based upon binary values. A comes before A+ then A -,etc. One way to circumvent this is to changes the grades. If, for example, the A grades were A1 (for A+), A2 (for A), and A3 (forA-) then these would sort the way that FNFG intends. Else,development can look for a coding solution to this issue. This would require a change request/task order if a coding change isnecessary.\\r\\r\\rPlease let me know If you have any questions.\\r\\r\\rLauren Arnold\\rApplication Analyst\\r(P): 410-953-8443\\rlaurena@cmsinc.com\\r  \\r\\r________________________________________\\rTamara Osifchin <018494>, 9/19/2013: assigning back to Brad to decide what FNFG wants to do about grades\\r\\r________________________________________\\rBradley Goldowsky <015304>, 9/19/2013: Added to Credit Issues list to discuss\\r\\r________________________________________\\rTamara Osifchin <018494>, 9/30/2013: assigned to Gary so that Ican start filtering these out of the actual defect list when needed\\r\\r________________________________________\\rBradley Goldowsky <015304>, 10/7/2013: Credit discussed this defect and will accept the system \"as is\" with the order incorrect.Closing defect.'] \n",
      "\n",
      "def:  58 comment:  [u'Tamara Osifchin <018494>, 8/13/2013: Lauren will research. ETA is for update not fix.\\r\\r________________________________________\\rTamara Osifchin <018494>, 9/18/2013: 9/18 update is that TB system date can not be changed.\\r\\r________________________________________\\rTamara Osifchin <018494>, 9/30/2013: Changed the estimated fixdate to 12/25/2013 to indicate that this will not be fixed\\r\\r________________________________________\\rTamara Osifchin <018494>, 9/30/2013: Per Dave C we can closethis.  He is ok with the fact that the test system will be on Mountain Time.  Apparently our disaster recovery system will also be in Denver but that is not a big concern at this point.  Reassigning to David P to close.\\r\\r________________________________________\\rDavid Pepe <005778>, 10/3/2013: This is because we are in a test enviornment.  Dave Cushing of Indirect accepts this and stated it can be closed'] \n",
      "\n",
      "def:  59 comment:  [u'Tamara Osifchin <018494>, 8/13/2013: Assigning to Brad to talk to David P about Pierre\\'s mail.  ETA is for update from David Pepe who is on vacation.\\r\\r________________________________________\\rTamara Osifchin <018494>, 8/13/2013: Lauren will create a CMSI issue.\\r\\r________________________________________\\rTamara Osifchin <018494>, 8/15/2013: Added CMSI issue 113 based on Lauren\\'s issue spreadsheet.\\r\\r________________________________________\\rBradley Goldowsky <015304>, 8/28/2013: Sent email to Dave P to see if there is an update. \\r\\r________________________________________\\rBradley Goldowsky <015304>, 8/29/2013: Sent email to Lauren today for update and asked for screenprint of matrix to spot check corrections and settings of the rules. \\r\\r________________________________________\\rBradley Goldowsky <015304>, 8/30/2013: Lauren acknowledged email and will email screenprints once she receives them from her TA. \\r\\r________________________________________\\rBradley Goldowsky <015304>, 9/4/2013: Still awaiting confirmation and screenprints from Lauren that this has been corrected. \\r\\r________________________________________\\rBradley Goldowsky <015304>, 9/6/2013: Dave Pepe is reviewing all; decision rules. Assigning this defect to Dave while I am on vacation 9/9-9/13. Emailed Dave I reassigned defect to him. \\r\\r________________________________________\\rBradley Goldowsky <015304>, 9/6/2013: Updated severity to \"Very High\" because the accuracy of the Decision Rules are affecting other testing. \\r\\r________________________________________\\rTamara Osifchin <018494>, 9/25/2013: Jeddalyn still testing in QS.  Having trouble finding bureaus to test with for the very specific conditions. Jeddalyn will port some of these changes tomorrow 9/26.\\r\\r________________________________________\\rBradley Goldowsky <015304>, 9/27/2013: Reviewed w/ DavePepe and Pierre at CMSI. All Decision Rules should have been corrected but miscommunication about term decision rules. The term decision rules should be corrected by Tuesday. \\r\\r________________________________________\\rBooker Vann <017804>, 10/1/2013: Set to fixed - 9/26: Rules that were currently not in place have been added to the rules. Parameters have also been modified according to the spreadsheet\\r10/1: Term rule is modified according to the spreadsheet\\r\\r________________________________________\\rBradley Goldowsky <015304>, 10/1/2013: Term decision rulesare still not working properly. Changed status to reopen.\\r\\r________________________________________\\rTamara Osifchin <018494>, 10/1/2013: Brad used app 864 866 and 868\\r\\r________________________________________\\rTamara Osifchin <018494>, 10/3/2013: Assigned back to CMSI\\r\\r________________________________________\\rTamara Osifchin <018494>, 10/3/2013: updated eta to 10/7 based on David P/Pierre meeting this morning.\\r\\r_\\r\\r________________________________________\\rBooker Vann <017804>, 10/8/2013: Set to fixed - 9/26: Rules that were currently not in place have been added to the rules.Parameters have also been modified according to the spreadsheet\\r10/1: Term rule is modified according to the spreadsheet\\r10/8: rules modified based on conversation between Pierre andDave P\\r\\r________________________________________\\rBradley Goldowsky <015304>, 10/8/2013: Closing defect. Rules have been updated and new defects are being logged for specific rule failures.'] \n",
      "\n",
      "def:  60 comment:  [u\"Tamara Osifchin <018494>, 8/13/2013: Mary will break this into 3defects.  \\r\\r________________________________________\\rTamara Osifchin <018494>, 8/13/2013: Lauren will create the issue numbers.\\r\\r________________________________________\\rMary Lichtenberger <011798>, 8/13/2013:  Updated to only issue with CASH PRICE does not equal Calculated Cash Price. \\r\\r________________________________________\\rTamara Osifchin <018494>, 8/14/2013: updated with CMSI issue number 116 per Lauren 8/14 mail\\r\\r________________________________________\\rTamara Osifchin <018494>, 9/19/2013: I'll attach 9/19 Lauren mail.  Assigning to Mary to respond.\\r\\r________________________________________\\rTamara Osifchin <018494>, 9/30/2013: attached Lauren's 9/19mail.\\r\\r________________________________________\\rTamara Osifchin <018494>, 9/30/2013: attached Mary's response saying this rule should be removed\\r\\r________________________________________\\rTom Sokolski <015424>, 10/1/2013: closed per mary\"] \n",
      "\n",
      "def:  61 comment:  [u'Tamara Osifchin <018494>, 8/15/2013: ETA is the latest date for the meeting about Dealer Reserve that  Lauren will schedule for early next week. \\r\\r________________________________________\\rTamara Osifchin <018494>, 9/18/2013: Per Lauren 9/18 mail: The Dealer Plan ID does not match Dealer Default rule looks at the Adjusted Dealer Plan field on the Dealer Reserve screen. Due to the changes requiring this field to be unavailable (greyed out) the rule is not finding a Dealer Plan ID. These rules are not configurable, and therefore this rule will not be useful with the current configuration.  The rule is triggering because it is checking for a blank value in the greyed out field.  \\r  \\r\\r________________________________________\\rTamara Osifchin <018494>, 9/18/2013: Per Tom and Linda fix should be to remove this rule.\\r\\r________________________________________\\rTom Sokolski <015424>, 10/2/2013: rule is removed'] \n",
      "\n",
      "def:  62 comment:  [u\"Tamara Osifchin <018494>, 8/15/2013: this is a change request CMSI number 108 pending port to TB this pm.  Minor change so did not require a task order.\\r\\r________________________________________\\rTamara Osifchin <018494>, 8/23/2013: this is fixed by CMSI assigning back to originator for retest\\r\\r________________________________________\\rMary Lichtenberger <011798>, 8/27/2013:  I have tested that I am unable to waive the funding screen on APP 50000258, but I am still able to waive the Employment Verification Screen.  \\r\\r________________________________________\\rMary Lichtenberger <011798>, 8/27/2013: Assigning to Lauren to correct Employment Verification screen.  \\r\\r________________________________________\\rTamara Osifchin <018494>, 9/18/2013: Lauren will try to fix today.\\r\\r________________________________________\\rTamara Osifchin <018494>, 9/18/2013: Per Lauren this is fixed and ready for retest.  No fix performed but Lauren retested in TB just now and it worked correctly.\\r\\r________________________________________\\rMary Lichtenberger <011798>, 9/18/2013: The waive option was removed from the employment verification screen on app 50000597 (Entered 9/18/13).  Ok to close\\r\\r________________________________________\\rTamara Osifchin <018494>, 9/18/2013: Lauren changed the permissions back in early August but we don't know why that app 258 was able to be waived in the time since the permissions were fixed.\"] \n",
      "\n",
      "def:  63 comment:  [u'Tamara Osifchin <018494>, 8/15/2013: Lauren will schedule a meeting with the TA will contact Gary to set up meeting. \\r\\r________________________________________\\rTamara Osifchin <018494>, 9/19/2013: CMSI made a partial fix on 9/18.  New eta is for an update.\\r\\r________________________________________\\rBooker Vann <017804>, 9/24/2013: Set to fixed - Dealer Reserve calculation \\r\\r________________________________________\\rMary Lichtenberger <011798>, 9/24/2013: Tested on APP 50000705. Reserve is calculating correctly(Reserve is not paying out the higher of, but there is a different defect open for this).  Ok toclose.'] \n",
      "\n",
      "def:  64 comment:  [u'Tamara Osifchin <018494>, 8/15/2013: ETA is for a fix.  Medium priority bcs there is a workaround.\\r\\r________________________________________\\rTamara Osifchin <018494>, 9/11/2013: Moving to fixed and assigning back to Brad to retest because this is Closed in the 9/11 CMSI issue list and has this comment from 8/16:\"Cash down was a required field in the TB environment, not in QS. TB has been updated to match QS.\"\\r\\r________________________________________\\rBradley Goldowsky <015304>, 9/17/2013: Retested and closing defect. Issue fixed.'] \n",
      "\n",
      "def:  67 comment:  [u'Tamara Osifchin <018494>, 8/15/2013:There was a bureau pulled for the same applicant on a different app number. Tom will update.  Medium priority because it sounds like you can try to pull again and it will be successful.  ETA is for an update.\\r\\r________________________________________\\rTom Sokolski <015424>, 8/27/2013: per lauren email The reason that this app(50000161) is not showing a bureau is because the BOR (bureau of record) is TRU.On app 50000113, the BOR is XPN. If XPN is called on app 50000161, a score should be returned for the applicant.\\r  \\r\\r________________________________________\\rTamara Osifchin <018494>, 9/19/2013: Tom retested with a Maine address and it pulled an Experian bureau so we think this can close.\\r\\r________________________________________\\rTom Sokolski <015424>, 9/20/2013: closing defect'] \n",
      "\n",
      "def:  68 comment:  [u\"________________________________________\\rBradley Goldowsky <015304>, 8/12/2013: After force closing Internet Explorer, I went back into application and was able to approve deal. \\r\\r________________________________________\\rTamara Osifchin <018494>, 8/15/2013: ETA is for an update. Medium priority bcs workaround is to close IE and reopen.\\r\\r________________________________________\\rTamara Osifchin <018494>, 9/19/2013: Moved to low severity and reproducible = N so this is in the 'happened once' bucket\\r\\r________________________________________\\rTamara Osifchin <018494>, 10/7/2013: Similar error occurred on 9/16 when declining a different app.  defect 154\\r\\r________________________________________\\rBradley Goldowsky <015304>, 10/8/2013: Reopened defect as same error occurred again today. App# 50001083. Re-opened defect and placed as very high severity.  \\r\\r________________________________________\\rTamara Osifchin <018494>, 10/8/2013: Evaluate hangs and Brad has to kill IE to move on.  \\r\\r________________________________________\\rTamara Osifchin <018494>, 10/8/2013: Brad sending this defect to Jeddalyn.  10/9 for update.\\r\\r________________________________________\\rTamara Osifchin <018494>, 10/9/2013: Jeddalyn did not find any entries in the logs.\\r\\r________________________________________\\rMary Lichtenberger <011798>, 10/18/2013: Keeping open for monitoring.  Unable to replicate. \\r\\r________________________________________\\rTamara Osifchin <018494>, 10/24/2013: Changed severity to High since we haven't seen this in a couple weeks.\\r\\r________________________________________\\rTamara Osifchin <018494>, 11/12/2013: moved to Closed bcs we haven't seen this since 10/8\"] \n",
      "\n",
      "def:  69 comment:  [u'Tamara Osifchin <018494>, 8/20/2013: Per Lauren Tolerance Rules fix from last week corrected the issue.\\r\\r________________________________________\\rBradley Goldowsky <015304>, 8/28/2013: Rechecked and verified fix. Closed defect.'] \n",
      "\n",
      "def:  70 comment:  [u\"Tamara Osifchin <018494>, 8/20/2013: In TB but in CMSI testing\\r\\r________________________________________\\rTamara Osifchin <018494>, 9/19/2013: was fixed a few weeks ago.  CMSI changed the LTV formula.  Moved to fixed and assigned to Brad for testing.\\r\\r________________________________________\\rBradley Goldowsky <015304>, 9/20/2013: With doc fees considered back end, the LTV calculation is now working correctly but currenty procedure has doc fees as front end. This needs to be reopened as defect if doc fees stay as front-end. There is a chance where doc fees policy will change to be considered backend. In the case doc fees will be considered back end, LTV calculations are working correctly. Will leave in fixed status for now and will add to credit issues list. \\r\\r________________________________________\\rBradley Goldowsky <015304>, 10/2/2013: It has been determined that doc fees will be considered front end. Based on doc fees front end, I am reopening this defect as the current LTV calculation is not including doc fees. \\r\\r________________________________________\\rTamara Osifchin <018494>, 10/2/2013: eta is for info\\r\\r________________________________________\\rBooker Vann <017804>, 10/7/2013: Set to fixed - added doc fee in the LTV calculation logic (selling price + doc fee - down pmt) /collat value\\r\\r________________________________________\\rBradley Goldowsky <015304>, 10/8/2013: Retested and failed.App# 50001100. LTV should be 76.745% but application is showing 73.09%. Not sure where Origenate is getting its number from. Changed to high severity. \\r\\r________________________________________\\rTamara Osifchin <018494>, 10/8/2013: new fix date 10/14\\r\\r________________________________________\\rMary Lichtenberger <011798>, 10/18/2013: We gave CMSI an updated formula for LTV on the underwriting side.  Once updated and sent to TB we can re-test\\r\\r________________________________________\\rTamara Osifchin <018494>, 10/23/2013: fix is to make calculation: (selling price + doc fee - total down) / collat value\\r\\r________________________________________\\rTamara Osifchin <018494>, 10/24/2013: CMSI thinks this is in TB now\\r\\r________________________________________\\rBooker Vann <017804>, 10/25/2013: Set to fixed - 10/7: added doc fee in the LTV calculation logic (selling price + doc fee - downpmt) / collat value\\r10/16: logic-- (Selling Price - Total Down + Doc Fee)/MSRP\\r\\r________________________________________\\rSalvatore Mule <015306>, 10/28/2013: Retested with RT1 app #50001465 and DT app# 50001466, my manual calcutation id65.52% and system calculation is 65.62% on both the RT1 & DTapps.  Can you supply the exact figures used. \\r\\r________________________________________\\rTamara Osifchin <018494>, 10/28/2013: won't be able to retest with doc fees from DT or RO until the doc fee change request is delivered.  Sam to test with a app entered through the Origenate UI.\\r\\r________________________________________\\rSalvatore Mule <015306>, 10/29/2013: Retested app# 50001466 and calculation is correct when entered directly in origenate.\"] \n",
      "\n",
      "def:  71 comment:  [u\"Tamara Osifchin <018494>, 8/20/2013: Per Brad this worked today but since we've seen this work and then not work a couple times we'll keep this open.\\r\\r________________________________________\\rTamara Osifchin <018494>, 9/19/2013: eta is for discussion at daily defect meeting\\r\\r________________________________________\\rTamara Osifchin <018494>, 9/19/2013: Brad will keep an eye on this and give an update on Monday 9/23. assigned back to Brad.\\r\\r________________________________________\\rBradley Goldowsky <015304>, 9/20/2013: Added to credit issues list for discussion\\r\\r________________________________________\\rTamara Osifchin <018494>, 10/1/2013: Brad will close because this problem hasn't occurred in a while.\\r\\r________________________________________\\rBradley Goldowsky <015304>, 10/4/2013: Closed defect. Have not seen this error in long time.\"] \n",
      "\n",
      "def:  72 comment:  [u'Tamara Osifchin <018494>, 8/20/2013: Per Lauren CMSI is asking whether expert rules without override should be considered a review rule instead of a policy rule?  The rule in question is actually the PO Box rule, which never required an override.\\r\\r________________________________________\\rTamara Osifchin <018494>, 10/4/2013: Brad is waiting on a response from Lauren.  Lauren was going to discuss with the TA. TA suggested a PENASCR and a PENDSCR. something like that.  \\r\\r________________________________________\\rTamara Osifchin <018494>, 10/8/2013: new eta for Rich meeting10/10\\r\\r________________________________________\\rTom Sokolski <015424>, 10/16/2013: sam will restest. appearsto be working.  highside reasons are under lowside reasons in popup.\\r\\r________________________________________\\rBooker Vann <017804>, 10/18/2013: Set to fixed - 10/18: tester did not see the HS list is at the bottom of the comments list\\r\\r________________________________________\\rSalvatore Mule <015306>, 10/21/2013: Closed defect; lowsideand highside override reasons are on the same Override ReasonList screen.'] \n",
      "\n",
      "def:  73 comment:  [u'Tamara Osifchin <018494>, 8/14/2013: updated with CMSI number 117 per Lauren 8/14 mail\\r\\r________________________________________\\rTamara Osifchin <018494>, 8/20/2013: ready for port to TB\\r\\r________________________________________\\rBooker Vann <017804>, 9/19/2013: stet to fixed status - contract itemization fix\\r  \\r\\r________________________________________\\rMary Lichtenberger <011798>, 9/20/2013: Tested the Inventory tax field on app 50000667.  This worked properly.  Ok to close.'] \n",
      "\n",
      "def:  74 comment:  [u'Tamara Osifchin <018494>, 8/14/2013: updated with CMSI issue per Lauren 8/14 mail\\r\\r________________________________________\\rTamara Osifchin <018494>, 8/20/2013: ready for TB \\r\\r________________________________________\\rBooker Vann <017804>, 9/19/2013: set to fixed status contract itemization fix\\r  \\r\\r________________________________________\\rMary Lichtenberger <011798>, 9/20/2013: Tested this on APP 50000667. Worked properly.  Ok to close'] \n",
      "\n",
      "def:  75 comment:  [u\"Tamara Osifchin <018494>, 8/20/2013: CMSI is unable to replicate; monitoring\\r\\r________________________________________\\rTamara Osifchin <018494>, 8/20/2013: Mary will try to open app 152 to determine defect priority \\r\\r________________________________________\\rMary Lichtenberger <011798>, 8/21/2013: I was able to re-access the application the error happened on APP ID 50000152.  I was able to edit the application entry and readjust the collateral without running into this problem again. I had then approved the loan without problem.  \\r  \\r\\r________________________________________\\rTamara Osifchin <018494>, 9/24/2013: Changed the est fix date to 12/25 to indicate this is in the 'Monitoring' bucket\\r\\r________________________________________\\rMary Lichtenberger <011798>, 10/15/2013: Closing have not seen this happen recently.\"] \n",
      "\n",
      "def:  76 comment:  [u'Tamara Osifchin <018494>, 8/20/2013: Lauren will create a new issue for this one.  The request is to treat 0 scores and no hits the same as scores <620 wrt override reasons.\\r\\r________________________________________\\rTamara Osifchin <018494>, 10/4/2013: Corrected the CMSI issue number from 136 to 285\\r\\r________________________________________\\rTom Sokolski <015424>, 10/16/2013: cmsi will have this updated by friday \\r\\r________________________________________\\rBooker Vann <017804>, 10/28/2013: Set up fixed - 10/28:changed logic so that a bureau ERROR does not result in a sysdecline for BOR\\r\\r________________________________________\\rSalvatore Mule <015306>, 10/29/2013: Closed defect, retested app# 50001481 and lowside override is available.'] \n",
      "\n",
      "def:  77 comment:  [u\"Tamara Osifchin <018494>, 8/20/2013: per Lauren this might bepart of the Dealer Reserve conversation.  Might require functionality that isn't in the system at this point.  Contract screen does not reference the buy rate table.  Buy rate table is only referenced pre-approval.  If that is the case how does tolerance rule #3 work which says contact buy rate <> approved buy rate. Lauren will look into that question.\\r\\r________________________________________\\rTamara Osifchin <018494>, 9/19/2013: Lauren is deferring to Rich because per Rich, buy rate can be re-calculated based on changed contract terms. eta is for additional info from Rich.\\r\\r________________________________________\\rBooker Vann <017804>, 10/1/2013: Set to fixed - Set so buy rate is updated based on information entered in the contract info screen\\r\\r________________________________________\\rTom Sokolski <015424>, 10/4/2013: tested on app 50000989 diduse a contract apr when changing term..closing marys defect\"] \n",
      "\n",
      "def:  78 comment:  [u'Tamara Osifchin <018494>, 8/20/2013: Probably the same issue as defect 77 but will keep it separate for now.  Lauren to investigate tolerance rule #3.\\r\\r________________________________________\\rTamara Osifchin <018494>, 9/19/2013: Lauren is deferring this one to Rich, same as defect 77. eta is for more information from Rich.\\r\\r________________________________________\\rBooker Vann <017804>, 10/1/2013: Set to fixed - Set so buy rate is updated based on information entered in the contract info screen\\r\\r________________________________________\\rTom Sokolski <015424>, 10/7/2013: closed this is working correctly.'] \n",
      "\n",
      "def:  79 comment:  [u'Tamara Osifchin <018494>, 8/20/2013: part of the dealer reserve conversation.  \\r\\r________________________________________\\rTamara Osifchin <018494>, 8/23/2013: this is fixed by CMSI assigning back to originator for retest\\r\\r________________________________________\\rTom Sokolski <015424>, 9/18/2013: The dealer reserve that was incorrect on the last tests that mary did on 8/21 only had errors when the reserve was supposed to pay a regular flat (.0markup, .01, .74)  I ran app 50000606 at 0 markup and the reserve was correct but at .01 it only pays a reserve of $1.66.  markup of.74 is paying a reserve of 123.14 and should be $150.\\r\\r________________________________________\\rTamara Osifchin <018494>, 9/19/2013: assigned back to CMSI. eta is for an update\\r\\r________________________________________\\rTamara Osifchin <018494>, 9/19/2013: changed to Reopen because retest failed\\r\\r________________________________________\\rTamara Osifchin <018494>, 9/25/2013: Jeddalyn has someone looking into this.  Update due 9/26\\r\\r________________________________________\\rBooker Vann <017804>, 9/27/2013: Set to fixed - Updated DealerReserve config.\\r  \\r\\r________________________________________\\rTom Sokolski <015424>, 10/1/2013: .01 and .74 markup is now paying the higher of the flat and ratio method. app 50000851'] \n",
      "\n",
      "def:  80 comment:  [u'Tamara Osifchin <018494>, 8/20/2013: Mary will send Lauren an updated list of checklist items.\\r\\r________________________________________\\rMary Lichtenberger <011798>, 8/21/2013: I have sent Lauren an updated list today 08/21/2013\\r\\r________________________________________\\rTamara Osifchin <018494>, 8/23/2013: this is fixed by CMSI assigning back to originator for retest\\r  \\r\\r________________________________________\\rMary Lichtenberger <011798>, 8/27/2013:   Have verified on APP 50000258 that the checklist is now correct.'] \n",
      "\n",
      "def:  82 comment:  [u'Tamara Osifchin <018494>, 8/20/2013: Appears that QS and TB got out of sync.  We are not sure when this happened.  Per Lauren were in sync when the rules were last ported.\\r\\r________________________________________\\rMary Lichtenberger <011798>, 8/21/2013:  Closing Lauren had corrected this.'] \n",
      "\n",
      "def:  83 comment:  [u'Tamara Osifchin <018494>, 9/19/2013: updated to sev very high and estimated fix date of 9/23 as we did for defect 169.  Will ask Brad to close 169 as a duplicate of 83.\\r\\r________________________________________\\rTamara Osifchin <018494>, 9/25/2013: applied a patch to the new build that was supposed to fix but did not work\\r\\r________________________________________\\rBooker Vann <017804>, 9/30/2013: Set to fixed- fixed with the upgrade via a patch that updated a coldfusion file\\r\\r________________________________________\\rBradley Goldowsky <015304>, 9/30/2013: Retested and passed.Closed defect.'] \n",
      "\n",
      "def:  84 comment:  [u\"Tamara Osifchin <018494>, 8/20/2013: issue was on declined app but we don't know whether it is limited to declines\\r\\r________________________________________\\rTamara Osifchin <018494>, 9/19/2013: added 10/31 expected fix date because this is low priority\\r\\r________________________________________\\rBooker Vann <017804>, 10/15/2013: Set to fixed - 10/15: fixed by ensuring dealers are set up with fax #s\\r\\r________________________________________\\rTom Sokolski <015424>, 10/16/2013: will test with manual faxoff. mouse over will not show the error.  We will turn the manual fax function on and redecision the loan and mouse over my deals queue and not show error. then turn back off manual fax.  \\r\\r________________________________________\\rSalvatore Mule <015306>, 10/21/2013: Closed defect: error is not reoccuring.\"] \n",
      "\n",
      "def:  85 comment:  [u\"Same defect for applications submitted via Route One.\\r\\r________________________________________\\rTamara Osifchin <018494>, 8/27/2013: Per Lauren time can't be set has to do with where the server sits.  Lauren will look into trying to change it. ETA is for more info not afix.\\r\\r________________________________________\\rTamara Osifchin <018494>, 8/27/2013: \\r\\r________________________________________\\rBradley Goldowsky <015304>, 9/19/2013: This can not be corrected in the test environment based on the location of the test server. Attached email from Lauren whichstates this will be correct in the production environment. \\r\\r________________________________________\\rBradley Goldowsky <015304>, 9/19/2013: Duplicate of #58. Closing this defect.\"] \n",
      "\n",
      "def:  86 comment:  [u'Tamara Osifchin <018494>, 8/27/2013: Per Lauren problem was the database field had a 0.  Rule has been changed to treat 0 as blank.  Mary will retest.\\r\\r________________________________________\\rMary Lichtenberger <011798>, 8/27/2013:  I have verified that this rule is no longer hitting on APP 50000262.  Ok to close.'] \n",
      "\n",
      "def:  87 comment:  [u'Tamara Osifchin <018494>, 8/27/2013: Lauren will look into what is involved in setting this mouseover, both text and color.  Might want to keep it but just change the time when it pops up.\\r\\r________________________________________\\rTamara Osifchin <018494>, 9/10/2013: Updated with CMSI issue number.  Also 9/5 mail from Lauren: Thereason for this error is that the SLA option was set to Yes on the Originators, without population of a Risk Time or Failed Time. The correction would be to either enter a risk time/fail time or to change the SLA option to No.Please let me know how I should proceed. Ive included the information concerning this functionality below.\\r  \\r\\r________________________________________\\rTamara Osifchin <018494>, 9/19/2013: assigning to Brad to let us know how to proceed\\r\\r________________________________________\\rBradley Goldowsky <015304>, 9/20/2013: Closed defect. Dave P was able to configure the dealers to set the failed time for each dealer.'] \n",
      "\n",
      "def:  88 comment:  [u'Tamara Osifchin <018494>, 8/27/2013: T&L, front-end fees,A&H, credit life, GAP, service plan (warranty), and back-end fees are all being lumped together as \"other\" is something we requested to be changed.  It is fine that stock # is not coming over;  it isn\\'trequired.  Retail Value is important and needs to be fixed. ETA is for update not fix.  This is related to the LTV calculation being incorrect in that LTV should be based on Retail Value.\\r\\r________________________________________\\rBradley Goldowsky <015304>, 8/29/2013: Added screenprint of email communication regarding issue.\\r\\r________________________________________\\rBradley Goldowsky <015304>, 8/30/2013: Added linked test forDT business apps. Same isse regarding the lumping together of TTL, gap, warranty etc. \\r\\r________________________________________\\rBradley Goldowsky <015304>, 8/30/2013: \\r\\r________________________________________\\rTamara Osifchin <018494>, 9/19/2013: .  Per Lauren 8/29 mail: \\rThanks David for following up on this. The TA has also confirmed the same: the DT values come into the gateway in separate tags whereas the RT1 values are added together. RT1 would need to break apart those values in order for us to create logic that would populate separate fields in Origenate. For both RT1 and Dealertrack, custom gateway scripting (by CMSI) will be required to route these fields to new mappings.  per 9/5 David P mail: RouteOne states the revisions were made to the XML to individually break out Warranty, GAP, TTL, Doc, A&H Premium, and Credit Life. So we are at the point where we need a task order to get the custom gateway script mapping changed.  eta is to bring this up at the defect meeting today.\\r  \\r\\r________________________________________\\rTamara Osifchin <018494>, 9/19/2013: there was another defect related to LTV calculation but we think that is different.  that had to do with LTV = (amount a, not amount b)/ value y and this one has to do with what DT/RO field should be mapped to value y in Origenate.\\r\\r________________________________________\\rTamara Osifchin <018494>, 9/19/2013: assigning to Brad to track the change request\\r\\r________________________________________\\rBradley Goldowsky <015304>, 9/20/2013: Added to credit issues list for discussion\\r\\r________________________________________\\rBradley Goldowsky <015304>, 9/26/2013: Changed to Very High Severity to match same issues on Route One, other defect # 92\\r\\r________________________________________\\rTamara Osifchin <018494>, 9/26/2013: Brad will break out into separate defects.\\r\\r________________________________________\\rBradley Goldowsky <015304>, 9/26/2013: Removed breakdow not TTL, GAP ect from defect and made it\\'s own defect (#199).Keeping tjhis defect open for the mapping of retail value\\r\\r________________________________________\\rBooker Vann <017804>, 10/2/2013: Set to fixed- used--mapped to wholesale/invoice, new -- mapped to MSRP\\r\\r________________________________________\\rBradley Goldowsky <015304>, 10/3/2013: Re-opened. Origenate is using wholesale/invoice and not retail/MSRP for value onused/new vehicles. Retail and MSRP needs to be used for value of vehicle. \\r\\r________________________________________\\rTamara Osifchin <018494>, 10/9/2013: Jeddalyn needs to find a resource who can change our gateway config.\\r\\r________________________________________\\rMary Lichtenberger <011798>, 10/18/2013: We had let CMSI know how the collateral screen should show/calculate on the underwriting side.  Once they set this and bring it over to TB we can retest.  \\r\\r________________________________________\\rTamara Osifchin <018494>, 10/23/2013:  Assigning to Tom to define the mapping of DT fields to Origenate fields. new 10/24 eta\\r\\r________________________________________\\rTom Sokolski <015424>, 10/24/2013: used  wholesale value should map to CMSI invoice/wholesale. Retail value should map to CMSI MSRP, Total Value, Value, and Collateral Value.  New invoice should map to CMSI invoice/wholesale.  MSRP should map to CMSI MSRP, Total Vlue, Value, Collateral Value. \\r\\r________________________________________\\rTamara Osifchin <018494>, 10/28/2013: in test with CMSI\\r\\r________________________________________\\rBooker Vann <017804>, 10/29/2013: Set to fixed - Mapping changed based off of FNFG request: \\r10/24: from client-- used  wholesale value should map to CMSIinvoice/wholesale. Retail value should map to CMSI MSRP, TotalValue, Value, and Collateral Value.  New invoice should map toCMSI invoice/wholesale.  MSRP should map to CMSI MSRP, TotalVlue, Value, Collateral Value.\\r  \\r\\r________________________________________\\rSalvatore Mule <015306>, 10/29/2013: Closed defect, retested with app# 50001516 & 50001517'] \n",
      "\n",
      "def:  89 comment:  [u\"Tamara Osifchin <018494>, 8/27/2013: Medium priority because the error just affected the Application Info screen and Brad was able toclose the window and have it reopen. ETA is for more info.\\r\\r________________________________________\\rTamara Osifchin <018494>, 9/19/2013: changed description to include Java exception.  \\r\\r________________________________________\\rTamara Osifchin <018494>, 9/19/2013: changed severity and reproducible to N based on Brad mail 9/19: You can change the severityas it has not reproduced. I just want to make sure the cause is identified so that it does not occur during production.\\r  \\r\\r________________________________________\\rTamara Osifchin <018494>, 10/3/2013: Brad will close because low sev and hasn't happened again.\"] \n",
      "\n",
      "def:  90 comment:  [u'Bradley Goldowsky <015304>, 8/28/2013: Per Lauren, this was referenced in the tolerance rule conversation. CMSI is awaiting for response from FNFG about how this should be resolved. Should rule be removed? Comparing approved and contracted customer rate. \\r\\r________________________________________\\rTamara Osifchin <018494>, 8/29/2013: Rule as is should be removed. Assigning to Lauren.\\r\\r________________________________________\\rTamara Osifchin <018494>, 9/3/2013: Moved to Fixed bcs this is Ready for Client testing in the 9/3 issue list\\r\\r________________________________________\\rMary Lichtenberger <011798>, 9/16/2013:  This rule has been removed.  Closing defect'] \n",
      "\n",
      "def:  91 comment:  [u'Bradley Goldowsky <015304>, 8/28/2013: Communicating with Linda. CMSI has no documentation for this request. Comment feature can be utilized from any point in application and comment can be sent to dealer/originator. \\r\\r________________________________________\\rTamara Osifchin <018494>, 8/29/2013: FNFG will send Lauren an updated template as to where the free form note should go. Every funding delay template;  no need on the funding notice.  ETA isfor Linda to send template.\\r\\r________________________________________\\rTamara Osifchin <018494>, 9/16/2013: new eta 9/17 is for fix\\r\\r________________________________________\\rTamara Osifchin <018494>, 9/19/2013: changed assigned from Linda to Mary bcs Mary would retest\\r\\r________________________________________\\rMary Lichtenberger <011798>, 9/20/2013: I was able to place a free form note on APP 50000667. Closing defect'] \n",
      "\n",
      "def:  92 comment:  [u'Bradley Goldowsky <015304>, 8/29/2013: Added screen-print of email conversation regarding defect.\\r\\r________________________________________\\rTamara Osifchin <018494>, 8/29/2013: Previous employer address for applicant and co-applicant, stock # are not required so no fix.  Per Lauren, intended use of vehicle can not be mapped,does not come from Route One but not required so no fix required. Options are lumped together from Route One.  Per FNFG options are not important so no fix required. Doc fees need to be split on Route One side David P is tracking this.  Retail value does need to come over so it needs to be corrected.  Is currently coming over as MSRP.  Brad to update this defect with requirements.  ETA is for update to defect.\\r\\r________________________________________\\rBradley Goldowsky <015304>, 9/6/2013: Requirements emailed to Lauren at CMSI on 8/30. See attachments for email conversation.Assigning defect back to Lauren at CMSI.  \\r\\r________________________________________\\rTamara Osifchin <018494>, 9/6/2013: Update from David P: \"Route One states the revisions were made to the XML to individually break out Warranty, GAP, TTL, Doc, A&H Premium, and Credit Life.\"\\r  \\r\\r________________________________________\\rTamara Osifchin <018494>, 9/19/2013: assigning to Brad to trackt he change request also see email attachment\\r\\r________________________________________\\rBradley Goldowsky <015304>, 9/20/2013: Added to credit issues list for discussion\\r\\r________________________________________\\rBradley Goldowsky <015304>, 9/26/2013: This defect and #88 are paired as one is Dealertrack and other is Route One. \\r\\r________________________________________\\rBradley Goldowsky <015304>, 9/26/2013:  Removed breakdownot TTL, GAP ect from defect and made it\\'s own defect (#200).Keeping this defect open for the mapping of retail value\\r\\r________________________________________\\rBooker Vann <017804>, 10/2/2013: Set to fixed - used--mapped to wholesale/invoice, new -- mapped to MSRP\\r\\r________________________________________\\rBradley Goldowsky <015304>, 10/3/2013:  Re-opened.Origenate is using wholesale/invoice and not retail/MSRP for valueon used/new vehicles. Retail and MSRP needs to be used for value of vehicle. \\r\\r________________________________________\\rTamara Osifchin <018494>, 10/11/2013: changed eta to 10/18,same as defect 88.  Waiting on a CMSI resource to change the mapping.\\r\\r________________________________________\\rMary Lichtenberger <011798>, 10/18/2013:  We had let CMSI know how the collateral screen should show/calculate on the underwriting side.  Once they set this and bring it over to TB we can retest.  \\r\\r________________________________________\\rTamara Osifchin <018494>, 10/23/2013: Tom to update with field mapping\\r\\r________________________________________\\rTom Sokolski <015424>, 10/24/2013: Used wholesale/invoiceshould map to cmsi invoice/wholesale.  Retail should map to CMSI MSRP, Total Value, Value, and Collateral Value.   New wholesale/invoice should map to cmsi invoice/wholesale. MSRP map to CMSI should map to CMSI MSRP, Total Value, Value, and Collateral Value. \\r\\r________________________________________\\rBooker Vann <017804>, 10/28/2013: Set to fixed - 10/24: Used wholesale/invoice should map to cmsi invoice/wholesale. Retail should map to CMSI MSRP, Total Value, Value, and Collateral Value.   New wholesale/invoice should map to cmsi invoice/wholesale. MSRP map to CMSI should map to CMSI MSRP, Total Value, Value, and Collateral Value.\\r  \\r\\r________________________________________\\rSalvatore Mule <015306>, 10/29/2013: Closed defect, Retested and working correctly. Restested apps 50001518 & 50001486'] \n",
      "\n",
      "def:  93 comment:  [u'Tamara Osifchin <018494>, 8/29/2013: Fix is to not allow any co-signers on a personal loan.  Ready for retest.  ETA is for retest.\\r\\r________________________________________\\rBradley Goldowsky <015304>, 8/30/2013: Fix has been verified. Closing defect.'] \n",
      "\n",
      "def:  94 comment:  [u'Tamara Osifchin <018494>, 8/29/2013: Assigning to send the templates before Lauren can fix.\\r\\r________________________________________\\rTamara Osifchin <018494>, 9/16/2013: new eta 9/17  is for fix\\r\\r________________________________________\\rBooker Vann <017804>, 9/19/2013: Set to fix status - document fix\\r\\r________________________________________\\rMary Lichtenberger <011798>, 9/20/2013: Doc looks correct tested on app 50000667.  Ok to close'] \n",
      "\n",
      "def:  95 comment:  [u'Tamara Osifchin <018494>, 8/29/2013: ETA is for Linda to send templates to Lauren.\\r\\r________________________________________\\rTamara Osifchin <018494>, 9/16/2013: new 9/17 eta is for fix\\r\\r________________________________________\\rBooker Vann <017804>, 9/19/2013: Set to fix status - document fix\\r\\r________________________________________\\rMary Lichtenberger <011798>, 9/20/2013: Doc looks correct tested on app 50000667.  Ok to close'] \n",
      "\n",
      "def:  96 comment:  [u'Tamara Osifchin <018494>, 8/29/2013: ETA is for Linda to send the template to Lauren.\\r\\r________________________________________\\rTamara Osifchin <018494>, 9/16/2013: new 9/17 eta is for fix\\r\\r________________________________________\\rBooker Vann <017804>, 9/19/2013: Set to fix status - document fix\\r\\r________________________________________\\rMary Lichtenberger <011798>, 9/20/2013: Please adjust the way the checklist items display to match theFunding Delay notice.  ( I have attached both a copy of the current Notice of Return and the CurrentFundingDelay.).    \\r\\r________________________________________\\rBooker Vann <017804>, 9/23/2013: Set to retest - document fix \\r\\r________________________________________\\rMary Lichtenberger <011798>, 9/23/2013: Correct Format shows for APP ID 50000675'] \n",
      "\n",
      "def:  97 comment:  [u'Tamara Osifchin <018494>, 8/29/2013: Per Lauren this is ready for Mary to retest.\\r\\r________________________________________\\rMary Lichtenberger <011798>, 9/3/2013:  Have tested the checklist on APP ID 50000325 (ME Dealer).  The order of the checklist was complete.'] \n",
      "\n",
      "def:  98 comment:  [u\"Tamara Osifchin <018494>, 8/29/2013: Mary was logged in as herself and has been able to override any tolerance rule she's encountered.  Not sure whether these specific rules but Lauren is encountering the same problem and it is effecting all tolerance rules.  ETA is for a fix.\\r\\r________________________________________\\rTamara Osifchin <018494>, 9/10/2013: Ready for Client testing in the 9/9 issue list so assigning back to Mary to retest.\\r\\r________________________________________\\rMary Lichtenberger <011798>, 9/11/2013: Was able to override tolerance rules on 50000497.  Ok to close\"] \n",
      "\n",
      "def:  99 comment:  [u\"Tamara Osifchin <018494>, 8/29/2013: Per Lauren CMSI is now using the CMSI OFAC indicator instead of the flag on the bureau.  Need to change to use bureau flag.\\r\\r________________________________________\\rTamara Osifchin <018494>, 9/19/2013: Still under investigation by Jeddalyn.\\r\\r________________________________________\\rTamara Osifchin <018494>, 9/23/2013: Changed severity to Medium with Brad's ok.  Cleaning up the Very Highs.\\r\\r________________________________________\\rBradley Goldowsky <015304>, 9/25/2013: Was advised by Jeddalyn that this has been fixed and able to retest. Retested with App# 50000731 and passed. Closing defect\\r\\r________________________________________\\rTamara Osifchin <018494>, 9/25/2013: Fix description from 9/25 Jeddalyn mail: The initial apps that were created did a bureau copy on apps that were created PRIOR to the OFAC flag being turned on therefore it copied the TTY that had NO OFACs triggered. Now that OFAC flags have been turned on for a certain amount of time, if it does do a bureau copy, it will copy TTYs that already triggered the OFAC. If it gets a fresh bureau without doing a bureau copy, it should also trigger the OFAC alert.\"] \n",
      "\n",
      "def:  100 comment:  [u'Tamara Osifchin <018494>, 8/29/2013: Lauren can see this is the Origenate gateway log but it is not showing up in the application.  Brad to send screenshot of app in Route One to Lauren.\\r\\r________________________________________\\rBradley Goldowsky <015304>, 8/29/2013: Screenshots added to ALM defect and emailed to Lauren. \\r\\r________________________________________\\rBradley Goldowsky <015304>, 8/29/2013: \\r\\r________________________________________\\rBradley Goldowsky <015304>, 9/3/2013: Linked to #106 and changing status to urgent. \\r\\r________________________________________\\rBradley Goldowsky <015304>, 9/3/2013: Status has been fixed and retested. Closed defect.'] \n",
      "\n",
      "def:  101 comment:  [u'Tamara Osifchin <018494>, 8/29/2013: assigned to Lauren to fix\\r\\r________________________________________\\rTamara Osifchin <018494>, 9/3/2013: Moved to Fixed because this is Ready for Client testing in the 9/3 issue list.\\r\\r________________________________________\\rDavid Pepe <005778>, 9/20/2013:  Tested the fix and still unable to view the TTY as a System Admin\\r\\r________________________________________\\rTamara Osifchin <018494>, 9/20/2013: David encountered this as fnbidpepe and fnbiadmin.  Steps to reproduce are to try to click onthe Bureau Manager button as fnbiadmin. Jeddalyn can reproduce on the fnbiadmin login.  David will double check with his fnbidpepelogin. \\r\\r________________________________________\\rDavid Pepe <005778>, 9/23/2013: System Admin role can now view TTY.  Defect can be closed\\r\\r________________________________________\\rTamara Osifchin <018494>, 10/1/2013: Closing for David as he is out of the office for 2 days.'] \n",
      "\n",
      "def:  102 comment:  [u'Tamara Osifchin <018494>, 8/29/2013: assigning to Lauren to fix.  ETA is for update.\\r  \\r\\r________________________________________\\rTamara Osifchin <018494>, 9/11/2013: Not sure whether this is fixed or not.  issue 102 is closed but issue 158 is not\\r\\r________________________________________\\rTamara Osifchin <018494>, 9/17/2013: Jeddalyn closed CMSI issue 102 as a duplicate of CMSI issue 158\\r\\r________________________________________\\rTamara Osifchin <018494>, 9/19/2013: Tom thinks he can close. Will investigate.\\r\\r________________________________________\\rTom Sokolski <015424>, 9/20/2013: retested with app 50000673 and the reserve was correct.  closing defect.'] \n",
      "\n",
      "def:  103 comment:  [u'Bradley Goldowsky <015304>, 9/3/2013: Tamara will find out when app was declined. ETA is for update.\\r\\r________________________________________\\rTamara Osifchin <018494>, 9/6/2013: changed the orignator to Debbie.  And the description from\"Page Not Found Error\"  to \"Invalid Data CF_SQL_NUMERIC\"\\r\\r________________________________________\\rTamara Osifchin <018494>, 9/6/2013: Closing this as a duplicate of 126 which Brad opened,since Debbie rolled off the project and Brad would retest anyway.'] \n",
      "\n",
      "def:  104 comment:  [u'Bradley Goldowsky <015304>, 9/3/2013: Will email Lauren that income will be required field. \\r\\r________________________________________\\rBradley Goldowsky <015304>, 9/4/2013: Email sent to Lauren to make income a required field on Application Entry (directly inOrigenate)\\r\\r________________________________________\\rTamara Osifchin <018494>, 9/10/2013: Ready for Client retest in9/9 issue list so assigning back to Brad to retest.\\r\\r________________________________________\\rBradley Goldowsky <015304>, 9/17/2013:  Because income is a required field on DT and not RT1, we are changing the requirementto NOT require income on RT1 and DT applications. We are requiring income as a field on manually entered applications.Jedallyn said requirements can be seperate for DT/RT1 apps and manually entered apps. Changing status to open awaiting change from CMSI. Added enail conversation to attachments. Assigning back to CMSI.\\r\\r________________________________________\\rBradley Goldowsky <015304>, 9/19/2013: Closing defect.Unable to test via DT as DT requires income to be submitted on application. RT1 passed. Directly submitted application via Origenate passed.'] \n",
      "\n",
      "def:  105 comment:  [u\"Bradley Goldowsky <015304>, 8/30/2013: Application # 50000320\\r\\r________________________________________\\rBradley Goldowsky <015304>, 9/3/2013: This has been fixed and is in CMSI's test bed. Extimated fix is when defect will be ready for retest. \\r\\r________________________________________\\rBradley Goldowsky <015304>, 9/19/2013: Was advised that this was fixed but retested and failed. Attached new screenshots from App# 50000625.\\r\\r________________________________________\\rBooker Vann <017804>, 9/19/2013: Set to fixed status when there are more than one guarantor, dupp mortgages will not be de-duped. Both guarantors are considered co-signers. \\r\\r________________________________________\\rBradley Goldowsky <015304>, 9/19/2013: Reviewed w/ CMSI. The re-test failed because the bureaus contained the same tradelines. Needs to be re-tested with 2 guarantors each with totally seperate tradelines. In an instance where each guarantor/co-applicant has the same credit tradeline(s), Origenate does not have the capability to not de-dupe the tradelines which are the same between each guarantor. \\r\\r________________________________________\\rBradley Goldowsky <015304>, 9/19/2013: Closed defect. Retested and verified that Origenate is not deduping debt from each guarantor.\"] \n",
      "\n",
      "def:  106 comment:  [u'Bradley Goldowsky <015304>, 9/3/2013: Escalated status because this is hindering testing. \\r\\r________________________________________\\rTamara Osifchin <018494>, 9/3/2013: From Lauren 9/3 mail: There is a gateway setup file containing the keys and URLs that allow RT1 and Dealertrack to interface with Origenate. For Testbed, these setup files contain data for a multitude of clients. As a result, these files are accessible by many users. A user updated another clients record (in theRT1 file)  incorrectly and this resulted in the blockage of all RT1 data transmission. Once I was able to isolate the errant record, I was able to resolve the issue.\\r\\r\\rThis issue would not occur in Production as access to this file is limitedto the Support Group only.\\r  \\r\\r________________________________________\\rBradley Goldowsky <015304>, 9/3/2013: This has been fixed and retested. Closing defect. \\r\\r________________________________________\\rBradley Goldowsky <015304>, 9/16/2013: Reopened this defect assame error occurred again. New application was submitted via RouteOne and did not populate within Origenate. Added screenshots and emailed to Lauren and Jeddalyn. \\r\\r________________________________________\\rTamara Osifchin <018494>, 10/3/2013: Set estimated fix date to 12/25 to flag for the can\\'t reproduce/can\\'t fix bucket.  Also set Reproducible to N.\\r\\r________________________________________\\rBradley Goldowsky <015304>, 10/8/2013: Application submitted via RT1 today at about 9:30 am and was never received by Origenate.Immediately sent \"high importance\" email to CMSI. This was isolated as apps successfully submitted immediately before and immediately after this incident. Attached email with screenprint to attachments. \\r\\r________________________________________\\rTamara Osifchin <018494>, 10/8/2013: moved to Very High so that we discuss at today\\'s 4 pm\\r\\r________________________________________\\rTamara Osifchin <018494>, 10/9/2013: application eventually appearedin MDQ, 6 minutes after it was sent.  at 10/8 call, Jeddalyn was assigned an action item to call RO to see if anything was going on at 9:30 am 10/8 when this happened\\r\\r________________________________________\\rDavid Pepe <005778>, 10/10/2013: Route One stated they were working on a production build due on 10/9 which would of resulted intesting in the Test Instance of Route One.  There were periods where Route One could be down, transmission issues, or delays in the application.\\r\\r________________________________________\\rBradley Goldowsky <015304>, 10/10/2013: Changing severity back tolow and placing in monitor status. Next time the same issue is encountered we will have to contact RT1 immediately to determine if it is the result of their system.\\r\\r________________________________________\\rTom Sokolski <015424>, 10/15/2013: closed because we have not seen it'] \n",
      "\n",
      "def:  107 comment:  [u\"Bradley Goldowsky <015304>, 9/3/2013: Estimated fix time is forinfo/update\\r\\r________________________________________\\rTamara Osifchin <018494>, 9/20/2013: CMSI can not reproduce andcan not provide a fix.\\r\\r________________________________________\\rTamara Osifchin <018494>, 10/1/2013: Moved to the 'can't fix' bucketbased on conversation with Brad, Jeddalyn and Lauren at 9/30 meeting.\\r\\r________________________________________\\rTamara Osifchin <018494>, 10/7/2013: Jeddalyn 10/4 follow up:            Same as defect 52 and others, perhaps the timing of the application fellin the DT down time  (downtime can be between M-Thur 5PM to 9AMnext day)\\r  \\r\\r________________________________________\\rTom Sokolski <015424>, 10/15/2013: closed have not seen for awhile\"] \n",
      "\n",
      "def:  108 comment:  [u'Bradley Goldowsky <015304>, 9/3/2013: Needs to be retested with a Level 4 override. Level 5 should nt be testable. Estimated fixtime is for retest. \\r\\r________________________________________\\rBradley Goldowsky <015304>, 9/4/2013: Retested with Level 4and works as expected. Closing defect.'] \n",
      "\n",
      "def:  109 comment:  [u'Bradley Goldowsky <015304>, 9/3/2013: Estimated fix is formore information from CMSI. Brad will also review Decision Ruleson an application from each tier to review setup.\\r\\r________________________________________\\rTamara Osifchin <018494>, 9/10/2013: Ready for Client testing inthe 9/9 issue list so assigning back to Brad to retest.\\r\\r________________________________________\\rBradley Goldowsky <015304>, 9/17/2013: Retested and verfiied works. Closed defect.'] \n",
      "\n",
      "def:  110 comment:  [u'Tamara Osifchin <018494>, 9/4/2013: Per Lauren the problem was probably that tolerance ruleswere updated in the time since app 279 was created.  Since the tolerance rules were backdated to Aug 28 or so.  In prod we would backdate tolerance rules changes to something older than the expiration period of open contracts.\\r\\r________________________________________\\rTamara Osifchin <018494>, 9/4/2013: Yaseen retested successfully can close.'] \n",
      "\n",
      "def:  111 comment:  [u'Tamara Osifchin <018494>, 9/4/2013: CMSI TA sent a response to Brad.  Seems like this rule was not configured as a pre-bureaurule.  Two places to put a rule, pre-bureau and decision.  Estimatefix date is 9/5.\\r\\r________________________________________\\rTamara Osifchin <018494>, 9/20/2013: Jeddalyn will follow up. Updated fix date to 9/23\\r\\r________________________________________\\rBooker Vann <017804>, 9/23/2013: Set to fixes - pre bureau rule \\r\\r________________________________________\\rBradley Goldowsky <015304>, 9/23/2013: Verified with app#60000682 this is now working as expected. Closing defect.'] \n",
      "\n",
      "def:  112 comment:  [u\"Tamara Osifchin <018494>, 9/4/2013: probably same issue asdefect 111\\r\\r________________________________________\\rBradley Goldowsky <015304>, 9/19/2013: Verified this is fixed.Closing defect. App #'s 50000623 $ 50000624\"] \n",
      "\n",
      "def:  113 comment:  [u\"Tamara Osifchin <018494>, 9/4/2013: ETA is for update not fix. Second app attempted resulted in defect #115.\\r\\r________________________________________\\rTamara Osifchin <018494>, 9/6/2013: I think this was mistakenly assigned to Brad so just assigned to Lauren.\\r\\r________________________________________\\rTamara Osifchin <018494>, 9/20/2013: CMSI can't find the root cause and can not reproduce so will move this to the can't fix bucket withBrad's ok.\\r\\r________________________________________\\rTamara Osifchin <018494>, 10/1/2013: moved to can't fix bucket per9/20 mail from Brad: OK to move this one thanks\\r\\r\\rBrad Goldowsky\\r\\r\\rFrom: Osifchin, Tamara \\rSent: Friday, September 20, 2013 10:34 AM\\rTo: Goldowsky, Bradley\\rSubject: defect 113\\r\\r\\rBrad -\\rWe'll have to move defect 113 -- app stuck in My Deals queue to thecan't fix bucket too.  Ok with you?\\r \\rThanks,\\rTamara\\r  \\r\\r________________________________________\\rTamara Osifchin <018494>, 10/7/2013: Jeddalyn 10/4 follow up:            I went into the application to reprocess it and did not encounter the issuestated above. The app is now in the UWOV screen\\r\\r\\r  \\r\\r________________________________________\\rTom Sokolski <015424>, 10/15/2013: application is complete. closedhas not happened again\"] \n",
      "\n",
      "def:  114 comment:  [u\"Tamara Osifchin <018494>, 9/4/2013: eta is for fix.\\r\\r________________________________________\\rTamara Osifchin <018494>, 9/20/2013: CMSI is still looking at this one.  New estimated fix date of 9/24\\r\\r________________________________________\\rTamara Osifchin <018494>, 10/7/2013: CMSI can not replicate. Will try again.  10/8 eta is for update.  \\r\\r________________________________________\\rBooker Vann <017804>, 10/8/2013: Set to fixed \\r\\r________________________________________\\rBradley Goldowsky <015304>, 10/8/2013: Verified DT is receiving app #'s on pending applications. closing defect.\"] \n",
      "\n",
      "def:  115 comment:  [u\"Tamara Osifchin <018494>, 9/4/2013: this was a joint app.\\r\\r________________________________________\\rTamara Osifchin <018494>, 9/4/2013: This may be the same issue as defect 34, which was closed more because we could not reproduce the problem than because we found a root cause. eta isfor update not fix.\\r\\r________________________________________\\rTamara Osifchin <018494>, 9/20/2013: Jeddalyn will ask Brad for more info on the details of the app he submitted.  new eta of9/24 is for update.\\r\\r________________________________________\\rTamara Osifchin <018494>, 9/26/2013: now into monitoring status on CMSI side.  Jeddalyn replicated Brad's application and it showed up in Origenate.  Changed to 12/25 fix date and moved sev to Low to indicate this is in the 'can't fix' list.\\r\\r________________________________________\\rTom Sokolski <015424>, 10/16/2013: closed.  have sentcoappdeals through DT.\"] \n",
      "\n",
      "def:  116 comment:  [u'Tamara Osifchin <018494>, 9/5/2013: Per Lauren this is standard Origenate functionality.  CMSI is investigating whether this change is possible.  First item FNFG is asking for information on how other lenders handle this.  Per Lauren no other client has requested this. So second is we need an estimate of work if this is doable. Eta isfor an update from development.\\r\\r________________________________________\\rTamara Osifchin <018494>, 9/20/2013: Lauren is deferring toRich B.  New eta of 9/23 is for update from Rich.\\r\\r________________________________________\\rBooker Vann <017804>, 10/1/2013: Set to fixed - Set so buy rate is updated based on information entered in the contract info screen\\r\\r________________________________________\\rTom Sokolski <015424>, 10/7/2013: is working correctly'] \n",
      "\n",
      "def:  117 comment:  [u'Tamara Osifchin <018494>, 9/5/2013: Per Lauren this is standard Origenate functionality.  CMSI is investigating whether this change is possible.  No other clients have requested this functionality.  Eta is for update from development.\\r\\r________________________________________\\rTamara Osifchin <018494>, 9/20/2013: Lauren is deferring this toRich B.  New eta of 9/23 is for update from Rich.\\r\\r________________________________________\\rBooker Vann <017804>, 10/1/2013: Set to fixed - Rates are adjusted based on what is entered in the contract info screen\\r\\r________________________________________\\rTom Sokolski <015424>, 10/7/2013: changed cash price to no longer give an ltv discount and it correctly added .20 to buy rate'] \n",
      "\n",
      "def:  118 comment:  [u'Tamara Osifchin <018494>, 9/5/2013: Eta is for the update.\\r\\r________________________________________\\rBradley Goldowsky <015304>, 9/16/2013: Added email conversation to attachments\\r\\r________________________________________\\rTamara Osifchin <018494>, 9/20/2013: new eta of 9/23 is for fix\\r\\r________________________________________\\rBradley Goldowsky <015304>, 9/26/2013: Retested and passed w/ app# 50000746. Closing defect.'] \n",
      "\n",
      "def:  120 comment:  [u'Tamara Osifchin <018494>, 9/5/2013: Eta is for fix.\\r\\r________________________________________\\rTamara Osifchin <018494>, 9/20/2013: Jeddalyn will look into. New eta of 9/24 is for update possibly fix.\\r\\r________________________________________\\rBooker Vann <017804>, 10/2/2013: Set to fixed - added the logic for $50 spread\\r\\r________________________________________\\rBradley Goldowsky <015304>, 10/2/2013: Retested and passed.Closed defect.'] \n",
      "\n",
      "def:  121 comment:  [u'Tamara Osifchin <018494>, 9/5/2013: Eta is for fix.\\r\\r________________________________________\\rSalvatore Mule <015306>, 9/11/2013: Closed defect, application 50000499 excluded that application mtg payment.'] \n",
      "\n",
      "def:  122 comment:  [u'Tamara Osifchin <018494>, 9/11/2013: Moving to Fixed because this is Ready for Client testing in the 9/11 CMSI issue list but with no explanation of what the fix was.\\r\\r________________________________________\\rSalvatore Mule <015306>, 9/11/2013: Closed defect, Retested with app# 50000500 rebated amount carried over from View/Edit Finance screen, see attachment'] \n",
      "\n",
      "def:  123 comment:  [u\"Tamara Osifchin <018494>, 9/6/2013: Term should be a required field.  Brad blanked it out and system put in 0.\\r\\r________________________________________\\rTamara Osifchin <018494>, 9/9/2013: Hi Brad,\\rI spoke to our TA about this and it looks like we can't keep Term NULL. It will always default to 0 (or another value if the client so chooses) This seems to be standard functionality because if we leave it blank, we get an evaluate error. \\rLet me know how you would like to proceed. \\rThanks,\\rJeddalyn\\r  \\r\\r________________________________________\\rTamara Osifchin <018494>, 9/9/2013: Assigning to Sam toreproduce using DT and RO and generally figure out what is theissue here.\\r\\r________________________________________\\rSalvatore Mule <015306>, 9/10/2013: Application 50000424 was approved for zero (0) months, it was entered through Origenateand the rule for term less than 24 months was triggered.  I tried toenter the same application through DealerTrack & RouteOne andboth application systems require a term of at least one (1) month.\\r  \\r\\r________________________________________\\rTamara Osifchin <018494>, 9/10/2013: Fix will be to set thedefault to 1 for this field.\\r\\r________________________________________\\rTamara Osifchin <018494>, 9/16/2013: Moved to Fixed bcs thisis RforCT in 9/16 issue list\\r\\r________________________________________\\rBradley Goldowsky <015304>, 9/16/2013: Retested applicationand verified this has been corrected. Default term has been set to1. Closing defect.\"] \n",
      "\n",
      "def:  124 comment:  [u'Tamara Osifchin <018494>, 9/6/2013: This is a change request. Brad will assign to Sririnvas/ Gary because it is a change request after he updates with more detail.\\r\\r\\rWe are looking for the customer rate to mirror the buy rate.(BuyRate + 1.5%) and to recalculate the payment based on the new customer rate. The customer rate would change when the buyrate is updated on the decision screen (in addition to the finance screen) and \"calculate\" button is clicked. \\r\\r________________________________________\\rTamara Osifchin <018494>, 9/16/2013: Moved to Fixed bcs this is RforCT in 9/16 issue list\\r\\r________________________________________\\rBradley Goldowsky <015304>, 9/17/2013: Verified this is fixed.Closing defect.'] \n",
      "\n",
      "def:  125 comment:  [u'Tamara Osifchin <018494>, 9/6/2013: FNFG would like\"Employed part time regular\" added to the employment status options in Origenate.  Lauren/Jeddalyn will find out if it is the same effort to add one as three.  Pat and Sam will look at the DT and RO options and create a mapping to Origenate.\\r\\r________________________________________\\rTamara Osifchin <018494>, 9/10/2013: Sam will send the decision back to Jeddalyn.\\r\\r________________________________________\\rSalvatore Mule <015306>, 9/11/2013: Sent Jeddalyn, memo regarding FNFG updates to the employment status.\\r\\r________________________________________\\rSalvatore Mule <015306>, 9/13/2013: Assigned to Jeddalyn for fix.\\r\\r________________________________________\\rSalvatore Mule <015306>, 9/13/2013: Ok to remove Alimony,Disabled, Bank full time employee, Dealership Employee, Owner(self employed) as they are not in the drop down box for either RouteOne or DealerTrack.  \\r  \\r\\r________________________________________\\rTamara Osifchin <018494>, 9/17/2013: moved to fixed bcs this is RforcT in 9/17 issue list\\r\\r________________________________________\\rSalvatore Mule <015306>, 9/17/2013: Closed defect; Application50000582 reflects part time employment status.'] \n",
      "\n",
      "def:  126 comment:  [u\"Bradley Goldowsky <015304>, 9/6/2013: Received the same error again on app# 50000440. This was an individual application which was declined and after the high-side override reason was submitted, error screen popped up. Added attachment. Medium priority because app gets set to declined.  Brad thinks this might only happen when high side override reasons are required.\\r\\r________________________________________\\rTamara Osifchin <018494>, 9/6/2013: Per Jeddalyn this is happening for other clients too.  Eta is for update.  I'll close 103. \\r\\r________________________________________\\rTamara Osifchin <018494>, 9/20/2013: Updated the severity to very high because this is blocking testing.  This issue is with the CMSI dev team.  No new fix date.\\r\\r________________________________________\\rBradley Goldowsky <015304>, 9/23/2013: 83 is original defect but leaving this defect open as #83 is a business and this is anindividual/joint application. \\r\\r________________________________________\\rBooker Vann <017804>, 9/27/2013: Set to fixed - Patched cfcode.\\r\\r________________________________________\\rBradley Goldowsky <015304>, 9/27/2013: Retested and passed.Closing defect. Retested app# 50000804\"] \n",
      "\n",
      "def:  127 comment:  [u'Tamara Osifchin <018494>, 9/6/2013: Can close. Working as designed.  Turndown reasons are for the application as a whole not per applicant co-applicant.\\r\\r________________________________________\\rTamara Osifchin <018494>, 9/9/2013: Assigned to Brad to close\\r\\r________________________________________\\rBradley Goldowsky <015304>, 9/17/2013: Unable to close this defect. Whenever I attempt to decline a joint application, the application gets stuck in Evaluate. New defect logged (#154).Changing defect from \"closed\" to \"fixed\"\\r\\r________________________________________\\rBradley Goldowsky <015304>, 9/20/2013: Still unable to decline application to test fix.\\r\\r________________________________________\\rBradley Goldowsky <015304>, 9/23/2013: Closed defect.Turndown resons show on the Underwriter Overview screen on the application under applicant only but was advised by Jeddalyn at CMSI that even though the decline reasons show only under applicant, it is for the entire application. The applicant and co-applicant will each have the same decline reasons on ther declination letter. See attached email. Closing defect.'] \n",
      "\n",
      "def:  128 comment:  [u'Tamara Osifchin <018494>, 9/6/2013:  Lauren sent out the calculations for DTI.  DTI factors items from the bureau so it mightbe something like that, but if something is coming in from the bureauit should be reflected in either the income number or the debt number.   CMSI will investigate.  Eta is for an update.\\r\\r________________________________________\\rSalvatore Mule <015306>, 9/16/2013: Retested with App#50000555 and dti is still being calculated incorrectly, see attachment.\\r\\r________________________________________\\rTamara Osifchin <018494>, 9/20/2013: This is with the CMSI dev team.  No estimated fix date.\\r\\r________________________________________\\rTamara Osifchin <018494>, 10/7/2013: Jeddalyn will follow up with the developer.  They have a fix but we need to get a patch. Eta is for delivery of patch.\\r\\r________________________________________\\rTamara Osifchin <018494>, 10/8/2013: might not be a patch\\r\\r________________________________________\\rTom Sokolski <015424>, 10/16/2013: Sam will test by putting anapp in with a coapp with both having multiple incomes. need to see if this only happened on copy\\r\\r________________________________________\\rSalvatore Mule <015306>, 10/21/2013: Retest with acct #50001329, DTI still incorrect, see attachment. \\r\\r________________________________________\\rSalvatore Mule <015306>, 10/22/2013: Retested on app#50001372 to verify if ssi or pension amount increased by 1.25, dti is calculated incorrectly.\\r\\r________________________________________\\rTamara Osifchin <018494>, 10/25/2013: Will keep assigned to Sam and Sam will update with results of 10/28 Rich meeting.\\r\\r________________________________________\\rTamara Osifchin <018494>, 10/28/2013: Jeddalyn to discuss with Rich and determine new fix date\\r\\r________________________________________\\rTamara Osifchin <018494>, 10/29/2013: Waiting to discuss with Rich.\\r\\r________________________________________\\rTamara Osifchin <018494>, 10/30/2013: Assigning to Sam to discuss with Peter and Pat on Mon 11/4\\r\\r________________________________________\\rTamara Osifchin <018494>, 11/5/2013: Peter, Pat and Noelle discussed this and do not want the 1.25 automatically added when value = social security or pension.  Fix is to remove the 1.25 when social security or pension.  Sam will create a new defect for the issue where Origenate removes a rent when there is a mortgage. Origenate should leave in both rent and mortgage.\\r\\r________________________________________\\rBooker Vann <017804>, 11/7/2013: Set to fixed - 11/6: removed 1.25 markup for other income in the calculations\\r\\r________________________________________\\rSalvatore Mule <015306>, 11/7/2013: Closed defect: Retested app# 50001782'] \n",
      "\n",
      "def:  129 comment:  [u'Tamara Osifchin <018494>, 9/6/2013: assigning to CMSI toinvestigate.  Eta is for an update.\\r\\r________________________________________\\rTamara Osifchin <018494>, 9/9/2013: According to our TA, all trades are included and that is standard configuration. \\r--Jeddalyn\\r________________________________________\\rTamara Osifchin <018494>, 9/9/2013: Per Jeddalyn, ignore above comment.  Jeddalyn is investigating a fix.\\r\\r________________________________________\\rSalvatore Mule <015306>, 9/11/2013: Closed defect; App#50000501 dti is being calculated behind the scene and even if you remove A/U acct from the trade screen DTI is still calculated correctly.'] \n",
      "\n",
      "def:  130 comment:  [u'Tamara Osifchin <018494>, 9/6/2013: Customer rate should not be sent to Route One.\\r\\r________________________________________\\rSalvatore Mule <015306>, 9/11/2013: Closed defect; application50000504 retested and max mark-up refects zero (0%).\\r\\r________________________________________\\rBradley Goldowsky <015304>, 9/17/2013: Reopened defect.Max markup shows as \"0\". We want max mark-up to be left blank on Route One. Attached screenprint. \\r\\r________________________________________\\rBradley Goldowsky <015304>, 9/18/2013: Retested with app#50000599 and RouteOne no longer shows sell rate. Closing defect.'] \n",
      "\n",
      "def:  131 comment:  [u\"Tamara Osifchin <018494>, 9/9/2013: Tom will check the date of 106.  If older than 30 days this is working as expected.  Tom will also submit the app and verify that an 'similar app within 6 months' rule triggers.\\r\\r________________________________________\\rTamara Osifchin <018494>, 9/9/2013: No CMSI issue number yet.\\r\\r________________________________________\\rTom Sokolski <015424>, 9/10/2013: submitted app through evaluate and the rule did not trigger for duplicate application detected in past 6 months (see new attachement).   Sam submitted another application 50000478 with SSN and it did show the duplicate application rule. \\r\\r________________________________________\\rTamara Osifchin <018494>, 9/11/2013: init date of app 106 is 8/1so the fact that it was not found as a duplicate app of 443 is fine,because 8/1 > 30 days ago.  So now the question is why the 6 month rule did not trigger.\\r\\r________________________________________\\rTamara Osifchin <018494>, 9/12/2013: 106 on 8/1 had Catherine and Jamie and was decisisioned.  Then changed social to Kyle's and Frederick's socials.  A month later created an app with Kyle's ssn and it did not trigger a duplicate app rule.  106 now shows updated ssn on contract side but not application side.\\r\\r________________________________________\\rTamara Osifchin <018494>, 9/12/2013: Assigning back to Tom to retry by changing the ssn on the app side instead of the contract side.\\r\\r________________________________________\\rTom Sokolski <015424>, 9/20/2013: when applicants were changed on the underwriting side it did show.  closing this defect\"] \n",
      "\n",
      "def:  132 comment:  [u'Salvatore Mule <015306>, 9/9/2013: Spoke to Jeddalyn, system calculated correct rate. Tester confused on were to locate buy rate on summary screen.\\r\\r________________________________________\\rTamara Osifchin <018494>, 9/9/2013: Sam will close.\\r\\r________________________________________\\rSalvatore Mule <015306>, 9/10/2013: Closed'] \n",
      "\n",
      "def:  133 comment:  [u\"Tamara Osifchin <018494>, 9/9/2013: May be a duplicate of some other defect.  Jeddalyn will investigate.  Sam will try to reproduce with a copy of the application that caused the defect.  ETA is for update.\\r\\r________________________________________\\rTamara Osifchin <018494>, 9/20/2013: Jeddalyn still investigating.\\r\\r________________________________________\\rTamara Osifchin <018494>, 10/7/2013: Jeddalyn will follow up. 10/8 is for update.\\r\\r________________________________________\\rTamara Osifchin <018494>, 10/8/2013: no information in the logs on this application except for something about a timeout. Applicationcan not be processed. \\r\\r________________________________________\\rTom Sokolski <015424>, 10/16/2013: discussed will monitor. no known cause\\r\\r________________________________________\\rTamara Osifchin <018494>, 10/29/2013: Can close because it hasn't been seen in more than 4 weeks.\"] \n",
      "\n",
      "def:  134 comment:  [u\"Tamara Osifchin <018494>, 9/9/2013: Jeddalyn will investigate.\\r\\r________________________________________\\rTamara Osifchin <018494>, 9/10/2013: On this app dealer was located in MD.  Alternate address was DE but Origenate based rate on MD and MD rates are not in there yet.  Other action item is to get MD rates in by copying DE's.  \\r\\r________________________________________\\rTamara Osifchin <018494>, 9/10/2013: Assigning back to Sam toretest with an in-market dealer.\\r\\r________________________________________\\rSalvatore Mule <015306>, 9/10/2013: Changed to CT Dealer and rates are correct.  The DE Dealer is set up with a MD address.\\r\\r________________________________________\\rSalvatore Mule <015306>, 9/11/2013: Closed defect, see not from 9/10\"] \n",
      "\n",
      "def:  135 comment:  [u'Tamara Osifchin <018494>, 9/9/2013: Jeddalyn will investigate.  Might be a change request but at this point feels like a defect.  ETA is for Jeddalyn to get an answer as to change request or not.\\r\\r________________________________________\\rMary Lichtenberger <011798>, 9/10/2013: There was an email about the port today at 1:00pm that should have corrected this.  This was only corrected for personal accounts.  Please correct for business accounts.  Tested on APP 50000487\\r\\r________________________________________\\rTamara Osifchin <018494>, 9/16/2013: Moved to fixed bcs this is RforCT in 9/16 issue list\\r\\r________________________________________\\rMary Lichtenberger <011798>, 9/16/2013:  This is still incorrecton business accounts.  The fields should not show for a Guarantor.  Please remove from any applicationwith a Guarantor.  APP 50000542 (entered on 09/16/2013)\\r\\r________________________________________\\rTamara Osifchin <018494>, 9/17/2013: Moved to fixed bcs this is RforCT in 9/17 issue list\\r\\r________________________________________\\rMary Lichtenberger <011798>, 9/17/2013: I have tested this with APP 50000580 (entered on 09/17/13).  Title, Suffix and SSN are still on screen.  Moving toRe-Open again\\r\\r________________________________________\\rMary Lichtenberger <011798>, 9/18/2013: Attempted with APP 50000592. This worked correctly.  Closing defect'] \n",
      "\n",
      "def:  136 comment:  [u'Tamara Osifchin <018494>, 9/10/2013: updated with CMSI issue number and estimated fix date\\r\\r________________________________________\\rBooker Vann <017804>, 9/19/2013: set to fix - contract itemization fix\\r  \\r\\r________________________________________\\rMary Lichtenberger <011798>, 9/20/2013: Reviewed fields on 50000667. All fields appear to be correct.  Closing'] \n",
      "\n",
      "def:  137 comment:  [u'Tamara Osifchin <018494>, 9/10/2013:updated with CMSI issue number but no fix date because per Jeddalyn this is a change request and requires a taskorder\\r\\r________________________________________\\rMary Lichtenberger <011798>,10/17/2013: Closing as this is covered in defect 193\\r\\r________________________________________\\rTamara Osifchin <018494>,10/21/2013: Moved back to Open so that I don\\'t lose track of this.\\r\\r________________________________________\\rMary Lichtenberger <011798>,10/22/2013: Added all tolerance rules that need to be added with the exception of Contract Buy Rate <> Adjusted BuyRate.  This rule is covered under the BuyRate calculation off the Contract Information Change Request\\r\\r________________________________________\\rStacy Krajewski <015425>, 11/4/2013:Linked 2 Tolerance Rule test cases to this defect for \"Tax ID (on a business app) and SSN (of guarantor (1) and or guarantor (2)) are not distinct\".CLOS_TOLERANCERULES_105 and 106\\r\\r________________________________________\\rStacy Krajewski <015425>, 11/4/2013:Linked 1 Tolerance Rule test case to this defect for \"Miser Number on MiserVerification screen is invalid or missing\" - Miser Number must be 8 numeric characters, Miser Number cannot be null and Miser Number must begin with 57\"CLOS_TOLERANCERULES_210\\r\\r________________________________________\\rStacy Krajewski <015425>, 11/4/2013:Linked 11 Tolerance Rule test cases to this defect for \"VSI charge <>79.00\" CLOS_TOLERANCERULES_211-221\\r\\r________________________________________\\rStacy Krajewski <015425>, 11/4/2013:Linked 2 Tolerance Rule test cases to this defect for \"Income (forapplicant/co-applicant/guarantor1/guarantor2) is less than approved.\"CLOS_TOLERANCERULES_222-223\\r\\r________________________________________\\rStacy Krajewski <015425>,11/12/2013: All VSI tests have passed.TAX ID and SSN are not distinct failed 2 tests.\\r\\r________________________________________\\rTamara Osifchin <018494>,11/12/2013: Per Business Miser number tolerance rule will not be delivered so this can be closed if the other 3 were delivered.\\r\\r________________________________________\\rTamara Osifchin <018494>,11/12/2013: Moved to fixed because this was ready for client testing in 11/11 mail from Jeddalyn.  Assigned to Stacy to retest.\\r\\r________________________________________\\rStacy Krajewski <015425>,11/15/2013: Rules created closed'] \n",
      "\n",
      "def:  138 comment:  [u'Salvatore Mule <015306>, 9/10/2013: closing because this is a duplicate of 139'] \n",
      "\n",
      "def:  139 comment:  [u'Tamara Osifchin <018494>, 9/10/2013: updated with CMSI issue number and expected fix date\\r\\r________________________________________\\rTamara Osifchin <018494>, 9/10/2013: might have to do with a2nd rate chart for mileage rule\\r\\r________________________________________\\rTamara Osifchin <018494>, 9/13/2013: moved to Fixed bcs this is RforTC in the 9/13 CMSI issue list\\r\\r________________________________________\\rSalvatore Mule <015306>, 9/13/2013: Closed defect; App#50000524 tested defect and working as designed.\\r\\r________________________________________\\rTamara Osifchin <018494>, 9/13/2013: Per Jeddalyn fix was to\"We added a chart to add in the .50 thats supposed to be added when a mileage is over 80000. We accidentally missed that part in the rate sheet that you initially gave us.\"\\r  \\r\\r________________________________________\\rSalvatore Mule <015306>, 9/13/2013: Ok to remove Alimony,Disabled, Bank full time employee, Dealership Employee, Owner(self employed) as they are not in the drop down box for either RouteOne or DealerTrack.  \\r  \\r\\r________________________________________\\rSalvatore Mule <015306>, 9/13/2013: Above note does not belong to this defect.'] \n",
      "\n",
      "def:  140 comment:  [u'Tamara Osifchin <018494>, 9/10/2013: updated with CMSI issue number and estimated fix date\\r\\r________________________________________\\rTamara Osifchin <018494>, 9/10/2013: app 487 is a business app with a guarantor\\r\\r________________________________________\\rTamara Osifchin <018494>, 9/10/2013: medium priority because its more of a display issue at this point.  the extra rules are not triggering so not stopping anything.\\r\\r________________________________________\\rTamara Osifchin <018494>, 9/11/2013: standard functionality isto display all completion rules not just those that are applicable to an application.  This is different from tolerance rules;  only applicable tolerance rules are displayed.   Assigning back to Mary to close.\\r\\r________________________________________\\rMary Lichtenberger <011798>, 9/11/2013: Ok to close'] \n",
      "\n",
      "def:  141 comment:  [u'Tamara Osifchin <018494>, 9/11/2013: Jeddalyn to follow upwith TA that Lauren was working with.  Blue items might need a meeting. eta is for an update from Lauren.\\r\\r________________________________________\\rTamara Osifchin <018494>, 9/20/2013: meeting scheduled for9/20 with david and CMSI so changed eta to 9/20\\r\\r________________________________________\\rTamara Osifchin <018494>, 9/30/2013: Changed eta to 10/1based on 9/27 discussion with Pierre from CMSI.\\r\\r________________________________________\\rTamara Osifchin <018494>, 10/1/2013: Moved to Very High because this is blocking testing.\\r\\r________________________________________\\rTamara Osifchin <018494>, 10/3/2013: updated eta to 10/7based on David P/Pierre meeting this morning\\r\\r________________________________________\\rTamara Osifchin <018494>, 10/7/2013: Per Jeddalyn there is still an issue with one specific rule that does not display correctly.\\r\\r________________________________________\\rBradley Goldowsky <015304>, 10/8/2013: Closing defect.Decision Rules have been updated and corrected. New defects are being logged on specific rule failures.'] \n",
      "\n",
      "def:  142 comment:  [u'Tamara Osifchin <018494>, 9/11/2013: fixed will let Tom close\\r\\r________________________________________\\rTom Sokolski <015424>, 9/12/2013: retested and closed'] \n",
      "\n",
      "def:  143 comment:  [u\"Tamara Osifchin <018494>, 9/11/2013: Per Jeddalyn the rules listed are for application entry.  Jeddalyn will look into whether there are completion rules for business.  eta is for answer to that question.\\r\\r________________________________________\\rTamara Osifchin <018494>, 9/11/2013: Per Jeddalyn there are no completion rules for Business.  Assigning to Mary to decide what to do.\\r\\r________________________________________\\rMary Lichtenberger <011798>, 9/17/2013:  Working with my team to see what Rules should be placed or created to cover business data.  \\r\\r________________________________________\\rTamara Osifchin <018494>, 10/1/2013: Moved to Low severity and gave it a 10/9 eta for Mary to close after she returns from vacation because I think the business decided they would not request completion rules for business fields.  Ok'd this with Tom in 10/1 mail.\\r\\r________________________________________\\rTom Sokolski <015424>, 10/4/2013: closed\"] \n",
      "\n",
      "def:  144 comment:  [u'Tamara Osifchin <018494>, 9/11/2013: assigning to CMSI to investigate. eta is for fix.\\r\\r________________________________________\\rTamara Osifchin <018494>, 9/13/2013: moved to Fixed bcs this is RforCT in the 9/13 CMSI issue list.\\r\\r________________________________________\\rMary Lichtenberger <011798>, 9/16/2013: This rule did triggerred on APP 50000542.  Closing defect'] \n",
      "\n",
      "def:  145 comment:  [u'Tamara Osifchin <018494>, 9/11/2013: Mary changed her password today and this is happening intermittently since then. Can log back in again.  Jeddalyn will investigate and monitor.\\r\\r________________________________________\\rTamara Osifchin <018494>, 9/12/2013: Per Jeddalyn 9/12 mail:The Element User_ID is undefined in CLIENT error normally means that the user has been in the application and inactive too long and has effectively \"timed out.\" There is a \"time out\" feature in Origenate 8.8 which prevents this error from happening.   We don\\'t know the length of the timeout.  There is only one client on 8.8 now.  \\r\\r________________________________________\\rTamara Osifchin <018494>, 9/12/2013: Since no impact on anything Mary can close.\\r\\r________________________________________\\rMary Lichtenberger <011798>, 9/16/2013: Closing defect'] \n",
      "\n",
      "def:  146 comment:  [u'Tamara Osifchin <018494>, 9/12/2013: Expected result is autodecline when either or both score is < 620\\r\\r________________________________________\\rTamara Osifchin <018494>, 9/20/2013: updated to 9/23.  might be ready for client test today.\\r\\r________________________________________\\rBooker Vann <017804>, 9/20/2013: set to fixed -the code is now taken into consideration for both the app and co-app scores.. \\r\\r________________________________________\\rBradley Goldowsky <015304>, 9/23/2013: Retested and passed.Closing defect.'] \n",
      "\n",
      "def:  147 comment:  [u\"Tamara Osifchin <018494>, 9/12/2013: OFAC match should automatically produce a stipulation to check the OFAC name but the stip doesn't show up until app is decisioned.  But the OFAC decision rule should have triggered too and it didn't.\\r\\r________________________________________\\rSalvatore Mule <015306>, 9/12/2013: Stip does not appear on the decision scree as well.\\r\\r________________________________________\\rTamara Osifchin <018494>, 9/16/2013: Moved to fixed bcs this is RfotCT on 9/16 issue list\\r\\r________________________________________\\rSalvatore Mule <015306>, 9/16/2013: Closed defect, App#50000546, see attachments.\"] \n",
      "\n",
      "def:  148 comment:  [u'Tamara Osifchin <018494>, 9/12/2013: 16th is for update.  Sam will attach some screenshots.\\r\\r________________________________________\\rSalvatore Mule <015306>, 9/17/2013: Closed item: Recd e-mail from jeddalyn, test script was incorrect. Retested with correct $amount and working as designed, see attachment.'] \n",
      "\n",
      "def:  149 comment:  [u\"Tamara Osifchin <018494>, 9/13/2013: CMSI is saying it has something to do with network traffic issues.  Jeddalyn will talk to the product manager as to next steps.  There is a newer product that can fix this issue but we don't have it.  We are using 8.7.11 version of Config Mgr.  Jeddalyn connects through database not web service so is not seeing this error. Eta is for more info.\\r\\r________________________________________\\rTamara Osifchin <018494>, 9/20/2013: Per CMSI this is not going to be fixed.\\r\\r________________________________________\\rTamara Osifchin <018494>, 9/20/2013:9/20 mail from Jeddalyn : I was initially informed it MAY be due to network traffic but upon further investigation and conversation with CMSI, it has been determined that it is a development issue that will be addressed at a later time. \\r  \\r\\r________________________________________\\rTamara Osifchin <018494>, 9/24/2013: Changed Reproducible to N because this has not happened in over a week.  Also to indicate this should go in the 'Monitoring' bucket.\\r\\r________________________________________\\rTom Sokolski <015424>, 10/16/2013: known issue going into production\\r  \\r\\r________________________________________\\rTamara Osifchin <018494>, 10/29/2013: Can close because this is now on the Known Issue list and the fix would be to get a new ECM which is a different application than Config Mgr but serves the same purpose.\"] \n",
      "\n",
      "def:  150 comment:  [u'Salvatore Mule <015306>, 9/13/2013: Application 50000528 copied a credit report from prev application dated 9/5\\r\\r________________________________________\\rTamara Osifchin <018494>, 9/13/2013: Currently configured for 30 days.  Sam saw the pull date in the credit bureau summary section and on the bureau itself.\\r\\r________________________________________\\rTamara Osifchin <018494>, 9/17/2013: Moved to fixed because this is RforCT in the 9/17 issue list\\r\\r________________________________________\\rBradley Goldowsky <015304>, 9/17/2013: Submitted fresh app to retest. App# 50000570 submitted 9/17/13. Same app needs to be resubmitted on 9/24 to verify no new bureau pulled and then resubmitted again on 9/25 to verify a new bureau is pulled. \\r\\r________________________________________\\rSalvatore Mule <015306>, 9/20/2013: Assigned to Brad\\r\\r________________________________________\\rBradley Goldowsky <015304>, 9/20/2013: See above, waiting the 7 days for the fresh app to age. \\r\\r________________________________________\\rBradley Goldowsky <015304>, 9/25/2013: Re-opened defect.Submitted app# 50000724 which is a duplicate of app# 50000570 which was originally submitted 8 days ago. Origenate was expected to have pulled a new bureau but instead is used the same bureau pulled 8 days ago on original submission. Added screenprint to attachments. \\r\\r________________________________________\\rTamara Osifchin <018494>, 10/2/2013: updated eta to 10/4\\r\\r________________________________________\\rBradley Goldowsky <015304>, 10/4/2013: Retested and passed.Used app# 50000962 and 50000963. These apps were previously submitted 7 and 8 days ago.'] \n",
      "\n",
      "def:  151 comment:  [u'Tamara Osifchin <018494>, 9/13/2013: CMSI to investigate why contract screen reverted back to 2.74\\r\\r________________________________________\\rTamara Osifchin <018494>, 9/18/2013: Per Rich buy rate does re-calculate based on the contract figures.\\r\\r________________________________________\\rTamara Osifchin <018494>, 9/20/2013: Deferring to Rich B. Eta is for update from Rich.\\r\\r________________________________________\\rBooker Vann <017804>, 10/7/2013: Set to fixed - CMSI made configuration so that the buy rate will re-calculate based on what is entered in the Contract Info screen. Before that, it was just the initial calculation and even if the figures in the Contract Info screen changed from what was originally approved. \\r  \\r________________________________________\\rTom Sokolski <015424>, 10/7/2013: closed this is working correctly.'] \n",
      "\n",
      "def:  152 comment:  [u'Tamara Osifchin <018494>, 9/13/2013: CMSI to fix.  Eta is for update bcs we are not sure wheter a rule can check for 2 distinct values.\\r\\r________________________________________\\rTamara Osifchin <018494>, 9/13/2013: Tom left field blank and it showed up as 0.\\r\\r________________________________________\\rTom Sokolski <015424>, 9/18/2013: ran a test for 0 and 99$ and the rule did not trigger as requested.  ran two tests for $98 and $100 and the rule did trigger as expected.  closing defect'] \n",
      "\n",
      "def:  153 comment:  [u'Tamara Osifchin <018494>, 9/16/2013: eta is for a fix\\r\\r________________________________________\\rMary Lichtenberger <011798>, 9/18/2013: This rule worked on APP 50000597(entered on 09/18/13).  Closing defect'] \n",
      "\n",
      "def:  154 comment:  [u\"Bradley Goldowsky <015304>, 9/16/2013: Same problem happened a second time with App# 50000549 which was submitted via Route One. \\r\\r________________________________________\\rTamara Osifchin <018494>, 9/16/2013: eta is for update\\r\\r________________________________________\\rTamara Osifchin <018494>, 9/20/2013: CMSI is investigating. new eta of 9/24 is for update\\r\\r________________________________________\\rTamara Osifchin <018494>, 10/7/2013: This is similar to #68 but68 happened when attempting to approve.\\r\\r________________________________________\\rTamara Osifchin <018494>, 10/7/2013: Jeddalyn found the CFSQLTYPE CF_SQL_NUMERIC error in DB for this app even though it did not appear on screen.  That was the error on decline defect that we've since closed.\\r\\r________________________________________\\rTamara Osifchin <018494>, 10/7/2013: Assigning to Brad to monitor for another week but can probably close.\\r\\r________________________________________\\rBradley Goldowsky <015304>, 10/10/2013: Changed to monitor status\\r\\r________________________________________\\rTom Sokolski <015424>, 10/16/2013: patch applied not testable.closed\"] \n",
      "\n",
      "def:  155 comment:  [u'Salvatore Mule <015306>, 9/16/2013: App# 50000559: Not working for auto approvals or auto declines. (two different dealersused)\\r\\r________________________________________\\rTamara Osifchin <018494>, 9/16/2013: Jeddalyn sent this to a TA.  asked whether the NAD list is for approvals or declines or both.  Per Dave P config mgr allows you to set up a dealer for no auto approve or no auto decline or both.  Might be evaluate logic that is overriding the Origenate logic. eta is for update\\r\\r________________________________________\\rTamara Osifchin <018494>, 9/17/2013: Per Jeddalyn mail: it is standard configuration to not look at a dealer auto decisioning flags. If you would like for config to look at these flags, it would be a Task Order. Please let me know how FNFG would like to proceed.\\r  \\r\\r________________________________________\\rTamara Osifchin <018494>, 9/17/2013: Brad will add this to the issue list.\\r\\r________________________________________\\rBradley Goldowsky <015304>, 9/18/2013: Added to issues list.Will keep defect open pending discussion\\r\\r________________________________________\\rTamara Osifchin <018494>, 10/1/2013: assigned toGary/Srinivas to indicate that this is a change request.  Changing Priority to Medium because per Brad this is more of a nice-to-have.\\r\\r________________________________________\\rBradley Goldowsky <015304>, 10/1/2013: Updated this defect and closed #210. \\r\\r\\r________________________________________\\rTom Sokolski <015424>, 10/16/2013: change request\\r\\r________________________________________\\rBooker Vann <017804>, 11/6/2013: Set to fixed - 11/4: logic was added to the auto decision configuration\\r\\r________________________________________\\rSalvatore Mule <015306>, 11/7/2013: Closed defect, Tested app# 50001778 with 549 Exp and application did not auto decline.'] \n",
      "\n",
      "def:  157 comment:  [u\"Salvatore Mule <015306>, 9/16/2013: App# 50000553 auto declined, see attachment.\\r  \\r\\r________________________________________\\rTamara Osifchin <018494>, 9/16/2013: Per Jeddalyn this app was auto-declined bcs it was out of footprint.  Sam will retest with an app that should pass the pre-bureau rules.  Can close this because it isn't a defect.\\r\\r________________________________________\\rSalvatore Mule <015306>, 9/20/2013: Assigned to Brad\\r\\r________________________________________\\rBradley Goldowsky <015304>, 9/20/2013: Added to the credit issues list pending discussion.\\r\\r________________________________________\\rBradley Goldowsky <015304>, 10/4/2013: Discussed with Jeddalyn yesterday and clarification was made of what was expected. \\r\\r________________________________________\\rTamara Osifchin <018494>, 10/4/2013: Jeddalyn will investigate. Fix is to make fraud list work like the reg O list.\\r\\r________________________________________\\rBooker Vann <017804>, 10/8/2013: Set to fixed - 10/8: added a fraud review rule based on watchlist\\r\\r________________________________________\\rBradley Goldowsky <015304>, 10/9/2013: Retested and passed.Closed defect.\"] \n",
      "\n",
      "def:  158 comment:  [u'Tamara Osifchin <018494>, 9/16/2013: Per David P it might be a display issue.  Saw this happen, logged out and in and the extra dealer did not show up.\\r\\r________________________________________\\rTamara Osifchin <018494>, 9/16/2013: Lauren thinks this is due to some lagtime in processing.  Will get more info from the developer.\\r\\r________________________________________\\rTamara Osifchin <018494>, 9/20/2013: Lauren has a question out to Dev but no response yet\\r\\r________________________________________\\rTom Sokolski <015424>, 10/16/2013: closed because of lagtime and two dealers do not exist now'] \n",
      "\n",
      "def:  159 comment:  [u\"Tamara Osifchin <018494>, 9/16/2013: Per David P this might be fixed by disabling automatic reset of IE settings.\\r\\r________________________________________\\rTamara Osifchin <018494>, 9/20/2013: Mary reset her IE config settings.  Has not had this problem since doing that but hasn't been inconfig manager much either.\\r\\r________________________________________\\rTamara Osifchin <018494>, 9/23/2013: Reduced it to Medium with Mary's ok.  Have to reduce the Very Highs to a manageable number.\\r\\r________________________________________\\rTamara Osifchin <018494>, 10/1/2013: Updated estimated fix date to 10/9 for Mary to retest when she gets back from vacation.\\r\\r________________________________________\\rMary Lichtenberger <011798>, 10/11/2013: Could not reproduce error. Closing.\"] \n",
      "\n",
      "def:  160 comment:  [u'Tamara Osifchin <018494>, 9/20/2013: CMSI is working on this.  New eta of 9/23 is for fix.\\r\\r________________________________________\\rBooker Vann <017804>, 9/23/2013: Set to fixed- tolerance rule with contract vs approval date fixed \\r  \\r\\r________________________________________\\rMary Lichtenberger <011798>, 9/23/2013: Rule worked properly for APP 50000675.  Closing'] \n",
      "\n",
      "def:  161 comment:  [u'Tamara Osifchin <018494>, 9/17/2013:assigning to CMSI jeddaly still needs to look into.  \\r\\r________________________________________\\rBooker Vann <017804>, 9/20/2013: set tofixed - buydown is now being deducted from dealer proceeds\\r  \\r\\r________________________________________\\rTom Sokolski <015424>, 9/20/2013: The buydown is being deducted but is not showing in the total deductions box.  added a new attachment reopening\\r\\r________________________________________\\rTamara Osifchin <018494>, 9/25/2013: Tom will close based on explanation in 9/25 Jeddalyn mail.  Was a nice to have but apparently the system can not do this. Attached mail chain.\\r\\r________________________________________\\rTom Sokolski <015424>, 9/26/2013:  per jeddalyn It looks like that part is not controlledby configuration. If you manually enter in Discount/Assignment Fee/Misc Deductions then it will automatically update the TotalDeductions field but it doesnt look like buydowns are a part of this calculation.     It is taking the fees off correctly so i am closing.'] \n",
      "\n",
      "def:  163 comment:  [u'Tamara Osifchin <018494>, 9/17/2013: Tom will add new attachments.  Fix would be to show either buy down or reserve but not both.\\r\\r________________________________________\\rTom Sokolski <015424>, 9/17/2013: updated screen shots.\\r\\r________________________________________\\rBooker Vann <017804>, 9/20/2013: set to fixed - added a logic to update a field in the database\\r  \\r\\r________________________________________\\rTom Sokolski <015424>, 9/20/2013:  this has been corrected.screen shots attached 50000669'] \n",
      "\n",
      "def:  164 comment:  [u'Tamara Osifchin <018494>, 9/20/2013: Jeddalyn sent an email on9/18.  Appears to be a non issue.  Will check with Sam.\\r\\r________________________________________\\rBradley Goldowsky <015304>, 9/23/2013: re-tested with app#50000680. Originally required approval concurrence with PTI over 15%. I increased income to drop PTI to under 15% and was approvable as a Level 2 analyst. Closed defect.'] \n",
      "\n",
      "def:  165 comment:  [u'Tamara Osifchin <018494>, 9/18/2013: fix should be to not auto-decline but instead just trigger the rule. eta is for update\\r\\r________________________________________\\rTamara Osifchin <018494>, 9/20/2013: eta is up to date\\r\\r________________________________________\\rBooker Vann <017804>, 9/23/2013: Set to fixed - collat exceeds 50,000 will no longer auto decline\\r\\r________________________________________\\rBradley Goldowsky <015304>, 9/23/2013: Verified fixed and now works as expected. App# 50000683. Closing defect.'] \n",
      "\n",
      "def:  166 comment:  [u'Tamara Osifchin <018494>, 9/18/2013: similar to defect 165 in that it should flag the rule but not auto-decline.\\r\\r________________________________________\\rTamara Osifchin <018494>, 9/20/2013: eta is up to date\\r\\r________________________________________\\rBooker Vann <017804>, 9/23/2013: Set to fixed - app with <670will no longer auto decline \\r\\r________________________________________\\rBradley Goldowsky <015304>, 9/23/2013: Retested and verified that is now works as expected. App# 60000684. Closed defect.'] \n",
      "\n",
      "def:  167 comment:  [u'Tamara Osifchin <018494>, 9/18/2013: app 604 as in attachment. Origenate should act on the higher score of the two.  Since the co-applicant is over 680, there should be no decision rule and no auto-decline. eta is for update\\r\\r________________________________________\\rTamara Osifchin <018494>, 9/20/2013: eta is up to date\\r\\r________________________________________\\rBooker Vann <017804>, 9/23/2013: Set to fixed - applicant < 680,co-app > 680 will no longer auto decline\\r  \\r\\r________________________________________\\rBradley Goldowsky <015304>, 9/23/2013: Re-opened defect.The application no longer auto-declines which is as expected butthe review rule does show for the applicant who has a creditscore below a 680. The review rule should not show since the applicant score is above a 680. e-opened defect from fixed status.The defect was partially fixed. The application no longer auto-declines, but the review rule still appears for the credit scoreeven though the applicant is above a 680. In a situation where the applicant or co-applicant score is below a 620, the application should auto-decline. \\r\\r________________________________________\\rBradley Goldowsky <015304>, 9/23/2013: Recevied email fromJeddalyn that this would require a change request. Emailed Pat and Peter to determine if the current setup is acceptable. Awaiting to hear back. \\r\\r________________________________________\\rBradley Goldowsky <015304>, 9/23/2013: Credit is OK with the review rule showing on applications. Closing defect.'] \n",
      "\n",
      "def:  169 comment:  [u'Tamara Osifchin <018494>, 9/18/2013: Similar to another defect logged by Brad.  Moving to Very High bcs it is hindering testing. Eta is to follow up with Dev team\\r\\r________________________________________\\rTamara Osifchin <018494>, 9/19/2013: original defect is 83. Might be able to close this as a duplicate.\\r\\r________________________________________\\rBradley Goldowsky <015304>, 9/20/2013: Closed this defect as it is a duplicate of #83.'] \n",
      "\n",
      "def:  170 comment:  [u'Tamara Osifchin <018494>, 9/18/2013: RO should display app as pending.\\r\\r________________________________________\\rBradley Goldowsky <015304>, 9/24/2013: Retested and verified defect fixed. Closing defect.'] \n",
      "\n",
      "def:  171 comment:  [u\"Tamara Osifchin <018494>, 9/19/2013: Apps have stayed lockedall day.  The Pending status in RO is correct, but the apps can notbe worked on.  Both of these deals were expected to autodeclined.  Other apps submitted with different applicants from RO today were processed by Origenate.  So this problem might berelated to data in the app. eta is for update.\\r\\r________________________________________\\rTamara Osifchin <018494>, 10/7/2013: Will probably have to add to the can't reproduce/can't fix list\\r\\r________________________________________\\rTamara Osifchin <018494>, 10/7/2013: No additional info. Assigned to Lauren.\\r\\r________________________________________\\rTamara Osifchin <018494>, 10/10/2013: 10/15 is for update\\r\\r________________________________________\\rTom Sokolski <015424>, 10/16/2013: copied app in R1 and system did not lock. closed\"] \n",
      "\n",
      "def:  172 comment:  [u'Tom Sokolski <015424>, 10/3/2013: closed same as 52'] \n",
      "\n",
      "def:  173 comment:  [u'Booker Vann <017804>, 9/25/2013: Set to fixed -Check added trade rule _ build related \\r\\r________________________________________\\rTom Sokolski <015424>, 9/27/2013: has not happened to me since 8/9/13 closed.'] \n",
      "\n",
      "def:  174 comment:  [u\"Tamara Osifchin <018494>, 9/19/2013: 614 was found by the duplicate app check but search from the my deals screen does not.  614 was approved and Tom was in contract info at the timehe double clicked.  high priority because app is not able to be worked.  eta is for update\\r\\r________________________________________\\rTamara Osifchin <018494>, 10/3/2013: Added 10/3 mail from Jeddalyn and moved eta to 12/25 for discussion at the can't reproduce/can't fix meeting today\\r\\r________________________________________\\rTom Sokolski <015424>, 10/10/2013: app 50001155 was approved i went back to underwriting screen and then to edit application.  I changed the dealer and reapproved the deal.  The deal is now not in my deals queue and can not be found in asearch. \\r\\r________________________________________\\rTom Sokolski <015424>, 10/16/2013:  app is now viewable.configuration change was made. deals were in main dummyqueue. CMSI will monitor in production. closed\"] \n",
      "\n",
      "def:  175 comment:  [u'David Pepe <005778>, 9/19/2013: Emailed to Lauren and Jeddalyn at CMSI\\r\\r________________________________________\\rTamara Osifchin <018494>, 9/19/2013:  Lauren needs to defer to Rich.  eta is for update.\\r\\r________________________________________\\rDavid Pepe <005778>, 9/24/2013: Closing Defect ,now have access to function\\r\\r________________________________________\\rTamara Osifchin <018494>, 9/25/2013: Changed the status to Closed for David'] \n",
      "\n",
      "def:  176 comment:  [u'Tamara Osifchin <018494>, 9/19/2013: testers use IE8.  eta is for update.  medium priority because Tom could X out and continue to work the application\\r\\r________________________________________\\rTom Sokolski <015424>, 9/20/2013: cleared browsing history and this has not happened again today.  closed defect'] \n",
      "\n",
      "def:  177 comment:  [u'Booker Vann <017804>, 9/25/2013: Set to fixed - stips are no longer being sent to RT1 \\r  \\r\\r________________________________________\\rBradley Goldowsky <015304>, 9/27/2013: Retested and passed.Closing defect.'] \n",
      "\n",
      "def:  178 comment:  [u'Tamara Osifchin <018494>, 9/20/2013: Assigning to CMSI. Deferring to Rich B. eta is for an update from Rich as to what can be configured now.\\r\\r________________________________________\\rTamara Osifchin <018494>, 10/1/2013: Assigned to Gary/Srinivas because this is now change request #5.\\r\\r________________________________________\\rTamara Osifchin <018494>, 10/31/2013: no update\\r\\r________________________________________\\rBooker Vann <017804>, 11/5/2013: Set to fixed - Loan to Income Ratio _ 10212013-F.doc \\r\\r________________________________________\\rSalvatore Mule <015306>, 11/5/2013: Where will I be able toverify this calculation?\\r\\r________________________________________\\rSalvatore Mule <015306>, 11/5/2013: Closed defect, it is located under additional info, other at the bottom of the screen and calculation is correct.'] \n",
      "\n",
      "def:  179 comment:  [u'Booker Vann <017804>, 9/25/2013: Set to fixed - Customer rate calculation in the What-if screen matches the configuration from the decision screen\\r\\r________________________________________\\rBradley Goldowsky <015304>, 9/25/2013: Retested and closed defect'] \n",
      "\n",
      "def:  180 comment:  [u'Tamara Osifchin <018494>, 9/20/2013: Sam adjusted the buyrate on the what if screen.\\r\\r________________________________________\\rBooker Vann <017804>, 9/25/2013: Set to fixed - Buy rate adjustment in the What-if screen\\r\\r________________________________________\\rBradley Goldowsky <015304>, 9/25/2013: Verified fixed, closed defect.'] \n",
      "\n",
      "def:  181 comment:  [u'Tamara Osifchin <018494>, 9/20/2013: Sam blanked out the buyrate on the what if screen and it defaulted to 0 but should default to rate on rate sheet.  Lauren will investigate whether this is possible.  eta is for more info.\\r\\r________________________________________\\rBooker Vann <017804>, 9/25/2013: Set to fixed -Buy rate assignment in the What-if screen\\r\\r________________________________________\\rBradley Goldowsky <015304>, 9/25/2013: Verified fixed, closing defect. App# 729'] \n",
      "\n",
      "def:  182 comment:  [u'Tamara Osifchin <018494>, 9/20/2013: Fix is to reorder fields and remove Frequency field.  eta is for fix.\\r\\r________________________________________\\rTom Sokolski <015424>, 10/17/2013: would be a change request. can talk about it with credit. cmsi considering roll out on a future release.\\r\\r________________________________________\\rTom Sokolski <015424>, 10/17/2013: closing will wait for afuture release'] \n",
      "\n",
      "def:  183 comment:  [u\"Tamara Osifchin <018494>, 9/23/2013: Lauren sent a mail to Rich to follow up.  Per Lauren this can't be fixed with Config Mgr, needs a code change.  Rich just updated a master table --deleted a record from a master table.  Lauren will find out if this change would be overwritten with generic Origenate releases going forward.  Lauren will copy Gary on Rich mails.  Eta is for more info from Rich.\\r\\r________________________________________\\rBooker Vann <017804>, 9/24/2013: Set to fixed - Trust removed from the MSTR tablemanually\\r\\r________________________________________\\rMary Lichtenberger <011798>, 9/24/2013: Trust has been removed. Tested on APP50000702 (entered on 9/24/13).  Closing \\r\\r________________________________________\\rTamara Osifchin <018494>, 9/25/2013: Attached mail in which Rich says As long as no new Master Business Type records are introduced, then no. table will not be overwritten\"] \n",
      "\n",
      "def:  184 comment:  [u'Tamara Osifchin <018494>, 9/23/2013: Per Rich this can be configured and to create a defect for this.  \\r\\r________________________________________\\rBradley Goldowsky <015304>, 9/30/2013: Reviewed with CMSI on Friday and we found an easy workaround which works well.Closing this defect. \\r\\r________________________________________\\rBradley Goldowsky <015304>, 9/30/2013:'] \n",
      "\n",
      "def:  185 comment:  [u'Tamara Osifchin <018494>, 9/23/2013: Per Rich this can be a defect does not need to be a change request.\\r\\r________________________________________\\rBooker Vann <017804>, 9/24/2013: Set to fixed - Employment verification screen fields added (Note: youwill see an additional field in the verif screen named FNFG Code _ part of the MISER reports that willtakeplace this week)\\r\\r________________________________________\\rMary Lichtenberger <011798>, 9/24/2013: Phone Numbers fields were upated but is it possible to havethem pre-populate with the data from application entry? (Please see screen shot)\\r  \\r\\r________________________________________\\rTamara Osifchin <018494>, 9/24/2013: Lauren 9/24 mail: \"These new fields are configured to reflect the application information on the verification screen. Application #50000705 does not appear to have a business number entered on the application entry screen.\"\\r  \\r\\r________________________________________\\rBooker Vann <017804>, 9/25/2013: Set to fixed - add extra fields in Employment Verification screen\\r  \\r\\r________________________________________\\rMary Lichtenberger <011798>, 9/25/2013: Attaching mail with Lauren from 9/24/2013.  There were phone numbers set in the application entry.  \\r\\r________________________________________\\rBooker Vann <017804>, 9/26/2013: Set to fixed - employment verification field added\\r\\r________________________________________\\rMary Lichtenberger <011798>, 9/26/2013: Closing defect as fields are added- the items are still not prefilling but will open seperate defect for that.'] \n",
      "\n",
      "def:  186 comment:  [u'Booker Vann <017804>, 9/24/2013: Set to fixed - Removal of counteroffer notice \\r\\r________________________________________\\rMary Lichtenberger <011798>, 9/24/2013: Correct on APP 50000702. Closing'] \n",
      "\n",
      "def:  187 comment:  [u'Tamara Osifchin <018494>, 9/23/2013: Lauren will try to get this into tonight.\\r\\r________________________________________\\rTamara Osifchin <018494>, 9/24/2013: Lauren 9/24 mail: \"I have confirmed that we are not able to re-order the menu items.\"\\r  \\r\\r________________________________________\\rTamara Osifchin <018494>, 10/7/2013: Tom will close for Mary.\\r\\r________________________________________\\rTom Sokolski <015424>, 10/7/2013: closed'] \n",
      "\n",
      "def:  188 comment:  [u'Tamara Osifchin <018494>, 9/23/2013: Will also be a Customer Info item after Log Contract before ContractInfo.  Customer Info is to support Miser interface.  Will also add Customer Info to the ApplicationManager menu screen on the Credit side.\\r\\r________________________________________\\rBooker Vann <017804>, 9/24/2013: Set to fixed -  Order on contract overview screen \\r  \\r\\r________________________________________\\rMary Lichtenberger <011798>, 9/24/2013: Correct on APP 50000702. Closing'] \n",
      "\n",
      "def:  189 comment:  [u'Bradley Goldowsky <015304>, 9/24/2013: Received email and sent response for clarification to Lauren.\\r\\r________________________________________\\rBooker Vann <017804>, 9/26/2013: Set to fixed - pre-defined comment added \\r\\r________________________________________\\rBradley Goldowsky <015304>, 9/26/2013: Retested and closed defect. \\r\\r________________________________________\\rTamara Osifchin <018494>, 10/7/2013: updated vendor defect id'] \n",
      "\n",
      "def:  190 comment:  [u'Tamara Osifchin <018494>, 9/23/2013: Fix is to change thesecurity profile for Underwriting, Supervisor and Loan Processorto see the full SSN in the bureau section.    Brad to send email withthese instructs to Jeddalyn.\\r\\r________________________________________\\rBradley Goldowsky <015304>, 9/23/2013: Email sent\\r\\r________________________________________\\rBooker Vann <017804>, 9/24/2013: Set to fixed - Underwriting,Loan Processing and Supervisor security profiles can now see unmasked SSN in the bureau \\r  \\r\\r________________________________________\\rBradley Goldowsky <015304>, 9/24/2013: Tested and verified fixed. Closing defect.'] \n",
      "\n",
      "def:  191 comment:  [u'Tamara Osifchin <018494>, 9/25/2013: fix had to do with removing a max markup of 2.5 to no max markup but we would like max markup to be different for different users.  Will create a new defect if needed.\\r\\r________________________________________\\rBradley Goldowsky <015304>, 9/26/2013: Verified fixed, closed defect'] \n",
      "\n",
      "def:  192 comment:  [u'Tamara Osifchin <018494>, 9/26/2013: caused by CIS update. Bounce fixed the problem can close\\r\\r________________________________________\\rBradley Goldowsky <015304>, 9/26/2013: Issue corrected, closing defect.'] \n",
      "\n",
      "def:  193 comment:  [u'Tamara Osifchin <018494>, 9/26/2013: Very high sev for funding but a 10/4 fix date because MISER work is priority\\r\\r________________________________________\\rTamara Osifchin <018494>, 10/4/2013: updated eta to 10/9\\r\\r________________________________________\\rTamara Osifchin <018494>, 10/9/2013: half are configured, one is waiting on the contract fields to be configured, and the rest are change requests.  Jeddalyn will send thebreakdown.  New eta 10/11 for the half and the one.\\r\\r________________________________________\\rTamara Osifchin <018494>, 10/11/2013: the ones are not change requests are in QS testing\\r\\r________________________________________\\rMary Lichtenberger <011798>, 10/18/2013: Will discuss with Tamara if this is ok to close if we open a different defect to cover the CR. \\r\\r________________________________________\\rBooker Vann <017804>, 10/23/2013: Set to fixed - 10/22: rules added and removed based on FNFG/CMSI discussion. Note: only the non-change request items (green) wereaddressed\\r\\r________________________________________\\rTom Sokolski <015424>, 10/23/2013: all non change request rules have been configured.GAP rules were originally change requests but then we were told at cmsi meeting that they would no longer be change requests \\r\\r________________________________________\\rTom Sokolski <015424>, 10/24/2013: net trade is less than $0 is still in the tolerance rules Rule ID 18.   \\r\\r________________________________________\\rTamara Osifchin <018494>, 10/24/2013: fix will probably be ported EOD 10/25\\r\\r________________________________________\\rBooker Vann <017804>, 10/25/2013: Set to fixed - removal of the tolerance rule-- net trade is less than $0 is still in the tolerance rules  Rule ID 18.  \\r\\r________________________________________\\rTom Sokolski <015424>, 10/28/2013: rule is no longer in the list. closed'] \n",
      "\n",
      "def:  194 comment:  [u'Tamara Osifchin <018494>, 9/26/2013: Jeddalyn thinks they can separate dup app info into applicant and co-applicant.  Medium priority because it is working as is but would be nice to have this broken out.  \\r\\r________________________________________\\rBradley Goldowsky <015304>, 10/10/2013: Retested and passed. App# 50001161. Closed defect.'] \n",
      "\n",
      "def:  195 comment:  [u\"Tamara Osifchin <018494>, 9/26/2013: Making very high sevbecause it will affect/block alot of testing.\\r\\r________________________________________\\rTamara Osifchin <018494>, 10/2/2013: new eta of 10/3\\r\\r____________________________________\\rTamara Osifchin <018494>, 10/3/2013: Jeddalyn sent a mail to Tom about this defect.  Linda will look it over.  Assigned back to Tom.\\r\\r________________________________________\\rTamara Osifchin <018494>, 10/4/2013:  Tom still working on where the fields should display on the screen.  new eta is 10/7.\\r\\r________________________________________\\rTamara Osifchin <018494>, 10/7/2013: Tom to schedule meeting.\\r\\r________________________________________\\rTamara Osifchin <018494>, 10/8/2013: Attached Stacy's email and assigned back to CMSI\\r\\r________________________________________\\rTamara Osifchin <018494>, 10/8/2013: new eta 10/11\\r\\r________________________________________\\rBooker Vann <017804>, 10/16/2013: Set to fixed -  10/11:fields requested added \\r\\r________________________________________\\rMary Lichtenberger <011798>, 10/17/2013:   I have verified all fields are on the Contract Info and the fields that were asked to be removed are removed.  This is ok for Tom to close. \\r\\r________________________________________\\rTom Sokolski <015424>, 10/17/2013: closed\"] \n",
      "\n",
      "def:  196 comment:  [u\"Tamara Osifchin <018494>, 9/26/2013: fix is to just remove it from Contract Info can leave collateral section of App Entry screen as is if VG by VIN is there now.  If it can't be removed altogether might just remove access to the VG by VIN option.\\r\\r________________________________________\\rTamara Osifchin <018494>, 9/26/2013: eta is for update\\r\\r________________________________________\\rBooker Vann <017804>, 9/27/2013: Set to fixed - Turned off VG by VIN config.\\r\\r________________________________________\\rTom Sokolski <015424>, 10/1/2013: removed button 50000851\"] \n",
      "\n",
      "def:  198 comment:  [u'Applicant is listed on fraud list but application did not show alert.\\r\\r________________________________________\\rTamara Osifchin <018494>, 9/27/2013: Opened yesterday but suggested Brad retested with a fresh applicant and it stil failed.\\r\\r________________________________________\\rBradley Goldowsky <015304>, 10/2/2013: Closing defect.Duplicate of defect # 157. Watch list and fraud list is the samething.'] \n",
      "\n",
      "def:  199 comment:  [u'Tamara Osifchin <018494>, 9/27/2013: sending this to Garybecause it requires a change request\\r\\r________________________________________\\rTamara Osifchin <018494>, 10/4/2013: These change requests were approved by Bill and Rich has given estimates.  Gary will follow up with Rich.\\r\\r________________________________________\\rTamara Osifchin <018494>, 10/31/2013: Per Dave this is still with Rich for estimates.  Lauren/Jeddalyn will follow up with Rich.\\r\\r________________________________________\\rBooker Vann <017804>, 11/4/2013: Set to fixed - 11/4: mapping added from DT to Origenate for Taxes, TTL, GAP, Credit Life,Disability\\r\\r________________________________________\\rSalvatore Mule <015306>, 11/4/2013: Retested app# 50001678,front end fees and back end fees are combined, front end fees of$1500 should be included in the LTV calculation.  See attachments\\r\\r________________________________________\\rTamara Osifchin <018494>, 11/4/2013: Map front end fees fromDealer Track to Doc Fees in Origenate. Map \"Back end fees\" inDealer Track to Other in Origenate.\\r\\r\\r\\r________________________________________\\rBooker Vann <017804>, 11/5/2013: Set a fixed - 11/4: mapping added from DT to Origenate for Taxes, TTL, GAP, Credit Life,Disability\\r11/5: mapped front end to doc fees, back end to other for DT\\r  \\r\\r________________________________________\\rSalvatore Mule <015306>, 11/5/2013: Closed defect: Retested app#50001713'] \n",
      "\n",
      "def:  200 comment:  [u'Tamara Osifchin <018494>, 9/27/2013: sending to Gary bcs this is a change request\\r\\r________________________________________\\rBooker Vann <017804>, 11/4/2013: Set to fixed - 11/4: mapping added from RT1 to Origenate for Taxes, Doc Fees, TTL, GAP,Credit Life, Disability\\r\\r________________________________________\\rSalvatore Mule <015306>, 11/4/2013: Closed defect, Retested app# 50001677'] \n",
      "\n",
      "def:  201 comment:  [u\"Tamara Osifchin <018494>, 9/27/2013: Lauren will look into whether change request or defect.  Eta is for update\\r\\r________________________________________\\rBooker Vann <017804>, 10/4/2013: Set to fixed - added 3 items to the delay notices\\r\\r________________________________________\\rTom Sokolski <015424>, 10/4/2013:  i get an error when i go into communications tab and try to print the delay notices.\\r\\r________________________________________\\rTamara Osifchin <018494>, 10/4/2013: Tamara to mail to Lisa K for a name.  This used to work.\\r\\r________________________________________\\rTamara Osifchin <018494>, 10/7/2013: Lauren's 10/4 email response: This appears to be internal to FNFGs network. It appears that your firewall is preventing you from viewing/accessing the webpage. Perhaps this should be sent toFNFGs internal tech support for more information.\\r\\r\\r  \\r\\r________________________________________\\rTamara Osifchin <018494>, 10/7/2013: Stefan noticed this is http not https Jeddalyn will look into.  10/8 is for update.\\r\\r________________________________________\\rTamara Osifchin <018494>, 10/11/2013: Dev passed it onto engineering.\\r\\r________________________________________\\rTom Sokolski <015424>, 10/17/2013: cmsi updated items willmove to fix \\r\\r________________________________________\\rBooker Vann <017804>, 10/17/2013: Set to fixed -10/3: added 3 items to the delay notices\\r\\r________________________________________\\rTom Sokolski <015424>, 10/22/2013: retested and 6 items do appear on the notice.  will close this defect for the 6 items and open a new defect for notice not able to be viewed. defect 277\"] \n",
      "\n",
      "def:  202 comment:  [u'Tamara Osifchin <018494>, 9/27/2013: Lauren will investigate.ETA is for update.\\r\\r________________________________________\\rTamara Osifchin <018494>, 10/7/2013: Per Jeddalyn the ProductTeam says this functionality is not supported.  Per Dave C this functionality was demonstrated in the training/demos.  We were told it was in place for another client. 10/9 eta is for an update.\\r\\r________________________________________\\rTamara Osifchin <018494>, 10/9/2013: Per Jeddalyn this ispossible but it requires a gateway change so Jeddalyn needs tofind a resource.  Initially thought it was not supported because this is not standard functionality.\\r\\r________________________________________\\rTom Sokolski <015424>, 10/17/2013: rich and mike will go over the change\\r\\r________________________________________\\rTamara Osifchin <018494>, 10/25/2013: Sam will attach mail with details to this defect. 10/28 is for update\\r\\r________________________________________\\rSalvatore Mule <015306>, 10/28/2013: Pre a meeting with Rich;Is it possible to append the rule parameter to the end of apre-defind stipulation,  that will replace the X in the middle of the stipulation.. \\r\\r________________________________________\\rTamara Osifchin <018494>, 10/28/2013: Sam will attach details of the original test to this defect and open a new defect for the idea of replacing the X in certain stips\\r\\r________________________________________\\rSalvatore Mule <015306>, 10/29/2013: Tested app# 50001428 and trade payoff info was not reflected in the comment section of DT, see attachments. New defect was created for replacing the X in certain stips.\\r\\r________________________________________\\rTamara Osifchin <018494>, 10/29/2013: Jeddalyn will get us a fix date after we discuss at 4 pm today and we get a better handle on the issue.  Not sure whether the issue is with the test or the code.\\r\\r________________________________________\\rTamara Osifchin <018494>, 10/29/2013: Sam will retest using the dropdown value for Payoff to generate a payoff amount in the comment to the dealer.\\r\\r________________________________________\\rSalvatore Mule <015306>, 10/30/2013: Closed defect, Retest app# 50001554'] \n",
      "\n",
      "def:  203 comment:  [u\"Tamara Osifchin <018494>, 9/30/2013: Per Jeddalyn, Route One test is down from Fri noon to Mon 8 am.  Route One has the option to do this but won't actually turn it off.  Brad will close.\\r\\r________________________________________\\rBradley Goldowsky <015304>, 9/30/2013: Closing defect. Unable to test. \\r\\r________________________________________\\rTamara Osifchin <018494>, 10/7/2013: added CMSI issue number\"] \n",
      "\n",
      "def:  204 comment:  [u'Test #1 Analyst Review - 50000811\\rTest#2 Concurrence - 50000812\\rTest#3 Approved/PENLOCG - 50000813\\rTest#4 Conditioned/PENLOG - 50000814\\rTest#5 AutoApproved/APPSCR - 50000815\\r\\r________________________________________\\rTamara Osifchin <018494>, 9/30/2013: Per Jeddalyn this is set to30.  David set this value to 2 on Thursday. Jeddalyn will investigate.  Eta is for update.\\r\\r________________________________________\\rTamara Osifchin <018494>, 10/1/2013: assigning to Brad toretest\\r\\r________________________________________\\rBradley Goldowsky <015304>, 10/2/2013: Needs retesting but must hold off until Friday. Parameter is set for 2 days for testing which means the results would only show over the weekend.Needs to be held off until at least Friday.\\r  \\r\\r________________________________________\\rTamara Osifchin <018494>, 10/7/2013: reassigned to Brad bcs itwas still assigned to CMSI\\r  \\r\\r________________________________________\\rTamara Osifchin <018494>, 10/7/2013: assigned back to CMSI tofix expired apps functionality.  attached mail chain, need to ask fornew eta.\\r\\r________________________________________\\rTamara Osifchin <018494>, 10/7/2013: CMSI needs to set up the cron job for this.\\r\\r________________________________________\\rBooker Vann <017804>, 10/8/2013: Set to fixed- cron job was set up to run nightly \\r\\r________________________________________\\rBradley Goldowsky <015304>, 10/10/2013: Tests 3,4&5 passed on retest but test 1&2 needs to be re-categorized and discussed by FNFG. Adding to the issues/questions list maintained by Gary.'] \n",
      "\n",
      "def:  205 comment:  [u'Incomeplete App #50000827\\rReqInfo App# 50000828\\r\\r________________________________________\\rTamara Osifchin <018494>, 9/30/2013: Per Jeddalyn this waschanged correctly in Config Manger but the cronjob to withdrawthe apps is not in TB.  Jeddalyn created a ticket to get it set up.  Eta is for fix.\\r\\r________________________________________\\rBooker Vann <017804>, 10/2/2013: Set to fixed - The nightly cronjob has been set for this defect, And your current configuration isset to 10 days.So you will see that any apps older than 10 dayswill now get withdrawn. The cron job runs nightly at 1am. \\r\\r\\r  \\r\\r________________________________________\\rBradley Goldowsky <015304>, 10/4/2013: Retested and passed.Closing defect.'] \n",
      "\n",
      "def:  206 comment:  [u\"Tamara Osifchin <018494>, 9/30/2013: CMSI thinks this is due to user being in system and system restarts without them logging outand back in.  We will give it a day and if we don't see it again will close.\\r\\r________________________________________\\rBooker Vann <017804>, 10/2/2013: Set to fixed - due to the bouncing of environment, non defect\\r\\r________________________________________\\rTom Sokolski <015424>, 10/3/2013: closed has not happened again\"] \n",
      "\n",
      "def:  207 comment:  [u\"Tamara Osifchin <018494>, 9/30/2013: Haven't seen this one since the bounce.  Just tried and was able to enter app.  Per CMSI this is another error that shows up when user stays logged in through bounce.\\r\\r________________________________________\\rBooker Vann <017804>, 10/2/2013: Set to fixed- due to the bouncing of environment, non defect\\r\\r________________________________________\\rTom Sokolski <015424>, 10/3/2013: have not received this error since the defect.\"] \n",
      "\n",
      "def:  208 comment:  [u'Tamara Osifchin <018494>, 9/30/2013: This is a change request so assigning to Gary.\\r\\r________________________________________\\rBooker Vann <017804>, 11/6/2013: Set to fixed - 11/4: logic was added to the auto decision configuration\\r\\r________________________________________\\rSalvatore Mule <015306>, 11/7/2013: Retested app# 50001780 and application did not auto decline, but can not locate FNFG customer indicator.\\r\\r________________________________________\\rSalvatore Mule <015306>, 11/7/2013: Closed defect: retested application after Dave P made changes.'] \n",
      "\n",
      "def:  209 comment:  [u\"Tamara Osifchin <018494>, 9/30/2013: Equifax isn't currently a primary or secondary for any zip code but we still want the option to pull from TU.\\r\\r________________________________________\\rBooker Vann <017804>, 10/3/2013: Aet to fixed - added EFX configuration\\r\\r________________________________________\\rBradley Goldowsky <015304>, 10/3/2013: Retested and passed.Closed defect.\"] \n",
      "\n",
      "def:  210 comment:  [u'Tamara Osifchin <018494>, 9/30/2013: FNFG will flag each dealer to be set up for auto decline or auto approval or both.  FNFG wants this to tie to auto decision logic.  Setting to Medium priority bcs per Dave C this is a nice to have.\\r\\r________________________________________\\rBradley Goldowsky <015304>, 10/1/2013: Closing this defect and updating Defect #155 for the link to be created.'] \n",
      "\n",
      "def:  211 comment:  [u'Tamara Osifchin <018494>, 9/30/2013: Changed to high because the part about the apps being locked is blocking alot of testing. Lauren thinks this is related to the new MISER interface code.  Willcheck with developers.  Eta is for update.\\r\\r________________________________________\\rTamara Osifchin <018494>, 9/30/2013: \\r\\r________________________________________\\rTamara Osifchin <018494>, 10/7/2013: Stacy is ok closing because we think this was due to the system problems on 9/30related to bouncing the application in the middle of testing.\\r\\r________________________________________\\rTamara Osifchin <018494>, 10/8/2013: assigned back to Tom toclose.\\r\\r________________________________________\\rTom Sokolski <015424>, 10/8/2013: closed\\r\\r________________________________________\\rStacy Krajewski <015425>, 10/11/2013: Today encountered the same issue of the status saying \"pending contract\" and the system locking the application after the loan has been funded \\r\\r________________________________________\\rStacy Krajewski <015425>, 10/11/2013: App number 50001178.Attached screen shot.\\r\\r________________________________________\\rTamara Osifchin <018494>, 10/11/2013: Lauren did not see any log entries related to this app.  Lauren made to changes to the task settings which might have caused this issue but they were underwriting tasks.  Also could have been caused by someone porting Miser code to the TB environment.  Moving to In progress because we can\\'t do anything more but monitor.  The incorrect status only happens when the app gets locked.\\r\\r________________________________________\\rTom Sokolski <015424>, 10/18/2013: Tasks were updated in cmsi, miser could have been possible issue. retested with newapp and the app booked and was moved to done task.  Done task now removes the app from the queue. closed'] \n",
      "\n",
      "def:  212 comment:  [u'Tom Sokolski <015424>, 10/18/2013: cmsi will change the mapping so both DT and R1 map to position \\r\\r________________________________________\\rTamara Osifchin <018494>, 10/23/2013: waiting on gateway resource. 10/24 is forupdate.\\r\\r________________________________________\\rTamara Osifchin <018494>, 10/28/2013: changed eta to 10/28 because this is waiting on gateway resource\\r\\r________________________________________\\rTamara Osifchin <018494>, 10/29/2013: This is with the TA. Will get a fix date by tomorrow 10/30.\\r\\r________________________________________\\rTamara Osifchin <018494>, 10/30/2013: set fix date to 11/5\\r\\r________________________________________\\rTamara Osifchin <018494>, 11/5/2013: Per Jeddalyn this is Ready for Client Testing as of10/30.  Assigning back to Tom to retest.\\r\\r________________________________________\\rTom Sokolski <015424>, 11/6/2013: tested both Dealer track and route 1 DealerTrack occupation is mapped to Position \\rRoute one Empl Title is maped to position.'] \n",
      "\n",
      "def:  214 comment:  [u'Tamara Osifchin <018494>, 9/30/2013: Stacy has to leave the Dealer Reserve screen and then go back in to see the Tolerance Rules that triggered. Was able to seeand waive tolerance rules that were triggered from previous screens.  Assigning Medium priority bcs the workaround is to get out of screen and get back in.\\r\\r________________________________________\\rBooker Vann <017804>, 10/1/2013: Set to fixed - eValuate bounce fixed issue\\r\\r________________________________________\\rTom Sokolski <015424>, 10/1/2013: app 853 did the same thing as before. reopening\\r\\r________________________________________\\rTamara Osifchin <018494>, 10/2/2013: Stefan will help out with this one.\\r\\r________________________________________\\rTamara Osifchin <018494>, 10/4/2013: Not sure about next steps for this one.  Might have to go into Prod as a known issue.  Users have to refresh the page. Could ask Jeddalyn what her refresh settings are.\\r\\r________________________________________\\rTamara Osifchin <018494>, 10/11/2013: Tom and Jeddalyn will compare IE settings when at CMSI next week.\\r\\r________________________________________\\rTom Sokolski <015424>, 10/17/2013: tested at cmsi and did not get issue, stacy will retest at fnfg\\r\\r________________________________________\\rTom Sokolski <015424>, 10/18/2013: stacy tested app 1302 and it also worked.  Closing defect.\\r\\r________________________________________\\rTamara Osifchin <018494>, 10/18/2013: No fix implemented by CSMI; no explanation as to why it started working.'] \n",
      "\n",
      "def:  215 comment:  [u'Tamara Osifchin <018494>, 9/30/2013: All of these happenedaround 2:30 today and these all happened after they logged out of IE cleared cookies and logged back in.  Tom will break these out into 3 defects.  Lauren can reproduce the error calculating values error.  Evaluate is currently down.  Lauren will investigate why Evaluate did not come up cleanly after bounce this afternoon.  There is more monitoring in Prod that would potentially catch this problem before users used the system.\\r\\r________________________________________\\rBooker Vann <017804>, 10/1/2013: Set to fixed - eValuate bounce fixed issue\\r\\r________________________________________\\rTom Sokolski <015424>, 10/1/2013: fixed and closed'] \n",
      "\n",
      "def:  216 comment:  [u'Tamara Osifchin <018494>, 9/30/2013: This is the same issueas 211 in that the apps are now locking after being BOOKED. CMSI dev says this is definitely related to MISER code.  Dev removed a record in TB to fix the problem.  Jeddalyn will send Fixed mail with fix description.\\r\\r________________________________________\\rBooker Vann <017804>, 10/1/2013: Set to fixed - eValuatebounce fixed issue\\r\\r________________________________________\\rTom Sokolski <015424>, 10/1/2013: fixed and closed'] \n",
      "\n",
      "def:  217 comment:  [u'Tamara Osifchin <018494>, 9/30/2013: Tom will send to Jeddalyn.  \\r\\r________________________________________\\rTom Sokolski <015424>, 10/18/2013: status after log contract should be contract verification. CMSI will investigate\\r\\r________________________________________\\rBooker Vann <017804>, 10/25/2013: Set to fixed - 10/24: changed the task team userlogic\\r\\r________________________________________\\rTom Sokolski <015424>, 10/28/2013: log a deal and checked the my deals queue now says contract verification'] \n",
      "\n",
      "def:  218 comment:  [u'Tamara Osifchin <018494>, 10/1/2013: eta is for fix\\r\\r________________________________________\\rBooker Vann <017804>, 10/8/2013: Set to fixed - 10/8: added contract activity status for DR and Funding\\r\\r________________________________________\\rTom Sokolski <015424>, 10/10/2013: fixed tested app 50001172'] \n",
      "\n",
      "def:  219 comment:  [u'Tamara Osifchin <018494>, 10/1/2013: Business number issue needs to go to dev team. Cell number fix will be ported today at 5.\\r\\r________________________________________\\rTom Sokolski <015424>, 10/18/2013: \\r\\r________________________________________\\rTom Sokolski <015424>, 10/18/2013: cmsi still working on both issues\\r\\r________________________________________\\rBooker Vann <017804>, 10/18/2013: 10/18: updated the query to pull business phone #from underwriting to the verification screen\\r\\r________________________________________\\rTom Sokolski <015424>, 10/23/2013: after reviewing the application we noticed that the phone number for business on a business application is also on the contract info screen sowe will not need it on the employment verfication screen.  Also there is a spot for mobile number but it is not prefilled with the cell number like the other fields are.  reopen\\r\\r________________________________________\\rTamara Osifchin <018494>, 10/23/2013: phone number for business will be taken out of contract info at 5 pm port tonight.  Missing cell number is because cell number was not mapped from RO correctly.  Per Jeddalyn it works correctly when cell number is entered through Origenate app entry. 10/28 is for the fix for the mapping from DT and RO.\\r\\r________________________________________\\rTamara Osifchin <018494>, 10/29/2013: This is with the TA. Jeddalyn will ask for a fix date 10/30.\\r\\r________________________________________\\rTamara Osifchin <018494>, 10/30/2013: set fix date to 11/5\\r\\r________________________________________\\rBooker Vann <017804>, 10/30/2013: Set to fixed - 10/18: updated the query to pull business phone # from underwriting to the verification screen\\r10/23: removed phone # field for business\\r10/30: mapping from DT/RT1 was updated to send mobile #s\\r\\r________________________________________\\rTom Sokolski <015424>, 10/30/2013: tested Route One and its still not showing a mobile number see attachments\\r\\r________________________________________\\rBooker Vann <017804>, 10/30/2013: set to fixed - 10/18: updated the query to pull business phone # from underwriting to the verification screen\\r10/23: removed phone # field for business\\r10/30: mapping from DT/RT1 was updated to send mobile #s\\r10/30: made update to include guarantor cellphone\\r\\r________________________________________\\rTom Sokolski <015424>, 10/31/2013: closed works for guarantors, apps and coapps'] \n",
      "\n",
      "def:  220 comment:  [u'Tamara Osifchin <018494>, 10/1/2013: Fix is to add the ability to select to fax the funding notice from the notification prompt in the screenshot.\\r\\r________________________________________\\rBooker Vann <017804>, 10/2/2013: Set to fixed - adding booking notification for Funding Notice/Funding Notice Business\\r\\r________________________________________\\rTom Sokolski <015424>, 10/3/2013: this has been added.'] \n",
      "\n",
      "def:  221 comment:  [u\"Tamara Osifchin <018494>, 10/1/2013: blocking workflow scripts. will be in tonight's port.\\r\\r________________________________________\\rBooker Vann <017804>, 10/2/2013: Set to fixed - Removal of the tolerance rule \\r\\r________________________________________\\rTom Sokolski <015424>, 10/2/2013: rule is removed\"] \n",
      "\n",
      "def:  222 comment:  [u\"Tamara Osifchin <018494>, 10/1/2013: suggested fix is to remove 1287.  Fix will be in tonight's build.\\r\\r________________________________________\\rTamara Osifchin <018494>, 10/1/2013: Tom to fix the test script for the 1009 problem.\\r\\r________________________________________\\rBooker Vann <017804>, 10/2/2013: Set to fixed - removal of rule 1287\\r\\r________________________________________\\rTom Sokolski <015424>, 10/2/2013: closed rule is removed\"] \n",
      "\n",
      "def:  223 comment:  [u\"Tamara Osifchin <018494>, 10/1/2013: fix is to remove rule 1287 and will be in tonight's port.  Tom to update test script.\\r\\r________________________________________\\rBooker Vann <017804>, 10/2/2013: Set to fixed - removal of rule1287\\r  \\r\\r________________________________________\\rTom Sokolski <015424>, 10/2/2013: closed rule no longer triggers\"] \n",
      "\n",
      "def:  224 comment:  [u\"Tamara Osifchin <018494>, 10/1/2013: difference is 5 digit zip vs9 digit zip, but the flag is on the bureau so doesn't necessarily have to do with the address data.  This rule triggers on that flag. Might want another rule that compares the actual address data. Medium priority because current rule is in place.  Lauren will get more info on the other rule.  Eta is for info.\\r\\r________________________________________\\rTamara Osifchin <018494>, 10/2/2013: Lauren 10/1 mail:Following up from the phone call yesterday, I have this additional information in regards to the specifics of our bureau mismatch rule that compares the bureau address against the Origenate information.\\r\\r\\rHeres a sample ofone of the versions of the rule checks. For the Street Name, City, and Zip its just checking for the first 3 characters to match. We could do that or we could do a straight match and the whole thing must be the same. \\r\\r\\r( (upper(EVAPP_ADDRESSINFO.STREETNUMBER) <>upper(EVAPP_BURHDR.STNUMBER_CA)) or\\r   (upper(substr(EVAPP_ADDRESSINFO.STREETNAME,1,3))<>upper(substr(EVAPP_BURHDR.STNAME_CA,1,3))) or\\r    (upper(substr(EVAPP_ADDRESSINFO.CITY,1,3)) <>upper(substr(EVAPP_BURHDR.CITY_CA,1,3))) or\\r    (upper(EVAPP_ADDRESSINFO.STATE) <>upper(EVAPP_BURHDR.STATE_CA)) or\\r    (upper(substr(EVAPP_ADDRESSINFO.ZIP,1,3)) <>upper(substr(EVAPP_BURHDR.ZIP_CA,1,3))))\\r  \\rAssigned back to Brad to decide whether this Business wants thisadditional rule.\\r\\r________________________________________\\rTamara Osifchin <018494>, 10/8/2013: Moved the eta out to10/10 because the Rich B meeting was postponed to 10/10\\r\\r________________________________________\\rBradley Goldowsky <015304>, 10/8/2013: Question reqardingconfiguration is on agenda with meeting w/ Rich. \\r\\r________________________________________\\rTom Sokolski <015424>, 10/17/2013: change rule to zip first 5,street number, street name, state.  CMSI will make this change. \\r\\r________________________________________\\rBooker Vann <017804>, 10/21/2013: Set to fixed -  10/17:updated the rule to look at difference between underwriting address vs bureau address\\r\\r________________________________________\\rSalvatore Mule <015306>, 10/21/2013: Retested app# 50001331,still reflecting address mismatch, see attachments.\\r\\r________________________________________\\rBooker Vann <017804>, 10/23/2013: Set to fixed - 10/17:updated the rule to look at difference between underwritingaddress vs bureau address\\r10/21: updated the rule to only look at the 1st 3 chars of streetname\\r\\r________________________________________\\rSalvatore Mule <015306>, 10/24/2013: Closed defect, Retested app# 50001398\"] \n",
      "\n",
      "def:  225 comment:  [u\"Tamara Osifchin <018494>, 10/1/2013: suggested fix is to remove rules 1282 and 1013.  One of these was for lenghth of VINand one was for special characters.  Tom will rewrite the scripts to expect the popup not the completion rule.  Will be fixed with tonight's port.\\r\\r________________________________________\\rBooker Vann <017804>, 10/2/2013: Set to Fixed - Removal of 1282 and 1013 rules\\r\\r________________________________________\\rTom Sokolski <015424>, 10/3/2013: closed both are removed \\r\\r________________________________________\\rTom Sokolski <015424>, 10/3/2013: reopening this because we do actually need 1013 to catch no vin being entered.   This rule was able to trigger before. \\rthanks \\r\\r________________________________________\\rTamara Osifchin <018494>, 10/3/2013: new fix date of today\\r\\r\\r  \\r\\r________________________________________\\rBooker Vann <017804>, 10/4/2013: Set to fixed - 10/1: removal for rule 1282 and 1013\\r10/3: re-added 1013\\r\\r________________________________________\\rTom Sokolski <015424>, 10/4/2013: 1013 is added.\"] \n",
      "\n",
      "def:  226 comment:  [u\"Tamara Osifchin <018494>, 10/1/2013: Tom will change the test script to reflect the new requirements.\\r\\r________________________________________\\rTamara Osifchin <018494>, 10/23/2013: updated eta to 10/23 based on Tom's 10/23 mail\\r\\r________________________________________\\rTom Sokolski <015424>, 10/24/2013: closed uploaded new script\"] \n",
      "\n",
      "def:  227 comment:  [u'Tamara Osifchin <018494>, 10/1/2013: No attachments or app id because this defect wascreated at the request of Rich at the Rich meetings over the past couple weeks. \"Information\" is the income field on the employment verification screen.  If there isa value inthat field, use that value, if blank, use the application income value.  Jeddalyn will discusswith TA.\\r\\r________________________________________\\rTamara Osifchin <018494>, 10/4/2013: Application PTI and DTI are based on monthlyincome no matter whether user enters annual or monthly.  Jeddalyn wants to knowwhether CMSI can make the PTI and DTI on the contract side also based on monthly, nomatter what income is entered on the contract side.  FNFG doesn\\'t want that because paper contract would have muliple types of income biweekly etc.  CMSI is saying either income on employment verification screen has to be hardcoded to monthly and have it enter into PTI and DTI or we can have flexible income frequency on emp verif screen.  Assigning back to FNFG to discuss.\\r\\r________________________________________\\rTom Sokolski <015424>, 10/18/2013: dropdown will be added to employment verf screen for pay cycles. that paycycle will be converted behind the scenes to calc pti and dti\\r  \\r\\r________________________________________\\rTom Sokolski <015424>, 10/23/2013: also need other income source, other income amt,other income interval added to employment verification screen\\r\\r________________________________________\\rTamara Osifchin <018494>, 10/23/2013: Per Jeddalyn TA will be available to do this Monday 10/28. 10/30 is for a fix.  Same resource as gateway changes.\\r\\r________________________________________\\rTamara Osifchin <018494>, 10/29/2013: This is with the TA. Jeddalyn will get a fix dateon 10/30.\\r\\r________________________________________\\rTamara Osifchin <018494>, 10/30/2013: set fix date to 11/5\\r\\r________________________________________\\rBooker Vann <017804>, 11/4/2013: Set to fixed - 11/1: added logic to PTI/DTI to update based on user input in Employment Verification screen\\r\\r________________________________________\\rTom Sokolski <015424>, 11/5/2013: Applicant second employment is still showing, we had discussed removing this section and adding the  applicant other income.   Its currently showng the other income fields twice and they are not completed with the info from Routeone.\\r\\r________________________________________\\rTamara Osifchin <018494>, 11/5/2013: 1) Lauren will remove the second instance of the other income fields bcs DT and RO only allow 1 instance. 2)  Lauren will remove the second employment section too.  3) Third part of fix is to map the other income field values from Route One and from Dealer Track.  Will get new fix date tomorrow.\\r\\r________________________________________\\rBooker Vann <017804>, 11/8/2013: Set to fixed - 11/1: added logic to PTI/DTI to update based on user input in Employment Verification screen\\r11/7: updated query to look at the correct field for Other Income\\r\\r________________________________________\\rTom Sokolski <015424>, 11/12/2013: when copying in info over you get a popup error that says value must be an integer.  you can delete the last two zeros and it will let it save. \\r\\r________________________________________\\rTamara Osifchin <018494>, 11/12/2013: Fix is for copy to copy value as a dollar value. \\r\\r________________________________________\\rTamara Osifchin <018494>, 11/13/2013: Moved to CMSI Dev\\r\\r________________________________________\\rTamara Osifchin <018494>, 11/18/2013: per Jeddalyn the copy fix will be out of Dev on12/6.  Tom to test without using the copy function.\\r\\r________________________________________\\rTom Sokolski <015424>, 11/19/2013: DTI and PTI are updating with info in the employmentverfication screen \\r\\r________________________________________\\rTamara Osifchin <018494>, 11/19/2013: Tom will close and open a new defect just forthe copy function\\r\\r________________________________________\\rTom Sokolski <015424>, 11/20/2013: closed created defect 361'] \n",
      "\n",
      "def:  228 comment:  [u'Tamara Osifchin <018494>, 10/1/2013: Looks like it is not calculating APR based on financed charges and amount financed. Expected actual to be 4.34 and parameter to be .125*4.34 in rule.\\r\\r________________________________________\\rTamara Osifchin <018494>, 10/4/2013: Jeddalyn 10/4 mail: sent an email to the client based on Mike\\'s email: the rule looks at APR%and APR CALC -- Entering the finance charges and total of payments for 4.34 doesnt make a difference for the \"APR (Calc)\"field.\\rTo determine the \"APR (Calc)\" field, it uses the contract amount,term, rate, days to first pmt, and closing date. This is the standard for the calc and the rule \\r\\r________________________________________\\rTamara Osifchin <018494>, 10/4/2013: Jeddalyn will get more info from the TA on Monday.\\r\\r________________________________________\\rTom Sokolski <015424>, 10/17/2013: cmsi changed in QS torecalc\\r\\r________________________________________\\rTom Sokolski <015424>, 10/17/2013: verified in qs that the calc is now correct. will retest in TB once its moved over. \\r\\r________________________________________\\rBooker Vann <017804>, 10/21/2013: Set to fixed - 10/17: made an update to APR(calc) calculation\\r\\r________________________________________\\rTom Sokolski <015424>, 10/22/2013: tested on 1352 and this is now working correctly'] \n",
      "\n",
      "def:  229 comment:  [u\"Tamara Osifchin <018494>, 10/1/2013: Suggested fix is to remove rule 1002 because it can't be triggered.  Also requestingLauren to get more information on the changes that have come insince this was originally delivered -- changes related to popups on required fields.  10/3 is for response from dev.  Moved to high bcs this is blocking testing of completion rules.\\r\\r________________________________________\\rTamara Osifchin <018494>, 10/1/2013: Tom to edit test script.\\r\\r________________________________________\\rBooker Vann <017804>, 10/2/2013: Set to fixed - removal of rule1002\\r\\r________________________________________\\rTom Sokolski <015424>, 10/2/2013: closed\"] \n",
      "\n",
      "def:  230 comment:  [u\"Tom Sokolski <015424>, 10/1/2013: will also block 44-49\\r\\r________________________________________\\rTamara Osifchin <018494>, 10/1/2013: question as to whether the cosigner rules apply to guarantors as well.  For this test they were able to delete the names of the guarantor and no rules triggered. Per Jeddalyn if the rules were configured they should trigger for guarantor, but Stacy deleted all data for a guarantor and the 2 rules about street name and something else didn't trigger either.   App 875 that had all blank values and no rules triggered.Eta is for an update.  So two fixes required -- configure the rest of the co-signer rules and have co-signer rules trigger for guarantors.\\r\\r________________________________________\\rTamara Osifchin <018494>, 10/1/2013: Lauren configured these rules for co-signers on 10/1: In addition added Completion Rules forCo-Signer(Guarantor). This list now includes:\\r\\r\\r-       Street Name Misssing\\r-       Time at Residence Missing\\r-       SSN Missing\\r-       Street Number Missing\\r-       First Name Missing\\r-       Last Name Missing\\r-       City Missing\\r  \\r\\r________________________________________\\rBooker Vann <017804>, 10/2/2013: Set to fixed - added additional completion rules for co-signer\\r\\r________________________________________\\rTom Sokolski <015424>, 10/3/2013: these new rules were entered\"] \n",
      "\n",
      "def:  231 comment:  [u'Tamara Osifchin <018494>, 10/2/2013: Assigning back to Stacy/Tom to retest.\\r\\r________________________________________\\rTom Sokolski <015424>, 10/11/2013: stacy retested\\r\\r________________________________________\\rTom Sokolski <015424>, 10/22/2013: closed'] \n",
      "\n",
      "def:  232 comment:  [u'Bradley Goldowsky <015304>, 10/3/2013: This has been fixed but may take some time to test. Can not use the same application as CMSI is using the same bureau as used in prev app and therefore may cause rule to trigger. Awaiting on Experian toprovide these test cases and can test at that time. \\r\\r________________________________________\\rBooker Vann <017804>, 10/3/2013: Set to fixed - Charge Off sare the currate = 9. Changes so rules do not look at that value\\r\\r________________________________________\\rBradley Goldowsky <015304>, 10/4/2013: Retested and passed,closing defect.'] \n",
      "\n",
      "def:  233 comment:  [u\"Salvatore Mule <015306>, 10/3/2013: changed severity to veryhigh, only happens on What if screen.\\r\\r________________________________________\\rTamara Osifchin <018494>, 10/7/2013: new eta of 10/9\\r\\r________________________________________\\rTamara Osifchin <018494>, 10/9/2013: waiting on response fromdev team.  will keep at 10/9\\r\\r________________________________________\\rTamara Osifchin <018494>, 10/10/2013: Developer has beenassigned to figure out why a field is missing from our database.\\r\\r________________________________________\\rTamara Osifchin <018494>, 10/11/2013: a sql script wasn't runwhen Origenate was upgraded so we need to have it run in TB.\\r\\r________________________________________\\rBooker Vann <017804>, 10/15/2013: Set to fixed - 10/14: ran scripts that originally were not ran during the upgrade\\r\\r________________________________________\\rSalvatore Mule <015306>, 10/21/2013: Closed defect, error message is gone.\"] \n",
      "\n",
      "def:  234 comment:  [u'Booker Vann <017804>, 10/3/2013: Set to fixed - gateway script updated \\r\\r________________________________________\\rTamara Osifchin <018494>, 10/3/2013: fix for another client was put in incorrectly in our gateway server which is shared by other clients. Lauren will find out if gateway is shared in Prod as well.\\r\\r________________________________________\\rTom Sokolski <015424>, 10/4/2013: closed has not happened again'] \n",
      "\n",
      "def:  235 comment:  [u\"Tamara Osifchin <018494>, 10/3/2013: We've used this calculator for weeks with no errors but this error just started showing up this week.  Low bcs we can use other calculators.  \\r________________________________________\\rTamara Osifchin <018494>, 10/3/2013: Similar problem occurred Monday when app was bounced but that had since started working again.  Also thought this might have to do with a bounce of Evaluate this morning but Stacy, Tom continued to see these errors through the afternoon.\\r  \\r\\r________________________________________\\rTom Sokolski <015424>, 10/9/2013: closed is working correctly\"] \n",
      "\n",
      "def:  236 comment:  [u'Tamara Osifchin <018494>, 10/4/2013: Bureau itself did not show mulitple SSNs.  Experian says this TTY has muliple SSNs.  Fix is to both trip the rule and show multiple SSNs on the TTY.\\r\\r________________________________________\\rTom Sokolski <015424>, 10/17/2013: CMSI still looking into \\r\\r________________________________________\\rDavid Pepe <005778>, 10/17/2013: The rule CBSSNoVar is working correctly as we would like.  The bureau returns the most currently confirmed SS#.  If this matches the application data the rule will not trigger.  Even if there are older SSNs in file this rule is only based off the most ciurrent SSN returned and will not trigger.  Confirmed with Credit Manager Peter McGill this is what he would like to happen. This ticket can be closed.'] \n",
      "\n",
      "def:  237 comment:  [u'Tamara Osifchin <018494>, 10/4/2013: FNFG charge shows on bureau.  There\\'s only one FNFG subscriber number.  \\r\\r________________________________________\\rBradley Goldowsky <015304>, 10/8/2013: Chargeoff flagged on application. Changing to re-open status so can be changed to say \"First Niagara Chargeoff\" instead of just \"chargeoff\"\\r\\r________________________________________\\rTamara Osifchin <018494>, 10/10/2013: New eta is 10/11. Fix isto create 2 different rules: 1) charge offs for FNFG and 2) other charge offs\\r\\r________________________________________\\rTamara Osifchin <018494>, 10/11/2013: in QS now so new etaof 10/15\\r\\r________________________________________\\rTom Sokolski <015424>, 10/18/2013: pending testing in qs \\r\\r________________________________________\\rDavid Pepe <005778>, 10/23/2013: Following up with credit bureaus and internally in bank to locate the numbers FNB uses when reporting credit to the main three bureaus.  CMSI states info previously provided may not be correct.  \\r\\r________________________________________\\rTamara Osifchin <018494>, 10/23/2013: Assigned to David with his ok.\\r\\r________________________________________\\rTamara Osifchin <018494>, 10/23/2013: the fix for this is only for Experian.  David will ask TU and Equifax for the FNFG member number in a separate action item.\\r\\r________________________________________\\rBooker Vann <017804>, 10/24/2013: Set to fixed -  10/8: added charge off rule\\r10/24: added member #s to look at XPN FNFG Chargeoff \\r\\r________________________________________\\rSalvatore Mule <015306>, 10/24/2013: Closed defect, Retested app# 50001400\\r\\r________________________________________\\rDavid Pepe <005778>, 10/25/2013: Attached numbers bank uses for reporting to all bureaus.'] \n",
      "\n",
      "def:  238 comment:  [u'Tamara Osifchin <018494>, 10/4/2013: Brad would like the Experian score displayed next to the Experian icon.\\r\\r________________________________________\\rTom Sokolski <015424>, 10/17/2013: cmsi still researching\\r\\r________________________________________\\rTamara Osifchin <018494>, 10/29/2013: Per Jeddalyn the EXP score did not show up on the original pull because the original pull errored out (timed out).  The TU score is displayed, and when user pulls EXP manually after TU is pulled the EXP and TU are still both displayed.  So the score seems to only not show when the call to the bureau errors out.  So we might need to find a test applicant that forces a second pull for reason such as < 3 trades or whatever....\\r\\r________________________________________\\rTamara Osifchin <018494>, 10/30/2013: Assigning to Sam to close.\\r\\r________________________________________\\rSalvatore Mule <015306>, 10/30/2013: Closed defect'] \n",
      "\n",
      "def:  239 comment:  [u'Tamara Osifchin <018494>, 10/4/2013: When Tom calculated with the APR checker the rule did not trigger.  APR checker is outside of Origenate.  FNFG will look at it first before passing on to CMSI.\\r\\r________________________________________\\rTom Sokolski <015424>, 10/16/2013: CMSI will update the calc for the rule to look at 30days.\\r\\r________________________________________\\rTamara Osifchin <018494>, 10/23/2013: Pierre is waiting on more info from Mike.  10/29 is for a fix.\\r\\r________________________________________\\rBooker Vann <017804>, 10/28/2013: Set to fixed - 10/25: corrected the rule parameter   \\r\\r________________________________________\\rTom Sokolski <015424>, 10/29/2013: app 1505 same figures as before and the rule no longer triggers. closed'] \n",
      "\n",
      "def:  240 comment:  [u'Booker Vann <017804>, 10/10/2013: Set to fixed - 10/10:removed Street # reqinfo for app/coapp/cosigner and keep currentlogic of rule\\r\\r________________________________________\\rBradley Goldowsky <015304>, 10/11/2013: Retested and failed.App# 50001181 Re-opened defect. \\r\\r________________________________________\\rTamara Osifchin <018494>, 10/11/2013: Current fix doesn\\'t workfor Route One because they only have one street address field. New fix request is to check both the street number field and the street name field for the value \"PO Box\".  Jeddalyn will ask whether this is possible.  eta is for update.\\r\\r________________________________________\\rBooker Vann <017804>, 10/15/2013: Set to fixed - 10/14:changed rule to look at street # or street name for PO Box\\r\\r________________________________________\\rSalvatore Mule <015306>, 10/21/2013: Retest app# 50001335failed, reopened.\\r\\r________________________________________\\rBooker Vann <017804>, 10/22/2013: Set to fixed - 10/14:changed rule to look at street # or street name for PO Box\\r10/21: updated rule to look at po box regardless of case\\r\\r________________________________________\\rSalvatore Mule <015306>, 10/24/2013: Closed defect, retested app# 50001399'] \n",
      "\n",
      "def:  241 comment:  [u'Tamara Osifchin <018494>, 10/7/2013: Made medium priority because workaround is to use Experian or TU.\\r\\r________________________________________\\rTom Sokolski <015424>, 10/17/2013: app 50001010. David P will compile of list of codes to use for this rule \\r\\r________________________________________\\rDavid Pepe <005778>, 10/23/2013: 241 I did not see a rule listed below saying the \"Inquiry Address has been reported as misused\". This corresponds to Equifax Codes 2 and X\\r\\r\\rEquifax\\rEFX Safescan New Address _ R  NOT LISTED\\rEFX Safescan Address is a prison _P --CORRECT\\rEFX Safescan SSN issued prior to DOB in file _ O --CORRECT\\rEFX Safescan SSN recently Issued _M--CORRECT\\rEFX Safescan SSN reported deceased _ I--CORRECT\\rEFX Safescan Address Unverifiable _D--C\\rEFX Safescan SSN Reported misused _B--CORRECT\\rEFX Safescan SSN has never been issued _ A--CORRECT\\rEFX Safescan possible name fraud _3--CORRECT\\r  \\r\\r________________________________________\\rTamara Osifchin <018494>, 10/23/2013: David will provide the data for  all 3 bureaus by 10/25\\r\\r________________________________________\\rDavid Pepe <005778>, 10/24/2013: List of codes provided to CMSI and defect assigned back to CMSI\\r\\r________________________________________\\rBooker Vann <017804>, 10/28/2013: Set to fixed - appropriate fraud codes added to the configuration in TB for the defects below\\r  \\r  \\r\\r________________________________________\\rSalvatore Mule <015306>, 10/30/2013: Retested app# 50001545,no rule generated.\\r\\r________________________________________\\rTamara Osifchin <018494>, 10/30/2013: Assigning to Sam to comment and close.\\r\\r________________________________________\\rSalvatore Mule <015306>, 10/30/2013: Closed defect, rule is no longer valid.'] \n",
      "\n",
      "def:  242 comment:  [u'Tamara Osifchin <018494>, 10/7/2013: Medium priority bcsworkaround is to use Experian or TU.\\r\\r________________________________________\\rTom Sokolski <015424>, 10/17/2013: David P will update codesused\\r\\r________________________________________\\rDavid Pepe <005778>, 10/23/2013: SSN reported as misused is Equifax Code B,\\r\\r________________________________________\\rTamara Osifchin <018494>, 10/23/2013: David will provide thedata for all 3 bureaus by 10/25.\\r\\r________________________________________\\rDavid Pepe <005778>, 10/24/2013: List of Codes sent to CMSI and reassigned defect back to CMSI\\r\\r________________________________________\\rBooker Vann <017804>, 10/28/2013: Set to fixed -appropriate fraud codes added to the configuration in TB for the defects below\\r  \\r\\r________________________________________\\rSalvatore Mule <015306>, 10/30/2013: Closed defect, Retested app# 50001542'] \n",
      "\n",
      "def:  243 comment:  [u'Tamara Osifchin <018494>, 10/7/2013: Medium bcs workaroundis to use Experian or TU.\\r\\r________________________________________\\rTom Sokolski <015424>, 10/17/2013: david P will update codes\\r\\r________________________________________\\rDavid Pepe <005778>, 10/23/2013: SSN has never been issued or Issued before Date of Birth Equifax Code A and O, \\r \\r  \\r\\r________________________________________\\rTamara Osifchin <018494>, 10/23/2013: David will provide thedata for all 3 bureaus by 10/25.\\r\\r________________________________________\\rDavid Pepe <005778>, 10/24/2013: Updated codes provided toCMSI and defect reassigned back to CMSI\\r\\r________________________________________\\rBooker Vann <017804>, 10/28/2013: Set to fixed - appropriate fraud codes added to the configuration in TB for the defects below\\r  \\r\\r________________________________________\\rSalvatore Mule <015306>, 10/30/2013: Closed defect; tested 50001537'] \n",
      "\n",
      "def:  244 comment:  [u\"Tamara Osifchin <018494>, 10/7/2013:This is similar to Tom's 174? in that it the app exists in the database but does nothave a Team associated with it. Difference is that Stacy did not click anything weird and that Stacy's app is still viewable thru quick finder.  10/14 eta is for update from the dev team.\\r\\r________________________________________\\rTamara Osifchin <018494>, 10/8/2013:Jeddalyn and CMSI dev team can not replicate the scenario.  Stacy did not do anything out of the ordinary, no weird clicks or anything.  Querying the db showed only the two apps are affected.\\r\\r________________________________________\\rTom Sokolski <015424>, 10/18/2013:main dummy issue.\\r\\r________________________________________\\rTamara Osifchin <018494>,11/12/2013: will ask CMSI to run query on db for main dummy value\\r\\r________________________________________\\rTamara Osifchin <018494>,11/14/2013: 1/13 query results from Lauren mail: Follow-up from yesterdayscall:\\r\\r\\rWe have queried the db and there are no apps presently stuck in MAINDUMMY.This update is relevant to defects 266,265,244, and 174.\\r  \\r\\r________________________________________\\rTamara Osifchin <018494>,11/18/2013: assigning back to Stacy to close based on comment from Lauren above.\\r\\r________________________________________\\rStacy Krajewski <015425>,11/18/2013: Closed\"] \n",
      "\n",
      "def:  245 comment:  [u\"Tom Sokolski <015424>, 10/17/2013: CMSI will send David Pcodes to review.\\r\\r________________________________________\\rBooker Vann <017804>, 10/28/2013: Set to fixed - appropriate fraud codes added to the configuration in TB for the defects below\\r  \\r\\r________________________________________\\rSalvatore Mule <015306>, 10/30/2013: Reopened, Tested app#50001530 no rule generated...see attachments.\\r\\r________________________________________\\rSalvatore Mule <015306>, 10/30/2013: Per Jeddalyn's response this code does not exist.....This rule no longer exists. \\r\\r\\rPlease see below from Dave-- \\rOnly codes 3001,4001,5999 would trigger that rule listed on linethree.  For each bureau a couple were added and couple removed.\\rMis used SSN is code 3003 and is not being used.\\rWhat I did was sit with Peter McGill and Noelle Fort to redefine which codes would trigger the rule.  In our present platform there was not that flexibility.  The definitions of the TU codes are pages 216-218 in the TU document you sent me yesterday\"] \n",
      "\n",
      "def:  246 comment:  [u'Tamara Osifchin <018494>, 10/7/2013: David will turn off.  \\r\\r________________________________________\\rDavid Pepe <005778>, 10/8/2013: Prohibit duplicate logins was not set to yes.  Changed to Yes from No under the Company Tool'] \n",
      "\n",
      "def:  247 comment:  [u\"Tamara Osifchin <018494>, 10/7/2013: App wasn't locked but app did not get to application review. CMSI is investigating.  Per Jeddalyn app hit an error in Evaluate.\\r\\r________________________________________\\rTom Sokolski <015424>, 10/17/2013: app was timed out. cmsi changed time out from 60 sec to 5mins.  when completing again the app still does not complete. There could be another issue with the app due to the timing out. in progress\\r\\r________________________________________\\rTamara Osifchin <018494>, 10/31/2013: changed the ETA to 12/25 to indicate In Progress\\r\\r________________________________________\\rTamara Osifchin <018494>, 11/18/2013: closing because this hasn't re-occurred in more than 4 weeks\"] \n",
      "\n",
      "def:  248 comment:  [u\"need the booksheet/invoice removed from list in all states since it will be a stip on every deal. \\r\\r________________________________________\\rBooker Vann <017804>, 10/8/2013: Set to fixed - 10/7: removed booksheet/invoice, flipped front end add paperwork and copy of driver's license for checklists\\r\\r________________________________________\\rTom Sokolski <015424>, 10/10/2013: order is correct on app50001172\"] \n",
      "\n",
      "def:  249 comment:  [u'Tamara Osifchin <018494>, 10/7/2013: eta of 10/11 like the other rule defects today.\\r\\r________________________________________\\rTom Sokolski <015424>, 10/17/2013: cmsi will look into.\\r\\r________________________________________\\rTom Sokolski <015424>, 10/17/2013: cmsi is updating in QS\\r\\r________________________________________\\rBooker Vann <017804>, 10/24/2013: Set to fixed -  10/21:changed the operator to use >=\\r\\r________________________________________\\rSalvatore Mule <015306>, 10/24/2013: Closed defect, Retested app# 50001401'] \n",
      "\n",
      "def:  250 comment:  [u'Tom Sokolski <015424>, 10/17/2013: cmsi solution is to remove the review part of this rule and update the chart to remove review rule parameter.   chart is DEDebtRatioParam.\\r\\r________________________________________\\rBooker Vann <017804>, 10/23/2013: Set to fixed -  10/17:removed review rule, kept policy rule\\r\\r________________________________________\\rSalvatore Mule <015306>, 10/24/2013: Closed defect, Retested app# 50001402'] \n",
      "\n",
      "def:  251 comment:  [u'Tamara Osifchin <018494>, 10/8/2013: defect 250 is for a regular term this one is 84 months\\r\\r________________________________________\\rTom Sokolski <015424>, 10/17/2013:  cmsi solution is to remove the review part of this rule and update the chart to remove review rule parameter.   chart is DEDebtRatioParam.\\r\\r________________________________________\\rBooker Vann <017804>, 10/24/2013: Set to fixed - 10/17: Same as ALM #250, removed review, kepy policy rule\\r\\r________________________________________\\rSalvatore Mule <015306>, 10/24/2013: Closed defect, App#50001403'] \n",
      "\n",
      "def:  252 comment:  [u'Tom Sokolski <015424>, 10/17/2013: sam will need to retest.update has been made\\r\\r________________________________________\\rBooker Vann <017804>, 10/18/2013: Set to fixed - 10/17: librariesinputted \\r\\r________________________________________\\rSalvatore Mule <015306>, 10/21/2013: Closed defect, retested with app# 50001337'] \n",
      "\n",
      "def:  253 comment:  [u\"Tamara Osifchin <018494>, 10/8/2013: changed cash down and this error happened during save\\r\\r________________________________________\\rTom Sokolski <015424>, 10/17/2013: was able to go into the app and make changes into the app. in progress\\r\\r________________________________________\\rTamara Osifchin <018494>, 11/12/2013: closed because wehaven't seen this since 10/8\"] \n",
      "\n",
      "def:  254 comment:  [u'Booker Vann <017804>, 10/11/2013: Set to fixed - 10/10: additional charts added to configuration, along with auto approval logic\\r\\r________________________________________\\rSalvatore Mule <015306>, 10/21/2013: Closed defect, see app#50001343'] \n",
      "\n",
      "def:  255 comment:  [u'Booker Vann <017804>, 10/11/2013: Set to fixed - 10/10: additional charts added to configuration, along with auto approval logic \\r\\r________________________________________\\rSalvatore Mule <015306>, 10/21/2013: Closed defect, see app#50001344'] \n",
      "\n",
      "def:  257 comment:  [u'Tamara Osifchin <018494>, 10/9/2013: Jeddalyn will look at logs to see if app ever came up from morning reboot. 10/10 eta is for update.\\r\\r________________________________________\\rTamara Osifchin <018494>, 10/11/2013: Jeddalyn thinks there were changes that were put in for the MISER interface that broke the application but does not know what changes were made or who made them.  Can close.'] \n",
      "\n",
      "def:  258 comment:  [u'Tom Sokolski <015424>, 10/17/2013: Sam to retest. need to update script to be a credit score between 620-659 \\r\\r________________________________________\\rBooker Vann <017804>, 10/18/2013: Set to fixed - 10/10:additional charts added to configuration, along with autoapproval logic\\r\\r________________________________________\\rSalvatore Mule <015306>, 10/21/2013: Closed defect, see app#50001345'] \n",
      "\n",
      "def:  259 comment:  [u\"Bradley Goldowsky <015304>, 10/9/2013: Increased severity to urgent as we are unable to continue testing. Because of Defect 260 we can not manually submit apps. \\r\\r________________________________________\\rTamara Osifchin <018494>, 10/9/2013: Per Jeddalyn this was caused by database triggers were turned off.  CMSI is investigating.  Turning the triggers back on corrected the issue. This behavior started late morning.  Apps entered earlier in themorning were submitted successfully.\\r\\r________________________________________\\rBooker Vann <017804>, 10/9/2013: Set to fixed - triggers arer enabled \\r\\r________________________________________\\rBradley Goldowsky <015304>, 10/10/2013: Root cause of why triggers were disabled not yet determined. Placing in monitor status. \\r\\r________________________________________\\rTamara Osifchin <018494>, 10/11/2013: Moved status down to High because immediate problem was fixed.\\r\\r________________________________________\\rTom Sokolski <015424>, 10/17/2013: would not happen in production, change has been made in config manager to be able tocheck if any triggers were turned off , will contine to monitor in test\\r\\r________________________________________\\rTamara Osifchin <018494>, 11/12/2013: closing because we haven't seen this since 10/9\"] \n",
      "\n",
      "def:  260 comment:  [u\"Tamara Osifchin <018494>, 10/9/2013: This error was also caused by triggers being turned off.   Started working whentriggers were turned on.\\r\\r________________________________________\\rBooker Vann <017804>, 10/9/2013: triggers are renabled \\r\\r________________________________________\\rBradley Goldowsky <015304>, 10/10/2013: Root cause of whytriggers were disabled not yet determined. Placing in monitor status. \\r  \\r\\r________________________________________\\rTamara Osifchin <018494>, 10/11/2013: Moved severity down toHigh because immediate problem was fixed.\\r\\r________________________________________\\rTom Sokolski <015424>, 10/17/2013: would not happen inproduction, change has been made in config manager to be able tocheck if any triggers were turned off , will contine to monitor in test\\r\\r________________________________________\\rTamara Osifchin <018494>, 11/12/2013: moving to closedbecause haven't seen this since 10/9\"] \n",
      "\n",
      "def:  261 comment:  [u'Tamara Osifchin <018494>, 10/9/2013: Jeddalyn can see awaive button for the Second Current Employment Verification Section so this might be a Security Profile issue.\\r\\r________________________________________\\rTom Sokolski <015424>, 10/17/2013: will need to update fields in employment verf screen and then make the 2nd income to be not required.\\r\\r________________________________________\\rBooker Vann <017804>, 10/18/2013: Set to fixed - 10/17: 2nd part of employment verification not required \\r\\r________________________________________\\rStacy Krajewski <015425>, 10/23/2013: Retested app 1379 this has been corrected'] \n",
      "\n",
      "def:  262 comment:  [u\"Tamara Osifchin <018494>, 10/9/2013: Jeddalyn has not seen anything in the logs for this app and added a trade with no error onTB.  \\r\\r________________________________________\\rTamara Osifchin <018494>, 10/10/2013: Jeddalyn will try toreplicate Brad's app.  Will find out from Brad what trade he tried to add.\\r\\r________________________________________\\rTom Sokolski <015424>, 10/17/2013: app is able to be worked.think it was an IE problem not orginate\\r\\r________________________________________\\rTamara Osifchin <018494>, 10/17/2013: set priority to Medium because workaround is to get back into Origenate and continue working the app.\\r\\r________________________________________\\rTamara Osifchin <018494>, 10/31/2013: updated the ETA to12/25 to indicate In Progress\\r\\r________________________________________\\rTamara Osifchin <018494>, 11/12/2013: closing because we haven't seen this since 10/9\"] \n",
      "\n",
      "def:  263 comment:  [u'Tom Sokolski <015424>, 10/17/2013: worked as configured. needs to be retested.  David P updated the user profile for level 5 from 5 to 4.  CMSI will update the rule to a 5 from a 3.\\r\\r________________________________________\\rBooker Vann <017804>, 10/22/2013: Set to fixed - 10/17:updated term rule to have an override of 5 to require concurrence for approval\\r\\r________________________________________\\rSalvatore Mule <015306>, 10/24/2013: Closed defect, Retested app# 50001404'] \n",
      "\n",
      "def:  265 comment:  [u\"Tamara Osifchin <018494>, 10/9/2013:Advanced search can not find this app. But it is in quick deal finder and reset logged application can find it but can't do anything with it.  Jeddalyn will investigate.  \\r  \\r\\r________________________________________\\rTamara Osifchin <018494>,10/11/2013: I set the eta to 10/11 for an update.\\r\\r________________________________________\\rTom Sokolski <015424>, 10/17/2013:main dummy issue caused the problem.in progress\\r\\r________________________________________\\rTamara Osifchin <018494>,10/31/2013: updated ETA to 12/25 to indicate In Progress\\r\\r________________________________________\\rTamara Osifchin <018494>,11/12/2013: will keep open until CMSI runs the main dummy query\\r\\r________________________________________\\rTamara Osifchin <018494>,11/14/2013: 11/13 query results from Lauren mail: Follow-up from yesterdayscall:\\r\\r\\rWe have queried the db and there are no apps presently stuck in MAINDUMMY.This update is relevant to defects 266,265,244, and 174.\\r  \\r\\r________________________________________\\rTamara Osifchin <018494>,11/18/2013: Assigning back to Stacy to close based on comment from Lauren above.\\r\\r________________________________________\\rStacy Krajewski <015425>,11/18/2013: Closed\"] \n",
      "\n",
      "def:  266 comment:  [u'Tom Sokolski <015424>, 10/17/2013:main dummy issue caused the problem.in progress\\r\\r________________________________________\\rTamara Osifchin <018494>,10/31/2013: updated ETA to 12/25 to indicate In Progress\\r\\r________________________________________\\rTamara Osifchin <018494>,11/12/2013: will keep open until CMSI runs main dummy query\\r\\r________________________________________\\rTamara Osifchin <018494>,11/14/2013: 11/13 query results from Lauren mail: Follow-up from yesterdayscall:\\r\\r\\rWe have queried the db and there are noapps presently stuck in MAINDUMMY.This update is relevant to defects 266,265,244, and 174.\\r  \\r\\r________________________________________\\rTamara Osifchin <018494>,11/18/2013: Assigning back to Stacy to close based on comment from Lauren above.\\r\\r________________________________________\\rStacy Krajewski <015425>,11/18/2013: Closed'] \n",
      "\n",
      "def:  267 comment:  [u'Tom Sokolski <015424>, 10/21/2013: will close this defect and add a new one about the collateral screen values.'] \n",
      "\n",
      "def:  268 comment:  [u'Tom Sokolski <015424>, 10/17/2013: sam will restest with a 2012 vech year script might need to be changed.\\r\\r________________________________________\\rTom Sokolski <015424>, 10/18/2013: sam will actually retest with 2010 and make sure it does not auto decline once put into tb. changes were made in qs to not auto decline but put in review.\\r\\r________________________________________\\rTamara Osifchin <018494>, 10/22/2013: David P will add requirements and send the defect to CMSI.\\r\\r________________________________________\\rDavid Pepe <005778>, 10/23/2013: Attached is a document titled Rate Proposal 9-10-13.  The cells highlighted in Blue can only go to review if no other conditions are present to cause a decline.  The cells in blue are an exception to policy.  The other chart in question titled DECollateralParam can be removed.  You are correct it is redundant.\\r\\r________________________________________\\rTamara Osifchin <018494>, 10/23/2013: assigned back to CMSI bcs David provided the info needed\\r\\r________________________________________\\rTamara Osifchin <018494>, 10/28/2013: Updated eta to 10/29bcs meeting scheduled for 10/29\\r\\r________________________________________\\rTamara Osifchin <018494>, 10/29/2013: Jeddalyn will get a fix date for this from the TA 10/30.  David P to add expected fix description to this defect.\\r\\r________________________________________\\rTamara Osifchin <018494>, 10/30/2013: set fix date to 11/5\\r\\r________________________________________\\rDavid Pepe <005778>, 10/30/2013: CMSI provided me with a copyof the new charts.  Based on the comments provided these willaccomplish what we are looking to do.Chart!DECollateralParam hasa policy column where if the vehicle age is greater than the policyparam then it will trigger an auto decline. The review column willtrigger if the vehicle age is greater than the param. That will justcause a pending status if it triggers. \\r\\r\\rChart!DECollateralAge only has  a policy column and will triggeronly if the vehicle age is greater than the param based off of theblue highlighted boxes from the rate sheet. This will cause aPENDING status when triggered and will require an override.\\r  \\r\\r________________________________________\\rTamara Osifchin <018494>, 10/31/2013: Sam is good with thisexplanation.\\r\\r________________________________________\\rBooker Vann <017804>, 11/1/2013: Set to fixed - 10/28: changesmade based on discussion between CMSI and Dave to update the charts\\r\\r________________________________________\\rSalvatore Mule <015306>, 11/1/2013;  Closed defect;Retested app# 50001617 and app did not auto decline.'] \n",
      "\n",
      "def:  269 comment:  [u'Tamara Osifchin <018494>, 10/10/2013: this might be related to the fact that we are missing a library, similar to 254 and 255. Library will be ported tonight.\\r\\r________________________________________\\rTom Sokolski <015424>, 10/17/2013: in TB\\r\\r________________________________________\\rBooker Vann <017804>, 10/18/2013: Set to fixed - 10/17: libraries inputted \\r\\r________________________________________\\rSalvatore Mule <015306>, 10/29/2013: Closed defect, retested app# 50001488'] \n",
      "\n",
      "def:  270 comment:  [u\"Was able to login on 10/11/13 after changing setting to deacivateuser after 2 days on 10/7/13.  Confirmed last login date was 10/7before continuing test\\r\\r\\rVerified User list showed Yes in active column before trying tologin as well\\r\\r________________________________________\\rTamara Osifchin <018494>, 10/11/2013: David used a login thathadn't been used before.  Changed user deactivation period to 2 days.  Used the Company tool.\\r\\r________________________________________\\rTom Sokolski <015424>, 10/17/2013: Cron job was added\\r\\r________________________________________\\rTom Sokolski <015424>, 10/17/2013: ready for client testing\\r\\r________________________________________\\rBooker Vann <017804>, 10/17/2013: Set to fixed - 10/17: cronjob added\\r  \\r\\r________________________________________\\rDavid Pepe <005778>, 10/24/2013: Retest, follow up on Tuesday 10/28/13.  New Test User ID is FNBIAWESTER\\r\\r________________________________________\\rDavid Pepe <005778>, 10/28/2013: Retest of defect, user correctly deactivated\"] \n",
      "\n",
      "def:  271 comment:  [u\"Tamara Osifchin <018494>, 10/11/2013: Lauren thinks the most up to date document templates weren't ported.  Will be in the port tonight.\\r\\r________________________________________\\rTamara Osifchin <018494>, 10/25/2013: Attached Tom's mail with reasons so assigning back to CMSI. 10/28 for update\\r\\r________________________________________\\rBooker Vann <017804>, 10/28/2013: Set to fixed - 10/25: changed checklist wording to fit character limit. Funding Delay should be corrected now.\\r\\r________________________________________\\rTom Sokolski <015424>, 10/28/2013: updates have been made\"] \n",
      "\n",
      "def:  273 comment:  [u'Tamara Osifchin <018494>, 10/21/2013: in QS testing.\\r\\r________________________________________\\rBooker Vann <017804>, 10/23/2013: Set to fixed - 10/23: added a problem resolution task. Note: please add task to appropriate teams to see it in the MDQ\\r\\r________________________________________\\rDavid Pepe <005778>, 10/23/2013: Verified Task has been added and is appropriately assigned.  Defect can be closed'] \n",
      "\n",
      "def:  274 comment:  [u'Tamara Osifchin <018494>, 10/21/2013: ready to port to TB today.\\r\\r________________________________________\\rBooker Vann <017804>, 10/25/2013: Set to fixed - added the fields that were requested into the contract itemization screen.\\r  \\r\\r________________________________________\\rTom Sokolski <015424>, 10/28/2013: both fields are now in the system'] \n",
      "\n",
      "def:  275 comment:  [u'Tamara Osifchin <018494>, 10/21/2013: Tom will send out.  10/22 is for more info.\\r\\r________________________________________\\rTamara Osifchin <018494>, 10/28/2013: CMSI can not prevent the applicant info from populating on the contract screen without a code change and therefore a task order. Reassigning back to Tom to discuss on FNFG side.  FNFG is requesting CMSI to hold off onthe Collateral info change until they discuss both together. eta is for update when Lindagets back.\\r\\r________________________________________\\rTamara Osifchin <018494>, 11/4/2013: FNFG is ok with the Contract Info pre-populating. FNFG wants the Collateral info to be blanked out.  CMSI can deliver that today.\\r\\r________________________________________\\rBooker Vann <017804>, 11/5/2013: Set to fixed - 11/4: collateral section will no longerauto populate in the contract side\\r\\r________________________________________\\rTom Sokolski <015424>, 11/6/2013: tested app 1724 collateral info no longer prepopulates'] \n",
      "\n",
      "def:  276 comment:  [u'Tamara Osifchin <018494>,10/21/2013: Stacy checked this on Tues10/15 and there was no note onOrigenate that the XML was generated. Lauren to find out if users can see in Origenate when XML was generated. Lauren will ask the same question for Welcome Letters. 10/23 is for more info.\\r\\r________________________________________\\rTamara Osifchin <018494>,10/24/2013: Per Lauren the system should create a journal entry when the letter is put into the XML file. Stacy tosend Lauren the app ids.\\r\\r________________________________________\\rStacy Krajewski <015425>,10/24/2013: Original Apps tested wouldhave been 1176 (one adverse reason),1177 (3 adverse reasons), 1178 (2adverse reasons). Submitted 10/11. Set to generate in 3 days. Checked 10/15.Checked one yesterday too and nothing in there.\\r\\r________________________________________\\rTamara Osifchin <018494>,10/25/2013: 10/28 is for update fromLauren\\r\\r________________________________________\\rTamara Osifchin <018494>,10/29/2013: Fix is to generate a journalentry when the letter is put into the XMLfile.  Lauren will provide a fix datetomorrow.\\r\\r________________________________________\\rTamara Osifchin <018494>,10/30/2013: Lauren currently working on with the engineer. 11/1 is for fix.\\r\\r________________________________________\\rTamara Osifchin <018494>,10/30/2013: Lauren 10/30 mail: I have checked these apps and here is whatIve found:\\r\\r\\r1176 _ Decline Application _ Commentwas not generated. (addressed by thefix)\\r1177 _ Penbkd Application _ AdverseAction Letter would have generated ifthis app were declined. Why should anAdverse Action letter generate for thisapp?\\r1178 _ Booked Application _ AdverseAction Letter would not generate on abooked and approved loan. A WelcomeLetter was generated and is showing inthe comments:\\r<img attached>\\rI have worked with our Engineering department to address the issue of letter extract information not displaying in the comments. The fix was to separate the Welcome and Adverse Action cron jobs into two separate jobs. Previously they  were run as one. This fix has been ported into TB and is ready for client testing.\\r\\r\\r  \\r\\r________________________________________\\rBooker Vann <017804>, 10/31/2013:Set to fixed - 10/30: fix was to separate the welcome and adverse action cronjobs into 2 different jobs. \\r\\r________________________________________\\rStacy Krajewski <015425>,10/31/2013: Will test on Monday due to this tests being done over multiple days\\r\\r________________________________________\\rStacy Krajewski <015425>, 11/4/2013:Passed 3 tests today, the remaining 2 verify that letters are generated on a Sat/Sun so will have days adjusted so I can verify Tuesday 11/12\\r\\r________________________________________\\rMary Lichtenberger <011798>,11/4/2013:    \\r\\r________________________________________\\rStacy Krajewski <015425>,11/13/2013: Worked as planned. Closed.'] \n",
      "\n",
      "def:  277 comment:  [u\"Tom Sokolski <015424>, 10/4/2013:  i get an error when i go into communications tab and try to print the delay notices.\\r\\r________________________________________\\rTamara Osifchin <018494>, 10/4/2013: Tamara to mail to Lisa K for a name.  This used towork.\\r\\r________________________________________\\rTamara Osifchin <018494>, 10/7/2013: Lauren's 10/4 email response: This appears to be internal to FNFGs network. It appears that your firewall is preventing you from viewing/accessing the webpage. Perhaps this should be sent to FNFGs internal tech support for more information.\\r\\r________________________________________\\rTamara Osifchin <018494>, 10/7/2013: Stefan noticed this is http not https Jeddalyn will look into.  10/8 is for update\\r\\r________________________________________\\rTom Sokolski <015424>, 10/22/2013: notes above are from previous defect 201 which had two issues.   this issue is still unresolved. \\r\\r________________________________________\\rTamara Osifchin <018494>, 10/22/2013: fix requires bounce at 5 today team is ok withthat.\\r\\r________________________________________\\rBooker Vann <017804>, 10/23/2013: Set to fixed - 10/22: changed .ini setting to stay https rather than http when viewing documents\\r\\r________________________________________\\rTom Sokolski <015424>, 10/23/2013: able to now view the letter in cmsi.\"] \n",
      "\n",
      "def:  278 comment:  [u\"Tamara Osifchin <018494>, 10/22/2013: Test script expects the'copy and approve' button to not actually approve but instead condition the app.  App standard behavior is to approve when'copy and approve' is selected so Sam will change the script toexpect the app to be approved.\\r  \\r\\r________________________________________\\rSalvatore Mule <015306>, 10/24/2013: changed status to NA as per our conversation with CMSI, system will not automatically adjust the app staus.  The analyst decision si the status assigned.\"] \n",
      "\n",
      "def:  279 comment:  [u\"Tom Sokolski <015424>, 10/22/2013: closed defect 267 and opened this one. \\r\\r________________________________________\\rTamara Osifchin <018494>, 10/22/2013: Jeddalyn will let us know if this should be broken into separate defects.\\r\\r________________________________________\\rTamara Osifchin <018494>, 10/29/2013: Jeddalyn will provide a fix date tomorrow 10/30. \\r\\r________________________________________\\rTamara Osifchin <018494>, 10/30/2013: Per Jeddalyn 10/30 mail: \\r1 is with DEV, 2 is correct, 3 is with DEV \\r  \\r\\r________________________________________\\rTamara Osifchin <018494>, 10/31/2013: Tom concurs that 2 is correct. No update from Dev.\\r\\r________________________________________\\rTamara Osifchin <018494>, 11/6/2013: Rich asked Dev Lead for an estimated fix date prior to delivering the actual fix\\r\\r________________________________________\\rTamara Osifchin <018494>, 11/12/2013: only a portion of the fix will be delivered from CMSI dev on11/15\\r\\r________________________________________\\rTamara Osifchin <018494>, 11/14/2013: no update\\r\\r________________________________________\\rTamara Osifchin <018494>, 11/18/2013: came out of dev on the 11/15.  Fix is 8.7.52.  Aka the 11/15build.  8.7.52 build needs to be loaded into QS and that needs to be scheduled within CMSI. \\r\\r________________________________________\\rTamara Osifchin <018494>, 11/19/2013: CMSI won't upgrade QS with individual builds;  will wait until FNFG decides which build to take.  After FNFG decides on a build CMSI will have to work with all other clients on 8.7.*.\"] \n",
      "\n",
      "def:  280 comment:  [u'Tamara Osifchin <018494>, 10/23/2013: Root cause was a change someone made to the gateway for a different client.  Bouncing the gateway seems to have fixed the problem.\\r\\r________________________________________\\rBooker Vann <017804>, 10/24/2013: Set to fixed - 10/23: developer updated patch that was applied in gateway\\r\\r________________________________________\\rTom Sokolski <015424>, 10/24/2013: submitted an application from Route and Dealertrack and no comment was put on the loan'] \n",
      "\n",
      "def:  282 comment:  [u'Salvatore Mule <015306>, 10/25/2013: Adjusted to correctscript.\\r\\r________________________________________\\rTamara Osifchin <018494>, 10/29/2013: Lauren sent this mail suggesting the rule wording be changed:\\r\\r\\rThe rules that we were originally sent by FNFG regarding autotrade lates are:\\r  \\rAuto Lates in File History\\rIf there are >=2 Auto Trades late 30 days in the past 12 months\\rIf there are >=1 Auto Trade late 60 days in past 12 months\\rIf there are >=1 Auto Trade late 90 days in past 12 months\\rIf there are >=1 Auto Trade late 120 days in past 12 months\\r\\r\\rIve highlighted the rule that is not triggering. I understand theconfusion due to the rule description \"Auto trade line 30 dayspast due in last 12 months\" which implies that only one auto trade is required to trigger the rule.\\r\\r\\rI recommend that the rule description be updated to \"Two autotrades lines 30 days past due in last 12 months.\"\\r  \\r\\r________________________________________\\rTamara Osifchin <018494>, 10/29/2013: Per David P this ruleshould trigger when 1 auto trade has 2 or more 30 day late payments.  Lauren to provide a fix date tomorrow.\\r\\r________________________________________\\rTamara Osifchin <018494>, 11/5/2013: missed the 11/4 fix date. CMSI to provide new fix date tomorrow.\\r\\r________________________________________\\rTamara Osifchin <018494>, 11/6/2013: CMSI sent questions today.  no fix date yet tho\\r\\r________________________________________\\rTamara Osifchin <018494>, 11/8/2013: this item failed QS testingso no fix date yet\\r\\r________________________________________\\rTamara Osifchin <018494>, 11/12/2013: ported to TB today.\\r\\r________________________________________\\rBooker Vann <017804>, 11/13/2013: Set to fixed - 11/11:configured rule to look at a different field in the DB\\r\\r________________________________________\\rSalvatore Mule <015306>, 11/13/2013: Closed defect, working as designed'] \n",
      "\n",
      "def:  283 comment:  [u'Mary Lichtenberger <011798>, 10/28/2013: I had forgotten to add on this defect that we are looking to have the field Total Down Payment populate.  If theTotal DownPayment is a negative number that field should populate with 0.00.  When this figure is added into the Unpaid Cash Balance that number should calculate correctly.  \\r  \\r\\r________________________________________\\rTamara Osifchin <018494>, 10/28/2013: CMSI is asking for more detail on the Unpaid Cash Balance calculation.  Total fees was wrong on TB but not on QS. Laurencorrected TB through Config Mgr.  Anyone who has access to Config Mgr has the ability to change these calculations.  Lauren to find out how security is usually set up aroundthose calculated fields.\\r\\r________________________________________\\rTamara Osifchin <018494>, 10/29/2013: Added 10/30 fix date\\r\\r________________________________________\\rBooker Vann <017804>, 10/30/2013: set to fixed - 10/30: updated the calculations of the fields (Unpaid cash balance, total fees)\\r\\r________________________________________\\rMary Lichtenberger <011798>, 10/30/2013: The fields now calculate correctly.  Test on app 50001527.'] \n",
      "\n",
      "def:  284 comment:  [u\"Tamara Osifchin <018494>, 10/28/2013: Assigning to CMSI to deliver  1 - 27 except for 20, 22, 26and 27.\\r\\r________________________________________\\rTamara Osifchin <018494>, 10/29/2013: 10/30 fix date\\r\\r________________________________________\\rTamara Osifchin <018494>, 10/30/2013: new fix date 10/31\\r\\r________________________________________\\rTamara Osifchin <018494>, 10/31/2013: did not pass QS testing. 7 of them were not included that should have been included.  27 did get in.  fix should be in QS 11/1 and ready for client test on 11/4\\r\\r________________________________________\\rBooker Vann <017804>, 11/1/2013: Set to fixed - 11/1: removed and added appropriate rules based on the defect, with the exception of 20, 22, 26, and 27\\r\\r________________________________________\\rMary Lichtenberger <011798>, 11/4/2013: 24.) Rule ID 27- Update to check the business type and no longer check the Tax ID\\r* This failed on app 50001519 CLOS_TOLRULE_099 ran by Stacy \\r________________________________________\\rMary Lichtenberger <011798>, 11/4/2013: 7.) Rule ID 5- Actual and Parameter values will be updated to reflect correct dollar figures (Actual will be the value from the Contract Info and Parameter will be the value from Underwriting plus 500)- Also updating the Contract Amount to match the L fromLTV.  \\r* This failed on APP 50001663. The Actual Value should be the L for the funding LTV.  In this application that should be $10,000. \\r_______________________________________\\rMary Lichtenberger <011798>, 11/4/2013: 9.) Rule ID 11- Actual and Parameter values will be updated to reflect correct dollar figures (Actual will be the value from the Contract Info and Parameterwill be the value from the Underwriting plus 2.5%)- Also updating the Contract Amount to match the Lfrom LTV.  \\r* This failed on APP 50001663. The Actual Value should be the L for the funding LTV.  In this application that should be $10,000 (which is half of the L from the underwriting side which was$20,000.)  The Actual value should populate with -50.00% \\r________________________________________\\rMary Lichtenberger <011798>, 11/4/2013: 2.) Rule ID 272- Actual and Parameter values will be updated to reflect correct dollar figures (Actual will be the value from the Contract Info and Parameter will the value from the Underwriting screen minus 500)\\r* This is not testable at the moment, fnfg to determine value of collateral on funding side\\r\\r\\r_______________________________________\\rMary Lichtenberger <011798>, 11/4/2013:   Please reviewall my notes from 11/4.  I have highlighted the items in Blue that passed and the items in Red that failed.  \\r\\r________________________________________\\rTamara Osifchin <018494>, 11/4/2013: Jeddalyn sent this to Pierre and is waiting on an eta from him.\\r\\r________________________________________\\rTamara Osifchin <018494>, 11/8/2013: no eta yet because this is now blocked on defect 325\\r\\r________________________________________\\rTamara Osifchin <018494>, 11/13/2013: Per Lauren rules 5 and 11 are ready for client testing.  Rule 27 still needs to be tested in TB by CMSI.\\r\\r________________________________________\\rTamara Osifchin <018494>, 11/14/2013: no eta yet\\r\\r________________________________________\\rTamara Osifchin <018494>, 11/15/2013: rule 27 issue has been sent to dev\\r\\r________________________________________\\rTamara Osifchin <018494>, 11/19/2013: will be out of development on 12/6.  don't know whether patch or build.\"] \n",
      "\n",
      "def:  285 comment:  [u'Tamara Osifchin <018494>, 10/28/2013: Looks like Origenate isnot catching the IV suffix?  Also a question as to whether the bookout stipulation will only be a stip or a rule and a stip.  Sam totake that question back to FNFG.  CMSI to work the IV suffix issue.\\r\\r________________________________________\\rTamara Osifchin <018494>, 10/29/2013: Fix for the suffix issue is 11/01.  Per Sam, the bookout stip will remain a rule and a stip.\\r\\r________________________________________\\rTamara Osifchin <018494>, 10/31/2013: CMSI explanation: ruleis looking at the flag sent by the bureau, which was set for this test bureau.  Fix is to remove rule.  New eta of 11/1\\r\\r________________________________________\\rBooker Vann <017804>, 11/1/2013: Set to fixed - 11/1: Removedrule\\r\\r________________________________________\\rSalvatore Mule <015306>, 11/1/2013: Closed defect, per our conversation with Dave Pepe OK to remove rule.'] \n",
      "\n",
      "def:  286 comment:  [u'Tamara Osifchin <018494>, 10/29/2013: All of these fields go into the L of LTV.\\r\\r________________________________________\\rBooker Vann <017804>, 10/31/2013: Set to fixed -10/30: added the fields mentioned into the calculation of the LTV. Fields added\\r\\r________________________________________\\rMary Lichtenberger <011798>, 11/1/2013: I had placed values in all of the fields we had requested to be included in the L for LTV. The Total of all the values was $32,000.00  which matches the MSRP (the field the V is mappingfrom).  and the LTV should havebeen 100.00%.  It came out to 106.25%.  Please review.  \\r\\r________________________________________\\rMary Lichtenberger <011798>, 11/1/2013: Please see attachment or APP 50001604 \\r\\r________________________________________\\rTamara Osifchin <018494>, 11/1/2013: The new fix will be ready for client testing on 11/4.\\r\\r________________________________________\\rBooker Vann <017804>, 11/4/2013: Set to fixed - 10/30: added the fields mentioned into the calculation of the LTV. Fields added\\r11/4: net trade in to be subtracted vs added to LTV\\r\\r________________________________________\\rMary Lichtenberger <011798>, 11/4/2013: Ok to close tested on 50001661.'] \n",
      "\n",
      "def:  287 comment:  [u\"Tamara Osifchin <018494>, 10/29/2013: For this test Sam did 'calculate' then 'copy and condition'.\\r\\r________________________________________\\rTamara Osifchin <018494>, 10/30/2013: Jeddalyn logged a defect with Dev today.  No ETA.\\r\\r________________________________________\\rTamara Osifchin <018494>, 10/31/2013: no update\\r\\r________________________________________\\rTamara Osifchin <018494>, 11/12/2013: expected from CMSI dev on 11/15 per jeddalyn mail but latest update is that 11/15 fix date is no longer valid.  Per Lauren has been moved to re-reviewqueue.\\r\\r________________________________________\\rTamara Osifchin <018494>, 11/14/2013: no update\\r\\r________________________________________\\rSalvatore Mule <015306>, 11/15/2013: Closed defect: Retested app# 50002035\\r\\r________________________________________\\rTamara Osifchin <018494>, 11/15/2013: fix was delivered today so this was moved to fixed today.\"] \n",
      "\n",
      "def:  288 comment:  [u'Tamara Osifchin <018494>, 10/29/2013: Rich mentioned theremight be a way to append a value.  If that is the case we wouldreword the stipulations.  Medium priority because the workaroundis to use the clunky wording that is there now.\\r\\r________________________________________\\rTamara Osifchin <018494>, 10/30/2013: Jeddalyn found a client who employs a stip that incorporates the term or amount value entered in the what if screen. Assigning to Sam to reword the 3stips with the variable at the end of the stip.  Or with months at the end of the stip.  Send both what you want it to say and what it is replacing.  ETA 11/4 is for an update from Sam.\\r\\r________________________________________\\rSalvatore Mule <015306>, 11/4/2013: Stp rewording;\\rMax Term is X Months, change to: Max Term _________.\\rPayoff and Trade Open X Auto Loan, change to: Payoffand Trade Open Auto Loan at _____________________.\\rCan Finance $XX,XXX plus TTL, warranty and GAP:change to: Max Front End Advance plus TTL, Warrantyand GAP is $___________.\\r \\r\\r________________________________________\\rTamara Osifchin <018494>, 11/5/2013: Another client has autostips generated when term or something else is changed on the What If screen and the blanks in the stips are filled in with the term and whatever value from the What If screen.\\r\\r________________________________________\\rSalvatore Mule <015306>, 11/7/2013: Have separate meeting scheduled for 11/12\\r\\r________________________________________\\rSalvatore Mule <015306>, 11/14/2013: per Lauren will have some answers shortly. \\r\\r________________________________________\\rTamara Osifchin <018494>, 11/14/2013: FNFG has decided they want the value from What if to populate this rule:  Max Term is XMonths, change to: Max Term _________.  Keepingwith Sam to speak to Pat and Pete about final decision on the other two rule.\\r\\r________________________________________\\rSalvatore Mule <015306>, 11/15/2013: Discussed defect with Pat & Noelle: \\r1) Replace Max Term is X Months with ,Term of Loan Has BeenReduced, \\r2) for Payoff and Trade X Open Auto Loan remove the X, \\r 3) replace Can finance $ X plusTTL, Warranty and GAP with Front End Advance Has Been Reduced.\\r\\r________________________________________\\rTamara Osifchin <018494>, 11/15/2013: assigned back to CMSI\\r\\r________________________________________\\rTamara Osifchin <018494>, 11/20/2013: Lauren to check withTA as to whether this can be fixed\\r\\r________________________________________\\rTamara Osifchin <018494>, 11/21/2013: potential fix description:288: reworded stipulations and updated queries \\r  \\r\\r________________________________________\\rTamara Osifchin <018494>, 11/22/2013: being tested in TB, port approved this morning\\r\\r________________________________________\\rBooker Vann <017804>, 11/25/2013: Set to fixed - 11/21:updated pre defined stips description\\r\\r________________________________________\\rSalvatore Mule <015306>, 11/25/2013: Closed defect, tested app# 5002177'] \n",
      "\n",
      "def:  289 comment:  [u'Tamara Osifchin <018494>, 10/29/2013: Booker will add fix description.\\r\\r________________________________________\\rMary Lichtenberger <011798>, 10/30/2013: This rule has been added. tested on app 50001527\\r\\r________________________________________\\rTamara Osifchin <018494>, 10/31/2013: CMSI fix description: 10/29: removed rule'] \n",
      "\n",
      "def:  290 comment:  [u\"Tamara Osifchin <018494>, 10/31/2013: Medium priority bcs the workaround is tounselect them.\\r\\r________________________________________\\rTamara Osifchin <018494>, 11/1/2013: Per CMSI dev, this can't be changed.  One possibility is to set up an additional radio buttons in the select an email section.  We will go with this option.  Fix date is 11/6.\\r\\r________________________________________\\rTamara Osifchin <018494>, 11/6/2013: changed fix date to 11/7\\r\\r________________________________________\\rBooker Vann <017804>, 11/7/2013: Set to fixed - 11/7: created separate doc gen touchpoints for each document\\r\\r________________________________________\\rTom Sokolski <015424>, 11/12/2013: notices are now selected on the top and no longer have all notices checked.  closed\"] \n",
      "\n",
      "def:  291 comment:  [u'Tamara Osifchin <018494>, 10/31/2013: user can enter a comment on print or fax but not onemail.  Affects every app so no app id in the defect.\\r\\r________________________________________\\rTamara Osifchin <018494>, 11/1/2013: Per CMSI dev this is not standard functionality to add a freeform comment to the document pdf.   Lauren can add the freeform comment into the bodyof the email.  Tom will take back to the Funding team on Monday.  11/4 is for update.\\r\\r________________________________________\\rTamara Osifchin <018494>, 11/5/2013: Tom can close because Funding decided this can be accomplished by adding a checklist item.'] \n",
      "\n",
      "def:  292 comment:  [u\"Tamara Osifchin <018494>, 10/31/2013: Expected fix is to remove the rule from the list because Autopay is never used.  Low priority bcs it doesn't hurt to have it in there.\\r\\r________________________________________\\rBooker Vann <017804>, 11/1/2013: Set to fixed - 11/1: removed rule\\r\\r________________________________________\\rMary Lichtenberger <011798>, 11/1/2013: Reviewed on Loan 50001604 rule was removed.  Ok to close\"] \n",
      "\n",
      "def:  293 comment:  [u'Tamara Osifchin <018494>, 10/31/2013: Letter is missing the application number, reasons,freeform comment and contact name and phone number.  App number is 1591.  The reasons did show up on all of the other notices for this app.\\r\\r________________________________________\\rTamara Osifchin <018494>, 11/1/2013: Leaving the fix date blank until we get an update on Monday 11/4.\\r\\r________________________________________\\rBooker Vann <017804>, 11/4/2013: Set to fixed - 11/4: updated doc query to look at incomplete checklist items as well\\r\\r________________________________________\\rTom Sokolski <015424>, 11/5/2013: closed the return doc now has info'] \n",
      "\n",
      "def:  294 comment:  [u'Tamara Osifchin <018494>, 10/31/2013: Medium priority bcs workaround is to add a due date.  This test was to verify that if you enter avalue in any field in the Deferred Payments section a tolerance rule is triggered.  No tolerancerule was triggered because user could not getto that point.\\r\\r________________________________________\\rStacy Krajewski <015425>, 11/1/2013: As per Jeddalyn, system expects user to put in both the amount and date for a deferred payment.Only an amount is a \"null\" error. There could be a pop up fix in a later update but we will not be using this field anyways it is not needed.Worst case scenario is the workaround of going to a different screen and going back to Contract Info as it will delete out the amount anyways. OK to close.\\r\\r________________________________________\\rTamara Osifchin <018494>, 11/1/2013: Added to the known issue list.  will post the new list when I get back online.'] \n",
      "\n",
      "def:  295 comment:  [u\"Tamara Osifchin <018494>, 11/1/2013: Assigning to Lauren to finish compiling the XML files that Samgenerated for DST SIT testing and mail them to Tamara.  Next step is for Mike Zwink to mail XMLfiles toJeff Link and the DST.\\r\\r________________________________________\\rTamara Osifchin <018494>, 11/5/2013: Lauren will meet with the developer later today 11/5.  Willprovide a fix date after that meeting.\\r\\r________________________________________\\rTamara Osifchin <018494>, 11/6/2013: Lauren finished compiling the XML and this is now with development.  Next dev meeting is Monday but Lauren will check with the developer outside of the meeting.\\r\\r________________________________________\\rTamara Osifchin <018494>, 11/14/2013: will be delivered as a patch today\\r\\r________________________________________\\rTamara Osifchin <018494>, 11/15/2013: was delivered yesterday, in CMSI testing today.  new eta is11/18\\r\\r________________________________________\\rTamara Osifchin <018494>, 11/18/2013: new eta is 11/19.  \\r\\r________________________________________\\rTamara Osifchin <018494>, 11/19/2013: removed the eta because that 11/19 eta was only for changes to the XML, which Lauren will send to Gary today.  Sam's testing is still blocked on SIT of the DST inteface. \\r\\r________________________________________\\rTamara Osifchin <018494>, 11/20/2013: assigning back to Gary because Lauren sent the XML filesto Gary yesterday. no eta yet.\\r\\r________________________________________\\rTamara Osifchin <018494>, 11/21/2013: meeting is scheduled for 11/22 4 pm\\r\\r________________________________________\\rTamara Osifchin <018494>, 11/22/2013: Per Jeff Link 11/22 mail: For December 9th  the plan is to have the ability for CMSI to send the Welcome & Adverse Action Letters XML files to First NiagarasQA MFT Server.  Once both the Welcome and Adverse Action Letter XML files are received they will be aggregated into one XML file and sent to DST.\"] \n",
      "\n",
      "def:  296 comment:  [u\"Tamara Osifchin <018494>, 11/1/2013: Assigning to CMSI to start working on the issue of auto declined when it was supposed to pend, but Sam will edit this defect to remove the issue about collateral age and create a new defect for that issue.\\r\\r________________________________________\\rSalvatore Mule <015306>, 11/1/2013: Removed age of collateral from defect.\\r\\r________________________________________\\rTamara Osifchin <018494>, 11/4/2013: Per FNFG, the  termshould not trigger any auto decline.\\r\\r________________________________________\\rTamara Osifchin <018494>, 11/4/2013: eta set to 11/6\\r\\r________________________________________\\rTamara Osifchin <018494>, 11/6/2013: this is now dependent on the charts that David P sent to CMSI today.  Old charts specified that anything that was not included in the chart should auto decline but that was incorrect.   Jeddalyn has the new charts.\\r\\r________________________________________\\rBooker Vann <017804>, 11/7/2013: Set to fixed - 11/7: updated chart based on Dave's charts\\r\\r________________________________________\\rSalvatore Mule <015306>, 11/8/2013: Closed defect; Retested app# 50001841.\"] \n",
      "\n",
      "def:  297 comment:  [u'Tamara Osifchin <018494>, 11/1/2013: >75 month parameter value should be >84 months.  Chart DETERM might be the culprit.\\r\\r________________________________________\\rBooker Vann <017804>, 11/4/2013: Set to fixed - 11/4: chart updated\\r\\r________________________________________\\rSalvatore Mule <015306>, 11/4/2013: Closed defect: Retested app# 50001680...84 month criteria applied.'] \n",
      "\n",
      "def:  298 comment:  [u\"Tamara Osifchin <018494>, 11/1/2013: Tom manually sent the notice.  Per Lauren RightFax is set upin TB but will double check.\\r\\r________________________________________\\rTamara Osifchin <018494>, 11/4/2013: leaving eta blank until tomorrow\\r\\r________________________________________\\rTamara Osifchin <018494>, 11/5/2013: fix date is 11/6\\r\\r________________________________________\\rBooker Vann <017804>, 11/6/2013: Set to fixed - \\r\\r________________________________________\\rTom Sokolski <015424>, 11/6/2013: sent two delays to 888-780-3634 on app 50001724 and they were never received \\r\\r________________________________________\\rTom Sokolski <015424>, 11/7/2013: sent delay  to 716-835-7597 and it was recieved. \\r\\r________________________________________\\rTamara Osifchin <018494>, 11/8/2013: Per Lauren this is a known issue with the Service ProviderSprint.  CMSI Engineering team will contact Sprint to see if there is anything they can do about it.  Tom confirmed 2 dealers have 888 numbers.  Changed priority to Medium because workaround is to print docs and fax to those dealers affected.\\r\\r________________________________________\\rTamara Osifchin <018494>, 11/12/2013: no update\\r\\r________________________________________\\rTamara Osifchin <018494>, 11/14/2013: CMSI is recommending that FNFG speaks to FNFG's 888 service provider.  Per Carl from CMSI the only other time this occurred there was a blockage on the client side.  Origenate faxes are not sent with an originating phone number.  Assigning to Lisa K to tell me the right person to work this.\\r\\r________________________________________\\rLisa Klocek <019530>, 11/24/2013: send to Jim Vanek/Stefan Elmquist to reserach\\r  \\r\\r________________________________________\\rTamara Osifchin <018494>, 11/25/2013: I sent this defect to Stefan and Jim.\\r\\r________________________________________\\rTamara Osifchin <018494>, 11/25/2013: Current prod system can send to 888 numbers.  The difference might be that Origenate sends without an originating phone number.  Lisa K to follow up with Lisa B and David to let us know how it is working today.\\r\\r________________________________________\\rTamara Osifchin <018494>, 11/26/2013: Per Lisa B CRIF uses their own RightFax instance and that is able to send to 888 fax numbers.  Lauren will take this back.\\r\\r________________________________________\\rTamara Osifchin <018494>, 11/26/2013: No originating phone number displayed on Prod faxes either.\\r\\r________________________________________\\rTamara Osifchin <018494>, 12/2/2013: with Carl Bartells\\r\\r________________________________________\\rTamara Osifchin <018494>, 12/3/2013: Carl thinks the CMSI service might restrict toll free numbers. Still investigating.\"] \n",
      "\n",
      "def:  299 comment:  [u'Tamara Osifchin <018494>, 11/1/2013: Sam will close this as a duplicate of 297 and block this test case on 297.\\r\\r________________________________________\\rSalvatore Mule <015306>, 11/1/2013: Closed defect; Linked to defect 297\\r\\r________________________________________\\rSalvatore Mule <015306>, 11/14/2013: Reopened; App#50002036 still reflects parameter issue.\\r\\r________________________________________\\rTamara Osifchin <018494>, 11/14/2013: Sam will close and opena new defect for the new app 2036.\\r\\r________________________________________\\rSalvatore Mule <015306>, 11/14/2013: Closed defect'] \n",
      "\n",
      "def:  300 comment:  [u'Tom Sokolski <015424>, 11/1/2013: stacy has the option to add a checklist item but on user profile jen Butera can not add a checklist \\r\\r________________________________________\\rTamara Osifchin <018494>, 11/1/2013: Stacy has this as a Supervisor profile.  Jen Butera is a funding processor profile.  Assigning to David to fix this on the Loan Processor profile. Will eventually need to be updated in QS as well.\\r\\r________________________________________\\rTamara Osifchin <018494>, 11/4/2013: David will edit the Loan Processor profile by 11/5.\\r\\r________________________________________\\rTamara Osifchin <018494>, 11/5/2013: David edited the Loan Processor profile so assigning back to Tom to retest.\\r\\r________________________________________\\rTom Sokolski <015424>, 11/6/2013: when adding a checklist item get the attached error.  will not add.\\r\\r________________________________________\\rTamara Osifchin <018494>, 11/7/2013: Jeddalyn looking into it. Original fix was a security profile setting fix so this is first time to CMSI.\\r\\r________________________________________\\rTamara Osifchin <018494>, 11/8/2013: Jeddalyn can reproduce this but does not have a fix date yet.\\r\\r________________________________________\\rTamara Osifchin <018494>, 11/12/2013: Jeddalyn sent to CMSI dev team yesterday.\\r  \\r\\r________________________________________\\rTamara Osifchin <018494>, 11/14/2013: \\r\\r________________________________________\\rTamara Osifchin <018494>, 11/14/2013: will be in the 11/15 build\\r\\r________________________________________\\rTamara Osifchin <018494>, 11/18/2013: will be out of dev on 11/22'] \n",
      "\n",
      "def:  301 comment:  [u\"Tamara Osifchin <018494>, 11/4/2013: Sam to schedule meetngwith FNFG to discuss.\\r\\r________________________________________\\rSalvatore Mule <015306>, 11/5/2013: Meeting scheduled for 11/6at 1PM\\r\\r________________________________________\\rTamara Osifchin <018494>, 11/5/2013: 11/6 for update\\r\\r________________________________________\\rTamara Osifchin <018494>, 11/6/2013: same status as 296 --this should work once Origenate is configured with the new charts.\\r\\r________________________________________\\rSalvatore Mule <015306>, 11/7/2013: Dave P working with CMSI on charts.\\r\\r________________________________________\\rBooker Vann <017804>, 11/7/2013: Set to fixed - 11/7: updated chart based on Dave's charts\\r\\r________________________________________\\rSalvatore Mule <015306>, 11/8/2013: Closed defect; Retested app# 50001841\"] \n",
      "\n",
      "def:  302 comment:  [u'Tamara Osifchin <018494>, 11/4/2013: Sam to retest with 1 yrold collateral per the script.   There is still an issue that a 2008 vehicle with a 656 credit score should have triggered a max termexceeded rule because max term for those data points should be66 months. David to review charts that he sent CMSI.\\r\\r________________________________________\\rTamara Osifchin <018494>, 11/5/2013: Sam to retest still open.\\r\\r________________________________________\\rTamara Osifchin <018494>, 11/5/2013: next update will be 11/6after 1 pm meeting.\\r\\r________________________________________\\rTamara Osifchin <018494>, 11/6/2013: Sam tested this on a 1 yrold vehicle and it worked fine.\\r\\r________________________________________\\rTamara Osifchin <018494>, 11/6/2013: Retest with the app w/656 score and 2008 vehicle and 72 months.  Expected result is that max term exceeded rule should trigger.  And the rule parameter value should be 72 > 66. (not 72 > 72 as in attachment).  Assigning to David to review a different chart than the one that should fix 296 and 301.\\r\\r________________________________________________________________________________\\rDavid Pepe <005778>, 11/7/2013: Chart!DETermParam may need an additional influence for age.  For example, on this chart Tier 2,Grade C, allows for a term up to 72 months for collateral up to 6years old.  For collateral 7 yrs old, the max term is 66 months.  Also we need the override level reduced from 5 to 4. Any term outside of the rate sheet should make app go to a pending status and require a policy override.\\r  \\r\\r________________________________________\\rTamara Osifchin <018494>, 11/8/2013: Jeddalyn to send abovenote to TA.  \\r\\r________________________________________\\rTamara Osifchin <018494>, 11/14/2013: no update\\r\\r________________________________________\\rTamara Osifchin <018494>, 11/18/2013: assigned and mailed to Kory for approval to move to TB\\r\\r________________________________________\\rBooker Vann <017804>, 11/19/2013: Set to fixed - 11/16:modified rule logic\\r\\r________________________________________\\rSalvatore Mule <015306>, 11/20/2013: Closed defect; Retested app# 50002113'] \n",
      "\n",
      "def:  303 comment:  [u\"Stacy Krajewski <015425>, 11/4/2013:Submitted business with guarantor and approved. Removed guarantor on the funding side. No rule failure. App 1448.\\r\\r________________________________________\\rTamara Osifchin <018494>, 11/5/2013:CMSI is still researching how to fix this. 11/8 fix date.\\r\\r________________________________________\\rBooker Vann <017804>, 11/7/2013: Set to fixed -  11/7: updated the tables the rule is looking at\\r\\r________________________________________\\rStacy Krajewski <015425>, 11/7/2013:Tried on app 50001808 still completed screen. Updated screen shots.\\r\\r________________________________________\\rTamara Osifchin <018494>, 11/8/2013:Removed old 11/8 estimated fix date.\\r\\r________________________________________\\rTamara Osifchin <018494>, 11/8/2013:with CMSI dev team now.\\r\\r________________________________________\\rTamara Osifchin <018494>,11/14/2013: will be in the 11/22 build\\r\\r________________________________________\\rTamara Osifchin <018494>,11/20/2013: dev's due date is 11/22 but running into issues\\r\\r________________________________________\\rTamara Osifchin <018494>,11/21/2013: potential fix description: 303:patch from development to delete record from db when guarantor is deleted from contract \\r  \\r\\r________________________________________\\rTamara Osifchin <018494>,11/22/2013: fix : 11/22: applied a patch to remove guarantor from db when deleted from Origenate\\r\\r________________________________________\\rStacy Krajewski <015425>,11/22/2013: Tested with app 2162.Passed. Closing.\"] \n",
      "\n",
      "def:  304 comment:  [u'Tamara Osifchin <018494>, 11/5/2013: Mary used to be able to get this to trigger by setting the VIN to all 1s.  It no longer triggers. Jeddalyn to also let us know why it stopped working.\\r\\r________________________________________\\rBooker Vann <017804>, 11/8/2013: Set to fixed - 11/7: updated configuration to look at a different field in the DB for the rule\\r\\r________________________________________\\rStacy Krajewski <015425>, 11/8/2013: Passed with all 1\\'s and tried with all 2\\'s as well to make sure it is working, passed app1852. Closed.\\r\\r________________________________________\\rStacy Krajewski <015425>, 11/12/2013: App 1877- used the same VIN as submitted on the underwriting side and I am getting the\"VIN could not be decoded\" error even though it is a correct VIN.Added new screen shot.\\r\\r________________________________________\\rTamara Osifchin <018494>, 11/12/2013: Stacy will create a new defect for this new issue.  Root cause is that the Vintek db might not be updated yet.  Vintek file is updated once per month.'] \n",
      "\n",
      "def:  305 comment:  [u'Tamara Osifchin <018494>, 11/5/2013: fix date is 11/11.\\r\\r________________________________________\\rBooker Vann <017804>, 11/6/2013: Set to fixed - 11/5: added logic to look at all fields in the trade quad.\\r\\r________________________________________\\rStacy Krajewski <015425>, 11/6/2013: Passed with app 1720. Closing.'] \n",
      "\n",
      "def:  307 comment:  [u'Stacy Krajewski <015425>, 11/5/2013:Talked about this on the Rich call-Settings can be updated to allow someone to be assigned to a parent/childteam and can see both Supervisor andProcessing Teams \\r\\r________________________________________\\rTamara Osifchin <018494>, 11/5/2013:Assigned back to Stacy to retest now that user ids have been set up as members of the Supervisor team.\\r\\r________________________________________\\rStacy Krajewski <015425>,11/13/2013: Supervisor team is now visible, closing this instance'] \n",
      "\n",
      "def:  308 comment:  [u\"Tamara Osifchin <018494>, 11/6/2013: Assigning to Sam to add the field name for Route One as well.  Sam will assign to CMSI when that is done.\\r\\r________________________________________\\rSalvatore Mule <015306>, 11/7/2013: RouteOne did not have a rate field, see attachment.\\r\\r________________________________________\\rTamara Osifchin <018494>, 11/7/2013: no eta yet.  Sent to gateway mapping TA.  Estimated buyrate for DT and Buy Rate for RO.\\r\\r________________________________________\\rTamara Osifchin <018494>, 11/8/2013: CMSI can not send estimated buy rate for pending app because there is no tag in the XML for the estimate buy rate.  There is another service FNFG can subscribe to outside of Origenate that could send this data real time to DT or RO.  Jeddalyn toprovide more info on this other service.\\r\\r________________________________________\\rTamara Osifchin <018494>, 11/12/2013: Per Jeddalyn 11/11 mail: It doesn't sound like this actually involves a 3rd party vendor. It involves configuration in CM as well as gateway changes. If you would like to pursue this, FNFG will need to submit a request to Rich for an estimate  and Task Order.  Assigning back to FNFG to decide.\\r  \\r\\r________________________________________\\rTamara Osifchin <018494>, 11/12/2013: Peter and Pat have agreed that this will be a change request.  Assigned to Gary.\\r\\r________________________________________\\rTamara Osifchin <018494>, 11/20/2013: will be reviewed by Bill 11/21\\r\\r________________________________________\\rTamara Osifchin <018494>, 11/22/2013: per Dave C this is now a signed changed request that willbe sent to CMSI to prepare a task order.\\r\\r________________________________________\\rTamara Osifchin <018494>, 11/25/2013: Jeddalyn has not seen the task order yet.  Dave C has notseen anything on this item since Friday.\\r\\r________________________________________\\rTamara Osifchin <018494>, 11/27/2013: Per Gary 11/27 mail the task order for this has been signedand sent to CMSI to implement.  This is PCR16.\\r\\r________________________________________\\rTamara Osifchin <018494>, 12/2/2013: Jeddalyn has not seen this task order yet.\\r\\r________________________________________\\rTamara Osifchin <018494>, 12/4/2013: Jeddalyn has seen this task order but CMSI has not started configuration for it.\"] \n",
      "\n",
      "def:  309 comment:  [u'Tamara Osifchin <018494>, 11/6/2013: fix is to not send buy rateon any decline manual or auto.  Sam will clean up wording and add Route One field name.  Sam will assign to CMSI when complete.\\r\\r________________________________________\\rSalvatore Mule <015306>, 11/7/2013: Description updated,RouteOne does not have a rate field for declined applications, seeattachment. \\r\\r________________________________________\\rTamara Osifchin <018494>, 11/7/2013: RO field is Buy Rate and DT field is estimated buy rate.  Per Jeddalyn this has been sent to the CMSI TA.  no eta yet\\r\\r________________________________________\\rBooker Vann <017804>, 11/8/2013: Set to fixed - 11/7: fix is to wipe buy rate if an app gets approved and then declined, and to not set a rate for manual and sysdeclines\\r\\r________________________________________\\rSalvatore Mule <015306>, 11/8/2013: Closed defect, Retested apps on DT and RT1, rate is blank.'] \n",
      "\n",
      "def:  310 comment:  [u'Tamara Osifchin <018494>, 11/6/2013: Jeddalyn to send FNFGthe mapping.\\r\\r________________________________________\\rSalvatore Mule <015306>, 11/7/2013: Tested app# 50001803,Income submitted as semi-monthly and came over in Originate as annual, see attachment.\\r\\r________________________________________\\rTamara Osifchin <018494>, 11/8/2013: Lauren sent the mappingof field values from DT and RO to Origenate field values.  Laurenwill investigate whether changing the semi monthly mapping will bea change request or a fix.\\r\\r________________________________________\\rTamara Osifchin <018494>, 11/12/2013: Peter and Pat would like semi monthly mapped to its own value.  \\r\\r________________________________________\\rBooker Vann <017804>, 11/13/2013: Set to fixed - 11/13: added semi monthly to Origenate configuration\\r\\r________________________________________\\rSalvatore Mule <015306>, 11/13/2013: Closed defect; retested with app# 50001928'] \n",
      "\n",
      "def:  311 comment:  [u'Tamara Osifchin <018494>, 11/6/2013: Test servers in Denver went down.  CMSI rebooted the servers and they came up successfully.  Assigning back to CMSI but putting in In Progress to monitor.   Medium bcs workaround is to reboot.'] \n",
      "\n",
      "def:  312 comment:  [u'Booker Vann <017804>, 11/7/2013: Set to fixed - 11/7: configured logic so rent to mtg does not dedupe\\r\\r________________________________________\\rSalvatore Mule <015306>, 11/8/2013: Closed defect; Retested app#50001842....calculations are also correct.'] \n",
      "\n",
      "def:  313 comment:  [u'Tamara Osifchin <018494>, 11/6/2013: Per Rich we can havedecline reasons at either the applicant level or the application level. FNFG would like decline reasons set at the Application Level. Assigning to CMSI to change because per Lauren this is currentlyset at the applicant level.\\r\\r________________________________________\\rTamara Osifchin <018494>, 11/8/2013: set eta to 11/12\\r\\r________________________________________\\rTamara Osifchin <018494>, 11/15/2013: Dave C confirmed theywant application level.  New eta of 11/15\\r\\r________________________________________\\rBooker Vann <017804>, 11/19/2013: Set to fixed - 11/15: Edited doc queries to confirm turndown reasons would pull from application level\\r\\r________________________________________\\rSalvatore Mule <015306>, 11/20/2013: Closed defect; tested app# 50002118 only 1 set of decline reasons are available.'] \n",
      "\n",
      "def:  314 comment:  [u\"Tamara Osifchin <018494>, 11/6/2013: Lauren is working on this.  Lauren can not auto approve any more either.  Nov 4 was the last instance of auto-approve.\\r\\r________________________________________\\rBooker Vann <017804>, 11/7/2013: Set to fixed - 11/6: modified the initial rules running in the background to not prevent auto approval\\r\\r________________________________________\\rStacy Krajewski <015425>, 11/7/2013: This is working as of this morning. App's 1772 1773 1774. Closed.\"] \n",
      "\n",
      "def:  315 comment:  [u'Tamara Osifchin <018494>, 11/6/2013: \"Dealer State\" label should be \"Region\"  and the value would be the region number.\\r\\r________________________________________\\rStacy Krajewski <015425>, 11/7/2013: Linked 12 test cases to defect\\r\\r________________________________________\\rBooker Vann <017804>, 11/7/2013: Set to fixed - 11/7: created the table to look at region instead of state\\r\\r________________________________________\\rMary Lichtenberger <011798>, 11/7/2013: Tested on APP 50001802. Entered this through St Johnsbury Subarau 1212.  This dealership is in VT.  The Dealer Region and Account Type are both blank until Contract Info is completed.    \\r\\r________________________________________\\rMary Lichtenberger <011798>, 11/8/2013: This functions correctly once contract info is completed.  This is ok to close.'] \n",
      "\n",
      "def:  316 comment:  [u'Booker Vann <017804>, 11/7/2013: Set to fixed - 11/6: Independent label added to the DB\\r\\r________________________________________\\rMary Lichtenberger <011798>, 11/7/2013: Tested in Config Manager. Ok to close'] \n",
      "\n",
      "def:  318 comment:  [u'Tamara Osifchin <018494>, 11/7/2013: In all circumstances this should pay the higher of. (If flat fee is higher, pay the flat fee.)  Flat fee should have been removed as an available plan and this independent should have been added.\\r\\r________________________________________\\rTamara Osifchin <018494>, 11/8/2013: eta 11/12\\r\\r________________________________________\\rBooker Vann <017804>, 11/12/2013: Set to fixed - 11/8: updated Independent dealer to function like the other plans. \\r\\r________________________________________\\rMary Lichtenberger <011798>, 11/13/2013: Dealer Reserve is now calculating at 75/25 split.  ok to close  tested on app 50001904'] \n",
      "\n",
      "def:  319 comment:  [u'Tamara Osifchin <018494>, 11/7/2013: The field value can be null or \"PS\".  Assigning to Gary because this is a change request.\\r\\r________________________________________\\rTamara Osifchin <018494>, 11/8/2013: discussed at 11/8 meeting with Dave C and Paula.  assigning to Mary to close\\r\\r________________________________________\\rMary Lichtenberger <011798>, 11/13/2013: Closing'] \n",
      "\n",
      "def:  320 comment:  [u'Tamara Osifchin <018494>, 11/7/2013: Per Lauren this would be a change request.  Assigning to Gary to create the change request. Change request should specify what officer code to use on Auto Approval.  Also need to specifywhere the rule takes placeunderwriting or funding.  Or a mechanism for preventing non-numerics in the field in Config Mgr.\\r\\r________________________________________\\rTamara Osifchin <018494>, 11/8/2013: same as 319 assigning to Mary to close\\r\\r________________________________________\\rMary Lichtenberger <011798>, 11/13/2013: Closing'] \n",
      "\n",
      "def:  321 comment:  [u'Tom Sokolski <015424>, 11/7/2013: per lauren email \\rThis was caused by the port of the fix for #290 to TB, this port was occurring between 1:45. This issue is now resolved and the port iscomplete. \\r\\r________________________________________\\rTom Sokolski <015424>, 11/7/2013: i have confirmed on an app ijust submitted that this is now working correctly again will closeafter call\\r\\r________________________________________\\rTamara Osifchin <018494>, 11/8/2013: closed for Tom'] \n",
      "\n",
      "def:  322 comment:  [u\"Tamara Osifchin <018494>, 11/7/2013: The stip appeared in the checklist for the next app created 1777.  Seems to be intermitent.  The stip in question is an auto stip so wouldn't be tester error.\\r\\r________________________________________\\rTamara Osifchin <018494>, 11/8/2013: no eta yet still researching\\r\\r________________________________________\\rTamara Osifchin <018494>, 11/12/2013: Lauren has not been able to replicate.  Still researching.\\r\\r________________________________________________________________________________\\rTamara Osifchin <018494>, 11/13/2013: might be limited to auto approvals but there are some autoapproved apps that the stip is showing up on.\\r  \\r\\r________________________________________\\rTamara Osifchin <018494>, 11/14/2013: sent to CMSI dev\\r\\r________________________________________\\rTamara Osifchin <018494>, 11/18/2013: in build 8.7.54 build date is tbd\\r\\r________________________________________\\rTamara Osifchin <018494>, 11/19/2013: 54 is out of dev already\"] \n",
      "\n",
      "def:  323 comment:  [u'Tamara Osifchin <018494>, 11/7/2013: Needs to be decided or fixed before reporting is built because contract rate is pulled into reports.  Per Jeddalyn contract rate calculation is in code but might be able to display adjusted buy rate in the extra section at the bottom of the contract overview screen.\\r\\r________________________________________\\rTamara Osifchin <018494>, 11/8/2013: Per Jeddalyn CMSI can not control the configuration of the buy rate on the contract overview screen.  There is a column in the EDW extract for adjusted buy rate that we can use for reporting if we want to.  FNFG would like the adjusted buy rate displayed in the Configurable Overview section of the Contract Overview screen.  Eta for that change is tbd.  \\r\\r________________________________________\\rBooker Vann <017804>, 11/12/2013: Set to fixed - 11/11: created an Inter to pull value from Dealer Reserve screen to display in the configurable overview screen\\r\\r________________________________________\\rTom Sokolski <015424>, 11/13/2013: tested on app 50001924 and the adjusted buy rate is shown in the additional info'] \n",
      "\n",
      "def:  324 comment:  [u'Tamara Osifchin <018494>, 11/7/2013: LAuren expects to fix this today.\\r\\r________________________________________\\rBooker Vann <017804>, 11/8/2013: Set to fixed - 11/7: modified query to not show duplicate checklist items\\r\\r________________________________________\\rStacy Krajewski <015425>, 11/8/2013: Fixed, Closed'] \n",
      "\n",
      "def:  325 comment:  [u\"Tamara Osifchin <018494>, 11/8/2013: Fix date is 11/12.  Testers had been waiting to test LTV until this was finalized so probably won't affect testing.  Scripts for the tolerance rules were not passed yet either.\\r\\r________________________________________\\rBooker Vann <017804>, 11/12/2013: Set to fixed - 11/8: modified calculation to reflect as outlined\\r\\r________________________________________\\rMary Lichtenberger <011798>, 11/13/2013: Tested on APP 1802. This is calculating correctly.  Ok to close\"] \n",
      "\n",
      "def:  326 comment:  [u'Tamara Osifchin <018494>, 11/8/2013: Per Jeddalyn this rule looks at the flag on the rule not the SSN app entry value.  Jeddalyn to investigate actual logic used.\\r\\r________________________________________\\rTamara Osifchin <018494>, 11/12/2013: Jeddalyn 11/11 mail attached.  This rule is looking at the SSNOVAR flag on the bureau.\\r\\r________________________________________\\rTamara Osifchin <018494>, 11/12/2013: David needs to know which Experian code SSNOVAR is.  Also Lauren to provide a test applicant that does trigger the rule so that we can see how it shows up in the tty.\\r\\r________________________________________\\rTamara Osifchin <018494>, 11/15/2013: Lauren spoke with the Developer and Developer says that this rule does not look at the TTY flags and instead looks at the actual values.  The flag is calculated by Origenate after it looks at the application value and the bureau value.  Assigning back to Sam to close and probably NA the test script.\\r\\r________________________________________\\rSalvatore Mule <015306>, 11/15/2013: Closed defect: not testable based on test credit bureaus.'] \n",
      "\n",
      "def:  329 comment:  [u'Tamara Osifchin <018494>, 11/12/2013: in QS testing right now.\\r\\r________________________________________\\rTamara Osifchin <018494>, 11/15/2013: failed CMSI testing so 11/14 fix date no longer valid.\\r\\r________________________________________\\rTamara Osifchin <018494>, 11/18/2013: assigned and mailed to Kory for approval to move to TB\\r\\r________________________________________\\rBooker Vann <017804>, 11/19/2013: Set to fixed -  11/15: updatedrule descriptions and override level per spreadsheet \\r\\r________________________________________\\rMary Lichtenberger <011798>, 11/20/2013: Override levels were not updated.  I have attached a copy of the tolerance rules fromAPP 50002117 that I entered today 11/19/2013 and you can see many of the override levels are wrong.  \\r\\r________________________________________\\rTamara Osifchin <018494>, 11/20/2013: Per Stacy this was still showing 1s and 5s up to an hour ago but is now showing all 2 -4sexcept 1 which Jeddalyn will fix.\\r\\r________________________________________\\rBooker Vann <017804>, 11/20/2013: Set to fixed - 11/15: updated rule descriptions and override level per spreadsheet \\r11/20: updated override levels for Collateral Value Below Approved Value 500.00 \\rIncome plus parameter (for applicant/co-applicant/guarantor1/guarantor2) is less than approved.\\rTax ID (on a business app) and SSN (of guarantor (1) and or guarantor (2)) are not distinct 50002621\\r\\r________________________________________\\rMary Lichtenberger <011798>, 11/21/2013: Rule for Bureau Date exceeds parameter for Applicant and/pr Co-Applicant is incorrect. This should be set to an override level of 4.  This was tested on app 50002150 which was submitted/approvedand worked today11/21\\r\\r________________________________________\\rTamara Osifchin <018494>, 11/21/2013: potential fix description: Fix: there are 2 CM charts that FNFG added that is blocking theconfiguration for this. The fix is to remove the 2 charts. \\r  \\r\\r________________________________________\\rTamara Osifchin <018494>, 11/22/2013: fix: 11/22: removed 2 tables that were blocking override levels configuration\\r\\r________________________________________\\rMary Lichtenberger <011798>, 11/22/2013: Verified this was corrected. Ok to close'] \n",
      "\n",
      "def:  330 comment:  [u'Tamara Osifchin <018494>, 11/12/2013: Lauren 11/12 mail: This app called a second bureau because TRU triggered a No Hit. Thereis currently logic in place that requires 3 or more trades to be present.\\r  \\r________________________________________\\rTamara Osifchin <018494>, 11/12/2013: Per Lauren the app auto declined because FL was out of footprint.  Lauren corrected this today.\\r\\r________________________________________\\rSalvatore Mule <015306>, 11/14/2013: closed defect; Retested app# 50001973'] \n",
      "\n",
      "def:  331 comment:  [u'Tamara Osifchin <018494>, 11/12/2013: Assigned to Sam to discuss what the parameter value for Medium Duty.\\r\\r________________________________________\\rTamara Osifchin <018494>, 11/12/2013: Everyone is good with one rule for applicant score and one rule for co-applicant score.\\r\\r________________________________________\\rSalvatore Mule <015306>, 11/13/2013: Closed defect as rules for Med duty Truck has changed.'] \n",
      "\n",
      "def:  333 comment:  [u'Tamara Osifchin <018494>, 11/12/2013: did not select verify first before changing the SSN to match.Did select verify after changing.\\r\\r________________________________________\\rTamara Osifchin <018494>, 11/13/2013: Lauren sent this to CMSI dev.  Lauren to send spreadsheet of dev defects and which build they will be coming in.  Planned build dates are 11/15 and 11/22.  \\r\\r________________________________________\\rTamara Osifchin <018494>, 11/14/2013: no update\\r\\r________________________________________\\rTamara Osifchin <018494>, 11/19/2013: will be out of dev on 1206'] \n",
      "\n",
      "def:  334 comment:  [u\"Tamara Osifchin <018494>,11/12/2013: assigning to CMSI to see when FNFG's Vintek db was last updated.\\r\\r________________________________________\\rTamara Osifchin <018494>,11/13/2013: Lauren still waiting on information from support.\\r\\r________________________________________\\rTamara Osifchin <018494>,11/14/2013: Support is working this but have not identified root cause yet.\\r\\r________________________________________\\rTamara Osifchin <018494>,11/15/2013: no update\\r\\r________________________________________\\rTamara Osifchin <018494>,11/19/2013: our VINTEK db was refreshed so this is working now.  eta is11/20\\r\\r________________________________________\\rBooker Vann <017804>, 11/20/2013:Set to fixed - 11/19: database was updated with information\\r\\r________________________________________\\rStacy Krajewski <015425>,11/20/2013: Tested same VIN, no tol rule triggered, closed\"] \n",
      "\n",
      "def:  335 comment:  [u'Salvatore Mule <015306>, 11/12/2013: Reviewed Med DutyTruck program with Peter & Pat.\\r\\r________________________________________\\rTamara Osifchin <018494>, 11/13/2013: Assigning back to Samto close.\\r\\r________________________________________\\rSalvatore Mule <015306>, 11/13/2013: Closed defect, Per DaveC, new creiteria approved by risk management.'] \n",
      "\n",
      "def:  336 comment:  [u\"Tamara Osifchin <018494>, 11/14/2013: no eta yet\\r\\r________________________________________\\rTamara Osifchin <018494>, 11/19/2013: no update\\r\\r________________________________________\\rTamara Osifchin <018494>, 11/20/2013: Lauren 11/20 mail: This tool requires the Task Timeout cronjob to be setup or it will not function properly. I have put in a request with our Engineering team (3522)and the ETA is 11/22.\\r  \\r\\r________________________________________\\rTamara Osifchin <018494>, 11/22/2013: no response from Engineering yet.\\r\\r________________________________________\\rTamara Osifchin <018494>, 11/25/2013: still open on CMSI's side. the cron job was put in TB sometime btwn Wed and Fri last week but the tasks are still not moving to Supervisor queue.\\r\\r________________________________________\\rTamara Osifchin <018494>, 11/26/2013: Lauren has apps that are set up to test this when the 5 and7 day intervals elapse.  We will ask Kory, Matt for approval to change interval values. \\r\\r________________________________________\\rTamara Osifchin <018494>, 12/2/2013: parameter was changed last week but testing uncovered further issues.  Sent to Dev.\\r\\r________________________________________\\rTamara Osifchin <018494>, 12/4/2013: this will be out of dev on 12/20\"] \n",
      "\n",
      "def:  337 comment:  [u\"Tamara Osifchin <018494>, 11/13/2013: Sam previously tested the LTV test cases on personal apps and they passed so this recently stopped working as expected or it could be based on the fact that this is a business app. \\r\\r________________________________________\\rTamara Osifchin <018494>, 11/14/2013: no eta yet.  TA ooo today.\\r\\r________________________________________\\rTamara Osifchin <018494>, 11/18/2013: ready for testing in QS\\r________________________________________\\rTamara Osifchin <018494>, 11/19/2013: tested in QS but Lauren needs to find out why it wasn't ported to TB today\\r \\r________________________________________\\rBooker Vann <017804>, 11/20/2013: Set to fixed - 11/20:updated LTV calculation logic\\r\\r________________________________________\\rSalvatore Mule <015306>, 11/21/2013: Closed defect; Tested app# 50002142 and ltv ihas been corrected; Details are;\\r Selling Price $30,000\\r-Cash Dowb $15,000\\r-Rebate $1,000\\r+Doc Fee $299\\r= $14,299\\rMSRP $38,000\\rLTV 37.62%\\rSystem Calculated 37.62%\"] \n",
      "\n",
      "def:  338 comment:  [u'Tamara Osifchin <018494>, 11/13/2013: Expected the two payments to be de-duped because they are within $50 of each other.\\r\\r________________________________________\\rTamara Osifchin <018494>, 11/14/2013: several mails sent about this today.  with TA.\\r\\r________________________________________\\rTamara Osifchin <018494>, 11/18/2013: assigned and mailed to Kory for approval to move to TB\\r\\r________________________________________\\rBooker Vann <017804>, 11/19/2013: Set to fixed - 11/16:changed it back to original logic with deduping for guarantors \\r\\r________________________________________\\rSalvatore Mule <015306>, 11/20/2013: Reopened, tested app#50002116...but the bureau payment was excluded and the payment from the application should be excluded. I have copied the config workbook section.  If the housing payment entered on the application is within the range specified (plus orminus) to the bureau mortgage trade payment, then the application housing expense trade line is excluded.\\r \\r\\r________________________________________\\rSalvatore Mule <015306>, 11/20/2013: Reassigned to CMSI\\r\\r________________________________________\\rTamara Osifchin <018494>, 11/21/2013: potential fix description:338: updated the logic to look at < vs > \\r\\r________________________________________\\rTamara Osifchin <018494>, 11/22/2013: fix: 11/22: fixed logic between > and < to dedupe the lesser of the 2 trades. Please use brand new application when retesting.\\r\\r________________________________________\\rSalvatore Mule <015306>, 11/22/2013: Closed defect; retested app# 50002163'] \n",
      "\n",
      "def:  339 comment:  [u\"Tamara Osifchin <018494>,11/13/2013: Per Stacy there isn't any leeway at monthly annual or any interval. FNFG wants the parameter to be (monthly approved income - $1).\\r\\r________________________________________\\rTamara Osifchin <018494>,11/14/2013: with CMSI TA.  no fix date. failed QS testing today.\\r\\r________________________________________\\rBooker Vann <017804>, 11/15/2013:Set to fixed -  11/15: Updated rule logic to match requested functionality\\r\\r________________________________________\\rStacy Krajewski <015425>,11/18/2013: Re-open. App 2056. Kept monthly income the same, no rule trigger.Changed monthly income by $1, rule triggered. Also tried to change monthly income by $.01 and it still triggered. The$1 less monthly tolerance still does not appear to be built in as per 11/13 note above. See new attachment.\\r\\r________________________________________\\rTamara Osifchin <018494>,11/18/2013: might be related to other issues in TB today with tolerance rules. Retested around 9 am this morning. Assigning back to CMSI.\\r\\r________________________________________\\rTamara Osifchin <018494>,11/19/2013: CMSI did not fix anything butthe problem seems to have disappeared after the system was bounced. Assigning to Stacy to confirm and close.\\r\\r________________________________________\\rStacy Krajewski <015425>,11/20/2013: Ok to close\"] \n",
      "\n",
      "def:  340 comment:  [u'Tamara Osifchin <018494>, 11/13/2013: Per Lauren this would be a change request.  Assigning to Gary.  Medium priority because there is a manual workaround that is already in use in Production today.\\r\\r________________________________________\\rMary Lichtenberger <011798>, 11/14/2013:  Rich had stated there is a rule in their Library that might cover this and would keep this request as a defect and not as a change request.  The tolerance rule reads as \"Term Exceeds Parameter for NJ Dealer\". Please see attached email for more information.  \\r\\r________________________________________\\rTamara Osifchin <018494>, 11/14/2013: no fix date.  withCMSI TA.  Per Jeddalyn this is already in the system.  Per Tom this rule is not appearing for app 2041 and definitely not triggering.\\r\\r________________________________________\\rBooker Vann <017804>, 11/15/2013: Set to fixed -  11/15:Create tolerance rule to match current decision rule logic.\\r\\r________________________________________\\rMary Lichtenberger <011798>, 11/18/2013: No rule is showing on APP 50002069.  This is submitted for a NJ dealership.  The Cash price is $9,000.  and the term is 60 mo.  \\r\\r________________________________________\\rTamara Osifchin <018494>, 11/18/2013: might be related to general issue with no tolerance rules showing.  Assigning to CMSI toverify.\\r\\r________________________________________\\rBooker Vann <017804>, 11/19/2013: Set to fixed -  11/15:Create tolerance rule to match current decision rule.\\r\\r________________________________________\\rMary Lichtenberger <011798>, 11/20/2013: Tested on APP 50002117. This rule triggers based off dealership and cash price as requested.  This is working correctly. Ok to close'] \n",
      "\n",
      "def:  341 comment:  [u\"Tamara Osifchin <018494>, 11/13/2013: Known issue that Origenate test instance is on MT.  Per Sam DT timestamp is the same as Origenate's on app ?  David P also confirmed DT login time is ET.\\r\\r________________________________________\\rSalvatore Mule <015306>, 11/14/2013: Closed defect; Per Lauren memo, We have verified that the DT apps are also coming in with aMT date stamp. So this issue will be corrected when you move to Production due to the location of the server. I believe this issue should be closed as it is a duplicate of a prior defect.\\r  \\r\\r________________________________________\\rTamara Osifchin <018494>, 11/14/2013: Assigning back to Sam to add the picture of app N in DT.  Moved back to Open because we need to understand why that app 1894 has the same timestamp as Origenate.\\r\\r________________________________________\\rSalvatore Mule <015306>, 11/14/2013: Close defect, Reviewed app# 50002036 DT app, see attachments as there is a 2 hr time delay.\"] \n",
      "\n",
      "def:  342 comment:  [u'Tamara Osifchin <018494>, 11/13/2013: Jeddalyn just sent out the fix for this a few minutes ago.  Fix: 11/13:  updated config to populate collateral screen from underwriting again\\r\\r________________________________________\\rTom Sokolski <015424>, 11/14/2013: tested on 50001932. closing defect'] \n",
      "\n",
      "def:  343 comment:  [u'Tom Sokolski <015424>, 11/14/2013: Per Jeddalyn email this is now fixed tested app 50001982 this isnow working correctly.  can close at 4pm call\\r\\r________________________________________\\rTamara Osifchin <018494>, 11/14/2013: was working on two of the checklists but not on the NY one.\\r\\r________________________________________\\rTamara Osifchin <018494>, 11/19/2013: Fix description: 11/14: made buyers order not mandatory viaCM. A new application is needed to test'] \n",
      "\n",
      "def:  344 comment:  [u'Tamara Osifchin <018494>, 11/14/2013: This was fixed today.\\r\\r________________________________________\\rTom Sokolski <015424>, 11/15/2013: tested on 50002050 is working correctly.\\r\\r________________________________________\\rBooker Vann <017804>, 11/15/2013: Set to fixed - 11/15: Charts recently updated that control theparam for that rule. App id is too aged to trigger. Retry with new app.'] \n",
      "\n",
      "def:  345 comment:  [u'Tamara Osifchin <018494>, 11/14/2013: David P provided a newchart that Jeddalyn has sent to the TA to configure.\\r\\r________________________________________\\rBooker Vann <017804>, 11/15/2013: Set to fixed - 11/15: ChartDEBureauScoreParam had an incorrect entry.  Stating the app should go to review when the app should go to review when the score is < 760 when LTV is <= 80%.\\r\\r________________________________________\\rSalvatore Mule <015306>, 11/15/2013: Closed defect; Retested 50002049'] \n",
      "\n",
      "def:  346 comment:  [u'Tamara Osifchin <018494>, 11/14/2013: Dave changed the chart yesterday.Lauren sent this to TA today.\\r\\r________________________________________\\rBooker Vann <017804>, 11/15/2013: Set to fixed - 11/15: Ratetable is functioning as intended. Dealer state is ME not MA for app50001998\\r\\r________________________________________\\rSalvatore Mule <015306>, 11/15/2013: Verified with Dave P that the rate has been adjusted and should reflect 3.30% rate not 3.29% as shown in attachment.  Retested with app # 50002052\\r\\r________________________________________\\rSalvatore Mule <015306>, 11/15/2013: Closed defect: retested app# 50002052'] \n",
      "\n",
      "def:  347 comment:  [u'Tamara Osifchin <018494>, 11/19/2013: assigned to a TA on CMSI sign.  no further update\\r\\r________________________________________\\rTamara Osifchin <018494>, 11/20/2013: no update\\r\\r________________________________________\\rTamara Osifchin <018494>, 11/21/2013: This started working today but nothing was fixed specifically for this defect.\\r\\r________________________________________\\rTamara Osifchin <018494>, 11/22/2013: assigned to me to look into a little further\\r\\r________________________________________\\rTamara Osifchin <018494>, 11/22/2013: assigning back to Sam to confirm and close.  We think changes made for 297 and/or 299 fixed this issue.\\r\\r________________________________________\\rSalvatore Mule <015306>, 11/22/2013: Closed defect; see screen print of app# 50002036'] \n",
      "\n",
      "def:  348 comment:  [u\"Tamara Osifchin <018494>, 11/18/2013: eta is 11/21\\r\\r________________________________________\\rTamara Osifchin <018494>, 11/20/2013: if electronic decision doesn't go out, users would need to re-decision the app to resend the decision to DT/RO.  To send the decision when DT/RO goes down, we would need to create a document that could be faxed.  Sam to send templates for approval, counter offer and decline. Sam also to talk to Dave C as to whether we can fax dealers without encryption in place.\\r\\r________________________________________\\rSalvatore Mule <015306>, 11/21/2013: Close defect; discussed with Pete and Pat this is a non-issue. This was a known CRIF issue not DT or RT1.\"] \n",
      "\n",
      "def:  350 comment:  [u'We will need to discuss how to set up this table and the ability to make updates on different months to insure the correct amount is paid. \\r\\r________________________________________\\rTamara Osifchin <018494>, 11/15/2013: Next step is for David to get clarification on tables at Monday11/18 meeting with CMSI.  David to set up the meeting with Dave C, Tom, Lauren and Mike Reese.\\r\\r________________________________________\\rTamara Osifchin <018494>, 11/18/2013: assigning back to Tom to close because FNFG understands the charts now.'] \n",
      "\n",
      "def:  352 comment:  [u\"Tamara Osifchin <018494>, 11/18/2013: had issues with the system today that are not yet explained.  Medium because workaround is to book with exception.\\r\\r________________________________________\\rTamara Osifchin <018494>, 11/19/2013: sent to CMSI.  issue only occurs with apps that were re-decisioned because each decision saved a copy of auto stip in the db.\\r\\r________________________________________\\rTamara Osifchin <018494>, 11/20/2013: probably won't get a dev due date until next dev meeting and will get an update on Wed \\r\\r________________________________________\\rTamara Osifchin <018494>, 11/27/2013: Per Jeddalyn 11/27 mail this will be out of dev on 1206\"] \n",
      "\n",
      "def:  353 comment:  [u'Stacy Krajewski <015425>,11/18/2013: After clearing browsing history and restarting IE the calculator now works\\r\\r________________________________________\\rTamara Osifchin <018494>,11/18/2013: This happened after the reboot of the system. Per CMSI this is a known issue and solution is to clear cache and restart IE.  Assigning toTamara to add to known issue list.\\r\\r________________________________________\\rTamara Osifchin <018494>,11/20/2013: I updated the known issueslist in Sharepoint.  Assigning this back toStacy to close.\\r\\r________________________________________\\rStacy Krajewski <015425>,11/20/2013: Closed'] \n",
      "\n",
      "def:  354 comment:  [u'Tamara Osifchin <018494>, 11/18/2013:  This was on working on Friday.  Reboot around noon today did not fix the problem.\\r  \\r\\r________________________________________\\rBooker Vann <017804>, 11/19/2013: Set to fixed - 11/19: updated the rules logic to show tolerance rules in contract info page\\r\\r________________________________________\\rStacy Krajewski <015425>, 11/20/2013: Rules appear to be working app 2112. Closed.\\r\\r________________________________________\\rTamara Osifchin <018494>, 11/20/2013: Stopped working on Monday which was the day no ports were done bcs of the new defect process.  Root cause was one tolerance rule had wrong logic init that caused the others to not appear but no root cause as to why that bad logic started showing up Monday morning.'] \n",
      "\n",
      "def:  358 comment:  [u\"Tamara Osifchin <018494>, 11/19/2013: will be in tonight's port\\r\\r________________________________________\\rBooker Vann <017804>, 11/20/2013: Set to fixed - 11/19: added logic to exclude authorized trades in calculation\\r\\r________________________________________\\rSalvatore Mule <015306>, 11/20/2013: Closed defect; tested with app# 50002119...a/u debts removed and that corrected $amounts on overview screen.\"] \n",
      "\n",
      "def:  359 comment:  [u'David Pepe <005778>, 11/19/2013: DST is not operational at this time to run script\\r\\r________________________________________\\rTamara Osifchin <018494>, 11/19/2013: Assigning to Gary to give us status on SIT ofthe DST interface\\r\\r________________________________________\\rTamara Osifchin <018494>, 11/19/2013: Assigning back to David to close as a duplicateof 295\\r\\r________________________________________\\rDavid Pepe <005778>, 11/20/2013: Duplicate of 295 closing'] \n",
      "\n",
      "def:  363 comment:  [u'Tamara Osifchin <018494>, 11/21/2013: FNFG wants this to trigger so they can force the user to put in  a comment as to why they waived an item.  Fix is that if the status of any item is not Complete, trigger the rule. Medium priority - no workaround but business can live without this for at least some time.\\r\\r________________________________________\\rTamara Osifchin <018494>, 11/22/2013: potential fix description: 11/22: added logic to trigger rule if a mandatory item has a status other than incomplete.  Mailed to Kory and Matt\\r  \\r\\r________________________________________\\rBooker Vann <017804>, 11/26/2013: Set to fixed -  11/22:added logic to trigger rule if a mandatory item has a status other than incomplete\\r\\r________________________________________\\rMary Lichtenberger <011798>, 11/29/2013: This has been corrected. Ok to Close.'] \n",
      "\n",
      "def:  364 comment:  [u\"Tamara Osifchin <018494>, 11/21/2013: Assigning to CMSI to update.  This is a newer rule and wasn't in the list with override levels sent a few weeks ago. Medium bcs workaround is to have Sys Admin update this in Prod.\\r\\r________________________________________\\rTamara Osifchin <018494>, 11/22/2013: potential fix description: 11/22: updated override level from 3 to 4.  Mailed to Kory and Matt.\\r\\r________________________________________\\rBooker Vann <017804>, 11/26/2013: Set to fixed -  11/22:updated override level from 3 to 4\\r\\r________________________________________\\rMary Lichtenberger <011798>, 11/29/2013: This has been updated. Ok to Close\"] \n",
      "\n",
      "def:  366 comment:  [u'Tamara Osifchin <018494>, 11/22/2013: No eta yet.  Lauren has emailed to Dev because there are no config settings related to this.\\r\\r________________________________________\\rTamara Osifchin <018494>, 11/25/2013: still waiting on response from Dev.  Lauren to ping Dev.\\r\\r________________________________________\\rTamara Osifchin <018494>, 11/26/2013: sent to CMSI dev\\r\\r________________________________________\\rTamara Osifchin <018494>, 11/27/2013: Per Jeddalyn 11/27 mail, this will be out of Dev on 12/13'] \n",
      "\n",
      "def:  367 comment:  [u'Salvatore Mule <015306>, 11/21/2013: Add chart provided byDave P, change is in the last row of the chart.\\r\\r________________________________________\\rSalvatore Mule <015306>, 11/22/2013: Resent with chart as requested by Jeddalyn. \\r\\r\\r________________________________________\\rTamara Osifchin <018494>, 11/22/2013: Potential fix description:11/22: updated default to 60 vs 0.  Mailed to Kory and Matt.\\r  \\r\\r________________________________________\\rTamara Osifchin <018494>, 11/22/2013: medium because workaround is to have Sys Admin make the change in Prod\\r\\r________________________________________\\rBooker Vann <017804>, 11/26/2013: Set to fixed - 11/22:updated default to 60 vs 0\\r\\r________________________________________\\rSalvatore Mule <015306>, 11/26/2013: Closed Defect; tested app# 50002187'] \n",
      "\n",
      "def:  368 comment:  [u'Tamara Osifchin <018494>,11/22/2013: potential fix description:11/22: updated checklist items for Vermont\\r\\r________________________________________\\rTamara Osifchin <018494>,11/22/2013: Mailed to Kory and Matt\\r\\r________________________________________\\rTamara Osifchin <018494>,11/22/2013: explanation of why this made it through the checklist test scripts: Stacy: We had a defect (248) with that test script to switch the order a while ago because the DL was before the front end adds. It appears that the mandatory checklist requirement was not moved with the DL (it was right before the flip was made). I went back and saw Tom re-tested so I am thinking it was just missed and he was more concerned about the order being fixed and missed the mandatory requirement.\\r  \\r\\r________________________________________\\rTamara Osifchin <018494>,11/25/2013: assigned to 018000 to indicate this is with Kory/Matt\\r\\r________________________________________\\rTamara Osifchin <018494>,11/25/2013: approved to move to TB today\\r\\r________________________________________\\rBooker Vann <017804>, 11/26/2013:Set to fixed - 11/22: updated checklist items for Vermont\\r\\r________________________________________\\rStacy Krajewski <015425>,11/27/2013: Fixed app 2022. Closing.'] \n",
      "\n",
      "def:  422 comment:  [u'Tamara Osifchin <018494>,11/25/2013: updated detected in phase to UAT\\r\\r________________________________________\\rStacy Krajewski <015425>,11/25/2013: Retested this after e-mail sent this was working. App 2172 and 2173 went through without an issue.\\r\\r________________________________________\\rTamara Osifchin <018494>,11/25/2013: email notifying us of the fix was sent at 2:20 pm today\\r\\r________________________________________\\rTamara Osifchin <018494>,11/25/2013: Jeddalyn to send fix description\\r\\r________________________________________\\rTom Sokolski <015424>, 11/26/2013:first app of the day from route one and it did not go to CMSI.  there was no app number given on route one. the customers ss is 666056910\\r\\r________________________________________\\rStacy Krajewski <015425>,11/26/2013: Just tried another one. Did not make it through from Route One until 13 minutes later. Added new attachment\\r\\r________________________________________\\rTamara Osifchin <018494>,11/26/2013: Jeddalyn 1:28 mail:  Our gateway got backed up because itl ooked like someone was pushing a bunch of apps through at the same time.The apps that were created this morning should be in the MDQ now.   Per Stacy,apps are slowing up again as of 3:30 orso.  Jeddalyn to check gateway for backlog tomorrow.\\r  \\r\\r________________________________________\\rStacy Krajewski <015425>,11/27/2013: Dealer Track is now not working. (added new attachments).Route One I tried to submit an app at 9:24 am and it never went through. Sam just tried and it worked for him so I resubmitted my application and it did go through.\\r  \\r\\r________________________________________\\rTamara Osifchin <018494>,11/27/2013: Root cause is that a developer made a change to the gateway for another client.  Developer took out the change and rebooted the gateway late this morning.\\r\\r________________________________________\\rTamara Osifchin <018494>, 12/2/2013:Jeddalyn to send rfct mail\\r\\r________________________________________\\rBooker Vann <017804>, 12/2/2013: Set to fixed - Engineer removed fix from another client and bounced gateway.\\r\\r________________________________________\\rStacy Krajewski <015425>, 12/3/2013:This is now working properly. Ok to close.'] \n",
      "\n",
      "def:  424 comment:  [u'Stacy Krajewski <015425>,11/26/2013: Tom was able to see this under his login for an MD dealership.Added new attachment.\\r\\r________________________________________\\rTamara Osifchin <018494>,11/26/2013: potential fix description11/26: Add booking touchpoint for business applications.  Mailed to Koryand Matt.\\r\\r________________________________________\\rTamara Osifchin <018494>,11/26/2013: This was working for personal apps but not business.  Fix is for business apps.  Assigned to Kory to approve.\\r\\r________________________________________\\rTamara Osifchin <018494>, 12/2/2013:Received approval from Matt and Kory via mail from Lisa.  Assigned back toCMSI.\\r\\r________________________________________\\rBooker Vann <017804>, 12/2/2013: Setto fixed - 11/26: Add booking touchpointfor business applications \\r\\r________________________________________\\rStacy Krajewski <015425>, 12/3/2013:Notification prompt now displaying info for business loan. App 2162. Closing.'] \n",
      "\n",
      "def:  426 comment:  [u'Tamara Osifchin <018494>, 11/26/2013: First screenshot: still 12.99 rate after changed to 72 month and no new payment displayed on overview screen.  Rate should be something else according to ratesheet.  \\r\\r________________________________________\\rTamara Osifchin <018494>, 11/26/2013: Also verify payment amount on trade screen when retesting this defect.\\r\\r________________________________________\\rTamara Osifchin <018494>, 11/26/2013: High priority until we can think of a workaround.\\r\\r________________________________________\\rTamara Osifchin <018494>, 11/27/2013: TA out on vacation this week.\\r\\r________________________________________\\rTamara Osifchin <018494>, 12/2/2013: still with TA\\r\\r________________________________________\\rTamara Osifchin <018494>, 12/3/2013: potential fix description: 12/3: configured for rate to always recalculate on the what if and decision screens.  Assigned to Kory for approval to move to TB. Mailed to Kory and Matt.'] \n",
      "\n",
      "def:  430 comment:  [u'Tamara Osifchin <018494>, 11/27/2013: 3 fixes for this one.  \\r  \\r\\r________________________________________\\rTamara Osifchin <018494>, 12/2/2013: potential fix description: 12/2: modified logic to just look at first 5 characters, as well as change override and category.  \\r\\r________________________________________\\rTamara Osifchin <018494>, 12/2/2013: Mailed to Kory and Matt for approval and assigned to Kory'] \n",
      "\n",
      "def:  431 comment:  [u\"Tamara Osifchin <018494>, 11/27/2013: We think this wasn't tested before so just finding this now.\\r\\r________________________________________\\rTamara Osifchin <018494>, 12/2/2013: TA is looking at this\\r  \\r\\r________________________________________\\rTamara Osifchin <018494>, 12/3/2013: potential fix description:  12/3: configured for rate to alwaysrecalculate on the what if and decision screens.  Assigned to Kory to approve move to TB. Mailed to Koryand Matt.\"] \n",
      "\n",
      "def:  432 comment:  [u'Tamara Osifchin <018494>, 11/27/2013: Sam clicked calculate and save after changing the selling price but requested amount did not change accordingly.\\r\\r________________________________________\\rTamara Osifchin <018494>, 12/2/2013: TA is looking at this\\r\\r________________________________________\\rTamara Osifchin <018494>, 12/3/2013: potential fix description: 12/3: Made a change to always re-calcthe requested amount on the decision screen. Requested amount should be made non-updateable Assigned to Kory to approve move to TB. Mailed to Kory and Matt.'] \n",
      "\n",
      "def:  433 comment:  [u'Tamara Osifchin <018494>, 11/27/2013: Sam used the same app for 433 but changed some amounts. DTI and PTI seem to be calculating correctly.\\r\\r________________________________________\\rTamara Osifchin <018494>, 12/2/2013: TA is looking at this\\r\\r________________________________________\\rTamara Osifchin <018494>, 12/3/2013: potential fix description: 12/3: configured for rate to always recalculate on the what if and decision screens.  Assigned to Kory to approve port to TB. Mailed to Koryand Matt.'] \n",
      "\n",
      "def:  442 comment:  [u\"Tamara Osifchin <018494>, 12/3/2013: next step is to change 150 to 0 in the chart in the attachment. Tamara to send mail to Kory for approval to update the chart.  We don't know who put the 150 inthe table to begin with.  David P was last to touch the table but only added dealers.  Nobody else on FNFG knows how to change the table.\\r\\r________________________________________\\rTamara Osifchin <018494>, 12/3/2013: Assigned to Kory to approve the change to the chart.\"] \n",
      "\n"
     ]
    }
   ],
   "source": [
    "for defect_id, comment in defects.iteritems():\n",
    "    print \"def: \", defect_id, \"comment: \", comment, \"\\n\""
   ]
  },
  {
   "cell_type": "code",
   "execution_count": 27,
   "metadata": {
    "collapsed": false
   },
   "outputs": [],
   "source": [
    "#convert the comment text from a list of chars to a string\n",
    "for defect_id, comment_text in defects.iteritems():\n",
    "    defects[defect_id] = \"\".join(comment_text)\n",
    "    \n",
    "#corpus will contain only the comment text of each defect\n",
    "corpus = []\n",
    "for id, defect in sorted(defects.iteritems(), key=lambda t: int(t[0])):\n",
    "    corpus.append(defect)\n",
    "    \n"
   ]
  },
  {
   "cell_type": "code",
   "execution_count": 28,
   "metadata": {
    "collapsed": false
   },
   "outputs": [
    {
     "data": {
      "text/plain": [
       "list"
      ]
     },
     "execution_count": 28,
     "metadata": {},
     "output_type": "execute_result"
    }
   ],
   "source": [
    "type(corpus)"
   ]
  },
  {
   "cell_type": "code",
   "execution_count": 34,
   "metadata": {
    "collapsed": false
   },
   "outputs": [
    {
     "name": "stdout",
     "output_type": "stream",
     "text": [
      "300\n"
     ]
    }
   ],
   "source": [
    "print len(corpus)"
   ]
  },
  {
   "cell_type": "code",
   "execution_count": 102,
   "metadata": {
    "collapsed": true
   },
   "outputs": [],
   "source": [
    "#could create the count vector and transform it to idfs in one step with TfidfVectorizer but I wanted\n",
    "#to do it in 2 steps first\n",
    "cvec = CountVectorizer(ngram_range=(1,2),stop_words = 'english')"
   ]
  },
  {
   "cell_type": "code",
   "execution_count": 142,
   "metadata": {
    "collapsed": true
   },
   "outputs": [],
   "source": [
    "#what happens if I give it a vocabulary\n",
    "vocab = {'duplicate':0,'change request':1,'bucket':2,\n",
    "         'fix description':3,'retry':4,'back':5,'dev':6,\n",
    "         'in progress':7, 'duplicate of':8, \n",
    "         'requirement':9,'new requirement':10,'new requirements':11,\n",
    "         'tester confused':12, 'same as':13,'monitoring':14,\n",
    "         'rforct':15, 'port to tb':16, 'set to fixed':17, 'in a while':18, 'have not seen':19,\n",
    "         'fix desc':20, 'requirements':21, 'could not reproduce':22, 'intermittently':23,'intermittent':24,\n",
    "         'script was incorrect':25, 'ready for client testing':26}\n",
    "cvec = CountVectorizer(ngram_range=(1,4),vocabulary=vocab)"
   ]
  },
  {
   "cell_type": "code",
   "execution_count": 143,
   "metadata": {
    "collapsed": false
   },
   "outputs": [
    {
     "data": {
      "text/plain": [
       "CountVectorizer(analyzer=u'word', binary=False, decode_error=u'strict',\n",
       "        dtype=<type 'numpy.int64'>, encoding=u'utf-8', input=u'content',\n",
       "        lowercase=True, max_df=1.0, max_features=None, min_df=1,\n",
       "        ngram_range=(1, 4), preprocessor=None, stop_words=None,\n",
       "        strip_accents=None, token_pattern=u'(?u)\\\\b\\\\w\\\\w+\\\\b',\n",
       "        tokenizer=None,\n",
       "        vocabulary={'in progress': 7, 'requirement': 9, 'back': 5, 'fix description': 3, 'ready for client testing': 26, 'rforct': 15, 'new requirement': 10, 'retry': 4, 'monitoring': 14, 'script was incorrect': 25, 'change request': 1, 'new requirements': 11, 'duplicate': 0, 'have not seen': 19, 'in a whil... 'intermittently': 23, 'set to fixed': 17, 'tester confused': 12, 'fix desc': 20, 'duplicate of': 8})"
      ]
     },
     "execution_count": 143,
     "metadata": {},
     "output_type": "execute_result"
    }
   ],
   "source": [
    "cvec.fit(corpus)"
   ]
  },
  {
   "cell_type": "code",
   "execution_count": 37,
   "metadata": {
    "collapsed": false
   },
   "outputs": [
    {
     "data": {
      "text/plain": [
       "{'back': 5,\n",
       " 'bucket': 2,\n",
       " 'change request': 1,\n",
       " 'could not reproduce': 22,\n",
       " 'dev': 6,\n",
       " 'duplicate': 0,\n",
       " 'duplicate of': 8,\n",
       " 'fix desc': 20,\n",
       " 'fix description': 3,\n",
       " 'have not seen': 19,\n",
       " 'in a while': 18,\n",
       " 'in progress': 7,\n",
       " 'intermittent': 24,\n",
       " 'intermittently': 23,\n",
       " 'monitoring': 14,\n",
       " 'new requirement': 10,\n",
       " 'new requirements': 11,\n",
       " 'port to tb': 16,\n",
       " 'ready for client testing': 26,\n",
       " 'requirement': 9,\n",
       " 'requirements': 21,\n",
       " 'retry': 4,\n",
       " 'rforct': 15,\n",
       " 'same as': 13,\n",
       " 'script was incorrect': 25,\n",
       " 'set to fixed': 17,\n",
       " 'tester confused': 12}"
      ]
     },
     "execution_count": 37,
     "metadata": {},
     "output_type": "execute_result"
    }
   ],
   "source": [
    "cvec.vocabulary_"
   ]
  },
  {
   "cell_type": "code",
   "execution_count": 47,
   "metadata": {
    "collapsed": false
   },
   "outputs": [
    {
     "data": {
      "text/plain": [
       "CountVectorizer(analyzer=u'word', binary=False, decode_error=u'strict',\n",
       "        dtype=<type 'numpy.int64'>, encoding=u'utf-8', input=u'content',\n",
       "        lowercase=True, max_df=1.0, max_features=None, min_df=1,\n",
       "        ngram_range=(1, 2), preprocessor=None, stop_words=None,\n",
       "        strip_accents=None, token_pattern=u'(?u)\\\\b\\\\w\\\\w+\\\\b',\n",
       "        tokenizer=None,\n",
       "        vocabulary={'in progress': 7, 'requirement': 9, 'back': 5, 'fix description': 3, 'ready for client testing': 26, 'rforct': 15, 'new requirement': 10, 'retry': 4, 'monitoring': 14, 'script was incorrect': 25, 'change request': 1, 'new requirements': 11, 'duplicate': 0, 'have not seen': 19, 'in a whil... 'intermittently': 23, 'set to fixed': 17, 'tester confused': 12, 'fix desc': 20, 'duplicate of': 8})"
      ]
     },
     "execution_count": 47,
     "metadata": {},
     "output_type": "execute_result"
    }
   ],
   "source": [
    "cvec"
   ]
  },
  {
   "cell_type": "code",
   "execution_count": 144,
   "metadata": {
    "collapsed": false
   },
   "outputs": [
    {
     "data": {
      "text/plain": [
       "<300x27 sparse matrix of type '<type 'numpy.int64'>'\n",
       "\twith 375 stored elements in Compressed Sparse Row format>"
      ]
     },
     "execution_count": 144,
     "metadata": {},
     "output_type": "execute_result"
    }
   ],
   "source": [
    "#create the sparse matrix of term counts\n",
    "cmatrix = cvec.transform(corpus)\n",
    "cmatrix"
   ]
  },
  {
   "cell_type": "code",
   "execution_count": 105,
   "metadata": {
    "collapsed": false
   },
   "outputs": [
    {
     "data": {
      "text/plain": [
       "<300x27 sparse matrix of type '<type 'numpy.int64'>'\n",
       "\twith 186 stored elements in Compressed Sparse Row format>"
      ]
     },
     "execution_count": 105,
     "metadata": {},
     "output_type": "execute_result"
    }
   ],
   "source": [
    "#create the sparse matrix of term counts with pre-cleaned data\n",
    "cmatrix = cvec.transform(corpus)\n",
    "cmatrix"
   ]
  },
  {
   "cell_type": "code",
   "execution_count": 106,
   "metadata": {
    "collapsed": false
   },
   "outputs": [
    {
     "name": "stdout",
     "output_type": "stream",
     "text": [
      "186\n"
     ]
    }
   ],
   "source": [
    "#this was before I cleaned the text of the comments: 358, after 385\n",
    "print cmatrix.nnz #non-zeros"
   ]
  },
  {
   "cell_type": "code",
   "execution_count": 145,
   "metadata": {
    "collapsed": false
   },
   "outputs": [
    {
     "name": "stdout",
     "output_type": "stream",
     "text": [
      "375\n"
     ]
    }
   ],
   "source": [
    "#this is after I cleaned the comments by splitting merged words\n",
    "print cmatrix.nnz"
   ]
  },
  {
   "cell_type": "code",
   "execution_count": 113,
   "metadata": {
    "collapsed": false
   },
   "outputs": [
    {
     "data": {
      "text/plain": [
       "(300, 27)"
      ]
     },
     "execution_count": 113,
     "metadata": {},
     "output_type": "execute_result"
    }
   ],
   "source": [
    "cmatrix.todense().shape"
   ]
  },
  {
   "cell_type": "code",
   "execution_count": 104,
   "metadata": {
    "collapsed": false
   },
   "outputs": [
    {
     "data": {
      "text/plain": [
       "duplicate                   20\n",
       "change_request              32\n",
       "bucket                       9\n",
       "fix_description             20\n",
       "retry                        2\n",
       "back                        83\n",
       "dev                         44\n",
       "in_progress                 10\n",
       "duplicate_of                12\n",
       "requirement                  2\n",
       "new_requirement              0\n",
       "new_requirements             1\n",
       "tester_confused              1\n",
       "same_as                      8\n",
       "monitoring                   8\n",
       "rforct                       8\n",
       "port_to_tb                   0\n",
       "set_to_fixed                 0\n",
       "in_a_while                   0\n",
       "have_not_seen                0\n",
       "fix_desc                     0\n",
       "requirements                 6\n",
       "could_not_reproduce          0\n",
       "intermittently               1\n",
       "intermittent                 0\n",
       "script_was_incorrect         0\n",
       "ready_for_client_testing     0\n",
       "dtype: int64"
      ]
     },
     "execution_count": 104,
     "metadata": {},
     "output_type": "execute_result"
    }
   ],
   "source": [
    "idx = pd.Series(cvec.vocabulary_)\n",
    "b = idx.order().index\n",
    "term_counts = pd.DataFrame(cmatrix.todense(),columns=b.values)\n",
    "term_counts.rename(columns=lambda x: x.replace(\" \",\"_\"),inplace=True)\n",
    "term_counts.sum(axis=0)"
   ]
  },
  {
   "cell_type": "code",
   "execution_count": 148,
   "metadata": {
    "collapsed": false
   },
   "outputs": [
    {
     "data": {
      "text/html": [
       "<div>\n",
       "<table border=\"1\" class=\"dataframe\">\n",
       "  <thead>\n",
       "    <tr style=\"text-align: right;\">\n",
       "      <th></th>\n",
       "      <th>duplicate</th>\n",
       "      <th>change_request</th>\n",
       "      <th>bucket</th>\n",
       "      <th>fix_description</th>\n",
       "      <th>retry</th>\n",
       "      <th>back</th>\n",
       "      <th>dev</th>\n",
       "      <th>in_progress</th>\n",
       "      <th>duplicate_of</th>\n",
       "      <th>requirement</th>\n",
       "      <th>new_requirement</th>\n",
       "      <th>new_requirements</th>\n",
       "      <th>tester_confused</th>\n",
       "      <th>same_as</th>\n",
       "      <th>monitoring</th>\n",
       "      <th>rforct</th>\n",
       "      <th>port_to_tb</th>\n",
       "      <th>set_to_fixed</th>\n",
       "      <th>in_a_while</th>\n",
       "      <th>have_not_seen</th>\n",
       "      <th>fix_desc</th>\n",
       "      <th>requirements</th>\n",
       "      <th>could_not_reproduce</th>\n",
       "      <th>intermittently</th>\n",
       "      <th>intermittent</th>\n",
       "      <th>script_was_incorrect</th>\n",
       "      <th>ready_for_client_testing</th>\n",
       "    </tr>\n",
       "  </thead>\n",
       "  <tbody>\n",
       "    <tr>\n",
       "      <th>37</th>\n",
       "      <td>0</td>\n",
       "      <td>0</td>\n",
       "      <td>0</td>\n",
       "      <td>0</td>\n",
       "      <td>0</td>\n",
       "      <td>0</td>\n",
       "      <td>0</td>\n",
       "      <td>0</td>\n",
       "      <td>0</td>\n",
       "      <td>0</td>\n",
       "      <td>0</td>\n",
       "      <td>0</td>\n",
       "      <td>0</td>\n",
       "      <td>0</td>\n",
       "      <td>0</td>\n",
       "      <td>0</td>\n",
       "      <td>0</td>\n",
       "      <td>0</td>\n",
       "      <td>0</td>\n",
       "      <td>0</td>\n",
       "      <td>0</td>\n",
       "      <td>0</td>\n",
       "      <td>0</td>\n",
       "      <td>0</td>\n",
       "      <td>0</td>\n",
       "      <td>0</td>\n",
       "      <td>1</td>\n",
       "    </tr>\n",
       "    <tr>\n",
       "      <th>45</th>\n",
       "      <td>0</td>\n",
       "      <td>0</td>\n",
       "      <td>0</td>\n",
       "      <td>0</td>\n",
       "      <td>0</td>\n",
       "      <td>1</td>\n",
       "      <td>0</td>\n",
       "      <td>0</td>\n",
       "      <td>0</td>\n",
       "      <td>0</td>\n",
       "      <td>0</td>\n",
       "      <td>0</td>\n",
       "      <td>0</td>\n",
       "      <td>0</td>\n",
       "      <td>0</td>\n",
       "      <td>0</td>\n",
       "      <td>0</td>\n",
       "      <td>0</td>\n",
       "      <td>0</td>\n",
       "      <td>0</td>\n",
       "      <td>0</td>\n",
       "      <td>0</td>\n",
       "      <td>0</td>\n",
       "      <td>0</td>\n",
       "      <td>0</td>\n",
       "      <td>0</td>\n",
       "      <td>1</td>\n",
       "    </tr>\n",
       "    <tr>\n",
       "      <th>48</th>\n",
       "      <td>0</td>\n",
       "      <td>0</td>\n",
       "      <td>0</td>\n",
       "      <td>0</td>\n",
       "      <td>0</td>\n",
       "      <td>0</td>\n",
       "      <td>0</td>\n",
       "      <td>0</td>\n",
       "      <td>0</td>\n",
       "      <td>0</td>\n",
       "      <td>0</td>\n",
       "      <td>0</td>\n",
       "      <td>0</td>\n",
       "      <td>0</td>\n",
       "      <td>0</td>\n",
       "      <td>0</td>\n",
       "      <td>0</td>\n",
       "      <td>0</td>\n",
       "      <td>0</td>\n",
       "      <td>0</td>\n",
       "      <td>0</td>\n",
       "      <td>0</td>\n",
       "      <td>0</td>\n",
       "      <td>0</td>\n",
       "      <td>0</td>\n",
       "      <td>0</td>\n",
       "      <td>1</td>\n",
       "    </tr>\n",
       "    <tr>\n",
       "      <th>56</th>\n",
       "      <td>0</td>\n",
       "      <td>0</td>\n",
       "      <td>0</td>\n",
       "      <td>0</td>\n",
       "      <td>0</td>\n",
       "      <td>1</td>\n",
       "      <td>0</td>\n",
       "      <td>0</td>\n",
       "      <td>0</td>\n",
       "      <td>0</td>\n",
       "      <td>0</td>\n",
       "      <td>0</td>\n",
       "      <td>0</td>\n",
       "      <td>0</td>\n",
       "      <td>0</td>\n",
       "      <td>0</td>\n",
       "      <td>0</td>\n",
       "      <td>0</td>\n",
       "      <td>0</td>\n",
       "      <td>0</td>\n",
       "      <td>0</td>\n",
       "      <td>0</td>\n",
       "      <td>0</td>\n",
       "      <td>0</td>\n",
       "      <td>0</td>\n",
       "      <td>0</td>\n",
       "      <td>1</td>\n",
       "    </tr>\n",
       "    <tr>\n",
       "      <th>68</th>\n",
       "      <td>0</td>\n",
       "      <td>0</td>\n",
       "      <td>0</td>\n",
       "      <td>0</td>\n",
       "      <td>0</td>\n",
       "      <td>0</td>\n",
       "      <td>0</td>\n",
       "      <td>0</td>\n",
       "      <td>0</td>\n",
       "      <td>0</td>\n",
       "      <td>0</td>\n",
       "      <td>0</td>\n",
       "      <td>0</td>\n",
       "      <td>0</td>\n",
       "      <td>0</td>\n",
       "      <td>0</td>\n",
       "      <td>0</td>\n",
       "      <td>0</td>\n",
       "      <td>0</td>\n",
       "      <td>0</td>\n",
       "      <td>0</td>\n",
       "      <td>0</td>\n",
       "      <td>0</td>\n",
       "      <td>0</td>\n",
       "      <td>0</td>\n",
       "      <td>0</td>\n",
       "      <td>1</td>\n",
       "    </tr>\n",
       "    <tr>\n",
       "      <th>83</th>\n",
       "      <td>0</td>\n",
       "      <td>2</td>\n",
       "      <td>0</td>\n",
       "      <td>0</td>\n",
       "      <td>0</td>\n",
       "      <td>1</td>\n",
       "      <td>0</td>\n",
       "      <td>0</td>\n",
       "      <td>0</td>\n",
       "      <td>0</td>\n",
       "      <td>0</td>\n",
       "      <td>0</td>\n",
       "      <td>0</td>\n",
       "      <td>0</td>\n",
       "      <td>0</td>\n",
       "      <td>0</td>\n",
       "      <td>0</td>\n",
       "      <td>0</td>\n",
       "      <td>0</td>\n",
       "      <td>0</td>\n",
       "      <td>0</td>\n",
       "      <td>0</td>\n",
       "      <td>0</td>\n",
       "      <td>0</td>\n",
       "      <td>0</td>\n",
       "      <td>0</td>\n",
       "      <td>1</td>\n",
       "    </tr>\n",
       "    <tr>\n",
       "      <th>154</th>\n",
       "      <td>0</td>\n",
       "      <td>0</td>\n",
       "      <td>0</td>\n",
       "      <td>0</td>\n",
       "      <td>0</td>\n",
       "      <td>1</td>\n",
       "      <td>0</td>\n",
       "      <td>0</td>\n",
       "      <td>0</td>\n",
       "      <td>0</td>\n",
       "      <td>0</td>\n",
       "      <td>0</td>\n",
       "      <td>0</td>\n",
       "      <td>0</td>\n",
       "      <td>0</td>\n",
       "      <td>0</td>\n",
       "      <td>0</td>\n",
       "      <td>0</td>\n",
       "      <td>0</td>\n",
       "      <td>0</td>\n",
       "      <td>0</td>\n",
       "      <td>0</td>\n",
       "      <td>0</td>\n",
       "      <td>0</td>\n",
       "      <td>0</td>\n",
       "      <td>0</td>\n",
       "      <td>1</td>\n",
       "    </tr>\n",
       "    <tr>\n",
       "      <th>209</th>\n",
       "      <td>0</td>\n",
       "      <td>0</td>\n",
       "      <td>0</td>\n",
       "      <td>0</td>\n",
       "      <td>0</td>\n",
       "      <td>0</td>\n",
       "      <td>0</td>\n",
       "      <td>0</td>\n",
       "      <td>0</td>\n",
       "      <td>0</td>\n",
       "      <td>0</td>\n",
       "      <td>0</td>\n",
       "      <td>0</td>\n",
       "      <td>0</td>\n",
       "      <td>0</td>\n",
       "      <td>0</td>\n",
       "      <td>0</td>\n",
       "      <td>1</td>\n",
       "      <td>0</td>\n",
       "      <td>0</td>\n",
       "      <td>0</td>\n",
       "      <td>0</td>\n",
       "      <td>0</td>\n",
       "      <td>0</td>\n",
       "      <td>0</td>\n",
       "      <td>0</td>\n",
       "      <td>1</td>\n",
       "    </tr>\n",
       "    <tr>\n",
       "      <th>214</th>\n",
       "      <td>0</td>\n",
       "      <td>0</td>\n",
       "      <td>0</td>\n",
       "      <td>0</td>\n",
       "      <td>0</td>\n",
       "      <td>0</td>\n",
       "      <td>0</td>\n",
       "      <td>0</td>\n",
       "      <td>0</td>\n",
       "      <td>0</td>\n",
       "      <td>0</td>\n",
       "      <td>0</td>\n",
       "      <td>0</td>\n",
       "      <td>0</td>\n",
       "      <td>0</td>\n",
       "      <td>0</td>\n",
       "      <td>0</td>\n",
       "      <td>1</td>\n",
       "      <td>0</td>\n",
       "      <td>0</td>\n",
       "      <td>0</td>\n",
       "      <td>0</td>\n",
       "      <td>0</td>\n",
       "      <td>0</td>\n",
       "      <td>0</td>\n",
       "      <td>0</td>\n",
       "      <td>1</td>\n",
       "    </tr>\n",
       "    <tr>\n",
       "      <th>221</th>\n",
       "      <td>0</td>\n",
       "      <td>0</td>\n",
       "      <td>0</td>\n",
       "      <td>0</td>\n",
       "      <td>0</td>\n",
       "      <td>0</td>\n",
       "      <td>1</td>\n",
       "      <td>0</td>\n",
       "      <td>0</td>\n",
       "      <td>0</td>\n",
       "      <td>0</td>\n",
       "      <td>0</td>\n",
       "      <td>0</td>\n",
       "      <td>0</td>\n",
       "      <td>0</td>\n",
       "      <td>0</td>\n",
       "      <td>0</td>\n",
       "      <td>1</td>\n",
       "      <td>0</td>\n",
       "      <td>0</td>\n",
       "      <td>0</td>\n",
       "      <td>0</td>\n",
       "      <td>0</td>\n",
       "      <td>0</td>\n",
       "      <td>0</td>\n",
       "      <td>0</td>\n",
       "      <td>1</td>\n",
       "    </tr>\n",
       "    <tr>\n",
       "      <th>223</th>\n",
       "      <td>0</td>\n",
       "      <td>0</td>\n",
       "      <td>0</td>\n",
       "      <td>0</td>\n",
       "      <td>0</td>\n",
       "      <td>0</td>\n",
       "      <td>0</td>\n",
       "      <td>0</td>\n",
       "      <td>0</td>\n",
       "      <td>0</td>\n",
       "      <td>0</td>\n",
       "      <td>0</td>\n",
       "      <td>0</td>\n",
       "      <td>0</td>\n",
       "      <td>0</td>\n",
       "      <td>0</td>\n",
       "      <td>0</td>\n",
       "      <td>2</td>\n",
       "      <td>0</td>\n",
       "      <td>0</td>\n",
       "      <td>0</td>\n",
       "      <td>0</td>\n",
       "      <td>0</td>\n",
       "      <td>0</td>\n",
       "      <td>0</td>\n",
       "      <td>0</td>\n",
       "      <td>1</td>\n",
       "    </tr>\n",
       "  </tbody>\n",
       "</table>\n",
       "</div>"
      ],
      "text/plain": [
       "     duplicate  change_request  bucket  fix_description  retry  back  dev  \\\n",
       "37           0               0       0                0      0     0    0   \n",
       "45           0               0       0                0      0     1    0   \n",
       "48           0               0       0                0      0     0    0   \n",
       "56           0               0       0                0      0     1    0   \n",
       "68           0               0       0                0      0     0    0   \n",
       "83           0               2       0                0      0     1    0   \n",
       "154          0               0       0                0      0     1    0   \n",
       "209          0               0       0                0      0     0    0   \n",
       "214          0               0       0                0      0     0    0   \n",
       "221          0               0       0                0      0     0    1   \n",
       "223          0               0       0                0      0     0    0   \n",
       "\n",
       "     in_progress  duplicate_of  requirement  new_requirement  \\\n",
       "37             0             0            0                0   \n",
       "45             0             0            0                0   \n",
       "48             0             0            0                0   \n",
       "56             0             0            0                0   \n",
       "68             0             0            0                0   \n",
       "83             0             0            0                0   \n",
       "154            0             0            0                0   \n",
       "209            0             0            0                0   \n",
       "214            0             0            0                0   \n",
       "221            0             0            0                0   \n",
       "223            0             0            0                0   \n",
       "\n",
       "     new_requirements  tester_confused  same_as  monitoring  rforct  \\\n",
       "37                  0                0        0           0       0   \n",
       "45                  0                0        0           0       0   \n",
       "48                  0                0        0           0       0   \n",
       "56                  0                0        0           0       0   \n",
       "68                  0                0        0           0       0   \n",
       "83                  0                0        0           0       0   \n",
       "154                 0                0        0           0       0   \n",
       "209                 0                0        0           0       0   \n",
       "214                 0                0        0           0       0   \n",
       "221                 0                0        0           0       0   \n",
       "223                 0                0        0           0       0   \n",
       "\n",
       "     port_to_tb  set_to_fixed  in_a_while  have_not_seen  fix_desc  \\\n",
       "37            0             0           0              0         0   \n",
       "45            0             0           0              0         0   \n",
       "48            0             0           0              0         0   \n",
       "56            0             0           0              0         0   \n",
       "68            0             0           0              0         0   \n",
       "83            0             0           0              0         0   \n",
       "154           0             0           0              0         0   \n",
       "209           0             1           0              0         0   \n",
       "214           0             1           0              0         0   \n",
       "221           0             1           0              0         0   \n",
       "223           0             2           0              0         0   \n",
       "\n",
       "     requirements  could_not_reproduce  intermittently  intermittent  \\\n",
       "37              0                    0               0             0   \n",
       "45              0                    0               0             0   \n",
       "48              0                    0               0             0   \n",
       "56              0                    0               0             0   \n",
       "68              0                    0               0             0   \n",
       "83              0                    0               0             0   \n",
       "154             0                    0               0             0   \n",
       "209             0                    0               0             0   \n",
       "214             0                    0               0             0   \n",
       "221             0                    0               0             0   \n",
       "223             0                    0               0             0   \n",
       "\n",
       "     script_was_incorrect  ready_for_client_testing  \n",
       "37                      0                         1  \n",
       "45                      0                         1  \n",
       "48                      0                         1  \n",
       "56                      0                         1  \n",
       "68                      0                         1  \n",
       "83                      0                         1  \n",
       "154                     0                         1  \n",
       "209                     0                         1  \n",
       "214                     0                         1  \n",
       "221                     0                         1  \n",
       "223                     0                         1  "
      ]
     },
     "execution_count": 148,
     "metadata": {},
     "output_type": "execute_result"
    }
   ],
   "source": [
    "#after I fixed the ngram range bug:\n",
    "idx = pd.Series(cvec.vocabulary_)\n",
    "b = idx.order().index\n",
    "term_counts = pd.DataFrame(cmatrix.todense(),columns=b.values)\n",
    "term_counts.rename(columns=lambda x: x.replace(\" \",\"_\"),inplace=True)\n",
    "term_counts.sum(axis=0)\n",
    "term_counts[term_counts['ready_for_client_testing'] > 0]"
   ]
  },
  {
   "cell_type": "code",
   "execution_count": 167,
   "metadata": {
    "collapsed": false
   },
   "outputs": [
    {
     "data": {
      "text/html": [
       "<div>\n",
       "<table border=\"1\" class=\"dataframe\">\n",
       "  <thead>\n",
       "    <tr style=\"text-align: right;\">\n",
       "      <th></th>\n",
       "      <th>Defect_ID</th>\n",
       "      <th>Comments</th>\n",
       "    </tr>\n",
       "  </thead>\n",
       "  <tbody>\n",
       "    <tr>\n",
       "      <th>37</th>\n",
       "      <td>90</td>\n",
       "      <td>Bradley Goldowsky &lt;015304&gt;, 8/28/2013: Per Lau...</td>\n",
       "    </tr>\n",
       "    <tr>\n",
       "      <th>45</th>\n",
       "      <td>98</td>\n",
       "      <td>Tamara Osifchin &lt;018494&gt;, 8/29/2013: Mary was ...</td>\n",
       "    </tr>\n",
       "    <tr>\n",
       "      <th>48</th>\n",
       "      <td>101</td>\n",
       "      <td>Tamara Osifchin &lt;018494&gt;, 8/29/2013: assigned ...</td>\n",
       "    </tr>\n",
       "    <tr>\n",
       "      <th>56</th>\n",
       "      <td>109</td>\n",
       "      <td>Bradley Goldowsky &lt;015304&gt;, 9/3/2013: Estimate...</td>\n",
       "    </tr>\n",
       "    <tr>\n",
       "      <th>68</th>\n",
       "      <td>122</td>\n",
       "      <td>Tamara Osifchin &lt;018494&gt;, 9/11/2013: Moving to...</td>\n",
       "    </tr>\n",
       "    <tr>\n",
       "      <th>83</th>\n",
       "      <td>137</td>\n",
       "      <td>Tamara Osifchin &lt;018494&gt;, 9/10/2013:updated wi...</td>\n",
       "    </tr>\n",
       "    <tr>\n",
       "      <th>154</th>\n",
       "      <td>212</td>\n",
       "      <td>Tom Sokolski &lt;015424&gt;, 10/18/2013: cmsi will c...</td>\n",
       "    </tr>\n",
       "    <tr>\n",
       "      <th>209</th>\n",
       "      <td>270</td>\n",
       "      <td>Was able to login on 10/11/13 after changing s...</td>\n",
       "    </tr>\n",
       "    <tr>\n",
       "      <th>214</th>\n",
       "      <td>276</td>\n",
       "      <td>Tamara Osifchin &lt;018494&gt;,10/21/2013: Stacy che...</td>\n",
       "    </tr>\n",
       "    <tr>\n",
       "      <th>221</th>\n",
       "      <td>284</td>\n",
       "      <td>Tamara Osifchin &lt;018494&gt;, 10/28/2013: Assignin...</td>\n",
       "    </tr>\n",
       "    <tr>\n",
       "      <th>223</th>\n",
       "      <td>286</td>\n",
       "      <td>Tamara Osifchin &lt;018494&gt;, 10/29/2013: All of t...</td>\n",
       "    </tr>\n",
       "  </tbody>\n",
       "</table>\n",
       "</div>"
      ],
      "text/plain": [
       "     Defect_ID                                           Comments\n",
       "37          90  Bradley Goldowsky <015304>, 8/28/2013: Per Lau...\n",
       "45          98  Tamara Osifchin <018494>, 8/29/2013: Mary was ...\n",
       "48         101  Tamara Osifchin <018494>, 8/29/2013: assigned ...\n",
       "56         109  Bradley Goldowsky <015304>, 9/3/2013: Estimate...\n",
       "68         122  Tamara Osifchin <018494>, 9/11/2013: Moving to...\n",
       "83         137  Tamara Osifchin <018494>, 9/10/2013:updated wi...\n",
       "154        212  Tom Sokolski <015424>, 10/18/2013: cmsi will c...\n",
       "209        270  Was able to login on 10/11/13 after changing s...\n",
       "214        276  Tamara Osifchin <018494>,10/21/2013: Stacy che...\n",
       "221        284  Tamara Osifchin <018494>, 10/28/2013: Assignin...\n",
       "223        286  Tamara Osifchin <018494>, 10/29/2013: All of t..."
      ]
     },
     "execution_count": 167,
     "metadata": {},
     "output_type": "execute_result"
    }
   ],
   "source": [
    "text_found = raw_data[['Defect_ID','Comments']].loc[raw_data.Comments.map(lambda x: x.lower()).str.contains('ready for client testing') == True]\n",
    "text_found\n",
    "#print raw_data[raw_data.Comments.str.contains(\"tester confused\") == True].shape"
   ]
  },
  {
   "cell_type": "code",
   "execution_count": 159,
   "metadata": {
    "collapsed": false
   },
   "outputs": [
    {
     "data": {
      "text/plain": [
       "Defect_ID                                                   90\n",
       "Comments     Bradley Goldowsky <015304>, 8/28/2013: Per Lau...\n",
       "Name: 37, dtype: object"
      ]
     },
     "execution_count": 159,
     "metadata": {},
     "output_type": "execute_result"
    }
   ],
   "source": [
    "raw_data[['Defect_ID','Comments']].iloc[37]"
   ]
  },
  {
   "cell_type": "code",
   "execution_count": 136,
   "metadata": {
    "collapsed": false
   },
   "outputs": [
    {
     "name": "stdout",
     "output_type": "stream",
     "text": [
      "(24, 2)\n",
      "(24, 27)\n"
     ]
    }
   ],
   "source": [
    "print text_found.shape\n",
    "count_gt_0 = term_counts[term_counts['change_request'] > 0]\n",
    "print count_gt_0.shape"
   ]
  },
  {
   "cell_type": "code",
   "execution_count": 115,
   "metadata": {
    "collapsed": true
   },
   "outputs": [],
   "source": [
    "idf_transformer = TfidfTransformer()"
   ]
  },
  {
   "cell_type": "code",
   "execution_count": 116,
   "metadata": {
    "collapsed": false
   },
   "outputs": [
    {
     "data": {
      "text/plain": [
       "<300x27 sparse matrix of type '<type 'numpy.float64'>'\n",
       "\twith 364 stored elements in Compressed Sparse Row format>"
      ]
     },
     "execution_count": 116,
     "metadata": {},
     "output_type": "execute_result"
    }
   ],
   "source": [
    "idf_transformer.fit(cmatrix)\n",
    "idf_matrix = idf_transformer.transform(cmatrix)\n",
    "idf_matrix"
   ]
  },
  {
   "cell_type": "code",
   "execution_count": 152,
   "metadata": {
    "collapsed": true
   },
   "outputs": [],
   "source": [
    "#start training the model"
   ]
  },
  {
   "cell_type": "code",
   "execution_count": 117,
   "metadata": {
    "collapsed": true
   },
   "outputs": [],
   "source": [
    "y = raw_data.Root_Cause"
   ]
  },
  {
   "cell_type": "code",
   "execution_count": 118,
   "metadata": {
    "collapsed": false
   },
   "outputs": [
    {
     "data": {
      "text/plain": [
       "Code defect          211\n",
       "Requirement issue     29\n",
       "Tester error          29\n",
       "Not reproducible      23\n",
       "Duplicate              8\n",
       "dtype: int64"
      ]
     },
     "execution_count": 118,
     "metadata": {},
     "output_type": "execute_result"
    }
   ],
   "source": [
    "y.value_counts()"
   ]
  },
  {
   "cell_type": "code",
   "execution_count": 41,
   "metadata": {
    "collapsed": false
   },
   "outputs": [
    {
     "name": "stdout",
     "output_type": "stream",
     "text": [
      "Not reproducible\n",
      "Not reproducible\n"
     ]
    }
   ],
   "source": [
    "print y.iloc[62]\n",
    "print raw_data.Root_Cause.iloc[62]"
   ]
  },
  {
   "cell_type": "code",
   "execution_count": 37,
   "metadata": {
    "collapsed": false
   },
   "outputs": [
    {
     "name": "stdout",
     "output_type": "stream",
     "text": [
      "1\n",
      "('TRAIN:', array([175,  45, 236, 267, 138, 266, 195, 241,  76, 231, 101, 111,  66,\n",
      "       136, 230, 161, 298, 276,  20, 184, 227,  31, 170,  37,  23,  19,\n",
      "       164,  16,  64, 157,  21,  95,  90,  86,  67, 265,  44, 229,  82,\n",
      "       173, 192,  30, 280,  70, 131, 151,  51, 285, 130,  74, 159,  48,\n",
      "         2,  89,  28, 296, 244, 200, 189, 260, 123, 152,  72, 205, 185,\n",
      "       144, 177, 281,  87, 206,  26, 274, 194,  85,  18, 249, 262,  99,\n",
      "       143, 113, 247, 233, 181, 183, 202, 191, 248,   6, 209, 182, 180,\n",
      "       118, 213, 198,  15,  34, 228,  27, 211,   9, 196, 204, 154, 271,\n",
      "       193, 208,  10, 108, 216, 272, 187,  54,  35, 109, 245, 254, 282,\n",
      "        24, 240, 197,  75,  47,  96, 201,  25,  14,  65,   3,  36, 268,\n",
      "       294, 239, 132, 284,   4,  73, 290, 270,  22, 186,  77, 217, 153,\n",
      "        60,   7, 199, 259,   0,  97, 141, 232,  78, 137, 105, 162, 158,\n",
      "       171, 103, 120,  40, 165, 219,  50, 226, 150,  58, 115, 218,   1,\n",
      "       235, 148, 121, 129, 163,  56,  32, 215, 225,  83, 237, 243, 252,\n",
      "       135, 238, 126,  11, 223, 263, 250,  92, 117, 104,  93,  84, 166,\n",
      "       288, 203, 168, 279,  94, 146, 220,  61, 224, 119, 106,  29,  49,\n",
      "        81,  41,  63, 179,  68,  79, 102, 210, 142, 155, 172,  13, 178,\n",
      "        42, 293, 147, 169,  12, 297, 145, 291,  39, 139, 234,   5,  91,\n",
      "       275, 167,  98, 112, 295]), 'TEST:', array([207, 251, 289, 283, 114,   8, 286, 242, 110,  59,  38, 127, 140,\n",
      "        46,  43, 100, 116, 133,  62,  71,  52, 149,  88, 134, 246, 125,\n",
      "       214, 174,  33,  55, 269,  80, 190, 212,  57, 122, 255, 176, 257,\n",
      "       107, 221, 124, 128, 156, 299,  69, 292,  53, 277, 264, 261, 222,\n",
      "       256, 287, 273, 278, 258, 160,  17, 253, 188]))\n"
     ]
    }
   ],
   "source": [
    "#use the term freq matrix with stratified train test split, k=1\n",
    "sss = StratifiedShuffleSplit(y, 1, test_size=0.2, random_state=0)\n",
    "print len(sss)\n",
    "#print(sss)       \n",
    "for train_index, test_index in sss:\n",
    "    print(\"TRAIN:\", train_index, \"TEST:\", test_index)\n",
    "    defect_train, defect_test = cmatrix[train_index], cmatrix[test_index]\n",
    "    label_train, label_test = y[train_index], y[test_index]"
   ]
  },
  {
   "cell_type": "code",
   "execution_count": 38,
   "metadata": {
    "collapsed": false
   },
   "outputs": [
    {
     "name": "stdout",
     "output_type": "stream",
     "text": [
      "1\n",
      "('TRAIN:', array([175,  45, 236, 267, 138, 266, 195, 241,  76, 231, 101, 111,  66,\n",
      "       136, 230, 161, 298, 276,  20, 184, 227,  31, 170,  37,  23,  19,\n",
      "       164,  16,  64, 157,  21,  95,  90,  86,  67, 265,  44, 229,  82,\n",
      "       173, 192,  30, 280,  70, 131, 151,  51, 285, 130,  74, 159,  48,\n",
      "         2,  89,  28, 296, 244, 200, 189, 260, 123, 152,  72, 205, 185,\n",
      "       144, 177, 281,  87, 206,  26, 274, 194,  85,  18, 249, 262,  99,\n",
      "       143, 113, 247, 233, 181, 183, 202, 191, 248,   6, 209, 182, 180,\n",
      "       118, 213, 198,  15,  34, 228,  27, 211,   9, 196, 204, 154, 271,\n",
      "       193, 208,  10, 108, 216, 272, 187,  54,  35, 109, 245, 254, 282,\n",
      "        24, 240, 197,  75,  47,  96, 201,  25,  14,  65,   3,  36, 268,\n",
      "       294, 239, 132, 284,   4,  73, 290, 270,  22, 186,  77, 217, 153,\n",
      "        60,   7, 199, 259,   0,  97, 141, 232,  78, 137, 105, 162, 158,\n",
      "       171, 103, 120,  40, 165, 219,  50, 226, 150,  58, 115, 218,   1,\n",
      "       235, 148, 121, 129, 163,  56,  32, 215, 225,  83, 237, 243, 252,\n",
      "       135, 238, 126,  11, 223, 263, 250,  92, 117, 104,  93,  84, 166,\n",
      "       288, 203, 168, 279,  94, 146, 220,  61, 224, 119, 106,  29,  49,\n",
      "        81,  41,  63, 179,  68,  79, 102, 210, 142, 155, 172,  13, 178,\n",
      "        42, 293, 147, 169,  12, 297, 145, 291,  39, 139, 234,   5,  91,\n",
      "       275, 167,  98, 112, 295]), 'TEST:', array([207, 251, 289, 283, 114,   8, 286, 242, 110,  59,  38, 127, 140,\n",
      "        46,  43, 100, 116, 133,  62,  71,  52, 149,  88, 134, 246, 125,\n",
      "       214, 174,  33,  55, 269,  80, 190, 212,  57, 122, 255, 176, 257,\n",
      "       107, 221, 124, 128, 156, 299,  69, 292,  53, 277, 264, 261, 222,\n",
      "       256, 287, 273, 278, 258, 160,  17, 253, 188]))\n"
     ]
    }
   ],
   "source": [
    "#use the idf matrix with stratified train test split\n",
    "sss = StratifiedShuffleSplit(y, 1, test_size=0.2, random_state=0)\n",
    "print len(sss)\n",
    "#print(sss)       \n",
    "for train_index, test_index in sss:\n",
    "    print(\"TRAIN:\", train_index, \"TEST:\", test_index)\n",
    "    idf_defect_train, idf_defect_test = idf_matrix[train_index], idf_matrix[test_index]\n",
    "    idf_label_train, idf_label_test = y[train_index], y[test_index]\n"
   ]
  },
  {
   "cell_type": "code",
   "execution_count": 66,
   "metadata": {
    "collapsed": false
   },
   "outputs": [
    {
     "name": "stdout",
     "output_type": "stream",
     "text": [
      "(243, 27)\n"
     ]
    },
    {
     "data": {
      "text/plain": [
       "pandas.core.series.Series"
      ]
     },
     "execution_count": 66,
     "metadata": {},
     "output_type": "execute_result"
    }
   ],
   "source": [
    "print idf_defect_train.shape\n",
    "idf_label_train.size"
   ]
  },
  {
   "cell_type": "code",
   "execution_count": 69,
   "metadata": {
    "collapsed": false
   },
   "outputs": [
    {
     "name": "stdout",
     "output_type": "stream",
     "text": [
      "(57, 27)\n"
     ]
    },
    {
     "data": {
      "text/plain": [
       "57"
      ]
     },
     "execution_count": 69,
     "metadata": {},
     "output_type": "execute_result"
    }
   ],
   "source": [
    "print idf_defect_test.shape\n",
    "idf_label_test.size"
   ]
  },
  {
   "cell_type": "code",
   "execution_count": 39,
   "metadata": {
    "collapsed": true
   },
   "outputs": [],
   "source": [
    "classifier = MultinomialNB(alpha=1.0, class_prior=None, fit_prior=False)"
   ]
  },
  {
   "cell_type": "code",
   "execution_count": 51,
   "metadata": {
    "collapsed": false
   },
   "outputs": [
    {
     "data": {
      "text/plain": [
       "MultinomialNB(alpha=1.0, class_prior=None, fit_prior=False)"
      ]
     },
     "execution_count": 51,
     "metadata": {},
     "output_type": "execute_result"
    }
   ],
   "source": [
    "classifier.fit(defect_train,label_train)"
   ]
  },
  {
   "cell_type": "code",
   "execution_count": 117,
   "metadata": {
    "collapsed": false
   },
   "outputs": [
    {
     "data": {
      "text/plain": [
       "0.68619246861924688"
      ]
     },
     "execution_count": 117,
     "metadata": {},
     "output_type": "execute_result"
    }
   ],
   "source": [
    "#accuracy score on training set, stratified split, pre-cleaned data\n",
    "classifier.score(defect_train,label_train)"
   ]
  },
  {
   "cell_type": "code",
   "execution_count": 42,
   "metadata": {
    "collapsed": false
   },
   "outputs": [
    {
     "data": {
      "text/plain": [
       "0.69874476987447698"
      ]
     },
     "execution_count": 42,
     "metadata": {},
     "output_type": "execute_result"
    }
   ],
   "source": [
    "#accuracy score on training set using stratified split and cleaned data\n",
    "classifier.score(defect_train,label_train)"
   ]
  },
  {
   "cell_type": "code",
   "execution_count": 53,
   "metadata": {
    "collapsed": false
   },
   "outputs": [],
   "source": [
    "test_predictions = classifier.predict(defect_test)\n",
    "#print test_predictions"
   ]
  },
  {
   "cell_type": "code",
   "execution_count": 119,
   "metadata": {
    "collapsed": false
   },
   "outputs": [
    {
     "data": {
      "text/plain": [
       "0.70491803278688525"
      ]
     },
     "execution_count": 119,
     "metadata": {},
     "output_type": "execute_result"
    }
   ],
   "source": [
    "#this gives accuracy on the test set, stratified split, pre-cleaned\n",
    "classifier.score(defect_test,label_test)"
   ]
  },
  {
   "cell_type": "code",
   "execution_count": 44,
   "metadata": {
    "collapsed": false
   },
   "outputs": [
    {
     "data": {
      "text/plain": [
       "0.77049180327868849"
      ]
     },
     "execution_count": 44,
     "metadata": {},
     "output_type": "execute_result"
    }
   ],
   "source": [
    "#this gives accuracy on the test set using stratified split, cleaned data\n",
    "classifier.score(defect_test,label_test)"
   ]
  },
  {
   "cell_type": "code",
   "execution_count": 54,
   "metadata": {
    "collapsed": false
   },
   "outputs": [
    {
     "data": {
      "text/plain": [
       "0.78947368421052633"
      ]
     },
     "execution_count": 54,
     "metadata": {},
     "output_type": "execute_result"
    }
   ],
   "source": [
    "#this gives accuracy on the test set using stratified K fold and cleaned data\n",
    "classifier.score(defect_test,label_test)"
   ]
  },
  {
   "cell_type": "code",
   "execution_count": 56,
   "metadata": {
    "collapsed": false
   },
   "outputs": [
    {
     "data": {
      "text/plain": [
       "MultinomialNB(alpha=1.0, class_prior=None, fit_prior=False)"
      ]
     },
     "execution_count": 56,
     "metadata": {},
     "output_type": "execute_result"
    }
   ],
   "source": [
    "classifier.fit(idf_defect_train,idf_label_train)"
   ]
  },
  {
   "cell_type": "code",
   "execution_count": 121,
   "metadata": {
    "collapsed": false
   },
   "outputs": [
    {
     "data": {
      "text/plain": [
       "0.7364016736401674"
      ]
     },
     "execution_count": 121,
     "metadata": {},
     "output_type": "execute_result"
    }
   ],
   "source": [
    "#this gives accuracy on the training set with stratified split and pre-cleaned data\n",
    "classifier.score(idf_defect_train,idf_label_train)"
   ]
  },
  {
   "cell_type": "code",
   "execution_count": 46,
   "metadata": {
    "collapsed": false
   },
   "outputs": [
    {
     "data": {
      "text/plain": [
       "0.7489539748953975"
      ]
     },
     "execution_count": 46,
     "metadata": {},
     "output_type": "execute_result"
    }
   ],
   "source": [
    "#this gives accuracy on the training set with stratified split and cleaned data\n",
    "classifier.score(idf_defect_train,idf_label_train)"
   ]
  },
  {
   "cell_type": "code",
   "execution_count": 59,
   "metadata": {
    "collapsed": false
   },
   "outputs": [],
   "source": [
    "idf_test_predictions = classifier.predict(idf_defect_test)\n",
    "#print idf_test_predictions"
   ]
  },
  {
   "cell_type": "code",
   "execution_count": 63,
   "metadata": {
    "collapsed": false
   },
   "outputs": [],
   "source": [
    "#test_probs = classifier.predict_proba(defect_test)\n",
    "#print np.around(test_probs,decimals=2)"
   ]
  },
  {
   "cell_type": "code",
   "execution_count": 123,
   "metadata": {
    "collapsed": false
   },
   "outputs": [
    {
     "data": {
      "text/plain": [
       "0.70491803278688525"
      ]
     },
     "execution_count": 123,
     "metadata": {},
     "output_type": "execute_result"
    }
   ],
   "source": [
    "#this gives accuracy on the test set, pre-cleaned data\n",
    "classifier.score(idf_defect_test,idf_label_test)"
   ]
  },
  {
   "cell_type": "code",
   "execution_count": 48,
   "metadata": {
    "collapsed": false
   },
   "outputs": [
    {
     "data": {
      "text/plain": [
       "0.77049180327868849"
      ]
     },
     "execution_count": 48,
     "metadata": {},
     "output_type": "execute_result"
    }
   ],
   "source": [
    "#this gives accuracy on the test set with stratified split and cleaned data\n",
    "classifier.score(idf_defect_test,idf_label_test)"
   ]
  },
  {
   "cell_type": "code",
   "execution_count": 75,
   "metadata": {
    "collapsed": false
   },
   "outputs": [
    {
     "name": "stdout",
     "output_type": "stream",
     "text": [
      "[ 0.61290323  0.67213115  0.67213115  0.69491525  0.78947368]\n",
      "0.688310891867\n"
     ]
    }
   ],
   "source": [
    "#term frequency matrix and k-fold cross validation\n",
    "scores = cross_val_score(classifier,  # estimator\n",
    "                         cmatrix,  # training data\n",
    "                         y,  # training labels\n",
    "                         cv=5,  # split data randomly into 10 parts: 9 for training, 1 for scoring\n",
    "                         scoring='accuracy'  # which scoring metric?\n",
    "                         )\n",
    "print scores\n",
    "print scores.mean()"
   ]
  },
  {
   "cell_type": "code",
   "execution_count": 168,
   "metadata": {
    "collapsed": false
   },
   "outputs": [
    {
     "name": "stdout",
     "output_type": "stream",
     "text": [
      "[ 0.66129032  0.70491803  0.75409836  0.76271186  0.84210526]\n",
      "0.745024768718\n"
     ]
    }
   ],
   "source": [
    "#term frequency matrix and k-fold cross validation after ngram range fix\n",
    "scores = cross_val_score(classifier,  # estimator\n",
    "                         cmatrix,  # training data\n",
    "                         y,  # training labels\n",
    "                         cv=5,  # split data randomly into 10 parts: 9 for training, 1 for scoring\n",
    "                         scoring='accuracy'  # which scoring metric?\n",
    "                         )\n",
    "print scores\n",
    "print scores.mean()"
   ]
  },
  {
   "cell_type": "code",
   "execution_count": 169,
   "metadata": {
    "collapsed": false,
    "scrolled": true
   },
   "outputs": [
    {
     "name": "stdout",
     "output_type": "stream",
     "text": [
      "[ 0.67741935  0.70491803  0.73770492  0.74576271  0.70175439]\n",
      "0.713511880698\n"
     ]
    }
   ],
   "source": [
    "#idf matrix and k-fold cross validation nope erased that this is now k-fold\n",
    "scores = cross_val_score(classifier,  # estimator\n",
    "                         idf_matrix,  # training data\n",
    "                         y,  # training labels\n",
    "                         cv=5,  # split data into 5 parts using stratifiedKfold\n",
    "                         scoring='accuracy'  # which scoring metric?\n",
    "                         )\n",
    "print scores\n",
    "print scores.mean()"
   ]
  },
  {
   "cell_type": "code",
   "execution_count": 120,
   "metadata": {
    "collapsed": false,
    "scrolled": true
   },
   "outputs": [
    {
     "name": "stdout",
     "output_type": "stream",
     "text": [
      "[ 0.67741935  0.70491803  0.73770492  0.74576271  0.70175439]\n",
      "0.713511880698\n"
     ]
    }
   ],
   "source": [
    "#idf matrix and k-fold cross validation after ngram range fix\n",
    "scores = cross_val_score(classifier,  # estimator\n",
    "                         idf_matrix,  # training data\n",
    "                         y,  # training labels\n",
    "                         cv=5,  # split data into 5 parts using stratifiedKfold\n",
    "                         scoring='accuracy'  # which scoring metric?\n",
    "                         )\n",
    "print scores\n",
    "print scores.mean()"
   ]
  },
  {
   "cell_type": "code",
   "execution_count": 78,
   "metadata": {
    "collapsed": false
   },
   "outputs": [
    {
     "name": "stdout",
     "output_type": "stream",
     "text": [
      "4\n"
     ]
    },
    {
     "data": {
      "text/plain": [
       "17"
      ]
     },
     "execution_count": 78,
     "metadata": {},
     "output_type": "execute_result"
    }
   ],
   "source": [
    "print cvec.vocabulary_.get('retry')\n",
    "cvec.vocabulary_.get('set to fixed')"
   ]
  },
  {
   "cell_type": "code",
   "execution_count": 98,
   "metadata": {
    "collapsed": false
   },
   "outputs": [
    {
     "data": {
      "text/html": [
       "<div>\n",
       "<table border=\"1\" class=\"dataframe\">\n",
       "  <thead>\n",
       "    <tr style=\"text-align: right;\">\n",
       "      <th></th>\n",
       "      <th>duplicate</th>\n",
       "      <th>change_request</th>\n",
       "      <th>bucket</th>\n",
       "      <th>fix_description</th>\n",
       "      <th>retry</th>\n",
       "      <th>back</th>\n",
       "      <th>dev</th>\n",
       "      <th>in_progress</th>\n",
       "      <th>duplicate_of</th>\n",
       "      <th>requirement</th>\n",
       "      <th>new_requirement</th>\n",
       "      <th>new_requirements</th>\n",
       "      <th>tester_confused</th>\n",
       "      <th>same_as</th>\n",
       "      <th>monitoring</th>\n",
       "      <th>rforct</th>\n",
       "      <th>port_to_tb</th>\n",
       "      <th>set_to_fixed</th>\n",
       "      <th>in_a_while</th>\n",
       "      <th>have_not_seen</th>\n",
       "      <th>fix_desc</th>\n",
       "      <th>requirements</th>\n",
       "      <th>could_not_reproduce</th>\n",
       "      <th>intermittently</th>\n",
       "      <th>intermittent</th>\n",
       "      <th>script_was_incorrect</th>\n",
       "      <th>ready_for_client_testing</th>\n",
       "    </tr>\n",
       "  </thead>\n",
       "  <tbody>\n",
       "    <tr>\n",
       "      <th>0</th>\n",
       "      <td>-3.001696</td>\n",
       "      <td>-2.406517</td>\n",
       "      <td>-4.008630</td>\n",
       "      <td>-2.981628</td>\n",
       "      <td>-4.253231</td>\n",
       "      <td>-1.248572</td>\n",
       "      <td>-1.894315</td>\n",
       "      <td>-3.909329</td>\n",
       "      <td>-3.435988</td>\n",
       "      <td>-4.543430</td>\n",
       "      <td>-4.543430</td>\n",
       "      <td>-4.543430</td>\n",
       "      <td>-4.543430</td>\n",
       "      <td>-3.157135</td>\n",
       "      <td>-3.588775</td>\n",
       "      <td>-2.851351</td>\n",
       "      <td>-4.543430</td>\n",
       "      <td>-4.543430</td>\n",
       "      <td>-4.543430</td>\n",
       "      <td>-4.543430</td>\n",
       "      <td>-4.543430</td>\n",
       "      <td>-4.543430</td>\n",
       "      <td>-4.543430</td>\n",
       "      <td>-4.543430</td>\n",
       "      <td>-4.543430</td>\n",
       "      <td>-4.543430</td>\n",
       "      <td>-4.543430</td>\n",
       "    </tr>\n",
       "    <tr>\n",
       "      <th>1</th>\n",
       "      <td>-1.947554</td>\n",
       "      <td>-3.602659</td>\n",
       "      <td>-3.602659</td>\n",
       "      <td>-3.602659</td>\n",
       "      <td>-3.602659</td>\n",
       "      <td>-3.602659</td>\n",
       "      <td>-3.285849</td>\n",
       "      <td>-3.602659</td>\n",
       "      <td>-1.975517</td>\n",
       "      <td>-3.602659</td>\n",
       "      <td>-3.602659</td>\n",
       "      <td>-3.602659</td>\n",
       "      <td>-3.602659</td>\n",
       "      <td>-2.909512</td>\n",
       "      <td>-3.602659</td>\n",
       "      <td>-3.602659</td>\n",
       "      <td>-3.602659</td>\n",
       "      <td>-3.602659</td>\n",
       "      <td>-3.602659</td>\n",
       "      <td>-3.602659</td>\n",
       "      <td>-3.602659</td>\n",
       "      <td>-3.602659</td>\n",
       "      <td>-3.602659</td>\n",
       "      <td>-3.602659</td>\n",
       "      <td>-3.602659</td>\n",
       "      <td>-3.602659</td>\n",
       "      <td>-3.602659</td>\n",
       "    </tr>\n",
       "    <tr>\n",
       "      <th>2</th>\n",
       "      <td>-3.252943</td>\n",
       "      <td>-3.773557</td>\n",
       "      <td>-2.223849</td>\n",
       "      <td>-3.773557</td>\n",
       "      <td>-3.773557</td>\n",
       "      <td>-2.113588</td>\n",
       "      <td>-3.773557</td>\n",
       "      <td>-2.416350</td>\n",
       "      <td>-3.225226</td>\n",
       "      <td>-3.773557</td>\n",
       "      <td>-3.773557</td>\n",
       "      <td>-3.773557</td>\n",
       "      <td>-3.773557</td>\n",
       "      <td>-3.080409</td>\n",
       "      <td>-2.322730</td>\n",
       "      <td>-3.773557</td>\n",
       "      <td>-3.773557</td>\n",
       "      <td>-3.773557</td>\n",
       "      <td>-3.773557</td>\n",
       "      <td>-3.773557</td>\n",
       "      <td>-3.773557</td>\n",
       "      <td>-3.773557</td>\n",
       "      <td>-3.773557</td>\n",
       "      <td>-3.773557</td>\n",
       "      <td>-3.773557</td>\n",
       "      <td>-3.773557</td>\n",
       "      <td>-3.773557</td>\n",
       "    </tr>\n",
       "    <tr>\n",
       "      <th>3</th>\n",
       "      <td>-3.881256</td>\n",
       "      <td>-1.714855</td>\n",
       "      <td>-3.881256</td>\n",
       "      <td>-3.436238</td>\n",
       "      <td>-3.881256</td>\n",
       "      <td>-2.085163</td>\n",
       "      <td>-2.843250</td>\n",
       "      <td>-3.881256</td>\n",
       "      <td>-3.881256</td>\n",
       "      <td>-3.881256</td>\n",
       "      <td>-3.881256</td>\n",
       "      <td>-3.307860</td>\n",
       "      <td>-3.881256</td>\n",
       "      <td>-3.553343</td>\n",
       "      <td>-3.881256</td>\n",
       "      <td>-2.990038</td>\n",
       "      <td>-3.881256</td>\n",
       "      <td>-3.881256</td>\n",
       "      <td>-3.881256</td>\n",
       "      <td>-3.881256</td>\n",
       "      <td>-3.881256</td>\n",
       "      <td>-2.323606</td>\n",
       "      <td>-3.881256</td>\n",
       "      <td>-3.881256</td>\n",
       "      <td>-3.881256</td>\n",
       "      <td>-3.881256</td>\n",
       "      <td>-3.881256</td>\n",
       "    </tr>\n",
       "    <tr>\n",
       "      <th>4</th>\n",
       "      <td>-2.962537</td>\n",
       "      <td>-3.056584</td>\n",
       "      <td>-3.655684</td>\n",
       "      <td>-3.655684</td>\n",
       "      <td>-3.655684</td>\n",
       "      <td>-1.582970</td>\n",
       "      <td>-2.962537</td>\n",
       "      <td>-3.655684</td>\n",
       "      <td>-3.655684</td>\n",
       "      <td>-3.655684</td>\n",
       "      <td>-3.655684</td>\n",
       "      <td>-3.655684</td>\n",
       "      <td>-2.962537</td>\n",
       "      <td>-3.655684</td>\n",
       "      <td>-3.655684</td>\n",
       "      <td>-3.655684</td>\n",
       "      <td>-3.655684</td>\n",
       "      <td>-3.655684</td>\n",
       "      <td>-3.655684</td>\n",
       "      <td>-3.655684</td>\n",
       "      <td>-3.655684</td>\n",
       "      <td>-3.655684</td>\n",
       "      <td>-3.655684</td>\n",
       "      <td>-2.999643</td>\n",
       "      <td>-3.655684</td>\n",
       "      <td>-3.655684</td>\n",
       "      <td>-3.655684</td>\n",
       "    </tr>\n",
       "  </tbody>\n",
       "</table>\n",
       "</div>"
      ],
      "text/plain": [
       "   duplicate  change_request    bucket  fix_description     retry      back  \\\n",
       "0  -3.001696       -2.406517 -4.008630        -2.981628 -4.253231 -1.248572   \n",
       "1  -1.947554       -3.602659 -3.602659        -3.602659 -3.602659 -3.602659   \n",
       "2  -3.252943       -3.773557 -2.223849        -3.773557 -3.773557 -2.113588   \n",
       "3  -3.881256       -1.714855 -3.881256        -3.436238 -3.881256 -2.085163   \n",
       "4  -2.962537       -3.056584 -3.655684        -3.655684 -3.655684 -1.582970   \n",
       "\n",
       "        dev  in_progress  duplicate_of  requirement  new_requirement  \\\n",
       "0 -1.894315    -3.909329     -3.435988    -4.543430        -4.543430   \n",
       "1 -3.285849    -3.602659     -1.975517    -3.602659        -3.602659   \n",
       "2 -3.773557    -2.416350     -3.225226    -3.773557        -3.773557   \n",
       "3 -2.843250    -3.881256     -3.881256    -3.881256        -3.881256   \n",
       "4 -2.962537    -3.655684     -3.655684    -3.655684        -3.655684   \n",
       "\n",
       "   new_requirements  tester_confused   same_as  monitoring    rforct  \\\n",
       "0         -4.543430        -4.543430 -3.157135   -3.588775 -2.851351   \n",
       "1         -3.602659        -3.602659 -2.909512   -3.602659 -3.602659   \n",
       "2         -3.773557        -3.773557 -3.080409   -2.322730 -3.773557   \n",
       "3         -3.307860        -3.881256 -3.553343   -3.881256 -2.990038   \n",
       "4         -3.655684        -2.962537 -3.655684   -3.655684 -3.655684   \n",
       "\n",
       "   port_to_tb  set_to_fixed  in_a_while  have_not_seen  fix_desc  \\\n",
       "0   -4.543430     -4.543430   -4.543430      -4.543430 -4.543430   \n",
       "1   -3.602659     -3.602659   -3.602659      -3.602659 -3.602659   \n",
       "2   -3.773557     -3.773557   -3.773557      -3.773557 -3.773557   \n",
       "3   -3.881256     -3.881256   -3.881256      -3.881256 -3.881256   \n",
       "4   -3.655684     -3.655684   -3.655684      -3.655684 -3.655684   \n",
       "\n",
       "   requirements  could_not_reproduce  intermittently  intermittent  \\\n",
       "0     -4.543430            -4.543430       -4.543430     -4.543430   \n",
       "1     -3.602659            -3.602659       -3.602659     -3.602659   \n",
       "2     -3.773557            -3.773557       -3.773557     -3.773557   \n",
       "3     -2.323606            -3.881256       -3.881256     -3.881256   \n",
       "4     -3.655684            -3.655684       -2.999643     -3.655684   \n",
       "\n",
       "   script_was_incorrect  ready_for_client_testing  \n",
       "0             -4.543430                 -4.543430  \n",
       "1             -3.602659                 -3.602659  \n",
       "2             -3.773557                 -3.773557  \n",
       "3             -3.881256                 -3.881256  \n",
       "4             -3.655684                 -3.655684  "
      ]
     },
     "execution_count": 98,
     "metadata": {},
     "output_type": "execute_result"
    }
   ],
   "source": [
    "idx = pd.Series(cvec.vocabulary_)\n",
    "b = idx.order().index\n",
    "feat_imp = pd.DataFrame(classifier.coef_,columns=b.values)\n",
    "feat_imp\n",
    "feat_imp.rename(columns=lambda x: x.replace(\" \",\"_\"),inplace=True)\n",
    "feat_imp\n",
    "#feat_imp.abs().max(axis=1)"
   ]
  },
  {
   "cell_type": "code",
   "execution_count": 76,
   "metadata": {
    "collapsed": false
   },
   "outputs": [
    {
     "name": "stdout",
     "output_type": "stream",
     "text": [
      "[[-3.0016962  -2.40651735 -4.00862959 -2.98162825 -4.25323087 -1.248572\n",
      "  -1.89431456 -3.90932905 -3.43598778 -4.54342959 -4.54342959 -4.54342959\n",
      "  -4.54342959 -3.15713523 -3.58877498 -2.85135058 -4.54342959 -4.54342959\n",
      "  -4.54342959 -4.54342959 -4.54342959 -4.54342959 -4.54342959 -4.54342959\n",
      "  -4.54342959 -4.54342959 -4.54342959]\n",
      " [-1.94755394 -3.60265898 -3.60265898 -3.60265898 -3.60265898 -3.60265898\n",
      "  -3.28584926 -3.60265898 -1.97551732 -3.60265898 -3.60265898 -3.60265898\n",
      "  -3.60265898 -2.9095118  -3.60265898 -3.60265898 -3.60265898 -3.60265898\n",
      "  -3.60265898 -3.60265898 -3.60265898 -3.60265898 -3.60265898 -3.60265898\n",
      "  -3.60265898 -3.60265898 -3.60265898]\n",
      " [-3.2529427  -3.77355655 -2.22384916 -3.77355655 -3.77355655 -2.11358821\n",
      "  -3.77355655 -2.41634976 -3.22522602 -3.77355655 -3.77355655 -3.77355655\n",
      "  -3.77355655 -3.08040937 -2.32273016 -3.77355655 -3.77355655 -3.77355655\n",
      "  -3.77355655 -3.77355655 -3.77355655 -3.77355655 -3.77355655 -3.77355655\n",
      "  -3.77355655 -3.77355655 -3.77355655]\n",
      " [-3.88125608 -1.71485524 -3.88125608 -3.43623814 -3.88125608 -2.08516287\n",
      "  -2.84324975 -3.88125608 -3.88125608 -3.88125608 -3.88125608 -3.30785965\n",
      "  -3.88125608 -3.55334336 -3.88125608 -2.99003841 -3.88125608 -3.88125608\n",
      "  -3.88125608 -3.88125608 -3.88125608 -2.32360568 -3.88125608 -3.88125608\n",
      "  -3.88125608 -3.88125608 -3.88125608]\n",
      " [-2.96253727 -3.05658378 -3.65568445 -3.65568445 -3.65568445 -1.58296972\n",
      "  -2.96253727 -3.65568445 -3.65568445 -3.65568445 -3.65568445 -3.65568445\n",
      "  -2.96253727 -3.65568445 -3.65568445 -3.65568445 -3.65568445 -3.65568445\n",
      "  -3.65568445 -3.65568445 -3.65568445 -3.65568445 -3.65568445 -2.99964259\n",
      "  -3.65568445 -3.65568445 -3.65568445]]\n"
     ]
    }
   ],
   "source": [
    "print classifier.coef_"
   ]
  },
  {
   "cell_type": "code",
   "execution_count": 66,
   "metadata": {
    "collapsed": false
   },
   "outputs": [
    {
     "data": {
      "text/plain": [
       "array(['Code defect', 'Duplicate', 'Not reproducible', 'Requirement issue',\n",
       "       'Tester error'], \n",
       "      dtype='|S17')"
      ]
     },
     "execution_count": 66,
     "metadata": {},
     "output_type": "execute_result"
    }
   ],
   "source": [
    "classifier.classes_"
   ]
  },
  {
   "cell_type": "code",
   "execution_count": 158,
   "metadata": {
    "collapsed": false
   },
   "outputs": [
    {
     "data": {
      "text/plain": [
       "array(['Code defect', 'Duplicate', 'Not reproducible', 'Requirement issue',\n",
       "       'Tester error'], \n",
       "      dtype='|S17')"
      ]
     },
     "execution_count": 158,
     "metadata": {},
     "output_type": "execute_result"
    }
   ],
   "source": [
    "classifier.classes_"
   ]
  },
  {
   "cell_type": "code",
   "execution_count": 77,
   "metadata": {
    "collapsed": false
   },
   "outputs": [
    {
     "name": "stdout",
     "output_type": "stream",
     "text": [
      "Code defect          42\n",
      "Requirement issue     6\n",
      "Tester error          6\n",
      "Not reproducible      5\n",
      "Duplicate             2\n",
      "dtype: int64\n",
      "term freq accuracy 0.770491803279\n"
     ]
    },
    {
     "data": {
      "text/html": [
       "<div>\n",
       "<table border=\"1\" class=\"dataframe\">\n",
       "  <thead>\n",
       "    <tr style=\"text-align: right;\">\n",
       "      <th>Predicted</th>\n",
       "      <th>Code defect</th>\n",
       "      <th>Duplicate</th>\n",
       "      <th>Not reproducible</th>\n",
       "      <th>Requirement issue</th>\n",
       "      <th>Tester error</th>\n",
       "    </tr>\n",
       "    <tr>\n",
       "      <th>Actual</th>\n",
       "      <th></th>\n",
       "      <th></th>\n",
       "      <th></th>\n",
       "      <th></th>\n",
       "      <th></th>\n",
       "    </tr>\n",
       "  </thead>\n",
       "  <tbody>\n",
       "    <tr>\n",
       "      <th>Code defect</th>\n",
       "      <td>37</td>\n",
       "      <td>0</td>\n",
       "      <td>1</td>\n",
       "      <td>2</td>\n",
       "      <td>2</td>\n",
       "    </tr>\n",
       "    <tr>\n",
       "      <th>Duplicate</th>\n",
       "      <td>0</td>\n",
       "      <td>2</td>\n",
       "      <td>0</td>\n",
       "      <td>0</td>\n",
       "      <td>0</td>\n",
       "    </tr>\n",
       "    <tr>\n",
       "      <th>Not reproducible</th>\n",
       "      <td>2</td>\n",
       "      <td>0</td>\n",
       "      <td>3</td>\n",
       "      <td>0</td>\n",
       "      <td>0</td>\n",
       "    </tr>\n",
       "    <tr>\n",
       "      <th>Requirement issue</th>\n",
       "      <td>3</td>\n",
       "      <td>0</td>\n",
       "      <td>0</td>\n",
       "      <td>3</td>\n",
       "      <td>0</td>\n",
       "    </tr>\n",
       "    <tr>\n",
       "      <th>Tester error</th>\n",
       "      <td>4</td>\n",
       "      <td>0</td>\n",
       "      <td>0</td>\n",
       "      <td>0</td>\n",
       "      <td>2</td>\n",
       "    </tr>\n",
       "  </tbody>\n",
       "</table>\n",
       "</div>"
      ],
      "text/plain": [
       "Predicted          Code defect  Duplicate  Not reproducible  \\\n",
       "Actual                                                        \n",
       "Code defect                 37          0                 1   \n",
       "Duplicate                    0          2                 0   \n",
       "Not reproducible             2          0                 3   \n",
       "Requirement issue            3          0                 0   \n",
       "Tester error                 4          0                 0   \n",
       "\n",
       "Predicted          Requirement issue  Tester error  \n",
       "Actual                                              \n",
       "Code defect                        2             2  \n",
       "Duplicate                          0             0  \n",
       "Not reproducible                   0             0  \n",
       "Requirement issue                  3             0  \n",
       "Tester error                       0             2  "
      ]
     },
     "execution_count": 77,
     "metadata": {},
     "output_type": "execute_result"
    }
   ],
   "source": [
    "print label_test.value_counts()\n",
    "print 'term freq accuracy', accuracy_score(label_test, test_predictions)\n",
    "cats = ['Code defect', 'Duplicate', 'Not reproducible', 'Requirement issue',\n",
    "       'Tester error']\n",
    "tf_df = confusion_matrix(label_test, test_predictions, labels=['Code defect', 'Duplicate', 'Not reproducible', 'Requirement issue',\n",
    "       'Tester error'])\n",
    "tf_df = pd.DataFrame(tf_df,index=cats, columns=cats)\n",
    "tf_df.index.name = 'Actual'\n",
    "tf_df.columns.name = 'Predicted'\n",
    "tf_df"
   ]
  },
  {
   "cell_type": "code",
   "execution_count": 78,
   "metadata": {
    "collapsed": false
   },
   "outputs": [
    {
     "name": "stdout",
     "output_type": "stream",
     "text": [
      "Code defect          42\n",
      "Requirement issue     6\n",
      "Tester error          6\n",
      "Not reproducible      5\n",
      "Duplicate             2\n",
      "dtype: int64\n",
      "idf accuracy 0.770491803279\n"
     ]
    },
    {
     "data": {
      "text/html": [
       "<div>\n",
       "<table border=\"1\" class=\"dataframe\">\n",
       "  <thead>\n",
       "    <tr style=\"text-align: right;\">\n",
       "      <th>Predicted</th>\n",
       "      <th>Code defect</th>\n",
       "      <th>Duplicate</th>\n",
       "      <th>Not reproducible</th>\n",
       "      <th>Requirement issue</th>\n",
       "      <th>Tester error</th>\n",
       "    </tr>\n",
       "    <tr>\n",
       "      <th>Actual</th>\n",
       "      <th></th>\n",
       "      <th></th>\n",
       "      <th></th>\n",
       "      <th></th>\n",
       "      <th></th>\n",
       "    </tr>\n",
       "  </thead>\n",
       "  <tbody>\n",
       "    <tr>\n",
       "      <th>Code defect</th>\n",
       "      <td>39</td>\n",
       "      <td>0</td>\n",
       "      <td>1</td>\n",
       "      <td>2</td>\n",
       "      <td>0</td>\n",
       "    </tr>\n",
       "    <tr>\n",
       "      <th>Duplicate</th>\n",
       "      <td>0</td>\n",
       "      <td>2</td>\n",
       "      <td>0</td>\n",
       "      <td>0</td>\n",
       "      <td>0</td>\n",
       "    </tr>\n",
       "    <tr>\n",
       "      <th>Not reproducible</th>\n",
       "      <td>2</td>\n",
       "      <td>0</td>\n",
       "      <td>3</td>\n",
       "      <td>0</td>\n",
       "      <td>0</td>\n",
       "    </tr>\n",
       "    <tr>\n",
       "      <th>Requirement issue</th>\n",
       "      <td>3</td>\n",
       "      <td>0</td>\n",
       "      <td>0</td>\n",
       "      <td>3</td>\n",
       "      <td>0</td>\n",
       "    </tr>\n",
       "    <tr>\n",
       "      <th>Tester error</th>\n",
       "      <td>5</td>\n",
       "      <td>1</td>\n",
       "      <td>0</td>\n",
       "      <td>0</td>\n",
       "      <td>0</td>\n",
       "    </tr>\n",
       "  </tbody>\n",
       "</table>\n",
       "</div>"
      ],
      "text/plain": [
       "Predicted          Code defect  Duplicate  Not reproducible  \\\n",
       "Actual                                                        \n",
       "Code defect                 39          0                 1   \n",
       "Duplicate                    0          2                 0   \n",
       "Not reproducible             2          0                 3   \n",
       "Requirement issue            3          0                 0   \n",
       "Tester error                 5          1                 0   \n",
       "\n",
       "Predicted          Requirement issue  Tester error  \n",
       "Actual                                              \n",
       "Code defect                        2             0  \n",
       "Duplicate                          0             0  \n",
       "Not reproducible                   0             0  \n",
       "Requirement issue                  3             0  \n",
       "Tester error                       0             0  "
      ]
     },
     "execution_count": 78,
     "metadata": {},
     "output_type": "execute_result"
    }
   ],
   "source": [
    "print idf_label_test.value_counts()\n",
    "print 'idf accuracy', accuracy_score(idf_label_test, idf_test_predictions)\n",
    "idf_df = confusion_matrix(idf_label_test, idf_test_predictions, labels=['Code defect', 'Duplicate', 'Not reproducible', 'Requirement issue',\n",
    "       'Tester error'])\n",
    "idf_df = pd.DataFrame(idf_df,index=cats, columns=cats)\n",
    "idf_df.index.name = 'Actual'\n",
    "idf_df.columns.name = 'Predicted'\n",
    "idf_df\n"
   ]
  },
  {
   "cell_type": "code",
   "execution_count": 79,
   "metadata": {
    "collapsed": false
   },
   "outputs": [
    {
     "data": {
      "text/html": [
       "<div>\n",
       "<table border=\"1\" class=\"dataframe\">\n",
       "  <thead>\n",
       "    <tr style=\"text-align: right;\">\n",
       "      <th>Predicted</th>\n",
       "      <th>Code defect</th>\n",
       "      <th>Duplicate</th>\n",
       "      <th>Not reproducible</th>\n",
       "      <th>Requirement issue</th>\n",
       "      <th>Tester error</th>\n",
       "    </tr>\n",
       "    <tr>\n",
       "      <th>Actual</th>\n",
       "      <th></th>\n",
       "      <th></th>\n",
       "      <th></th>\n",
       "      <th></th>\n",
       "      <th></th>\n",
       "    </tr>\n",
       "  </thead>\n",
       "  <tbody>\n",
       "    <tr>\n",
       "      <th>Code defect</th>\n",
       "      <td>37</td>\n",
       "      <td>0</td>\n",
       "      <td>1</td>\n",
       "      <td>2</td>\n",
       "      <td>2</td>\n",
       "    </tr>\n",
       "    <tr>\n",
       "      <th>Duplicate</th>\n",
       "      <td>0</td>\n",
       "      <td>2</td>\n",
       "      <td>0</td>\n",
       "      <td>0</td>\n",
       "      <td>0</td>\n",
       "    </tr>\n",
       "    <tr>\n",
       "      <th>Not reproducible</th>\n",
       "      <td>2</td>\n",
       "      <td>0</td>\n",
       "      <td>3</td>\n",
       "      <td>0</td>\n",
       "      <td>0</td>\n",
       "    </tr>\n",
       "    <tr>\n",
       "      <th>Requirement issue</th>\n",
       "      <td>3</td>\n",
       "      <td>0</td>\n",
       "      <td>0</td>\n",
       "      <td>3</td>\n",
       "      <td>0</td>\n",
       "    </tr>\n",
       "    <tr>\n",
       "      <th>Tester error</th>\n",
       "      <td>4</td>\n",
       "      <td>0</td>\n",
       "      <td>0</td>\n",
       "      <td>0</td>\n",
       "      <td>2</td>\n",
       "    </tr>\n",
       "  </tbody>\n",
       "</table>\n",
       "</div>"
      ],
      "text/plain": [
       "Predicted          Code defect  Duplicate  Not reproducible  \\\n",
       "Actual                                                        \n",
       "Code defect                 37          0                 1   \n",
       "Duplicate                    0          2                 0   \n",
       "Not reproducible             2          0                 3   \n",
       "Requirement issue            3          0                 0   \n",
       "Tester error                 4          0                 0   \n",
       "\n",
       "Predicted          Requirement issue  Tester error  \n",
       "Actual                                              \n",
       "Code defect                        2             2  \n",
       "Duplicate                          0             0  \n",
       "Not reproducible                   0             0  \n",
       "Requirement issue                  3             0  \n",
       "Tester error                       0             2  "
      ]
     },
     "execution_count": 79,
     "metadata": {},
     "output_type": "execute_result"
    }
   ],
   "source": [
    "tf_df"
   ]
  },
  {
   "cell_type": "code",
   "execution_count": 124,
   "metadata": {
    "collapsed": false
   },
   "outputs": [
    {
     "data": {
      "text/html": [
       "<div>\n",
       "<table border=\"1\" class=\"dataframe\">\n",
       "  <thead>\n",
       "    <tr style=\"text-align: right;\">\n",
       "      <th>col_0</th>\n",
       "      <th>Code defect</th>\n",
       "      <th>Duplicate</th>\n",
       "      <th>Not reproducible</th>\n",
       "      <th>Requirement issue</th>\n",
       "      <th>Tester error</th>\n",
       "    </tr>\n",
       "    <tr>\n",
       "      <th>Root_Cause</th>\n",
       "      <th></th>\n",
       "      <th></th>\n",
       "      <th></th>\n",
       "      <th></th>\n",
       "      <th></th>\n",
       "    </tr>\n",
       "  </thead>\n",
       "  <tbody>\n",
       "    <tr>\n",
       "      <th>Code defect</th>\n",
       "      <td>37</td>\n",
       "      <td>0</td>\n",
       "      <td>1</td>\n",
       "      <td>2</td>\n",
       "      <td>2</td>\n",
       "    </tr>\n",
       "    <tr>\n",
       "      <th>Duplicate</th>\n",
       "      <td>1</td>\n",
       "      <td>1</td>\n",
       "      <td>0</td>\n",
       "      <td>0</td>\n",
       "      <td>0</td>\n",
       "    </tr>\n",
       "    <tr>\n",
       "      <th>Not reproducible</th>\n",
       "      <td>3</td>\n",
       "      <td>0</td>\n",
       "      <td>2</td>\n",
       "      <td>0</td>\n",
       "      <td>0</td>\n",
       "    </tr>\n",
       "    <tr>\n",
       "      <th>Requirement issue</th>\n",
       "      <td>3</td>\n",
       "      <td>0</td>\n",
       "      <td>0</td>\n",
       "      <td>1</td>\n",
       "      <td>2</td>\n",
       "    </tr>\n",
       "    <tr>\n",
       "      <th>Tester error</th>\n",
       "      <td>4</td>\n",
       "      <td>0</td>\n",
       "      <td>0</td>\n",
       "      <td>0</td>\n",
       "      <td>2</td>\n",
       "    </tr>\n",
       "  </tbody>\n",
       "</table>\n",
       "</div>"
      ],
      "text/plain": [
       "col_0              Code defect  Duplicate  Not reproducible  \\\n",
       "Root_Cause                                                    \n",
       "Code defect                 37          0                 1   \n",
       "Duplicate                    1          1                 0   \n",
       "Not reproducible             3          0                 2   \n",
       "Requirement issue            3          0                 0   \n",
       "Tester error                 4          0                 0   \n",
       "\n",
       "col_0              Requirement issue  Tester error  \n",
       "Root_Cause                                          \n",
       "Code defect                        2             2  \n",
       "Duplicate                          0             0  \n",
       "Not reproducible                   0             0  \n",
       "Requirement issue                  1             2  \n",
       "Tester error                       0             2  "
      ]
     },
     "execution_count": 124,
     "metadata": {},
     "output_type": "execute_result"
    }
   ],
   "source": [
    "#pre-cleaned data:\n",
    "pd.crosstab(label_test, test_predictions)"
   ]
  },
  {
   "cell_type": "code",
   "execution_count": 125,
   "metadata": {
    "collapsed": false
   },
   "outputs": [
    {
     "data": {
      "text/html": [
       "<div>\n",
       "<table border=\"1\" class=\"dataframe\">\n",
       "  <thead>\n",
       "    <tr style=\"text-align: right;\">\n",
       "      <th>col_0</th>\n",
       "      <th>Code defect</th>\n",
       "      <th>Duplicate</th>\n",
       "      <th>Not reproducible</th>\n",
       "      <th>Requirement issue</th>\n",
       "    </tr>\n",
       "    <tr>\n",
       "      <th>Root_Cause</th>\n",
       "      <th></th>\n",
       "      <th></th>\n",
       "      <th></th>\n",
       "      <th></th>\n",
       "    </tr>\n",
       "  </thead>\n",
       "  <tbody>\n",
       "    <tr>\n",
       "      <th>Code defect</th>\n",
       "      <td>38</td>\n",
       "      <td>0</td>\n",
       "      <td>1</td>\n",
       "      <td>3</td>\n",
       "    </tr>\n",
       "    <tr>\n",
       "      <th>Duplicate</th>\n",
       "      <td>0</td>\n",
       "      <td>2</td>\n",
       "      <td>0</td>\n",
       "      <td>0</td>\n",
       "    </tr>\n",
       "    <tr>\n",
       "      <th>Not reproducible</th>\n",
       "      <td>3</td>\n",
       "      <td>0</td>\n",
       "      <td>2</td>\n",
       "      <td>0</td>\n",
       "    </tr>\n",
       "    <tr>\n",
       "      <th>Requirement issue</th>\n",
       "      <td>5</td>\n",
       "      <td>0</td>\n",
       "      <td>0</td>\n",
       "      <td>1</td>\n",
       "    </tr>\n",
       "    <tr>\n",
       "      <th>Tester error</th>\n",
       "      <td>6</td>\n",
       "      <td>0</td>\n",
       "      <td>0</td>\n",
       "      <td>0</td>\n",
       "    </tr>\n",
       "  </tbody>\n",
       "</table>\n",
       "</div>"
      ],
      "text/plain": [
       "col_0              Code defect  Duplicate  Not reproducible  Requirement issue\n",
       "Root_Cause                                                                    \n",
       "Code defect                 38          0                 1                  3\n",
       "Duplicate                    0          2                 0                  0\n",
       "Not reproducible             3          0                 2                  0\n",
       "Requirement issue            5          0                 0                  1\n",
       "Tester error                 6          0                 0                  0"
      ]
     },
     "execution_count": 125,
     "metadata": {},
     "output_type": "execute_result"
    }
   ],
   "source": [
    "#pre-cleaned data:\n",
    "pd.crosstab(idf_label_test, idf_test_predictions)"
   ]
  },
  {
   "cell_type": "code",
   "execution_count": 126,
   "metadata": {
    "collapsed": false
   },
   "outputs": [
    {
     "name": "stdout",
     "output_type": "stream",
     "text": [
      "Code defect          42\n",
      "Requirement issue     6\n",
      "Tester error          6\n",
      "Not reproducible      5\n",
      "Duplicate             2\n",
      "dtype: int64\n",
      "idf accuracy 0.704918032787\n"
     ]
    },
    {
     "data": {
      "text/html": [
       "<div>\n",
       "<table border=\"1\" class=\"dataframe\">\n",
       "  <thead>\n",
       "    <tr style=\"text-align: right;\">\n",
       "      <th>Predicted</th>\n",
       "      <th>Code defect</th>\n",
       "      <th>Duplicate</th>\n",
       "      <th>Not reproducible</th>\n",
       "      <th>Requirement issue</th>\n",
       "      <th>Tester error</th>\n",
       "    </tr>\n",
       "    <tr>\n",
       "      <th>Actual</th>\n",
       "      <th></th>\n",
       "      <th></th>\n",
       "      <th></th>\n",
       "      <th></th>\n",
       "      <th></th>\n",
       "    </tr>\n",
       "  </thead>\n",
       "  <tbody>\n",
       "    <tr>\n",
       "      <th>Code defect</th>\n",
       "      <td>38</td>\n",
       "      <td>0</td>\n",
       "      <td>1</td>\n",
       "      <td>3</td>\n",
       "      <td>0</td>\n",
       "    </tr>\n",
       "    <tr>\n",
       "      <th>Duplicate</th>\n",
       "      <td>0</td>\n",
       "      <td>2</td>\n",
       "      <td>0</td>\n",
       "      <td>0</td>\n",
       "      <td>0</td>\n",
       "    </tr>\n",
       "    <tr>\n",
       "      <th>Not reproducible</th>\n",
       "      <td>3</td>\n",
       "      <td>0</td>\n",
       "      <td>2</td>\n",
       "      <td>0</td>\n",
       "      <td>0</td>\n",
       "    </tr>\n",
       "    <tr>\n",
       "      <th>Requirement issue</th>\n",
       "      <td>5</td>\n",
       "      <td>0</td>\n",
       "      <td>0</td>\n",
       "      <td>1</td>\n",
       "      <td>0</td>\n",
       "    </tr>\n",
       "    <tr>\n",
       "      <th>Tester error</th>\n",
       "      <td>6</td>\n",
       "      <td>0</td>\n",
       "      <td>0</td>\n",
       "      <td>0</td>\n",
       "      <td>0</td>\n",
       "    </tr>\n",
       "  </tbody>\n",
       "</table>\n",
       "</div>"
      ],
      "text/plain": [
       "Predicted          Code defect  Duplicate  Not reproducible  \\\n",
       "Actual                                                        \n",
       "Code defect                 38          0                 1   \n",
       "Duplicate                    0          2                 0   \n",
       "Not reproducible             3          0                 2   \n",
       "Requirement issue            5          0                 0   \n",
       "Tester error                 6          0                 0   \n",
       "\n",
       "Predicted          Requirement issue  Tester error  \n",
       "Actual                                              \n",
       "Code defect                        3             0  \n",
       "Duplicate                          0             0  \n",
       "Not reproducible                   0             0  \n",
       "Requirement issue                  1             0  \n",
       "Tester error                       0             0  "
      ]
     },
     "execution_count": 126,
     "metadata": {},
     "output_type": "execute_result"
    }
   ],
   "source": [
    "#pre-cleaned data:\n",
    "print idf_label_test.value_counts()\n",
    "print 'idf accuracy', accuracy_score(idf_label_test, idf_test_predictions)\n",
    "idf_df = confusion_matrix(idf_label_test, idf_test_predictions, labels=['Code defect', 'Duplicate', 'Not reproducible', 'Requirement issue',\n",
    "       'Tester error'])\n",
    "idf_df = pd.DataFrame(idf_df,index=cats, columns=cats)\n",
    "idf_df.index.name = 'Actual'\n",
    "idf_df.columns.name = 'Predicted'\n",
    "idf_df\n"
   ]
  },
  {
   "cell_type": "code",
   "execution_count": 62,
   "metadata": {
    "collapsed": false
   },
   "outputs": [
    {
     "data": {
      "text/html": [
       "<div>\n",
       "<table border=\"1\" class=\"dataframe\">\n",
       "  <thead>\n",
       "    <tr style=\"text-align: right;\">\n",
       "      <th>col_0</th>\n",
       "      <th>Code defect</th>\n",
       "      <th>Duplicate</th>\n",
       "      <th>Not reproducible</th>\n",
       "      <th>Requirement issue</th>\n",
       "      <th>Tester error</th>\n",
       "      <th>All</th>\n",
       "    </tr>\n",
       "    <tr>\n",
       "      <th>Root_Cause</th>\n",
       "      <th></th>\n",
       "      <th></th>\n",
       "      <th></th>\n",
       "      <th></th>\n",
       "      <th></th>\n",
       "      <th></th>\n",
       "    </tr>\n",
       "  </thead>\n",
       "  <tbody>\n",
       "    <tr>\n",
       "      <th>Code defect</th>\n",
       "      <td>38</td>\n",
       "      <td>2</td>\n",
       "      <td>0</td>\n",
       "      <td>1</td>\n",
       "      <td>1</td>\n",
       "      <td>42</td>\n",
       "    </tr>\n",
       "    <tr>\n",
       "      <th>Duplicate</th>\n",
       "      <td>0</td>\n",
       "      <td>1</td>\n",
       "      <td>0</td>\n",
       "      <td>0</td>\n",
       "      <td>0</td>\n",
       "      <td>1</td>\n",
       "    </tr>\n",
       "    <tr>\n",
       "      <th>Not reproducible</th>\n",
       "      <td>1</td>\n",
       "      <td>0</td>\n",
       "      <td>3</td>\n",
       "      <td>0</td>\n",
       "      <td>0</td>\n",
       "      <td>4</td>\n",
       "    </tr>\n",
       "    <tr>\n",
       "      <th>Requirement issue</th>\n",
       "      <td>2</td>\n",
       "      <td>0</td>\n",
       "      <td>0</td>\n",
       "      <td>3</td>\n",
       "      <td>0</td>\n",
       "      <td>5</td>\n",
       "    </tr>\n",
       "    <tr>\n",
       "      <th>Tester error</th>\n",
       "      <td>5</td>\n",
       "      <td>0</td>\n",
       "      <td>0</td>\n",
       "      <td>0</td>\n",
       "      <td>0</td>\n",
       "      <td>5</td>\n",
       "    </tr>\n",
       "    <tr>\n",
       "      <th>All</th>\n",
       "      <td>46</td>\n",
       "      <td>3</td>\n",
       "      <td>3</td>\n",
       "      <td>4</td>\n",
       "      <td>1</td>\n",
       "      <td>57</td>\n",
       "    </tr>\n",
       "  </tbody>\n",
       "</table>\n",
       "</div>"
      ],
      "text/plain": [
       "col_0              Code defect  Duplicate  Not reproducible  \\\n",
       "Root_Cause                                                    \n",
       "Code defect                 38          2                 0   \n",
       "Duplicate                    0          1                 0   \n",
       "Not reproducible             1          0                 3   \n",
       "Requirement issue            2          0                 0   \n",
       "Tester error                 5          0                 0   \n",
       "All                         46          3                 3   \n",
       "\n",
       "col_0              Requirement issue  Tester error  All  \n",
       "Root_Cause                                               \n",
       "Code defect                        1             1   42  \n",
       "Duplicate                          0             0    1  \n",
       "Not reproducible                   0             0    4  \n",
       "Requirement issue                  3             0    5  \n",
       "Tester error                       0             0    5  \n",
       "All                                4             1   57  "
      ]
     },
     "execution_count": 62,
     "metadata": {},
     "output_type": "execute_result"
    }
   ],
   "source": [
    "#stratifiedKFold, cleaned data:\n",
    "pd.crosstab(idf_label_test, idf_test_predictions,margins=True)"
   ]
  },
  {
   "cell_type": "code",
   "execution_count": 61,
   "metadata": {
    "collapsed": false
   },
   "outputs": [
    {
     "data": {
      "text/plain": [
       "275     Code defect\n",
       "46      Code defect\n",
       "284     Code defect\n",
       "257     Code defect\n",
       "280    Tester error\n",
       "66      Code defect\n",
       "189     Code defect\n",
       "208     Code defect\n",
       "37      Code defect\n",
       "177    Tester error\n",
       "Name: Root_Cause, dtype: object"
      ]
     },
     "execution_count": 61,
     "metadata": {},
     "output_type": "execute_result"
    }
   ],
   "source": [
    "label_test[10:20]"
   ]
  },
  {
   "cell_type": "code",
   "execution_count": 86,
   "metadata": {
    "collapsed": false
   },
   "outputs": [
    {
     "data": {
      "text/plain": [
       "226"
      ]
     },
     "execution_count": 86,
     "metadata": {},
     "output_type": "execute_result"
    }
   ],
   "source": [
    "raw_data.Defect_ID.loc[167]"
   ]
  },
  {
   "cell_type": "code",
   "execution_count": 92,
   "metadata": {
    "collapsed": false
   },
   "outputs": [
    {
     "data": {
      "text/plain": [
       "[('Requirement issue', 'Requirement issue'),\n",
       " ('Code defect', 'Code defect'),\n",
       " ('Code defect', 'Code defect'),\n",
       " ('Code defect', 'Tester error'),\n",
       " ('Not reproducible', 'Code defect'),\n",
       " ('Requirement issue', 'Code defect'),\n",
       " ('Duplicate', 'Duplicate'),\n",
       " ('Code defect', 'Code defect'),\n",
       " ('Code defect', 'Code defect'),\n",
       " ('Code defect', 'Code defect'),\n",
       " ('Code defect', 'Code defect'),\n",
       " ('Code defect', 'Code defect'),\n",
       " ('Duplicate', 'Duplicate'),\n",
       " ('Code defect', 'Code defect'),\n",
       " ('Code defect', 'Code defect'),\n",
       " ('Code defect', 'Code defect'),\n",
       " ('Not reproducible', 'Code defect'),\n",
       " ('Code defect', 'Code defect'),\n",
       " ('Not reproducible', 'Not reproducible'),\n",
       " ('Requirement issue', 'Code defect'),\n",
       " ('Code defect', 'Code defect'),\n",
       " ('Tester error', 'Code defect'),\n",
       " ('Code defect', 'Code defect'),\n",
       " ('Code defect', 'Code defect'),\n",
       " ('Code defect', 'Requirement issue'),\n",
       " ('Requirement issue', 'Requirement issue'),\n",
       " ('Code defect', 'Code defect'),\n",
       " ('Code defect', 'Code defect'),\n",
       " ('Code defect', 'Code defect'),\n",
       " ('Tester error', 'Code defect'),\n",
       " ('Code defect', 'Code defect'),\n",
       " ('Tester error', 'Tester error'),\n",
       " ('Code defect', 'Code defect'),\n",
       " ('Code defect', 'Code defect'),\n",
       " ('Tester error', 'Code defect'),\n",
       " ('Code defect', 'Code defect'),\n",
       " ('Requirement issue', 'Requirement issue'),\n",
       " ('Code defect', 'Code defect'),\n",
       " ('Code defect', 'Code defect'),\n",
       " ('Code defect', 'Code defect'),\n",
       " ('Code defect', 'Code defect'),\n",
       " ('Code defect', 'Code defect'),\n",
       " ('Code defect', 'Code defect'),\n",
       " ('Code defect', 'Code defect'),\n",
       " ('Code defect', 'Code defect'),\n",
       " ('Code defect', 'Code defect'),\n",
       " ('Code defect', 'Code defect'),\n",
       " ('Not reproducible', 'Code defect'),\n",
       " ('Code defect', 'Code defect'),\n",
       " ('Requirement issue', 'Code defect'),\n",
       " ('Tester error', 'Tester error'),\n",
       " ('Code defect', 'Code defect'),\n",
       " ('Code defect', 'Code defect'),\n",
       " ('Code defect', 'Code defect'),\n",
       " ('Tester error', 'Not reproducible'),\n",
       " ('Code defect', 'Code defect'),\n",
       " ('Code defect', 'Code defect'),\n",
       " ('Code defect', 'Code defect'),\n",
       " ('Code defect', 'Code defect'),\n",
       " ('Code defect', 'Code defect'),\n",
       " ('Not reproducible', 'Not reproducible')]"
      ]
     },
     "execution_count": 92,
     "metadata": {},
     "output_type": "execute_result"
    }
   ],
   "source": [
    "t = zip(label_test,test_predictions)\n",
    "t"
   ]
  },
  {
   "cell_type": "code",
   "execution_count": 90,
   "metadata": {
    "collapsed": false
   },
   "outputs": [
    {
     "data": {
      "text/plain": [
       "[('Requirement issue', 'Requirement issue'),\n",
       " ('Code defect', 'Code defect'),\n",
       " ('Code defect', 'Code defect'),\n",
       " ('Code defect', 'Tester error'),\n",
       " ('Not reproducible', 'Code defect'),\n",
       " ('Requirement issue', 'Code defect'),\n",
       " ('Duplicate', 'Duplicate'),\n",
       " ('Code defect', 'Code defect'),\n",
       " ('Code defect', 'Code defect'),\n",
       " ('Code defect', 'Code defect'),\n",
       " ('Code defect', 'Code defect'),\n",
       " ('Code defect', 'Code defect'),\n",
       " ('Duplicate', 'Duplicate'),\n",
       " ('Code defect', 'Code defect'),\n",
       " ('Code defect', 'Code defect'),\n",
       " ('Code defect', 'Code defect'),\n",
       " ('Not reproducible', 'Code defect'),\n",
       " ('Code defect', 'Code defect'),\n",
       " ('Not reproducible', 'Not reproducible'),\n",
       " ('Requirement issue', 'Tester error'),\n",
       " ('Code defect', 'Code defect'),\n",
       " ('Tester error', 'Code defect'),\n",
       " ('Code defect', 'Code defect'),\n",
       " ('Code defect', 'Code defect'),\n",
       " ('Code defect', 'Requirement issue'),\n",
       " ('Requirement issue', 'Requirement issue'),\n",
       " ('Code defect', 'Code defect'),\n",
       " ('Code defect', 'Code defect'),\n",
       " ('Code defect', 'Code defect'),\n",
       " ('Tester error', 'Code defect'),\n",
       " ('Code defect', 'Code defect'),\n",
       " ('Tester error', 'Tester error'),\n",
       " ('Code defect', 'Code defect'),\n",
       " ('Code defect', 'Code defect'),\n",
       " ('Tester error', 'Code defect'),\n",
       " ('Code defect', 'Code defect'),\n",
       " ('Requirement issue', 'Requirement issue'),\n",
       " ('Code defect', 'Code defect'),\n",
       " ('Code defect', 'Code defect'),\n",
       " ('Code defect', 'Code defect'),\n",
       " ('Code defect', 'Code defect'),\n",
       " ('Code defect', 'Code defect'),\n",
       " ('Code defect', 'Code defect'),\n",
       " ('Code defect', 'Not reproducible'),\n",
       " ('Code defect', 'Code defect'),\n",
       " ('Code defect', 'Code defect'),\n",
       " ('Code defect', 'Code defect'),\n",
       " ('Not reproducible', 'Code defect'),\n",
       " ('Code defect', 'Code defect'),\n",
       " ('Requirement issue', 'Code defect'),\n",
       " ('Tester error', 'Tester error'),\n",
       " ('Code defect', 'Code defect'),\n",
       " ('Code defect', 'Code defect'),\n",
       " ('Code defect', 'Code defect'),\n",
       " ('Tester error', 'Duplicate'),\n",
       " ('Code defect', 'Code defect'),\n",
       " ('Code defect', 'Code defect'),\n",
       " ('Code defect', 'Code defect'),\n",
       " ('Code defect', 'Code defect'),\n",
       " ('Code defect', 'Code defect'),\n",
       " ('Not reproducible', 'Not reproducible')]"
      ]
     },
     "execution_count": 90,
     "metadata": {},
     "output_type": "execute_result"
    }
   ],
   "source": [
    "v = zip(idf_label_test,idf_test_predictions)\n",
    "v"
   ]
  },
  {
   "cell_type": "code",
   "execution_count": 155,
   "metadata": {
    "collapsed": false
   },
   "outputs": [
    {
     "name": "stdout",
     "output_type": "stream",
     "text": [
      "             precision    recall  f1-score   support\n",
      "\n",
      "Code defect       0.77      0.95      0.85        42\n",
      "  Duplicate       1.00      1.00      1.00         2\n",
      "Not reproducible       1.00      0.20      0.33         5\n",
      "Requirement issue       0.50      0.17      0.25         6\n",
      "Tester error       0.75      0.50      0.60         6\n",
      "\n",
      "avg / total       0.77      0.77      0.73        61\n",
      "\n"
     ]
    }
   ],
   "source": [
    "#not sure what this does yet\n",
    "print classification_report(label_test, test_predictions)"
   ]
  },
  {
   "cell_type": "code",
   "execution_count": null,
   "metadata": {
    "collapsed": true
   },
   "outputs": [],
   "source": []
  }
 ],
 "metadata": {
  "kernelspec": {
   "display_name": "Python 2",
   "language": "python",
   "name": "python2"
  },
  "language_info": {
   "codemirror_mode": {
    "name": "ipython",
    "version": 2
   },
   "file_extension": ".py",
   "mimetype": "text/x-python",
   "name": "python",
   "nbconvert_exporter": "python",
   "pygments_lexer": "ipython2",
   "version": "2.7.11"
  }
 },
 "nbformat": 4,
 "nbformat_minor": 0
}
